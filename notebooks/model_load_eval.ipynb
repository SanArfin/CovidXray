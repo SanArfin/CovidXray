{
 "cells": [
  {
   "cell_type": "code",
   "execution_count": null,
   "id": "51860539",
   "metadata": {},
   "outputs": [
    {
     "data": {
      "text/plain": [
       "'Beispiel fuer Docstrings.\\n\\nDiese Klasse zeigt, wie Docstrings verwendet\\nwerden. \\n'"
      ]
     },
     "execution_count": 3,
     "metadata": {},
     "output_type": "execute_result"
    }
   ],
   "source": [
    "# model_load_eval.ipynb\n",
    "\n",
    "# This script can:\n",
    "# - reload saved models in .joblib format that are already trained\n",
    "# - load data \n",
    "# - make predictions\n",
    "# - evaluate the model (classification reports, confusion matrix)\n"
   ]
  },
  {
   "cell_type": "markdown",
   "id": "7edbb519",
   "metadata": {},
   "source": [
    "# load and eval model"
   ]
  },
  {
   "cell_type": "markdown",
   "id": "3bc65b3e",
   "metadata": {},
   "source": [
    "## import libs"
   ]
  },
  {
   "cell_type": "code",
   "execution_count": 1,
   "id": "86c06380",
   "metadata": {},
   "outputs": [],
   "source": [
    "import numpy as np\n",
    "import pandas as pd\n",
    "import os\n",
    "\n",
    "import joblib\n",
    "\n",
    "from sklearn.preprocessing import StandardScaler\n",
    "from sklearn.svm import SVC, LinearSVC\n",
    "\n",
    "# For hyperparamter testing\n",
    "from sklearn.model_selection import GridSearchCV\n",
    "from skopt import BayesSearchCV\n",
    "\n",
    "# For classification performance metrics\n",
    "from sklearn.metrics import classification_report, confusion_matrix \n",
    "\n",
    "# for visualization:\n",
    "import seaborn as sns\n",
    "import matplotlib.pyplot as plt\n",
    "\n",
    "\n",
    "\n",
    "# lib for accelreation sklearn on GPU (google colab)\n",
    "#if machine == 'colab':\n",
    "#    %load_ext cuml.accel\n",
    "#    import sklearn"
   ]
  },
  {
   "cell_type": "markdown",
   "id": "98ff9b8a",
   "metadata": {},
   "source": [
    "## definitions to set by user to run the script:"
   ]
  },
  {
   "cell_type": "code",
   "execution_count": 28,
   "id": "3e3e5a4b",
   "metadata": {},
   "outputs": [
    {
     "name": "stdout",
     "output_type": "stream",
     "text": [
      "20_mask\n"
     ]
    }
   ],
   "source": [
    "#####################################\n",
    "# options for usable datasets:\n",
    "#####################################\n",
    "\n",
    "list_datasets = ['128_nomask', '128_mask', 'hog', '20_mask', '128_no_aug_mask', '128_no_aug_nomask']\n",
    "\n",
    "# list_datasets[0] = '128_nomask'\n",
    "# list_datasets[1] = '128_mask'\n",
    "# list_datasets[2] = 'hog'\n",
    "# list_datasets[3] = '20_mask'\n",
    "# list_datasets[4] = '128_no_aug_mask'   (images 128 x 128, non augmented, with mask, in each class train: 1000 images, test: 269 images)\n",
    "# list_datasets[5] = '128_no_aug_nomask' (images 128 x 128, non augmented, without mask, in each class train: 1000 images, test: 269 images)\n",
    "\n",
    "# # choose one dataset by setting the number of element of list_datasets:\n",
    "flag_dataset = list_datasets[3]\n",
    "\n",
    "print(flag_dataset)\n",
    "\n",
    "\n",
    "\n",
    "#####################################\n",
    "# name of model to be loaded:\n",
    "#####################################\n",
    "model_name = \"SVC_bay_20_mask_slice2000\"\n",
    "mode_file_name = model_name + \".joblib\"\n",
    "\n",
    "\n",
    "#####################################\n",
    "# options to run on local computer:\n",
    "#####################################\n",
    "\n",
    "# set the following paramter = True when you run the script on local comupter. \n",
    "# This means a smaller dataset with less images will be used. \n",
    "\n",
    "flag_slicing = True    # True or False\n",
    "num_subset = 500   # number of iamges of each class to use. parameter is only used when run_local = True\n",
    "\n",
    "\n",
    "#####################################\n",
    "# paths:\n",
    "#####################################\n",
    "\n",
    "# paths to load data:\n",
    "base_path = r\"..\\\\data\\\\\"\n",
    "base_path_in = os.path.join(base_path, \"processed\")   # path to read from the *.npy files\n",
    "\n",
    "# paths to save models:\n",
    "model_path = r\"..\\Models\\local\\ML\"\n",
    "\n"
   ]
  },
  {
   "cell_type": "markdown",
   "id": "f4d6f17b",
   "metadata": {},
   "source": [
    "## load model"
   ]
  },
  {
   "cell_type": "code",
   "execution_count": 29,
   "id": "5853bec7",
   "metadata": {},
   "outputs": [],
   "source": [
    "\n",
    "# load model instead of fitting it again\n",
    "model_loaded = joblib.load(os.path.join(model_path, mode_file_name))"
   ]
  },
  {
   "cell_type": "markdown",
   "id": "09e6bd7e",
   "metadata": {},
   "source": [
    "## functions"
   ]
  },
  {
   "cell_type": "code",
   "execution_count": 7,
   "id": "901c73cb",
   "metadata": {},
   "outputs": [],
   "source": [
    "def create_cm(y_test, y_pred, flag_norm, model_path, model_name):\n",
    "    \n",
    "    if not (flag_norm is None):\n",
    "        print(\"norma\")\n",
    "        print(flag_norm)\n",
    "        cm_file     = os.path.join(model_path, \"results\", model_name + \"_cm_norm.png\")\n",
    "        format_anot = '.2f'\n",
    "    else:\n",
    "        print(\"abs\")\n",
    "        print(flag_norm)\n",
    "        cm_file     = os.path.join(model_path, \"results\", model_name + \"_cm_abs.png\")\n",
    "        format_anot = 'd'\n",
    "\n",
    "    cm = confusion_matrix(y_test, y_pred, normalize=flag_norm)\n",
    "\n",
    "    list_labels_enc = ['COVID', 'Lung_Opacity', 'Normal', 'Viral Pneumonia']\n",
    "\n",
    "    plt.figure(figsize=(7,7))\n",
    "    sns.heatmap(cm, cmap='Blues', cbar=False, annot=True, fmt=format_anot, xticklabels=list_labels_enc, yticklabels=list_labels_enc)\n",
    "    plt.xlabel('Predicted labels')\n",
    "    plt.ylabel('True labels')\n",
    "    \n",
    "    plt.savefig(cm_file, format='png')\n",
    "    plt.show()"
   ]
  },
  {
   "cell_type": "markdown",
   "id": "5d5294e9",
   "metadata": {},
   "source": [
    "## loading images"
   ]
  },
  {
   "cell_type": "markdown",
   "id": "c730c2d8",
   "metadata": {},
   "source": [
    "### images resized to 128 * 128, normalized, without masks"
   ]
  },
  {
   "cell_type": "code",
   "execution_count": null,
   "id": "81d820e5",
   "metadata": {},
   "outputs": [],
   "source": [
    "if flag_dataset == '128_nomask':\n",
    "\n",
    "    train_npy_file = 'train_data_resized_without_masks_128_128.npz'\n",
    "    test_npy_file  = 'test_data_resized_without_masks_128_128.npz'\n",
    "\n",
    "    #train data\n",
    "    train = np.load(os.path.join(base_path_in, train_npy_file), allow_pickle=True)\n",
    "    X_train = train['X_train']\n",
    "    y_train = train['y_train']\n",
    "\n",
    "    # test data\n",
    "    test = np.load(os.path.join(base_path_in, test_npy_file), allow_pickle=True)\n",
    "    X_test = test['X_test']\n",
    "    y_test = test['y_test']\n"
   ]
  },
  {
   "cell_type": "markdown",
   "id": "3ae26047",
   "metadata": {},
   "source": [
    "### images resized to 128 * 128, normalized, with masks (incl. Gaussian Blur, Clahe)"
   ]
  },
  {
   "cell_type": "code",
   "execution_count": 36,
   "id": "942acf1c",
   "metadata": {},
   "outputs": [],
   "source": [
    "if flag_dataset == '128_mask':\n",
    "    \n",
    "    train_npy_file = 'train_data_resized_with_masks_128_128.npz'\n",
    "    test_npy_file  = 'test_data_resized_with_masks_128_128.npz'\n",
    "\n",
    "    #train data\n",
    "    train = np.load(os.path.join(base_path_in, train_npy_file), allow_pickle=True)\n",
    "    X_train = train['X_train']\n",
    "    y_train = train['y_train']\n",
    "\n",
    "    # test data\n",
    "    test = np.load(os.path.join(base_path_in, test_npy_file), allow_pickle=True)\n",
    "    X_test = test['X_test']\n",
    "    y_test = test['y_test']"
   ]
  },
  {
   "cell_type": "markdown",
   "id": "60ecdf4f",
   "metadata": {},
   "source": [
    "### images resized to 20 * 20, normalized, with masks (incl. Gaussian Blur, Clahe)"
   ]
  },
  {
   "cell_type": "code",
   "execution_count": 15,
   "id": "2333c2d1",
   "metadata": {},
   "outputs": [],
   "source": [
    "if flag_dataset == '20_mask':\n",
    "    \n",
    "    train_npy_file = 'train_data_resized_with_masks_20_20.npz'\n",
    "    test_npy_file  = 'test_data_resized_with_masks_20_20.npz'\n",
    "\n",
    "    #train data\n",
    "    train = np.load(os.path.join(base_path_in, train_npy_file), allow_pickle=True)\n",
    "    X_train = train['X_train']\n",
    "    y_train = train['y_train']\n",
    "\n",
    "    # test data\n",
    "    test = np.load(os.path.join(base_path_in, test_npy_file), allow_pickle=True)\n",
    "    X_test = test['X_test']\n",
    "    y_test = test['y_test']"
   ]
  },
  {
   "cell_type": "markdown",
   "id": "eb681af4",
   "metadata": {},
   "source": [
    "### feature extraction with HOG based on images original size 299 * 299, normalized, with masks (incl. Gaussian Blur, Clahe) and apllied masks"
   ]
  },
  {
   "cell_type": "code",
   "execution_count": 33,
   "id": "f7af17bd",
   "metadata": {},
   "outputs": [],
   "source": [
    "if flag_dataset == 'hog':\n",
    "\n",
    "    base_path_in = os.path.join(base_path_in, \"extracted\")  # hog-files are in subfolder \"extracted\"\n",
    "\n",
    "    train_npy_file = 'hog_features.npy'\n",
    "    test_npy_file  = 'hog_features_test.npy'\n",
    "\n",
    "    train_labels_file = 'labels_test.npy'\n",
    "    test_labels_file = 'labels_train.npy'\n",
    "\n",
    "    #train data\n",
    "    X_train = np.load(os.path.join(base_path_in, train_npy_file))\n",
    "    y_train = np.load(os.path.join(base_path_in, train_labels_file))\n",
    "\n",
    "    # test data\n",
    "    X_test = np.load(os.path.join(base_path_in, test_npy_file))\n",
    "    y_test = np.load(os.path.join(base_path_in, test_labels_file))\n"
   ]
  },
  {
   "cell_type": "markdown",
   "id": "4739985b",
   "metadata": {},
   "source": [
    "### images resized to 128 * 128, normalized, with masks (incl. Gaussian Blur, Clahe) - non augmented (train: 1000 images, test: 269 images)"
   ]
  },
  {
   "cell_type": "code",
   "execution_count": 9,
   "id": "763ded31",
   "metadata": {},
   "outputs": [],
   "source": [
    "if flag_dataset == '128_no_aug_mask':\n",
    "    \n",
    "    train_npy_file = 'train_non_augmented_with_masks_resized_128_128.npz'\n",
    "    test_npy_file  = 'test_non_augmented_with_masks_resized_128_128.npz'\n",
    "\n",
    "    #train data\n",
    "    train = np.load(os.path.join(base_path_in, train_npy_file), allow_pickle=True)\n",
    "    X_train = train['X_train']\n",
    "    y_train = train['y_train']\n",
    "\n",
    "    # test data\n",
    "    test = np.load(os.path.join(base_path_in, test_npy_file), allow_pickle=True)\n",
    "    X_test = test['X_test']\n",
    "    y_test = test['y_test']"
   ]
  },
  {
   "cell_type": "markdown",
   "id": "ded40dfa",
   "metadata": {},
   "source": [
    "### images resized to 128 * 128, normalized, without masks (incl. Gaussian Blur, Clahe) - non augmented (train: 1000 images, test: 269 images)"
   ]
  },
  {
   "cell_type": "code",
   "execution_count": 10,
   "id": "b28df345",
   "metadata": {},
   "outputs": [],
   "source": [
    "if flag_dataset == '128_no_aug_nomask':\n",
    "    \n",
    "    train_npy_file = 'train_non_augmented_without_masks_resized_128_128.npz'\n",
    "    test_npy_file  = 'test_non_augmented_without_masks_resized_128_128.npz'\n",
    "\n",
    "    #train data\n",
    "    train = np.load(os.path.join(base_path_in, train_npy_file), allow_pickle=True)\n",
    "    X_train = train['X_train']\n",
    "    y_train = train['y_train']\n",
    "\n",
    "    # test data\n",
    "    test = np.load(os.path.join(base_path_in, test_npy_file), allow_pickle=True)\n",
    "    X_test = test['X_test']\n",
    "    y_test = test['y_test']"
   ]
  },
  {
   "cell_type": "markdown",
   "id": "6037f74a",
   "metadata": {},
   "source": [
    "### print summary of loaded dataset"
   ]
  },
  {
   "cell_type": "code",
   "execution_count": 16,
   "id": "528ed5d3",
   "metadata": {},
   "outputs": [
    {
     "name": "stdout",
     "output_type": "stream",
     "text": [
      "------------------\n",
      "used datasets:\n",
      "train:  train_data_resized_with_masks_20_20.npz\n",
      "test:  test_data_resized_with_masks_20_20.npz\n"
     ]
    }
   ],
   "source": [
    "# print used datasets: \n",
    "print(\"------------------\")\n",
    "print(\"used datasets:\")\n",
    "print(\"train: \", train_npy_file)\n",
    "print(\"test: \", test_npy_file)"
   ]
  },
  {
   "cell_type": "code",
   "execution_count": 17,
   "id": "a068be37",
   "metadata": {},
   "outputs": [
    {
     "name": "stdout",
     "output_type": "stream",
     "text": [
      "------------------\n",
      "Length of: \n",
      "y_train:  (35059,)\n",
      "X_train:  (35059, 400)\n",
      "y_test:  (4233,)\n",
      "X_test:  (4233, 400)\n"
     ]
    }
   ],
   "source": [
    "# print length of datasets:\n",
    "print(\"------------------\")\n",
    "print(\"Length of: \")\n",
    "print(\"y_train: \", y_train.shape)\n",
    "print(\"X_train: \", X_train.shape)\n",
    "\n",
    "print(\"y_test: \", y_test.shape)\n",
    "print(\"X_test: \",X_test.shape)\n"
   ]
  },
  {
   "cell_type": "markdown",
   "id": "1473e118",
   "metadata": {},
   "source": [
    "### optional slicing to use less images for running on local machine"
   ]
  },
  {
   "cell_type": "code",
   "execution_count": 18,
   "id": "d814ae72",
   "metadata": {},
   "outputs": [
    {
     "name": "stdout",
     "output_type": "stream",
     "text": [
      "(35059, 400)\n",
      "(35059,)\n",
      "Index(['label'], dtype='object')\n",
      "y_train:  (2000,)\n",
      "X_train:  (2000, 400)\n"
     ]
    }
   ],
   "source": [
    "if flag_slicing  == True:\n",
    "    print(X_train.shape)\n",
    "    print(y_train.shape)\n",
    "    df_X_train = pd.DataFrame(X_train)\n",
    "    df_y_train = pd.DataFrame(y_train)\n",
    "    df_y_train.rename(columns={0:'label'}, inplace=True)\n",
    "    df_temp = pd.concat([df_X_train, df_y_train], axis=1)\n",
    "\n",
    "    print(df_y_train.columns)\n",
    "\n",
    "    \n",
    "    df_temp_0 = df_temp[(df_temp.iloc[:,-1]==0)].iloc[0:num_subset,]\n",
    "    df_temp_1 = df_temp[(df_temp.iloc[:,-1]==1)].iloc[0:num_subset,]\n",
    "    df_temp_2 = df_temp[(df_temp.iloc[:,-1]==2)].iloc[0:num_subset,]\n",
    "    df_temp_3 = df_temp[(df_temp.iloc[:,-1]==3)].iloc[0:num_subset,]\n",
    "\n",
    "    df_temp_subset = pd.concat([df_temp_0, df_temp_1, df_temp_2, df_temp_3], axis=0)\n",
    "\n",
    "    #df_temp_subset.iloc[:,-1].value_counts()\n",
    "\n",
    "    df_X_train_subset = df_temp_subset.drop(['label'], axis=1)\n",
    "    #df_X_train_subset = df_temp_subset.drop(df_temp_subset.iloc[:,-1:], axis=1)\n",
    "    df_y_train_subset = df_temp_subset.iloc[:,-1]\n",
    "\n",
    "    X_train = df_X_train_subset.to_numpy()\n",
    "    y_train = df_y_train_subset.to_numpy()\n",
    "\n",
    "    print(\"y_train: \", (y_train.shape))\n",
    "    print(\"X_train: \", (X_train.shape))"
   ]
  },
  {
   "cell_type": "markdown",
   "id": "10b5fda3",
   "metadata": {},
   "source": [
    "## modelling"
   ]
  },
  {
   "cell_type": "markdown",
   "id": "2a220907",
   "metadata": {},
   "source": [
    "### scaling"
   ]
  },
  {
   "cell_type": "code",
   "execution_count": 19,
   "id": "59de6b42",
   "metadata": {},
   "outputs": [],
   "source": [
    "# sacling the data\n",
    "scaler = StandardScaler()\n",
    "\n",
    "# fit and transform train data \n",
    "X_train_scaled = scaler.fit_transform(X_train)\n",
    "\n",
    "# fit test data\n",
    "X_test_scaled = scaler.transform(X_test)\n",
    "\n",
    "# scaling is not used because the standard-scaler scales along the columns and that means scaling over the same pixel in each image\n",
    "\n",
    "# X_test_scaled = X_test\n",
    "# X_train_scaled = X_train"
   ]
  },
  {
   "cell_type": "markdown",
   "id": "00fc0daa",
   "metadata": {},
   "source": [
    "## train loaded model"
   ]
  },
  {
   "cell_type": "markdown",
   "id": "7fab3c9f",
   "metadata": {},
   "source": [
    "#### Evaluation"
   ]
  },
  {
   "cell_type": "code",
   "execution_count": 30,
   "id": "0d8e1f1f",
   "metadata": {},
   "outputs": [
    {
     "name": "stdout",
     "output_type": "stream",
     "text": [
      "OrderedDict({'C': 10, 'gamma': 0.001, 'kernel': 'rbf'})\n"
     ]
    }
   ],
   "source": [
    "#print best hyperparamters:\n",
    "print(model_loaded.best_params_)\n",
    "\n",
    "# write best hyperparameters to file: \n",
    "with open(os.path.join(model_path, \"results\", \"model_hyperparams.txt\"), \"a\") as f:\n",
    "  f.write(f'-------------------------------------------------------------------------------------------- \\n')\n",
    "  f.write(f'Tested model: {model_name} \\n')\n",
    "  for keys, value in model_loaded.best_params_.items():\n",
    "      f.write(f'{keys}: {value} \\n')"
   ]
  },
  {
   "cell_type": "code",
   "execution_count": 31,
   "id": "1148415a",
   "metadata": {},
   "outputs": [],
   "source": [
    "#Predict the test features and create the confusion matrix\n",
    "y_pred = model_loaded.predict(X_test_scaled)\n"
   ]
  },
  {
   "cell_type": "code",
   "execution_count": 32,
   "id": "c007cdce",
   "metadata": {},
   "outputs": [
    {
     "name": "stdout",
     "output_type": "stream",
     "text": [
      "              precision    recall  f1-score   support\n",
      "\n",
      "           0       0.42      0.23      0.29       723\n",
      "           1       0.63      0.54      0.58      1203\n",
      "           2       0.67      0.87      0.76      2038\n",
      "           3       0.93      0.53      0.68       269\n",
      "\n",
      "    accuracy                           0.65      4233\n",
      "   macro avg       0.66      0.54      0.58      4233\n",
      "weighted avg       0.63      0.65      0.62      4233\n",
      "\n"
     ]
    }
   ],
   "source": [
    "# classification report\n",
    "print(classification_report(y_test, y_pred))\n",
    "\n",
    "# save report\n",
    "report = classification_report(y_test, y_pred, output_dict=True)\n",
    "df_report = pd.DataFrame(report).transpose()\n",
    "df_report.to_csv(os.path.join(model_path, \"results\", model_name + \"_cf_report.csv\" ), index=True)\n",
    "\n"
   ]
  },
  {
   "cell_type": "code",
   "execution_count": 33,
   "id": "3800c72c",
   "metadata": {},
   "outputs": [
    {
     "name": "stdout",
     "output_type": "stream",
     "text": [
      "abs\n",
      "None\n"
     ]
    },
    {
     "data": {
      "image/png": "[encoded data removed]",
      "text/plain": [
       "<Figure size 700x700 with 1 Axes>"
      ]
     },
     "metadata": {},
     "output_type": "display_data"
    }
   ],
   "source": [
    "# show and saveonfusion matrix with absolute values: \n",
    "create_cm(y_test, y_pred, None , model_path, model_name)"
   ]
  },
  {
   "cell_type": "code",
   "execution_count": 34,
   "id": "5ff1c759",
   "metadata": {},
   "outputs": [
    {
     "name": "stdout",
     "output_type": "stream",
     "text": [
      "norma\n",
      "true\n"
     ]
    },
    {
     "data": {
      "image/png": "[encoded data removed]",
      "text/plain": [
       "<Figure size 700x700 with 1 Axes>"
      ]
     },
     "metadata": {},
     "output_type": "display_data"
    }
   ],
   "source": [
    "# show and saveonfusion matrix with normalized values: \n",
    "create_cm(y_test, y_pred, 'true' , model_path, model_name)"
   ]
  },
  {
   "cell_type": "code",
   "execution_count": null,
   "id": "1a0c83eb",
   "metadata": {},
   "outputs": [],
   "source": []
  }
 ],
 "metadata": {
  "kernelspec": {
   "display_name": "Python 3",
   "language": "python",
   "name": "python3"
  },
  "language_info": {
   "codemirror_mode": {
    "name": "ipython",
    "version": 3
   },
   "file_extension": ".py",
   "mimetype": "text/x-python",
   "name": "python",
   "nbconvert_exporter": "python",
   "pygments_lexer": "ipython3",
   "version": "3.12.9"
  }
 },
 "nbformat": 4,
 "nbformat_minor": 5
}
