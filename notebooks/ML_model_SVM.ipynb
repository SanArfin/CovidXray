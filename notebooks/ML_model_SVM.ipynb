{
 "cells": [
  {
   "cell_type": "code",
   "execution_count": 18,
   "id": "3268049a",
   "metadata": {},
   "outputs": [],
   "source": [
    "import numpy as np\n",
    "import pandas as pd\n",
    "import os\n",
    "import seaborn as sns\n",
    "\n",
    "from sklearn.preprocessing import StandardScaler\n",
    "from sklearn.svm import SVC\n",
    "\n",
    "# For classification performance metrics\n",
    "from sklearn.metrics import classification_report, confusion_matrix "
   ]
  },
  {
   "cell_type": "markdown",
   "id": "c730c2d8",
   "metadata": {},
   "source": [
    "## images resized to 128 * 128, normalized, without masks"
   ]
  },
  {
   "cell_type": "code",
   "execution_count": null,
   "id": "81d820e5",
   "metadata": {},
   "outputs": [],
   "source": [
    "\"\"\" # define paths\n",
    "base_path = r\"..\\\\data\\\\\"\n",
    "#base_path_in = os.path.join(base_path, \"processed\", \"extracted\")   # path to read from the *.npy files\n",
    "base_path_in = os.path.join(base_path, \"processed\")   # path to read from the *.npy files\n",
    "\n",
    "train_npy_file = 'train_data_resized_without_masks.npz'\n",
    "test_npy_file  = 'test_data_resized_without_masks.npz'\n",
    "\n",
    "#train data\n",
    "train = np.load(os.path.join(base_path_in, train_npy_file), allow_pickle=True)\n",
    "X_train = train['X_train']\n",
    "y_train = train['y_train']\n",
    "\n",
    "# test data\n",
    "test = np.load(os.path.join(base_path_in, test_npy_file), allow_pickle=True)\n",
    "X_test = test['X_test']\n",
    "y_test = test['y_test']\n",
    " \"\"\""
   ]
  },
  {
   "cell_type": "code",
   "execution_count": null,
   "id": "ff88c72d",
   "metadata": {},
   "outputs": [
    {
     "name": "stdout",
     "output_type": "stream",
     "text": [
      "35059\n",
      "35059\n",
      "4233\n",
      "4233\n"
     ]
    }
   ],
   "source": [
    "\"\"\" print(len(y_train))\n",
    "print(len(X_train))\n",
    "\n",
    "print(len(y_test))\n",
    "print(len(X_test)) \"\"\""
   ]
  },
  {
   "cell_type": "markdown",
   "id": "3ae26047",
   "metadata": {},
   "source": [
    "## images resized to 128 * 128, normalized, with masks (incl. Gaussian Blur, Clahe)"
   ]
  },
  {
   "cell_type": "code",
   "execution_count": null,
   "id": "942acf1c",
   "metadata": {},
   "outputs": [],
   "source": [
    "\"\"\" # define paths\n",
    "base_path = r\"..\\\\data\\\\\"\n",
    "#base_path_in = os.path.join(base_path, \"processed\", \"extracted\")   # path to read from the *.npy files\n",
    "base_path_in = os.path.join(base_path, \"processed\")   # path to read from the *.npy files\n",
    "\n",
    "train_npy_file = 'train_data_resized_with_masks.npz'\n",
    "test_npy_file  = 'test_data_resized_with_masks.npz'\n",
    "\n",
    "#train data\n",
    "train = np.load(os.path.join(base_path_in, train_npy_file), allow_pickle=True)\n",
    "X_train = train['X_train']\n",
    "y_train = train['y_train']\n",
    "\n",
    "# test data\n",
    "test = np.load(os.path.join(base_path_in, test_npy_file), allow_pickle=True)\n",
    "X_test = test['X_test']\n",
    "y_test = test['y_test'] \"\"\""
   ]
  },
  {
   "cell_type": "code",
   "execution_count": null,
   "id": "4ac006ed",
   "metadata": {},
   "outputs": [
    {
     "name": "stdout",
     "output_type": "stream",
     "text": [
      "35059\n",
      "35059\n",
      "4233\n",
      "4233\n"
     ]
    }
   ],
   "source": [
    "\"\"\" print(len(y_train))\n",
    "print(len(X_train))\n",
    "\n",
    "print(len(y_test))\n",
    "print(len(X_test)) \"\"\""
   ]
  },
  {
   "cell_type": "markdown",
   "id": "60ecdf4f",
   "metadata": {},
   "source": [
    "## images resized to 20 * 20, normalized, with masks (incl. Gaussian Blur, Clahe)"
   ]
  },
  {
   "cell_type": "code",
   "execution_count": 28,
   "id": "2333c2d1",
   "metadata": {},
   "outputs": [],
   "source": [
    "# define paths\n",
    "base_path = r\"..\\\\data\\\\\"\n",
    "#base_path_in = os.path.join(base_path, \"processed\", \"extracted\")   # path to read from the *.npy files\n",
    "base_path_in = os.path.join(base_path, \"processed\")   # path to read from the *.npy files\n",
    "\n",
    "train_npy_file = 'train_data_resized_with_masks_20_20.npz'\n",
    "test_npy_file  = 'test_data_resized_with_masks_20_20.npz'\n",
    "\n",
    "#train data\n",
    "train = np.load(os.path.join(base_path_in, train_npy_file), allow_pickle=True)\n",
    "X_train = train['X_train']\n",
    "y_train = train['y_train']\n",
    "\n",
    "# test data\n",
    "test = np.load(os.path.join(base_path_in, test_npy_file), allow_pickle=True)\n",
    "X_test = test['X_test']\n",
    "y_test = test['y_test']"
   ]
  },
  {
   "cell_type": "code",
   "execution_count": 29,
   "id": "784238a0",
   "metadata": {},
   "outputs": [
    {
     "name": "stdout",
     "output_type": "stream",
     "text": [
      "35059\n",
      "35059\n",
      "4233\n",
      "4233\n"
     ]
    }
   ],
   "source": [
    "print(len(y_train))\n",
    "print(len(X_train))\n",
    "\n",
    "print(len(y_test))\n",
    "print(len(X_test))"
   ]
  },
  {
   "cell_type": "markdown",
   "id": "eb681af4",
   "metadata": {},
   "source": [
    "## feature extraction with HOG based on images original size 299 * 299, normalized, with masks (incl. Gaussian Blur, Clahe) and apllied masks"
   ]
  },
  {
   "cell_type": "code",
   "execution_count": null,
   "id": "f7af17bd",
   "metadata": {},
   "outputs": [],
   "source": [
    "\"\"\" # define paths\n",
    "base_path = r\"..\\\\data\\\\\"\n",
    "base_path_in = os.path.join(base_path, \"processed\", \"extracted\")   # path to read from the *.npy files\n",
    "\n",
    "train_npy_file = 'hog_features.npy'\n",
    "test_npy_file  = 'hog_features_test.npy'\n",
    "\n",
    "train_labels_file = 'labels_test.npy'\n",
    "test_labels_file = 'labels_train.npy'\n",
    "\n",
    "#train data\n",
    "X_train = np.load(os.path.join(base_path_in, train_npy_file))\n",
    "y_train = np.load(os.path.join(base_path_in, train_labels_file))\n",
    "\n",
    "# test data\n",
    "X_test = np.load(os.path.join(base_path_in, test_npy_file))\n",
    "y_test = np.load(os.path.join(base_path_in, test_labels_file))\n",
    " \"\"\""
   ]
  },
  {
   "cell_type": "code",
   "execution_count": null,
   "id": "a068be37",
   "metadata": {},
   "outputs": [
    {
     "name": "stdout",
     "output_type": "stream",
     "text": [
      "4233\n",
      "35059\n",
      "35059\n",
      "4233\n"
     ]
    }
   ],
   "source": [
    "\"\"\" print(len(y_train))\n",
    "print(len(X_train))\n",
    "\n",
    "print(len(y_test))\n",
    "print(len(X_test)) \"\"\""
   ]
  },
  {
   "cell_type": "markdown",
   "id": "10b5fda3",
   "metadata": {},
   "source": [
    "## first try of modeling with SVM"
   ]
  },
  {
   "cell_type": "code",
   "execution_count": 42,
   "id": "7312e1aa",
   "metadata": {},
   "outputs": [
    {
     "name": "stdout",
     "output_type": "stream",
     "text": [
      "15000\n",
      "15000\n",
      "4233\n",
      "4233\n"
     ]
    }
   ],
   "source": [
    "# try slices of arrays too fasten fitting and set up code\n",
    "num_subset = 15000\n",
    "\n",
    "X_train = X_train[:num_subset,:]\n",
    "y_train = y_train[:num_subset]\n",
    "\n",
    "X_test = X_test[:num_subset,:]\n",
    "y_test = y_test[:num_subset]\n",
    "\n",
    "\n",
    "print(len(y_train))\n",
    "print(len(X_train))\n",
    "\n",
    "print(len(y_test))\n",
    "print(len(X_test))"
   ]
  },
  {
   "cell_type": "code",
   "execution_count": 43,
   "id": "59de6b42",
   "metadata": {},
   "outputs": [],
   "source": [
    "# sacling the data\n",
    "scaler = StandardScaler()\n",
    "\n",
    "# fit and transform train data \n",
    "X_train_scaled = scaler.fit_transform(X_train)\n",
    "\n",
    "# fit test data\n",
    "X_test_scaled = scaler.transform(X_test)"
   ]
  },
  {
   "cell_type": "code",
   "execution_count": 44,
   "id": "2d2b83fa",
   "metadata": {},
   "outputs": [],
   "source": [
    "ds_y_train = pd.Series(y_train).astype(\"category\")\n"
   ]
  },
  {
   "cell_type": "code",
   "execution_count": null,
   "id": "f6f17043",
   "metadata": {},
   "outputs": [],
   "source": [
    "clf = SVC(gamma=0.01,  kernel='poly')\n",
    "clf.fit(X_train_scaled, ds_y_train)\n"
   ]
  },
  {
   "cell_type": "code",
   "execution_count": null,
   "id": "655d296f",
   "metadata": {},
   "outputs": [
    {
     "data": {
      "text/plain": [
       "['..\\\\\\\\Models\\\\\\\\ML\\\\SVC_model_pixel20_20_images_all.joblib']"
      ]
     },
     "execution_count": 36,
     "metadata": {},
     "output_type": "execute_result"
    }
   ],
   "source": [
    "model_path = r\"..\\\\Models\\\\ML\"\n",
    "\n",
    "# 2. Save and load with joblib\n",
    "import joblib\n",
    "joblib.dump(clf, os.path.join(model_path, 'SVC_model_pixel20_20_images_all.joblib'), compress='gzip')"
   ]
  },
  {
   "cell_type": "code",
   "execution_count": 41,
   "id": "9b3da066",
   "metadata": {},
   "outputs": [
    {
     "ename": "PermissionError",
     "evalue": "[Errno 13] Permission denied: '..\\\\\\\\Models\\\\\\\\ML'",
     "output_type": "error",
     "traceback": [
      "\u001b[31m---------------------------------------------------------------------------\u001b[39m",
      "\u001b[31mPermissionError\u001b[39m                           Traceback (most recent call last)",
      "\u001b[36mCell\u001b[39m\u001b[36m \u001b[39m\u001b[32mIn[41]\u001b[39m\u001b[32m, line 3\u001b[39m\n\u001b[32m      1\u001b[39m \u001b[38;5;66;03m### optional:\u001b[39;00m\n\u001b[32m      2\u001b[39m \u001b[38;5;66;03m# load model instead of fitting it again\u001b[39;00m\n\u001b[32m----> \u001b[39m\u001b[32m3\u001b[39m clf_loaded = \u001b[43mjoblib\u001b[49m\u001b[43m.\u001b[49m\u001b[43mload\u001b[49m\u001b[43m(\u001b[49m\u001b[43mos\u001b[49m\u001b[43m.\u001b[49m\u001b[43mpath\u001b[49m\u001b[43m.\u001b[49m\u001b[43mjoin\u001b[49m\u001b[43m(\u001b[49m\u001b[43mmodel_path\u001b[49m\u001b[43m)\u001b[49m\u001b[43m,\u001b[49m\u001b[43m \u001b[49m\u001b[33;43m'\u001b[39;49m\u001b[33;43mSVC_model_pixel20_20_images_all.joblib\u001b[39;49m\u001b[33;43m'\u001b[39;49m\u001b[43m)\u001b[49m\n",
      "\u001b[36mFile \u001b[39m\u001b[32mc:\\Users\\Yvonne\\Documents\\DataScientist_2025_local\\project_code\\.venv-xray\\Lib\\site-packages\\joblib\\numpy_pickle.py:650\u001b[39m, in \u001b[36mload\u001b[39m\u001b[34m(filename, mmap_mode)\u001b[39m\n\u001b[32m    648\u001b[39m         obj = _unpickle(fobj)\n\u001b[32m    649\u001b[39m \u001b[38;5;28;01melse\u001b[39;00m:\n\u001b[32m--> \u001b[39m\u001b[32m650\u001b[39m     \u001b[38;5;28;01mwith\u001b[39;00m \u001b[38;5;28;43mopen\u001b[39;49m\u001b[43m(\u001b[49m\u001b[43mfilename\u001b[49m\u001b[43m,\u001b[49m\u001b[43m \u001b[49m\u001b[33;43m'\u001b[39;49m\u001b[33;43mrb\u001b[39;49m\u001b[33;43m'\u001b[39;49m\u001b[43m)\u001b[49m \u001b[38;5;28;01mas\u001b[39;00m f:\n\u001b[32m    651\u001b[39m         \u001b[38;5;28;01mwith\u001b[39;00m _read_fileobject(f, filename, mmap_mode) \u001b[38;5;28;01mas\u001b[39;00m fobj:\n\u001b[32m    652\u001b[39m             \u001b[38;5;28;01mif\u001b[39;00m \u001b[38;5;28misinstance\u001b[39m(fobj, \u001b[38;5;28mstr\u001b[39m):\n\u001b[32m    653\u001b[39m                 \u001b[38;5;66;03m# if the returned file object is a string, this means we\u001b[39;00m\n\u001b[32m    654\u001b[39m                 \u001b[38;5;66;03m# try to load a pickle file generated with an version of\u001b[39;00m\n\u001b[32m    655\u001b[39m                 \u001b[38;5;66;03m# Joblib so we load it with joblib compatibility function.\u001b[39;00m\n",
      "\u001b[31mPermissionError\u001b[39m: [Errno 13] Permission denied: '..\\\\\\\\Models\\\\\\\\ML'"
     ]
    }
   ],
   "source": [
    "### optional:\n",
    "# load model instead of fitting it again\n",
    "clf_loaded = joblib.load(os.path.join(model_path), 'SVC_model_pixel20_20_images_all.joblib')"
   ]
  },
  {
   "cell_type": "code",
   "execution_count": 37,
   "id": "76271496",
   "metadata": {},
   "outputs": [],
   "source": [
    "# predict  from X_test_scaled\n",
    "y_pred = clf.predict(X_test_scaled)"
   ]
  },
  {
   "cell_type": "markdown",
   "id": "9f8c9f90",
   "metadata": {},
   "source": [
    "## Evaluation"
   ]
  },
  {
   "cell_type": "code",
   "execution_count": 38,
   "id": "854a6318",
   "metadata": {},
   "outputs": [
    {
     "name": "stdout",
     "output_type": "stream",
     "text": [
      "              precision    recall  f1-score   support\n",
      "\n",
      "           0       0.45      0.52      0.49       723\n",
      "           1       0.74      0.65      0.69      1203\n",
      "           2       0.79      0.78      0.79      2038\n",
      "           3       0.75      0.91      0.82       269\n",
      "\n",
      "    accuracy                           0.71      4233\n",
      "   macro avg       0.68      0.72      0.70      4233\n",
      "weighted avg       0.72      0.71      0.71      4233\n",
      "\n"
     ]
    }
   ],
   "source": [
    "from sklearn.metrics import classification_report, confusion_matrix\n",
    "\n",
    "print(classification_report(y_test, y_pred))"
   ]
  },
  {
   "cell_type": "code",
   "execution_count": 39,
   "id": "b98c47ff",
   "metadata": {},
   "outputs": [
    {
     "data": {
      "text/plain": [
       "array([[ 378,  124,  204,   17],\n",
       "       [ 204,  778,  202,   19],\n",
       "       [ 250,  149, 1595,   44],\n",
       "       [   3,    6,   15,  245]], dtype=int64)"
      ]
     },
     "metadata": {},
     "output_type": "display_data"
    },
    {
     "data": {
      "text/plain": [
       "<Axes: >"
      ]
     },
     "execution_count": 39,
     "metadata": {},
     "output_type": "execute_result"
    },
    {
     "data": {
      "image/png": "[encoded data removed]",
      "text/plain": [
       "<Figure size 640x480 with 1 Axes>"
      ]
     },
     "metadata": {},
     "output_type": "display_data"
    }
   ],
   "source": [
    "#cm = pd.crosstab(y_test, y_pred, rownames=['Real Class'], colnames=['Predicted Class'])\n",
    "\n",
    "cm = confusion_matrix(y_test, y_pred)\n",
    "\n",
    "display(cm)\n",
    "\n",
    "sns.heatmap(cm, cmap='Blues', cbar=False, annot=True, fmt='.2f')\n",
    "\n",
    "\n"
   ]
  },
  {
   "cell_type": "code",
   "execution_count": null,
   "id": "2d99ec77",
   "metadata": {},
   "outputs": [],
   "source": []
  }
 ],
 "metadata": {
  "kernelspec": {
   "display_name": "Python 3",
   "language": "python",
   "name": "python3"
  },
  "language_info": {
   "codemirror_mode": {
    "name": "ipython",
    "version": 3
   },
   "file_extension": ".py",
   "mimetype": "text/x-python",
   "name": "python",
   "nbconvert_exporter": "python",
   "pygments_lexer": "ipython3",
   "version": "3.12.9"
  }
 },
 "nbformat": 4,
 "nbformat_minor": 5
}
