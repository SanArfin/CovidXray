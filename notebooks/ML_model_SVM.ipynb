{
 "cells": [
  {
   "cell_type": "code",
   "execution_count": 13,
   "id": "3268049a",
   "metadata": {},
   "outputs": [],
   "source": [
    "import numpy as np\n",
    "import pandas as pd\n",
    "import os\n",
    "\n",
    "from sklearn.preprocessing import StandardScaler\n",
    "from sklearn.svm import SVC\n",
    "\n",
    "# For classification performance metrics\n",
    "from sklearn.metrics import classification_report, confusion_matrix "
   ]
  },
  {
   "cell_type": "code",
   "execution_count": 6,
   "id": "81d820e5",
   "metadata": {},
   "outputs": [],
   "source": [
    "# define paths\n",
    "base_path = r\"..\\\\data\\\\\"\n",
    "base_path_in = os.path.join(base_path, \"processed\", \"extracted\")   # path to read from the *.npy files\n",
    "\n",
    "train_npy_file = 'combined_hog_vgg.npy'\n",
    "test_npy_file  = 'combined_vgg_hog_test.npy'\n",
    "\n",
    "# load data\n",
    "train = np.load(os.path.join(base_path_in, train_npy_file))\n",
    "test = np.load(os.path.join(base_path_in, test_npy_file))\n"
   ]
  },
  {
   "cell_type": "code",
   "execution_count": 8,
   "id": "09facee2",
   "metadata": {},
   "outputs": [
    {
     "name": "stdout",
     "output_type": "stream",
     "text": [
      "(35059, 8612)\n",
      "(4233, 8612)\n"
     ]
    }
   ],
   "source": [
    "print(train.shape)\n",
    "print(test.shape)"
   ]
  },
  {
   "cell_type": "code",
   "execution_count": null,
   "id": "2d79cb47",
   "metadata": {},
   "outputs": [
    {
     "data": {
      "text/plain": [
       "8611\n",
       "0.000000    34569\n",
       "0.051448        1\n",
       "0.171534        1\n",
       "0.306590        1\n",
       "0.351507        1\n",
       "            ...  \n",
       "0.109147        1\n",
       "0.235990        1\n",
       "0.335921        1\n",
       "0.226584        1\n",
       "0.289178        1\n",
       "Name: count, Length: 491, dtype: int64"
      ]
     },
     "execution_count": 22,
     "metadata": {},
     "output_type": "execute_result"
    }
   ],
   "source": [
    "#train[:,-1]\n",
    "\n",
    "df_train = pd.DataFrame(train)\n",
    "df_train.iloc[:,-1].value_counts()"
   ]
  },
  {
   "cell_type": "code",
   "execution_count": 23,
   "id": "3d614243",
   "metadata": {},
   "outputs": [
    {
     "data": {
      "text/plain": [
       "8611\n",
       "0.000000    4197\n",
       "0.063363       1\n",
       "0.305831       1\n",
       "0.303520       1\n",
       "0.108651       1\n",
       "0.017946       1\n",
       "0.298121       1\n",
       "0.229805       1\n",
       "0.292476       1\n",
       "0.342645       1\n",
       "0.135475       1\n",
       "0.227987       1\n",
       "0.207195       1\n",
       "0.121018       1\n",
       "0.124018       1\n",
       "0.312967       1\n",
       "0.129454       1\n",
       "0.358784       1\n",
       "0.051429       1\n",
       "0.037111       1\n",
       "0.164714       1\n",
       "0.024570       1\n",
       "0.207934       1\n",
       "0.372144       1\n",
       "0.011546       1\n",
       "0.329041       1\n",
       "0.105799       1\n",
       "0.100228       1\n",
       "0.216087       1\n",
       "0.344159       1\n",
       "0.314332       1\n",
       "0.119389       1\n",
       "0.128736       1\n",
       "0.291717       1\n",
       "0.120664       1\n",
       "0.161917       1\n",
       "0.391753       1\n",
       "Name: count, dtype: int64"
      ]
     },
     "execution_count": 23,
     "metadata": {},
     "output_type": "execute_result"
    }
   ],
   "source": [
    "\n",
    "df_test = pd.DataFrame(test)\n",
    "df_test.iloc[:,-1].value_counts()"
   ]
  },
  {
   "cell_type": "code",
   "execution_count": null,
   "id": "30840346",
   "metadata": {},
   "outputs": [],
   "source": [
    "# seperate x and y"
   ]
  },
  {
   "cell_type": "markdown",
   "id": "cb91e7ca",
   "metadata": {},
   "source": [
    "## scaling"
   ]
  },
  {
   "cell_type": "code",
   "execution_count": null,
   "id": "59de6b42",
   "metadata": {},
   "outputs": [],
   "source": [
    "# sacling the data\n",
    "scaler = StandardScaler()\n",
    "\n",
    "# fit and transform train data \n",
    "train_scaled = scaler.fit_transform(train_data)\n",
    "\n",
    "# fit test data\n",
    "test_scaled = scaler.transform(test_data)"
   ]
  },
  {
   "cell_type": "code",
   "execution_count": null,
   "id": "f6f17043",
   "metadata": {},
   "outputs": [],
   "source": [
    "clf = svm.SVC(gamma=0.01,  kernel='poly')\n",
    "clf.fit(X_train_scaled, y_train)\n"
   ]
  },
  {
   "cell_type": "code",
   "execution_count": null,
   "id": "76271496",
   "metadata": {},
   "outputs": [],
   "source": [
    "# predict  from X_test_scaled\n",
    "y_pred = clf.predict(X_test_scaled)"
   ]
  },
  {
   "cell_type": "markdown",
   "id": "9f8c9f90",
   "metadata": {},
   "source": [
    "## Evaluation"
   ]
  },
  {
   "cell_type": "code",
   "execution_count": null,
   "id": "b98c47ff",
   "metadata": {},
   "outputs": [],
   "source": [
    "cm = pd.crosstab(y_test, y_pred, rownames=['Real Class'], colnames=['Predicted Class'])\n",
    "\n",
    "cm = confusion_matrix(y_test_class, y_pred_class)\n",
    "\n",
    "display(cm)\n",
    "\n",
    "sns.heatmap(cm, cmap='Blues', cbar=False, annot=True\n",
    "\n",
    "\n",
    "from sklearn.metrics import classification_report, confusion_matrix\n",
    "\n",
    "print(classification_report(y_test_class, y_pred_class))"
   ]
  }
 ],
 "metadata": {
  "kernelspec": {
   "display_name": "Python 3",
   "language": "python",
   "name": "python3"
  },
  "language_info": {
   "codemirror_mode": {
    "name": "ipython",
    "version": 3
   },
   "file_extension": ".py",
   "mimetype": "text/x-python",
   "name": "python",
   "nbconvert_exporter": "python",
   "pygments_lexer": "ipython3",
   "version": "3.12.9"
  }
 },
 "nbformat": 4,
 "nbformat_minor": 5
}
