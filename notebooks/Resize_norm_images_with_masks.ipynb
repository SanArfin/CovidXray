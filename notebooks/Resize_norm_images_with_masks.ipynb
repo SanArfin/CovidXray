{
 "cells": [
  {
   "cell_type": "markdown",
   "id": "2a4be31e",
   "metadata": {},
   "source": [
    "#normalised images with masks"
   ]
  },
  {
   "cell_type": "code",
   "execution_count": null,
   "id": "d485b5ad",
   "metadata": {},
   "outputs": [
    {
     "name": "stdout",
     "output_type": "stream",
     "text": [
      "c:\\Users\\arfin\\Downloads\\covid xray\\mar25-bds_analysis-of-covid-19-chest-x-rays\\notebooks\n",
      "Loading images from: c:\\Users\\arfin\\Downloads\\covid xray\\mar25-bds_analysis-of-covid-19-chest-x-rays\\data\\processed\\df_xray_train_norm_plus_augmented.csv\n"
     ]
    },
    {
     "name": "stderr",
     "output_type": "stream",
     "text": [
      "Loading and processing train images: 100%|██████████| 35059/35059 [00:18<00:00, 1923.72it/s]\n"
     ]
    },
    {
     "name": "stdout",
     "output_type": "stream",
     "text": [
      "X_train shape: (35059, 16384)\n",
      "y_train shape: (35059,)\n",
      "Resized and flattened train images have been saved!\n"
     ]
    }
   ],
   "source": [
    "import os\n",
    "import cv2\n",
    "import numpy as np\n",
    "import pandas as pd\n",
    "from tqdm import tqdm\n",
    "\n",
    "\n",
    "# Define paths\n",
    "print(os.getcwd())\n",
    "base_path = \"../data\"\n",
    "base_path_out = os.path.join(base_path, \"processed\")\n",
    "\n",
    "# Load train CSV file\n",
    "train_csv_path = os.path.join(base_path_out, \"df_xray_train_norm_plus_augmented.csv\")\n",
    "print(\"Loading images from:\", os.path.abspath(train_csv_path))\n",
    "\n",
    "# 1) Load the train CSV file\n",
    "df_train = pd.read_csv(train_csv_path)\n",
    "df_train['image_path'] = df_train.apply(lambda row: os.path.join(row['path'], row['file']), axis=1)\n",
    "df_train.head()\n",
    "\n",
    "# Step 2: Define function for resizing and flattening images\n",
    "#def resize_and_flatten_image(image_path, size=(128, 128)):\n",
    "def resize_and_flatten_image(image_path, size=(20, 20)):\n",
    "    img = cv2.imread(image_path, cv2.IMREAD_GRAYSCALE)\n",
    "    if img is not None:\n",
    "        img_resized = cv2.resize(img, size)  # Resize image\n",
    "        img_flattened = img_resized.reshape(-1)  # Flatten image to 1D vector\n",
    "        return img_flattened\n",
    "    else:\n",
    "        print(f\"Failed to load image: {image_path}\")\n",
    "        return None\n",
    "\n",
    "# Step 3: Load and preprocess the training images (resize and flatten)\n",
    "image_data = []\n",
    "for path in tqdm(df_train['image_path'], desc=\"Loading and processing train images\"):\n",
    "    #img_flattened = resize_and_flatten_image(path, size=(128, 128))\n",
    "    img_flattened = resize_and_flatten_image(path, size=(20, 20))\n",
    "    if img_flattened is not None:\n",
    "        image_data.append(img_flattened)\n",
    "\n",
    "# Convert to NumPy array\n",
    "X_train = np.array(image_data, dtype=np.uint8)\n",
    "y_train = df_train['label_enc'].to_numpy()\n",
    "\n",
    "print(\"X_train shape:\", X_train.shape)\n",
    "print(\"y_train shape:\", y_train.shape)\n",
    "\n",
    "# Save the resized and flattened training data\n",
    "np.savez_compressed(os.path.join(base_path_out, 'train_data_resized_with_masks.npz'), X_train=X_train, y_train=y_train)\n",
    "print(\"Resized and flattened train images have been saved!\")\n",
    "\n"
   ]
  },
  {
   "cell_type": "code",
   "execution_count": null,
   "id": "9a5297ba",
   "metadata": {},
   "outputs": [
    {
     "name": "stderr",
     "output_type": "stream",
     "text": [
      "Loading and processing test images: 100%|██████████| 4233/4233 [00:02<00:00, 1967.60it/s]\n"
     ]
    },
    {
     "name": "stdout",
     "output_type": "stream",
     "text": [
      "X_test shape: (4233, 16384)\n",
      "y_test shape: (4233,)\n",
      "Resized and flattened test images have been saved!\n"
     ]
    }
   ],
   "source": [
    "# Load test CSV\n",
    "test_csv_path = os.path.join(base_path_out, 'df_xray_processed_normed_enc_test.csv')\n",
    "df_test = pd.read_csv(test_csv_path)\n",
    "\n",
    "# Build image paths for test data\n",
    "df_test['image_path'] = df_test.apply(lambda row: os.path.normpath(os.path.join(os.getcwd(), row['path'], row['file'])), axis=1)\n",
    "\n",
    "# Step 4: Load and preprocess the test images (resize and flatten)\n",
    "test_image_data = []\n",
    "for path in tqdm(df_test['image_path'], desc=\"Loading and processing test images\"):\n",
    "    #img_flattened = resize_and_flatten_image(path, size=(128, 128))\n",
    "    img_flattened = resize_and_flatten_image(path, size=(20, 20))\n",
    "    if img_flattened is not None:\n",
    "        test_image_data.append(img_flattened)\n",
    "\n",
    "# Convert to NumPy array\n",
    "X_test = np.array(test_image_data, dtype=np.uint8)\n",
    "y_test = df_test['label_enc'].to_numpy()\n",
    "\n",
    "print(\"X_test shape:\", X_test.shape)\n",
    "print(\"y_test shape:\", y_test.shape)\n",
    "\n",
    "# Save the resized and flattened test data\n",
    "np.savez_compressed(os.path.join(base_path_out, 'test_data_resized_with_masks.npz'), X_test=X_test, y_test=y_test)\n",
    "print(\"Resized and flattened test images have been saved!\")\n",
    "\n",
    "\n"
   ]
  }
 ],
 "metadata": {
  "kernelspec": {
   "display_name": "venv",
   "language": "python",
   "name": "venv"
  },
  "language_info": {
   "codemirror_mode": {
    "name": "ipython",
    "version": 3
   },
   "file_extension": ".py",
   "mimetype": "text/x-python",
   "name": "python",
   "nbconvert_exporter": "python",
   "pygments_lexer": "ipython3",
   "version": "3.12.8"
  }
 },
 "nbformat": 4,
 "nbformat_minor": 5
}
