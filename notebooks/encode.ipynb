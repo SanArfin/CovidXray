{
 "cells": [
  {
   "cell_type": "code",
   "execution_count": 1,
   "id": "855d6c36",
   "metadata": {},
   "outputs": [
    {
     "data": {
      "text/html": [
       "<div>\n",
       "<style scoped>\n",
       "    .dataframe tbody tr th:only-of-type {\n",
       "        vertical-align: middle;\n",
       "    }\n",
       "\n",
       "    .dataframe tbody tr th {\n",
       "        vertical-align: top;\n",
       "    }\n",
       "\n",
       "    .dataframe thead th {\n",
       "        text-align: right;\n",
       "    }\n",
       "</style>\n",
       "<table border=\"1\" class=\"dataframe\">\n",
       "  <thead>\n",
       "    <tr style=\"text-align: right;\">\n",
       "      <th></th>\n",
       "      <th>label</th>\n",
       "      <th>file</th>\n",
       "      <th>min_pixel</th>\n",
       "      <th>max_pixel</th>\n",
       "      <th>mean_pixel</th>\n",
       "      <th>std_pixel</th>\n",
       "      <th>blank_image</th>\n",
       "    </tr>\n",
       "  </thead>\n",
       "  <tbody>\n",
       "    <tr>\n",
       "      <th>0</th>\n",
       "      <td>COVID</td>\n",
       "      <td>COVID-1.png</td>\n",
       "      <td>0</td>\n",
       "      <td>255</td>\n",
       "      <td>145.896847</td>\n",
       "      <td>51.816632</td>\n",
       "      <td>False</td>\n",
       "    </tr>\n",
       "    <tr>\n",
       "      <th>1</th>\n",
       "      <td>COVID</td>\n",
       "      <td>COVID-2.png</td>\n",
       "      <td>32</td>\n",
       "      <td>238</td>\n",
       "      <td>150.640530</td>\n",
       "      <td>48.867698</td>\n",
       "      <td>False</td>\n",
       "    </tr>\n",
       "    <tr>\n",
       "      <th>2</th>\n",
       "      <td>COVID</td>\n",
       "      <td>COVID-3.png</td>\n",
       "      <td>0</td>\n",
       "      <td>255</td>\n",
       "      <td>140.598617</td>\n",
       "      <td>50.200679</td>\n",
       "      <td>False</td>\n",
       "    </tr>\n",
       "    <tr>\n",
       "      <th>3</th>\n",
       "      <td>COVID</td>\n",
       "      <td>COVID-4.png</td>\n",
       "      <td>1</td>\n",
       "      <td>255</td>\n",
       "      <td>116.714679</td>\n",
       "      <td>57.719773</td>\n",
       "      <td>False</td>\n",
       "    </tr>\n",
       "    <tr>\n",
       "      <th>4</th>\n",
       "      <td>COVID</td>\n",
       "      <td>COVID-5.png</td>\n",
       "      <td>34</td>\n",
       "      <td>246</td>\n",
       "      <td>167.835796</td>\n",
       "      <td>48.413412</td>\n",
       "      <td>False</td>\n",
       "    </tr>\n",
       "  </tbody>\n",
       "</table>\n",
       "</div>"
      ],
      "text/plain": [
       "   label         file  min_pixel  max_pixel  mean_pixel  std_pixel  \\\n",
       "0  COVID  COVID-1.png          0        255  145.896847  51.816632   \n",
       "1  COVID  COVID-2.png         32        238  150.640530  48.867698   \n",
       "2  COVID  COVID-3.png          0        255  140.598617  50.200679   \n",
       "3  COVID  COVID-4.png          1        255  116.714679  57.719773   \n",
       "4  COVID  COVID-5.png         34        246  167.835796  48.413412   \n",
       "\n",
       "   blank_image  \n",
       "0        False  \n",
       "1        False  \n",
       "2        False  \n",
       "3        False  \n",
       "4        False  "
      ]
     },
     "metadata": {},
     "output_type": "display_data"
    }
   ],
   "source": [
    "import pandas as pd # needed for DataFrames\n",
    "import os # to check if the label file was already generated\n",
    "\n",
    "label_path = '../data/processed/image_stats_summary.csv'\n",
    "\n",
    "if os.path.exists(label_path):\n",
    "    df_label = pd.read_csv(label_path)\n",
    "    display(df_label.head())\n",
    "else:\n",
    "    print('No input file.Run the file covid_analysis.ipynb first')\n",
    "    exit()"
   ]
  },
  {
   "cell_type": "code",
   "execution_count": 2,
   "id": "bfdd312a",
   "metadata": {},
   "outputs": [
    {
     "name": "stdout",
     "output_type": "stream",
     "text": [
      "<class 'pandas.core.series.Series'>\n",
      "RangeIndex: 21165 entries, 0 to 21164\n",
      "Series name: label\n",
      "Non-Null Count  Dtype \n",
      "--------------  ----- \n",
      "21165 non-null  object\n",
      "dtypes: object(1)\n",
      "memory usage: 165.5+ KB\n"
     ]
    },
    {
     "data": {
      "text/plain": [
       "label\n",
       "Normal             0.481550\n",
       "Lung_Opacity       0.284054\n",
       "COVID              0.170848\n",
       "Viral Pneumonia    0.063548\n",
       "Name: proportion, dtype: float64"
      ]
     },
     "execution_count": 2,
     "metadata": {},
     "output_type": "execute_result"
    }
   ],
   "source": [
    "# get the labels from the DataFrame\n",
    "y_labels = df_label.label\n",
    "y_labels.head()\n",
    "y_labels.info()\n",
    "y_labels.describe()\n",
    "y_labels.value_counts(normalize=True)"
   ]
  },
  {
   "cell_type": "code",
   "execution_count": 3,
   "id": "7056bc0e",
   "metadata": {},
   "outputs": [],
   "source": [
    "from sklearn.preprocessing import LabelEncoder\n",
    "\n",
    "le = LabelEncoder() # create an encoder\n",
    "y_encoded = le.fit_transform(y_labels) # fit the encoder to the label list "
   ]
  },
  {
   "cell_type": "code",
   "execution_count": 5,
   "id": "eb5b006f",
   "metadata": {},
   "outputs": [
    {
     "data": {
      "text/plain": [
       "label_enc\n",
       "2            0.481550\n",
       "1            0.284054\n",
       "0            0.170848\n",
       "3            0.063548\n",
       "Name: proportion, dtype: float64"
      ]
     },
     "execution_count": 5,
     "metadata": {},
     "output_type": "execute_result"
    }
   ],
   "source": [
    "y_labels_enc = pd.DataFrame(y_encoded, columns=['label_enc'])\n",
    "y_labels_enc.value_counts(normalize=True)"
   ]
  },
  {
   "cell_type": "code",
   "execution_count": 6,
   "id": "362b86ac",
   "metadata": {},
   "outputs": [
    {
     "data": {
      "text/html": [
       "<div>\n",
       "<style scoped>\n",
       "    .dataframe tbody tr th:only-of-type {\n",
       "        vertical-align: middle;\n",
       "    }\n",
       "\n",
       "    .dataframe tbody tr th {\n",
       "        vertical-align: top;\n",
       "    }\n",
       "\n",
       "    .dataframe thead th {\n",
       "        text-align: right;\n",
       "    }\n",
       "</style>\n",
       "<table border=\"1\" class=\"dataframe\">\n",
       "  <thead>\n",
       "    <tr style=\"text-align: right;\">\n",
       "      <th></th>\n",
       "      <th>label</th>\n",
       "      <th>file</th>\n",
       "      <th>min_pixel</th>\n",
       "      <th>max_pixel</th>\n",
       "      <th>mean_pixel</th>\n",
       "      <th>std_pixel</th>\n",
       "      <th>blank_image</th>\n",
       "      <th>label_enc</th>\n",
       "    </tr>\n",
       "  </thead>\n",
       "  <tbody>\n",
       "    <tr>\n",
       "      <th>0</th>\n",
       "      <td>COVID</td>\n",
       "      <td>COVID-1.png</td>\n",
       "      <td>0</td>\n",
       "      <td>255</td>\n",
       "      <td>145.896847</td>\n",
       "      <td>51.816632</td>\n",
       "      <td>False</td>\n",
       "      <td>0</td>\n",
       "    </tr>\n",
       "    <tr>\n",
       "      <th>1</th>\n",
       "      <td>COVID</td>\n",
       "      <td>COVID-2.png</td>\n",
       "      <td>32</td>\n",
       "      <td>238</td>\n",
       "      <td>150.640530</td>\n",
       "      <td>48.867698</td>\n",
       "      <td>False</td>\n",
       "      <td>0</td>\n",
       "    </tr>\n",
       "    <tr>\n",
       "      <th>2</th>\n",
       "      <td>COVID</td>\n",
       "      <td>COVID-3.png</td>\n",
       "      <td>0</td>\n",
       "      <td>255</td>\n",
       "      <td>140.598617</td>\n",
       "      <td>50.200679</td>\n",
       "      <td>False</td>\n",
       "      <td>0</td>\n",
       "    </tr>\n",
       "    <tr>\n",
       "      <th>3</th>\n",
       "      <td>COVID</td>\n",
       "      <td>COVID-4.png</td>\n",
       "      <td>1</td>\n",
       "      <td>255</td>\n",
       "      <td>116.714679</td>\n",
       "      <td>57.719773</td>\n",
       "      <td>False</td>\n",
       "      <td>0</td>\n",
       "    </tr>\n",
       "    <tr>\n",
       "      <th>4</th>\n",
       "      <td>COVID</td>\n",
       "      <td>COVID-5.png</td>\n",
       "      <td>34</td>\n",
       "      <td>246</td>\n",
       "      <td>167.835796</td>\n",
       "      <td>48.413412</td>\n",
       "      <td>False</td>\n",
       "      <td>0</td>\n",
       "    </tr>\n",
       "  </tbody>\n",
       "</table>\n",
       "</div>"
      ],
      "text/plain": [
       "   label         file  min_pixel  max_pixel  mean_pixel  std_pixel  \\\n",
       "0  COVID  COVID-1.png          0        255  145.896847  51.816632   \n",
       "1  COVID  COVID-2.png         32        238  150.640530  48.867698   \n",
       "2  COVID  COVID-3.png          0        255  140.598617  50.200679   \n",
       "3  COVID  COVID-4.png          1        255  116.714679  57.719773   \n",
       "4  COVID  COVID-5.png         34        246  167.835796  48.413412   \n",
       "\n",
       "   blank_image  label_enc  \n",
       "0        False          0  \n",
       "1        False          0  \n",
       "2        False          0  \n",
       "3        False          0  \n",
       "4        False          0  "
      ]
     },
     "execution_count": 6,
     "metadata": {},
     "output_type": "execute_result"
    }
   ],
   "source": [
    "df_label_enc = pd.concat([df_label.reset_index(drop=True), y_labels_enc], axis=1)\n",
    "df_label_enc.head()"
   ]
  },
  {
   "cell_type": "code",
   "execution_count": 7,
   "id": "244e1b5e",
   "metadata": {},
   "outputs": [],
   "source": [
    "df_label_enc.to_csv('../data/processed/image_stats_summary_enc.csv')"
   ]
  },
  {
   "cell_type": "code",
   "execution_count": null,
   "id": "892a802a",
   "metadata": {},
   "outputs": [],
   "source": []
  }
 ],
 "metadata": {
  "kernelspec": {
   "display_name": "DataScientest",
   "language": "python",
   "name": "python3"
  },
  "language_info": {
   "codemirror_mode": {
    "name": "ipython",
    "version": 3
   },
   "file_extension": ".py",
   "mimetype": "text/x-python",
   "name": "python",
   "nbconvert_exporter": "python",
   "pygments_lexer": "ipython3",
   "version": "3.12.9"
  }
 },
 "nbformat": 4,
 "nbformat_minor": 5
}
