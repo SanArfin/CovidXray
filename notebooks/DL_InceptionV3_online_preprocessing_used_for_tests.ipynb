{
 "cells": [
  {
   "cell_type": "markdown",
   "id": "dfd638e1",
   "metadata": {
    "id": "dfd638e1"
   },
   "source": [
    "# DL model InceptionV3.\n",
    "\n",
    " This script is was used for the different tests with the DL model InceptionV3 which are described in the report. There are several options:\n",
    "* Using masks and not using masks.\n",
    "* Use fine-tuning of the base model or not\n",
    "\n",
    "These options can be addressed by setting flags in the head of the script or by commenting and uncommenting several parts."
   ]
  },
  {
   "cell_type": "markdown",
   "id": "29cae602",
   "metadata": {
    "id": "29cae602"
   },
   "source": [
    "## imports"
   ]
  },
  {
   "cell_type": "code",
   "execution_count": 1,
   "id": "c9836528",
   "metadata": {
    "colab": {
     "base_uri": "https://localhost:8080/"
    },
    "executionInfo": {
     "elapsed": 10503,
     "status": "ok",
     "timestamp": 1748354770324,
     "user": {
      "displayName": "Yvonne Breitenbach",
      "userId": "04140135633344575113"
     },
     "user_tz": -120
    },
    "id": "c9836528",
    "outputId": "3c77790e-43f6-4c6d-caa4-b6fd16aff149"
   },
   "outputs": [
    {
     "name": "stderr",
     "output_type": "stream",
     "text": [
      "/usr/local/lib/python3.11/dist-packages/albumentations/__init__.py:28: UserWarning: A new version of Albumentations is available: '2.0.7' (you have '2.0.6'). Upgrade using: pip install -U albumentations. To disable automatic update checks, set the environment variable NO_ALBUMENTATIONS_UPDATE to 1.\n",
      "  check_for_updates()\n"
     ]
    }
   ],
   "source": [
    "import os\n",
    "import zipfile\n",
    "import shutil\n",
    "from pathlib import Path\n",
    "import random\n",
    "import glob\n",
    "import pandas as pd\n",
    "import numpy as np\n",
    "\n",
    "import tensorflow as tf\n",
    "import albumentations as A\n",
    "import cv2\n",
    "import numpy as np\n",
    "from pathlib import Path\n",
    "\n",
    "from sklearn.model_selection import train_test_split\n",
    "from sklearn.metrics import confusion_matrix, ConfusionMatrixDisplay, classification_report\n",
    "import seaborn as sns\n",
    "\n",
    "\n",
    "from tensorflow import keras, TensorSpec\n",
    "from tensorflow.keras.applications.inception_v3 import InceptionV3, preprocess_input\n",
    "#from tensorflow.keras.applications import VGG16\n",
    "#from keras.applications.vgg16 import VGG16, preprocess_input\n",
    "from tensorflow.keras.preprocessing.image import ImageDataGenerator\n",
    "from tensorflow.keras.preprocessing import image\n",
    "from tensorflow.keras.models import Sequential, Model\n",
    "from tensorflow.keras.layers import GlobalAveragePooling2D, Dense, BatchNormalization, Dropout, Flatten, Input\n",
    "from tensorflow.keras.optimizers import Adam, RMSprop, SGD\n",
    "from tensorflow.keras.optimizers import *\n",
    "from tensorflow.keras.initializers import *\n",
    "from tensorflow.keras.callbacks import EarlyStopping, ModelCheckpoint, ReduceLROnPlateau\n",
    "from tensorflow.data import Dataset, experimental\n",
    "\n",
    "\n",
    "import matplotlib.pyplot as plt\n",
    "import matplotlib.image as mpimg\n",
    "%matplotlib inline"
   ]
  },
  {
   "cell_type": "markdown",
   "id": "98ce23b8",
   "metadata": {
    "id": "98ce23b8"
   },
   "source": [
    "## definitions to set by user"
   ]
  },
  {
   "cell_type": "code",
   "execution_count": 2,
   "id": "1ae2c840",
   "metadata": {
    "executionInfo": {
     "elapsed": 28,
     "status": "ok",
     "timestamp": 1748354778651,
     "user": {
      "displayName": "Yvonne Breitenbach",
      "userId": "04140135633344575113"
     },
     "user_tz": -120
    },
    "id": "1ae2c840"
   },
   "outputs": [],
   "source": [
    "# set \"machine\" according to where you want to run the script\n",
    "machine = 'colab' # 'colab' or 'local'\n",
    "\n",
    "# modelname:\n",
    "model_name = 'inceptionv3_13'\n",
    "\n",
    "# size to which the X-ray images have to be converted to (according to the model which is used):\n",
    "IMG_HEIGHT, IMG_WIDTH = 299, 299\n",
    "\n",
    "# batch size used for modelling:\n",
    "BATCH_SIZE = 64\n",
    "\n",
    "# Flags that control whether the masks are applied to the train data / validation / test data (= True) or not (=False)\n",
    "flag_masks_train      = True\n",
    "flag_masks_validation = True\n",
    "flag_masks_test       = True\n",
    "\n",
    "##############################################################################################\n",
    "# number of classes which should be predicted:\n",
    "NUM_CLASSES = 4\n",
    "\n",
    "# names of the classes and dicts to address the names by ID of the class and vice versa:\n",
    "classes = ['Normal', 'COVID', 'Lung_Opacity', 'Viral Pneumonia']\n",
    "class_to_index = {cls: idx for idx, cls in enumerate(classes)}\n",
    "index_to_class =  {v: k for k, v in class_to_index.items()} # Invert the dictionary\n",
    "\n",
    "# random number in order to reproduce the split etc.\n",
    "rand_num = 42"
   ]
  },
  {
   "cell_type": "markdown",
   "id": "1f37c9ed",
   "metadata": {
    "id": "1f37c9ed"
   },
   "source": [
    "## load directories on colab"
   ]
  },
  {
   "cell_type": "code",
   "execution_count": 3,
   "id": "f8c3ecfc",
   "metadata": {
    "colab": {
     "base_uri": "https://localhost:8080/"
    },
    "executionInfo": {
     "elapsed": 20296,
     "status": "ok",
     "timestamp": 1748354801173,
     "user": {
      "displayName": "Yvonne Breitenbach",
      "userId": "04140135633344575113"
     },
     "user_tz": -120
    },
    "id": "f8c3ecfc",
    "outputId": "9ae43c82-9eea-4c68-e5d4-ad38732d81df"
   },
   "outputs": [
    {
     "name": "stdout",
     "output_type": "stream",
     "text": [
      "Mounted at /content/drive\n"
     ]
    }
   ],
   "source": [
    "if machine == 'colab':\n",
    "    #from google.colab import files\n",
    "    #files.upload()\n",
    "\n",
    "    # load google drive when working on colab\n",
    "    from google.colab import drive\n",
    "    #drive.mount('/content/drive')\n",
    "    drive.mount(\"/content/drive\", force_remount=True)"
   ]
  },
  {
   "cell_type": "markdown",
   "id": "a3754d4e",
   "metadata": {
    "id": "a3754d4e"
   },
   "source": [
    "## definitions of paths"
   ]
  },
  {
   "cell_type": "code",
   "execution_count": 4,
   "id": "6d4b167a",
   "metadata": {
    "executionInfo": {
     "elapsed": 7,
     "status": "ok",
     "timestamp": 1748354804773,
     "user": {
      "displayName": "Yvonne Breitenbach",
      "userId": "04140135633344575113"
     },
     "user_tz": -120
    },
    "id": "6d4b167a"
   },
   "outputs": [],
   "source": [
    "#####################################\n",
    "# paths:\n",
    "#####################################\n",
    "\n",
    "if machine == 'local':\n",
    "    # paths to load data:\n",
    "    base_path = r\"..\\\\data\\\\\"\n",
    "    base_path_zip = os.path.join(base_path, \"raw\")                       # path where zip-file is\n",
    "    base_path_raw = base_path_zip                                        # path where raw data is unziped to  (on local machine same as path where zip is)\n",
    "    base_path_processed = os.path.join(base_path, \"processed\", \"DL\")     # path where processed data is saved\n",
    "\n",
    "    # paths to save models:\n",
    "    model_path = r\"..\\\\Models\\\\local\\\\DL\"\n",
    "\n",
    "elif machine == 'colab':\n",
    "    # paths to load data:\n",
    "    base_path_drive     = '/content/drive/MyDrive/data'         # base path on DRIVE\n",
    "    base_path_colab     =  '/content/data'                      # base path on COLAB\n",
    "    base_path_zip       = os.path.join(base_path_drive, 'raw')  # path where zip-file is (on drive)\n",
    "    base_path_raw       = os.path.join(base_path_colab, 'raw')  # path where raw data is unziped to (on colab machine not on drive)\n",
    "    base_path_processed = os.path.join(base_path_colab, 'processed')  # path where processed data is saved (on colab machine not on drive)\n",
    "\n",
    "\n",
    "    # paths to save models:\n",
    "    model_path = '/content/drive/MyDrive/models/DL'"
   ]
  },
  {
   "cell_type": "markdown",
   "id": "e0e6f04e",
   "metadata": {
    "id": "e0e6f04e"
   },
   "source": [
    "## unzip"
   ]
  },
  {
   "cell_type": "code",
   "execution_count": 5,
   "id": "c0d1405e",
   "metadata": {
    "colab": {
     "base_uri": "https://localhost:8080/"
    },
    "executionInfo": {
     "elapsed": 12282,
     "status": "ok",
     "timestamp": 1748354818779,
     "user": {
      "displayName": "Yvonne Breitenbach",
      "userId": "04140135633344575113"
     },
     "user_tz": -120
    },
    "id": "c0d1405e",
    "outputId": "940bebe4-c2f6-446f-ebc8-f728b1df89e4"
   },
   "outputs": [
    {
     "name": "stdout",
     "output_type": "stream",
     "text": [
      "zip-archive covid19-radiography-database.zip unziped to folder: /content/data/raw/COVID-19_Radiography_Dataset.\n"
     ]
    }
   ],
   "source": [
    "archive_zip = 'covid19-radiography-database.zip'\n",
    "unzipped_folder = 'COVID-19_Radiography_Dataset'\n",
    "\n",
    "if machine == 'local':\n",
    "\n",
    "    # only unzip if target folder not already exists:\n",
    "    if not os.path.exists(os.path.join(base_path_raw,unzipped_folder)):\n",
    "        with zipfile.ZipFile(os.path.join(base_path_zip, archive_zip), 'r') as zip_ref:\n",
    "            for file_name in zip_ref.namelist():\n",
    "                zip_ref.extract(file_name, base_path_raw)  # Extract files into target folder\n",
    "            print(\"zip-archive {} unziped to folder: {}.\" .format(archive_zip, os.path.join(base_path_raw,unzipped_folder)))\n",
    "    else:\n",
    "        print('Nothing to unzip, folder already exist.')\n",
    "\n",
    "elif machine == 'colab':\n",
    "    # create directory\n",
    "    os.makedirs(base_path_raw, exist_ok=True)\n",
    "    os.makedirs(base_path_processed, exist_ok=True)\n",
    "\n",
    "    # only unzip if target folder not already exists:\n",
    "    if not os.path.exists(os.path.join(base_path_raw,unzipped_folder)):\n",
    "        with zipfile.ZipFile(os.path.join(base_path_zip, archive_zip), 'r') as zip_ref:\n",
    "            for file_name in zip_ref.namelist():\n",
    "                zip_ref.extract(file_name, base_path_raw)  # Extract files into target folder\n",
    "            print(\"zip-archive {} unziped to folder: {}.\" .format(archive_zip, os.path.join(base_path_raw,unzipped_folder)))\n",
    "    else:\n",
    "        print('Nothing to unzip, folder already exist.')\n"
   ]
  },
  {
   "cell_type": "markdown",
   "id": "4ab3cecd",
   "metadata": {
    "id": "4ab3cecd"
   },
   "source": [
    "## Train - test split"
   ]
  },
  {
   "cell_type": "code",
   "execution_count": 6,
   "id": "fdc422f4",
   "metadata": {
    "colab": {
     "base_uri": "https://localhost:8080/"
    },
    "executionInfo": {
     "elapsed": 4960,
     "status": "ok",
     "timestamp": 1748354827860,
     "user": {
      "displayName": "Yvonne Breitenbach",
      "userId": "04140135633344575113"
     },
     "user_tz": -120
    },
    "id": "fdc422f4",
    "outputId": "9abf4308-7977-4cb7-879c-1a2323e78a1f"
   },
   "outputs": [
    {
     "name": "stdout",
     "output_type": "stream",
     "text": [
      "Processing class: Normal\n",
      "  Copied 8663 images (and masks if available) to /content/data/processed/train_data/Normal/images\n",
      "  Copied 1529 images (and masks if available) to /content/data/processed/test_data/Normal/images\n",
      "Processing class: COVID\n",
      "  Copied 3073 images (and masks if available) to /content/data/processed/train_data/COVID/images\n",
      "  Copied 543 images (and masks if available) to /content/data/processed/test_data/COVID/images\n",
      "Processing class: Lung_Opacity\n",
      "  Copied 5110 images (and masks if available) to /content/data/processed/train_data/Lung_Opacity/images\n",
      "  Copied 902 images (and masks if available) to /content/data/processed/test_data/Lung_Opacity/images\n",
      "Processing class: Viral Pneumonia\n",
      "  Copied 1143 images (and masks if available) to /content/data/processed/train_data/Viral Pneumonia/images\n",
      "  Copied 202 images (and masks if available) to /content/data/processed/test_data/Viral Pneumonia/images\n"
     ]
    }
   ],
   "source": [
    "random.seed(rand_num)\n",
    "\n",
    "# Set paths for source (downloaded data) and destination (processed train/test)\n",
    "source_dir = os.path.join(base_path_raw, unzipped_folder)\n",
    "dest_dir = base_path_processed\n",
    "\n",
    "train_dir = os.path.join(dest_dir, \"train_data\")\n",
    "test_dir = os.path.join(dest_dir, \"test_data\")\n",
    "\n",
    "split_ratio = 0.85\n",
    "\n",
    "for cls in classes:\n",
    "    print(f\"Processing class: {cls}\")\n",
    "\n",
    "    # Paths to images and masks in raw data\n",
    "    images_path = os.path.join(source_dir, cls, \"images\")\n",
    "    masks_path = os.path.join(source_dir, cls, \"masks\")\n",
    "\n",
    "    # List image files only\n",
    "    all_images = [img for img in os.listdir(images_path) if img.lower().endswith(('.png', '.jpg', '.jpeg'))]\n",
    "    random.shuffle(all_images)\n",
    "\n",
    "    split_index = int(len(all_images) * split_ratio)\n",
    "    train_imgs = all_images[:split_index]\n",
    "    test_imgs = all_images[split_index:]\n",
    "\n",
    "    # Create destination directories\n",
    "    train_img_dir = os.path.join(train_dir, cls, \"images\")\n",
    "    train_mask_dir = os.path.join(train_dir, cls, \"masks\")\n",
    "    test_img_dir = os.path.join(test_dir, cls, \"images\")\n",
    "    test_mask_dir = os.path.join(test_dir, cls, \"masks\")\n",
    "\n",
    "    os.makedirs(train_img_dir, exist_ok=True)\n",
    "    os.makedirs(train_img_dir, exist_ok=True)\n",
    "    os.makedirs(train_mask_dir, exist_ok=True)\n",
    "    os.makedirs(test_img_dir, exist_ok=True)\n",
    "    os.makedirs(test_mask_dir, exist_ok=True)\n",
    "\n",
    "    # Copy images and corresponding masks\n",
    "    for img in train_imgs:\n",
    "        shutil.copy(os.path.join(images_path, img), os.path.join(train_img_dir, img))\n",
    "        mask_file = os.path.join(masks_path, img)\n",
    "        if os.path.exists(mask_file):\n",
    "            shutil.copy(os.path.join(mask_file), os.path.join(train_mask_dir, img))\n",
    "\n",
    "    for img in test_imgs:\n",
    "        shutil.copy(os.path.join(images_path, img), os.path.join(test_img_dir, img))\n",
    "        mask_file = os.path.join(masks_path, img)\n",
    "        if os.path.exists(mask_file):\n",
    "            shutil.copy(mask_file, os.path.join(test_mask_dir, img))\n",
    "\n",
    "    print(f\"  Copied {len(train_imgs)} images (and masks if available) to {train_img_dir}\")\n",
    "    print(f\"  Copied {len(test_imgs)} images (and masks if available) to {test_img_dir}\")\n"
   ]
  },
  {
   "cell_type": "markdown",
   "id": "4323bd79",
   "metadata": {
    "id": "4323bd79"
   },
   "source": [
    "## resplit the train set into train (80%) and validation (20%) set"
   ]
  },
  {
   "cell_type": "code",
   "execution_count": 7,
   "id": "d250d942",
   "metadata": {
    "executionInfo": {
     "elapsed": 84,
     "status": "ok",
     "timestamp": 1748354831990,
     "user": {
      "displayName": "Yvonne Breitenbach",
      "userId": "04140135633344575113"
     },
     "user_tz": -120
    },
    "id": "d250d942"
   },
   "outputs": [],
   "source": [
    "data_dir = train_dir\n",
    "\n",
    "all_img_paths = []\n",
    "all_class_indices = []\n",
    "\n",
    "for class_name in classes:\n",
    "    class_dir = os.path.join(data_dir, class_name, \"images\")\n",
    "    img_files = glob.glob(f\"{class_dir}/*.png\")\n",
    "    for img_file in img_files:\n",
    "        all_img_paths.append(str(img_file))\n",
    "        all_class_indices.append(class_to_index[class_name])\n",
    "\n",
    "# Train/val split\n",
    "train_imgs, val_imgs, train_labels, val_labels = train_test_split(\n",
    "    all_img_paths, all_class_indices, test_size=0.2, stratify=all_class_indices, random_state=rand_num\n",
    ")"
   ]
  },
  {
   "cell_type": "code",
   "execution_count": 8,
   "id": "u_u-HUZs-FhZ",
   "metadata": {
    "executionInfo": {
     "elapsed": 29,
     "status": "ok",
     "timestamp": 1748354835323,
     "user": {
      "displayName": "Yvonne Breitenbach",
      "userId": "04140135633344575113"
     },
     "user_tz": -120
    },
    "id": "u_u-HUZs-FhZ"
   },
   "outputs": [],
   "source": [
    "# create list with test-data images which contains path and filename (same structure as train and validation)\n",
    "\n",
    "test_imgs_with_path = []\n",
    "\n",
    "for class_name in classes:\n",
    "    class_dir = os.path.join(test_dir, class_name, \"images\")\n",
    "    img_files = glob.glob(f\"{class_dir}/*.png\")\n",
    "    for img_file in img_files:\n",
    "        test_imgs_with_path.append(str(img_file))\n",
    "\n",
    "test_imgs = test_imgs_with_path"
   ]
  },
  {
   "cell_type": "markdown",
   "id": "3530e5e5",
   "metadata": {
    "id": "3530e5e5"
   },
   "source": [
    "## optional apply masks"
   ]
  },
  {
   "cell_type": "code",
   "execution_count": 14,
   "id": "W2yBCmJr4NMM",
   "metadata": {
    "colab": {
     "base_uri": "https://localhost:8080/"
    },
    "executionInfo": {
     "elapsed": 48,
     "status": "ok",
     "timestamp": 1748355229418,
     "user": {
      "displayName": "Yvonne Breitenbach",
      "userId": "04140135633344575113"
     },
     "user_tz": -120
    },
    "id": "W2yBCmJr4NMM",
    "outputId": "e217866c-6142-4bf6-91b5-b825000d06b6"
   },
   "outputs": [
    {
     "name": "stdout",
     "output_type": "stream",
     "text": [
      "First elements of train_imgs:\n",
      "['/content/data/processed/train_data_with_masks/Lung_Opacity/images/Lung_Opacity-4354.png', '/content/data/processed/train_data_with_masks/Normal/images/Normal-5606.png']\n",
      "First elements of val_imgs:\n",
      "['/content/data/processed/train_data_with_masks/Normal/images/Normal-834.png', '/content/data/processed/train_data_with_masks/Normal/images/Normal-4155.png']\n",
      "First elements of test_imgs:\n",
      "['/content/data/processed/test_data/Normal/images/Normal-6679.png', '/content/data/processed/test_data/Normal/images/Normal-1345.png']\n"
     ]
    }
   ],
   "source": [
    "print(\"First elements of train_imgs:\")\n",
    "print(train_imgs[:2])\n",
    "print(\"First elements of val_imgs:\")\n",
    "print(val_imgs[:2])\n",
    "print(\"First elements of test_imgs:\")\n",
    "print(test_imgs[:2])"
   ]
  },
  {
   "cell_type": "code",
   "execution_count": null,
   "id": "46d1517c",
   "metadata": {
    "colab": {
     "base_uri": "https://localhost:8080/"
    },
    "executionInfo": {
     "elapsed": 10188,
     "status": "ok",
     "timestamp": 1748355480209,
     "user": {
      "displayName": "Yvonne Breitenbach",
      "userId": "04140135633344575113"
     },
     "user_tz": -120
    },
    "id": "46d1517c",
    "outputId": "6a9eba44-1f9c-4855-c2d7-44d3c835222b"
   },
   "outputs": [
    {
     "name": "stdout",
     "output_type": "stream",
     "text": [
      "Test-dataset: Masks have been applied to the X-ray images.\n"
     ]
    }
   ],
   "source": [
    "def apply_mask(list_images, list_labels):\n",
    "    \"\"\"\n",
    "    apply_mask applies the corresponding masks to the images for a given dataset\n",
    "\n",
    "    :list_images: list of images of a data set, e.g. the train dataset\n",
    "    :list_labels: list of labels of a data set, e.g. the train dataset\n",
    "\n",
    "    :return: set_imgs_with_masks, set_label_with_masks (two lists of the images with masks and the corresponding labels)\n",
    "    \"\"\"\n",
    "    set_imgs_with_masks = []      # create empty list for the images to which the mask has been applied\n",
    "    set_label_with_masks = []     # create empty list for labels of images to which the mask has been applied\n",
    "\n",
    "    # loop through all images of the given dataset:\n",
    "    for label, set_item in zip(list_labels, list_images):\n",
    "        image_dir      = os.path.split(set_item)[0]            # get dir of image\n",
    "        filename = os.path.split(set_item)[1]                  # get filename of iamge\n",
    "        mask_dir       = image_dir.replace('images', 'masks')  # create string with dir where masks are located\n",
    "\n",
    "        # create path to image and corresponding mask:\n",
    "        image_path = os.path.join(image_dir, filename)\n",
    "        mask_path = os.path.join(mask_dir, filename)\n",
    "\n",
    "        # Load image and mask\n",
    "        img = cv2.imread(image_path, cv2.IMREAD_GRAYSCALE)\n",
    "        mask = cv2.imread(mask_path, cv2.IMREAD_GRAYSCALE)\n",
    "\n",
    "        if img is None or mask is None:\n",
    "            print(f\"Skipping {filename}: missing image or mask\")\n",
    "            continue\n",
    "\n",
    "        # iamges with applied masks should be saved to another dir \"..\\train_data_with_masks\\..\"\n",
    "        # Therefore the string in the original list e.g. train_imgs is changed.\n",
    "        # The new dir is created if it does not exist already.\n",
    "        set_imgs_with_masks_dir = image_dir.replace('train_data', 'train_data_with_masks')    # this is ok for validation AND train, as there is no extra folder for the validation data. The train data is resplit but only in memory, not written to disk\n",
    "        os.makedirs(set_imgs_with_masks_dir, exist_ok=True)\n",
    "\n",
    "        # Resize mask to match image size\n",
    "        mask_resized = cv2.resize(mask, (IMG_HEIGHT, IMG_WIDTH))\n",
    "\n",
    "        # Ensure binary mask (0, 255)\n",
    "        _, mask_binary = cv2.threshold(mask_resized, 127, 255, cv2.THRESH_BINARY)\n",
    "\n",
    "        # Keep iamge pixels inside lung mask, zero elsewhere\n",
    "        processed_img = cv2.bitwise_and(img, img, mask=mask_binary)\n",
    "\n",
    "        # save image with applied mask:\n",
    "        save_path = os.path.join(set_imgs_with_masks_dir, filename)\n",
    "        cv2.imwrite(save_path, processed_img)\n",
    "\n",
    "        # append path to new image with applied masks to list set_imgs_with_masks:\n",
    "        set_imgs_with_masks.append(save_path)\n",
    "        set_label_with_masks.append(label)\n",
    "\n",
    "    return set_imgs_with_masks, set_label_with_masks\n",
    "\n",
    "\n",
    "def apply_mask_test(list_images):\n",
    "    \"\"\"\n",
    "    apply_mask_test applies the corresponding masks to the images for a test dataset.\n",
    "    An extra function is needed, because the test-dataset does not have a\n",
    "    corresponding label list yet.\n",
    "\n",
    "    :list_images: list of images of a data set, e.g. the train dataset\n",
    "    :list_labels: list of labels of a data set, e.g. the train dataset\n",
    "\n",
    "    :return: set_imgs_with_masks, set_label_with_masks (two lists of the images with masks and the corresponding labels)\n",
    "    \"\"\"\n",
    "    set_imgs_with_masks = []      # create empty list for the images to which the mask has been applied\n",
    "\n",
    "    # loop through all images of the given dataset:\n",
    "    for set_item in list_images:\n",
    "        image_dir      = os.path.split(set_item)[0]            # get dir of image\n",
    "        filename = os.path.split(set_item)[1]                  # get filename of iamge\n",
    "        mask_dir       = image_dir.replace('images', 'masks')  # create string with dir where masks are located\n",
    "\n",
    "        # create path to image and corresponding mask:\n",
    "        image_path = os.path.join(image_dir, filename)\n",
    "        mask_path = os.path.join(mask_dir, filename)\n",
    "\n",
    "        # Load image and mask\n",
    "        img = cv2.imread(image_path, cv2.IMREAD_GRAYSCALE)\n",
    "        mask = cv2.imread(mask_path, cv2.IMREAD_GRAYSCALE)\n",
    "\n",
    "        if img is None or mask is None:\n",
    "            print(f\"Skipping {filename}: missing image or mask\")\n",
    "            continue\n",
    "\n",
    "        # iamges with applied masks should be saved to another dir \"..\\train_data_with_masks\\..\"\n",
    "        # Therefore the string in the original list e.g. train_imgs is changed.\n",
    "        # The new dir is created if it does not exist already.\n",
    "        set_imgs_with_masks_dir = image_dir.replace('test_data', 'test_data_with_masks')\n",
    "        os.makedirs(set_imgs_with_masks_dir, exist_ok=True)\n",
    "\n",
    "        # Resize mask to match image size\n",
    "        mask_resized = cv2.resize(mask, (IMG_HEIGHT, IMG_WIDTH))\n",
    "\n",
    "        # Ensure binary mask (0, 255)\n",
    "        _, mask_binary = cv2.threshold(mask_resized, 127, 255, cv2.THRESH_BINARY)\n",
    "\n",
    "        # Keep iamge pixels inside lung mask, zero elsewhere\n",
    "        processed_img = cv2.bitwise_and(img, img, mask=mask_binary)\n",
    "\n",
    "        # save image with applied mask:\n",
    "        save_path = os.path.join(set_imgs_with_masks_dir, filename)\n",
    "        cv2.imwrite(save_path, processed_img)\n",
    "\n",
    "        # append path to new image with applied masks to list set_imgs_with_masks:\n",
    "        set_imgs_with_masks.append(save_path)\n",
    "\n",
    "    return set_imgs_with_masks\n",
    "\n",
    "optionally apply masks to X-ray images if corresponding flag is activated:\n",
    "if flag_masks_train == True:\n",
    "    train_imgs, train_labels = apply_mask(train_imgs, train_labels)\n",
    "    print(\"Train-dataset: Masks have been applied to the X-ray images.\")\n",
    "\n",
    "if flag_masks_validation == True:\n",
    "    val_imgs, val_labels = apply_mask(val_imgs, val_labels)\n",
    "    print(\"Validation-dataset: Masks have been applied to the X-ray images.\")\n",
    "\n",
    "if flag_masks_test == True:\n",
    "    test_imgs = apply_mask_test(test_imgs)\n",
    "    test_dir = test_dir.replace('test_data', 'test_data_with_masks')   # change directory where the test-images will be taken from\n",
    "    print(\"Test-dataset: Masks have been applied to the X-ray images.\")\n",
    "\n"
   ]
  },
  {
   "cell_type": "code",
   "execution_count": 20,
   "id": "CVF9kXQQ12Pn",
   "metadata": {
    "colab": {
     "base_uri": "https://localhost:8080/"
    },
    "executionInfo": {
     "elapsed": 10,
     "status": "ok",
     "timestamp": 1748355556846,
     "user": {
      "displayName": "Yvonne Breitenbach",
      "userId": "04140135633344575113"
     },
     "user_tz": -120
    },
    "id": "CVF9kXQQ12Pn",
    "outputId": "2f124e0f-a6c2-4541-8710-2fe16234e1d6"
   },
   "outputs": [
    {
     "name": "stdout",
     "output_type": "stream",
     "text": [
      "True True True\n",
      "First elements of train_imgs:\n",
      "['/content/data/processed/train_data_with_masks/Lung_Opacity/images/Lung_Opacity-4354.png', '/content/data/processed/train_data_with_masks/Normal/images/Normal-5606.png']\n",
      "First elements of val_imgs:\n",
      "['/content/data/processed/train_data_with_masks/Normal/images/Normal-834.png', '/content/data/processed/train_data_with_masks/Normal/images/Normal-4155.png']\n",
      "First elements of test_imgs:\n",
      "['/content/data/processed/test_data_with_masks/Normal/images/Normal-6679.png', '/content/data/processed/test_data_with_masks/Normal/images/Normal-1345.png']\n"
     ]
    }
   ],
   "source": [
    "print(flag_masks_train, flag_masks_validation, flag_masks_test)\n",
    "\n",
    "print(\"First elements of train_imgs:\")\n",
    "print(train_imgs[:2])\n",
    "print(\"First elements of val_imgs:\")\n",
    "print(val_imgs[:2])\n",
    "print(\"First elements of test_imgs:\")\n",
    "print(test_imgs[:2])"
   ]
  },
  {
   "cell_type": "markdown",
   "id": "2bc9068c",
   "metadata": {
    "id": "2bc9068c"
   },
   "source": [
    "## data augmentation for the train set - to fix the class imbalance"
   ]
  },
  {
   "cell_type": "code",
   "execution_count": 21,
   "id": "50f6528a",
   "metadata": {
    "colab": {
     "base_uri": "https://localhost:8080/"
    },
    "executionInfo": {
     "elapsed": 14,
     "status": "ok",
     "timestamp": 1748355564465,
     "user": {
      "displayName": "Yvonne Breitenbach",
      "userId": "04140135633344575113"
     },
     "user_tz": -120
    },
    "id": "50f6528a",
    "outputId": "944ccd27-0a52-4635-c5bd-b5ddb2e908c7"
   },
   "outputs": [
    {
     "name": "stderr",
     "output_type": "stream",
     "text": [
      "/usr/local/lib/python3.11/dist-packages/albumentations/core/validation.py:111: UserWarning: ShiftScaleRotate is a special case of Affine transform. Please use Affine transform instead.\n",
      "  original_init(self, **validated_kwargs)\n"
     ]
    }
   ],
   "source": [
    "# Define augmentation pipeline\n",
    "\n",
    "# define probabilities of applying the different augmentation methods\n",
    "prob_rotate = 0.5    # probaility of using rotation\n",
    "prob_shift = 0.5     # probaility of using shifting\n",
    "prob_pipeline = 1.0  # The entire pipeline has a 100% chance to be applied. We want every image to be changed\n",
    "\n",
    "\n",
    "# Define the augmentation pipeline\n",
    "augmentation_pipeline_CI = A.Compose([\n",
    "    A.OneOf([\n",
    "        A.Rotate(limit=15, p=prob_rotate),                                                 # Rotate with a limit of ±15 degrees\n",
    "        A.ShiftScaleRotate(shift_limit=0.1, scale_limit=0, rotate_limit=0, p=prob_shift)  # Translation (shifting)\n",
    "    ], p=prob_pipeline)\n",
    "\n",
    "], p=1.0,                    # probability of the entire pipeline to be applied\n",
    "seed = rand_num,                  # added seed for reproducibility\n",
    "save_applied_params=True)    # save applied transformation parameters"
   ]
  },
  {
   "cell_type": "code",
   "execution_count": 22,
   "id": "2b5224cc",
   "metadata": {
    "executionInfo": {
     "elapsed": 18,
     "status": "ok",
     "timestamp": 1748355567046,
     "user": {
      "displayName": "Yvonne Breitenbach",
      "userId": "04140135633344575113"
     },
     "user_tz": -120
    },
    "id": "2b5224cc"
   },
   "outputs": [],
   "source": [
    "# assume that the normal class (label = 0) is the majority class and only the other classes have to be augmented:\n",
    "# class_aug = [1,2,3]\n",
    "class_aug = [0,1,2,3]\n",
    "\n",
    "# determine number of images for normal class (label = 0) in train data set:\n",
    "counts = pd.Series(train_labels).value_counts()\n",
    "# max_num = counts[0]\n",
    "max_num = 2*counts[0]\n",
    "\n",
    "iteration_per_class = {}\n",
    "\n",
    "for class_label in [0,1,2,3]:\n",
    "    class_num = counts[class_label]\n",
    "\n",
    "    div_res = round(max_num/class_num,0)    # calculate how many augmentation iteration we need\n",
    "    iteration = div_res - 1                 # it needs one iteration less, because we add the unaugmented data\n",
    "\n",
    "    iteration_per_class.update({class_label: iteration})"
   ]
  },
  {
   "cell_type": "code",
   "execution_count": 23,
   "id": "_hyemindm3YW",
   "metadata": {
    "colab": {
     "base_uri": "https://localhost:8080/"
    },
    "executionInfo": {
     "elapsed": 27,
     "status": "ok",
     "timestamp": 1748355568655,
     "user": {
      "displayName": "Yvonne Breitenbach",
      "userId": "04140135633344575113"
     },
     "user_tz": -120
    },
    "id": "_hyemindm3YW",
    "outputId": "5234cc23-c507-4ecf-d27e-e3831368b6bf"
   },
   "outputs": [
    {
     "data": {
      "text/plain": [
       "{0: np.float64(1.0),\n",
       " 1: np.float64(5.0),\n",
       " 2: np.float64(2.0),\n",
       " 3: np.float64(14.0)}"
      ]
     },
     "execution_count": 23,
     "metadata": {},
     "output_type": "execute_result"
    }
   ],
   "source": [
    "iteration_per_class"
   ]
  },
  {
   "cell_type": "code",
   "execution_count": 24,
   "id": "cc9f1d95",
   "metadata": {
    "executionInfo": {
     "elapsed": 77984,
     "status": "ok",
     "timestamp": 1748355647394,
     "user": {
      "displayName": "Yvonne Breitenbach",
      "userId": "04140135633344575113"
     },
     "user_tz": -120
    },
    "id": "cc9f1d95"
   },
   "outputs": [],
   "source": [
    "train_imgs_aug = []\n",
    "train_labels_aug = []\n",
    "\n",
    "# loop through items of list with training images and corresponding labels\n",
    "for label, img_path in zip(train_labels, train_imgs):\n",
    "    # only do augmentation if class is not 'Normal'\n",
    "    if label in class_aug:\n",
    "\n",
    "        # define output path for augmented image\n",
    "        augmented_dir = os.path.split(img_path)[0]\n",
    "\n",
    "\n",
    "        # how many iterations of augmentation do we need?\n",
    "        num_iter = iteration_per_class[label]\n",
    "\n",
    "\n",
    "        iter = 1\n",
    "        # for each file in the data frame to as many augmentation, as needed for this class\n",
    "\n",
    "        img = cv2.imread(img_path, cv2.IMREAD_GRAYSCALE)\n",
    "        if img is not None:\n",
    "            while iter <= num_iter:\n",
    "\n",
    "                augmented = augmentation_pipeline_CI(image=img)\n",
    "                augmented_img = augmented['image']\n",
    "\n",
    "                # save used transformation to dict\n",
    "                #used_transformation.update({img_name:augmented['applied_transforms']})\n",
    "\n",
    "                # define name for augmented image\n",
    "                split_name, split_ending = os.path.split(img_path)[1].split('.')\n",
    "                img_name_aug = split_name + \"_ag\" + str(iter) + \".\" + split_ending\n",
    "\n",
    "                # save augmented image\n",
    "                save_path = os.path.join(augmented_dir, img_name_aug)\n",
    "                cv2.imwrite(save_path, augmented_img)\n",
    "\n",
    "                # append path to new augmented image to list train_imgs_aug:\n",
    "                train_imgs_aug.append(save_path)\n",
    "                train_labels_aug.append(label)\n",
    "\n",
    "                iter +=1\n",
    "\n",
    "# append augmented img and labels to lists for train data:\n",
    "train_imgs.extend(train_imgs_aug)\n",
    "train_labels.extend(train_labels_aug)"
   ]
  },
  {
   "cell_type": "code",
   "execution_count": 16,
   "id": "jvwiCG26ZaIM",
   "metadata": {
    "colab": {
     "base_uri": "https://localhost:8080/"
    },
    "executionInfo": {
     "elapsed": 4,
     "status": "ok",
     "timestamp": 1748347905298,
     "user": {
      "displayName": "Yvonne Breitenbach",
      "userId": "04140135633344575113"
     },
     "user_tz": -120
    },
    "id": "jvwiCG26ZaIM",
    "outputId": "95ca7d71-c32d-4919-b1a8-3b96735a0595"
   },
   "outputs": [
    {
     "name": "stdout",
     "output_type": "stream",
     "text": [
      "number of images per class after augmentation:\n",
      "1    14748\n",
      "0    13860\n",
      "3    13725\n",
      "2    12264\n",
      "Name: count, dtype: int64\n"
     ]
    }
   ],
   "source": [
    "# check number of images per class\n",
    "counts = pd.Series(train_labels).value_counts()\n",
    "print('number of images per class after augmentation:')\n",
    "print(counts)"
   ]
  },
  {
   "cell_type": "markdown",
   "id": "b3ae7f05",
   "metadata": {
    "id": "b3ae7f05"
   },
   "source": [
    "## create tensors: train (with augmentation), validation"
   ]
  },
  {
   "cell_type": "code",
   "execution_count": 25,
   "id": "2100e049",
   "metadata": {
    "colab": {
     "base_uri": "https://localhost:8080/",
     "height": 339
    },
    "executionInfo": {
     "elapsed": 13905,
     "status": "error",
     "timestamp": 1748355831686,
     "user": {
      "displayName": "Yvonne Breitenbach",
      "userId": "04140135633344575113"
     },
     "user_tz": -120
    },
    "id": "2100e049",
    "outputId": "0adc8352-3f16-4c93-d467-bf387f6e6e21"
   },
   "outputs": [
    {
     "ename": "KeyboardInterrupt",
     "evalue": "",
     "output_type": "error",
     "traceback": [
      "\u001b[0;31m---------------------------------------------------------------------------\u001b[0m",
      "\u001b[0;31mKeyboardInterrupt\u001b[0m                         Traceback (most recent call last)",
      "\u001b[0;32m<ipython-input-25-9822be3b69c7>\u001b[0m in \u001b[0;36m<cell line: 0>\u001b[0;34m()\u001b[0m\n\u001b[1;32m     42\u001b[0m \u001b[0mval_ds\u001b[0m \u001b[0;34m=\u001b[0m \u001b[0mcreate_classification_dataset\u001b[0m\u001b[0;34m(\u001b[0m\u001b[0mval_imgs\u001b[0m\u001b[0;34m,\u001b[0m \u001b[0mval_labels\u001b[0m\u001b[0;34m,\u001b[0m \u001b[0mbatch_size\u001b[0m\u001b[0;34m=\u001b[0m\u001b[0mBATCH_SIZE\u001b[0m\u001b[0;34m,\u001b[0m \u001b[0maugment\u001b[0m\u001b[0;34m=\u001b[0m\u001b[0;32mFalse\u001b[0m\u001b[0;34m)\u001b[0m\u001b[0;34m\u001b[0m\u001b[0;34m\u001b[0m\u001b[0m\n\u001b[1;32m     43\u001b[0m \u001b[0;34m\u001b[0m\u001b[0m\n\u001b[0;32m---> 44\u001b[0;31m \u001b[0mprint\u001b[0m\u001b[0;34m(\u001b[0m\u001b[0;34mf\"Train batches: {len(list(train_ds))}\"\u001b[0m\u001b[0;34m)\u001b[0m\u001b[0;34m\u001b[0m\u001b[0;34m\u001b[0m\u001b[0m\n\u001b[0m\u001b[1;32m     45\u001b[0m \u001b[0mprint\u001b[0m\u001b[0;34m(\u001b[0m\u001b[0;34mf\"Validation batches: {len(list(val_ds))}\"\u001b[0m\u001b[0;34m)\u001b[0m\u001b[0;34m\u001b[0m\u001b[0;34m\u001b[0m\u001b[0m\n",
      "\u001b[0;32m/usr/local/lib/python3.11/dist-packages/tensorflow/python/data/ops/iterator_ops.py\u001b[0m in \u001b[0;36m__next__\u001b[0;34m(self)\u001b[0m\n\u001b[1;32m    824\u001b[0m   \u001b[0;32mdef\u001b[0m \u001b[0m__next__\u001b[0m\u001b[0;34m(\u001b[0m\u001b[0mself\u001b[0m\u001b[0;34m)\u001b[0m\u001b[0;34m:\u001b[0m\u001b[0;34m\u001b[0m\u001b[0;34m\u001b[0m\u001b[0m\n\u001b[1;32m    825\u001b[0m     \u001b[0;32mtry\u001b[0m\u001b[0;34m:\u001b[0m\u001b[0;34m\u001b[0m\u001b[0;34m\u001b[0m\u001b[0m\n\u001b[0;32m--> 826\u001b[0;31m       \u001b[0;32mreturn\u001b[0m \u001b[0mself\u001b[0m\u001b[0;34m.\u001b[0m\u001b[0m_next_internal\u001b[0m\u001b[0;34m(\u001b[0m\u001b[0;34m)\u001b[0m\u001b[0;34m\u001b[0m\u001b[0;34m\u001b[0m\u001b[0m\n\u001b[0m\u001b[1;32m    827\u001b[0m     \u001b[0;32mexcept\u001b[0m \u001b[0merrors\u001b[0m\u001b[0;34m.\u001b[0m\u001b[0mOutOfRangeError\u001b[0m\u001b[0;34m:\u001b[0m\u001b[0;34m\u001b[0m\u001b[0;34m\u001b[0m\u001b[0m\n\u001b[1;32m    828\u001b[0m       \u001b[0;32mraise\u001b[0m \u001b[0mStopIteration\u001b[0m\u001b[0;34m\u001b[0m\u001b[0;34m\u001b[0m\u001b[0m\n",
      "\u001b[0;32m/usr/local/lib/python3.11/dist-packages/tensorflow/python/data/ops/iterator_ops.py\u001b[0m in \u001b[0;36m_next_internal\u001b[0;34m(self)\u001b[0m\n\u001b[1;32m    774\u001b[0m     \u001b[0;31m# to communicate that there is no more data to iterate over.\u001b[0m\u001b[0;34m\u001b[0m\u001b[0;34m\u001b[0m\u001b[0m\n\u001b[1;32m    775\u001b[0m     \u001b[0;32mwith\u001b[0m \u001b[0mcontext\u001b[0m\u001b[0;34m.\u001b[0m\u001b[0mexecution_mode\u001b[0m\u001b[0;34m(\u001b[0m\u001b[0mcontext\u001b[0m\u001b[0;34m.\u001b[0m\u001b[0mSYNC\u001b[0m\u001b[0;34m)\u001b[0m\u001b[0;34m:\u001b[0m\u001b[0;34m\u001b[0m\u001b[0;34m\u001b[0m\u001b[0m\n\u001b[0;32m--> 776\u001b[0;31m       ret = gen_dataset_ops.iterator_get_next(\n\u001b[0m\u001b[1;32m    777\u001b[0m           \u001b[0mself\u001b[0m\u001b[0;34m.\u001b[0m\u001b[0m_iterator_resource\u001b[0m\u001b[0;34m,\u001b[0m\u001b[0;34m\u001b[0m\u001b[0;34m\u001b[0m\u001b[0m\n\u001b[1;32m    778\u001b[0m           \u001b[0moutput_types\u001b[0m\u001b[0;34m=\u001b[0m\u001b[0mself\u001b[0m\u001b[0;34m.\u001b[0m\u001b[0m_flat_output_types\u001b[0m\u001b[0;34m,\u001b[0m\u001b[0;34m\u001b[0m\u001b[0;34m\u001b[0m\u001b[0m\n",
      "\u001b[0;32m/usr/local/lib/python3.11/dist-packages/tensorflow/python/ops/gen_dataset_ops.py\u001b[0m in \u001b[0;36miterator_get_next\u001b[0;34m(iterator, output_types, output_shapes, name)\u001b[0m\n\u001b[1;32m   3079\u001b[0m   \u001b[0;32mif\u001b[0m \u001b[0mtld\u001b[0m\u001b[0;34m.\u001b[0m\u001b[0mis_eager\u001b[0m\u001b[0;34m:\u001b[0m\u001b[0;34m\u001b[0m\u001b[0;34m\u001b[0m\u001b[0m\n\u001b[1;32m   3080\u001b[0m     \u001b[0;32mtry\u001b[0m\u001b[0;34m:\u001b[0m\u001b[0;34m\u001b[0m\u001b[0;34m\u001b[0m\u001b[0m\n\u001b[0;32m-> 3081\u001b[0;31m       _result = pywrap_tfe.TFE_Py_FastPathExecute(\n\u001b[0m\u001b[1;32m   3082\u001b[0m         \u001b[0m_ctx\u001b[0m\u001b[0;34m,\u001b[0m \u001b[0;34m\"IteratorGetNext\"\u001b[0m\u001b[0;34m,\u001b[0m \u001b[0mname\u001b[0m\u001b[0;34m,\u001b[0m \u001b[0miterator\u001b[0m\u001b[0;34m,\u001b[0m \u001b[0;34m\"output_types\"\u001b[0m\u001b[0;34m,\u001b[0m \u001b[0moutput_types\u001b[0m\u001b[0;34m,\u001b[0m\u001b[0;34m\u001b[0m\u001b[0;34m\u001b[0m\u001b[0m\n\u001b[1;32m   3083\u001b[0m         \"output_shapes\", output_shapes)\n",
      "\u001b[0;31mKeyboardInterrupt\u001b[0m: "
     ]
    }
   ],
   "source": [
    "# Albumentations augmentation pipeline to randomly augment images from ALL classes\n",
    "augment = A.Compose([\n",
    "    A.HorizontalFlip(p=0.5),\n",
    "    A.Rotate(limit=15, p=0.5),\n",
    "    A.ShiftScaleRotate(shift_limit=0.05, scale_limit=0.05, rotate_limit=0, p=0.5),\n",
    "])\n",
    "\n",
    "# ----------- Data Generator -----------\n",
    "\n",
    "def load_classification_image(img_path, label, augment_data=False):\n",
    "    img = cv2.imread(str(img_path), cv2.IMREAD_GRAYSCALE)\n",
    "    img = cv2.resize(img, (IMG_WIDTH, IMG_HEIGHT))\n",
    "\n",
    "    if augment_data:\n",
    "        img = augment(image=img)['image']\n",
    "\n",
    "#    img = img.astype(np.float32) / 255.0\n",
    "    img = img.astype(np.float32)\n",
    "    img = np.stack([img]*3, axis=-1)  # convert grayscale to RGB\n",
    "    return img, label\n",
    "\n",
    "def classification_generator(img_paths, labels, augment_data=False):\n",
    "    for img_path, label in zip(img_paths, labels):\n",
    "        img, lbl = load_classification_image(img_path, label, augment_data=augment_data)\n",
    "        yield img, lbl\n",
    "\n",
    "def create_classification_dataset(img_paths, labels, batch_size, augment=False):\n",
    "    dataset = tf.data.Dataset.from_generator(\n",
    "        lambda: classification_generator(img_paths, labels, augment_data=augment),\n",
    "        output_signature=(\n",
    "            tf.TensorSpec(shape=(IMG_HEIGHT, IMG_WIDTH, 3), dtype=tf.float32),\n",
    "            tf.TensorSpec(shape=(), dtype=tf.int32)\n",
    "        )\n",
    "    )\n",
    "    if augment:\n",
    "        dataset = dataset.shuffle(buffer_size=100)\n",
    "    dataset = dataset.batch(batch_size)\n",
    "    dataset = dataset.prefetch(tf.data.AUTOTUNE)\n",
    "    return dataset\n",
    "\n",
    "train_ds = create_classification_dataset(train_imgs, train_labels, batch_size=BATCH_SIZE, augment=True)\n",
    "val_ds = create_classification_dataset(val_imgs, val_labels, batch_size=BATCH_SIZE, augment=False)\n",
    "\n",
    "print(f\"Train batches: {len(list(train_ds))}\")\n",
    "print(f\"Validation batches: {len(list(val_ds))}\")"
   ]
  },
  {
   "cell_type": "markdown",
   "id": "67cec1bc",
   "metadata": {
    "id": "67cec1bc"
   },
   "source": [
    "## create tensors: test"
   ]
  },
  {
   "cell_type": "code",
   "execution_count": 18,
   "id": "56e29f8d",
   "metadata": {
    "colab": {
     "base_uri": "https://localhost:8080/"
    },
    "executionInfo": {
     "elapsed": 12299,
     "status": "ok",
     "timestamp": 1748348058218,
     "user": {
      "displayName": "Yvonne Breitenbach",
      "userId": "04140135633344575113"
     },
     "user_tz": -120
    },
    "id": "56e29f8d",
    "outputId": "f8d27a1a-cd1b-4c1f-f144-5a7962d57cbe"
   },
   "outputs": [
    {
     "name": "stdout",
     "output_type": "stream",
     "text": [
      "X_test shape: (3176, 299, 299, 3)\n",
      "y_test shape: (3176,)\n"
     ]
    }
   ],
   "source": [
    "from tensorflow.keras.utils import load_img, img_to_array\n",
    "import numpy as np\n",
    "from pathlib import Path\n",
    "\n",
    "TEST_DATA_DIR = test_dir\n",
    "\n",
    "X_test_raw = []\n",
    "y_test_raw = []\n",
    "\n",
    "for cls_index, cls_name in enumerate(classes):\n",
    "    img_dir = os.path.join(TEST_DATA_DIR, cls_name, \"images\")\n",
    "    img_files = glob.glob(f\"{img_dir}/*.png\")\n",
    "\n",
    "    for img_file in img_files:\n",
    "        img = load_img(img_file, target_size=(IMG_HEIGHT, IMG_WIDTH), color_mode='grayscale')\n",
    "        # img_array = img_to_array(img).astype(np.float32) / 255.0\n",
    "        img_array = img_to_array(img).astype(np.float32)\n",
    "        img_array = np.repeat(img_array, repeats=3, axis=-1)  # Convert grayscale to RGB\n",
    "\n",
    "        X_test_raw.append(img_array)\n",
    "        y_test_raw.append(cls_index)  # Image-level class label\n",
    "\n",
    "# Convert to NumPy arrays\n",
    "X_test = np.array(X_test_raw, dtype=np.float32)\n",
    "y_test = np.array(y_test_raw, dtype=np.int32)\n",
    "\n",
    "print(\"X_test shape:\", X_test.shape)  # (N, img_height, img_width, 3)\n",
    "print(\"y_test shape:\", y_test.shape)  # (N,)\n",
    "\n",
    "\n",
    "test_ds = tf.data.Dataset.from_tensor_slices((X_test, y_test))\n",
    "test_ds = test_ds.batch(BATCH_SIZE).prefetch(tf.data.AUTOTUNE)\n"
   ]
  },
  {
   "cell_type": "code",
   "execution_count": 19,
   "id": "6642b3a5",
   "metadata": {
    "executionInfo": {
     "elapsed": 2,
     "status": "ok",
     "timestamp": 1748348058221,
     "user": {
      "displayName": "Yvonne Breitenbach",
      "userId": "04140135633344575113"
     },
     "user_tz": -120
    },
    "id": "6642b3a5"
   },
   "outputs": [],
   "source": [
    "# train_ds = train_dataset\n",
    "# test_ds = test_dataset\n",
    "# val_ds = val_dataset"
   ]
  },
  {
   "cell_type": "code",
   "execution_count": 20,
   "id": "39b43671",
   "metadata": {
    "executionInfo": {
     "elapsed": 50,
     "status": "ok",
     "timestamp": 1748348058272,
     "user": {
      "displayName": "Yvonne Breitenbach",
      "userId": "04140135633344575113"
     },
     "user_tz": -120
    },
    "id": "39b43671"
   },
   "outputs": [],
   "source": [
    "# apply preprocessing of model\n",
    "\n",
    "train_ds = train_ds.map(lambda x, y: (preprocess_input(x), y))\n",
    "val_ds = val_ds.map(lambda x, y: (preprocess_input(x), y))\n",
    "test_ds = test_ds.map(lambda x, y: (preprocess_input(x), y))"
   ]
  },
  {
   "cell_type": "markdown",
   "id": "46edf70b",
   "metadata": {
    "id": "46edf70b"
   },
   "source": [
    "## display some images"
   ]
  },
  {
   "cell_type": "code",
   "execution_count": 21,
   "id": "fd6f8b59",
   "metadata": {
    "colab": {
     "base_uri": "https://localhost:8080/",
     "height": 685
    },
    "executionInfo": {
     "elapsed": 1103,
     "status": "ok",
     "timestamp": 1748348059378,
     "user": {
      "displayName": "Yvonne Breitenbach",
      "userId": "04140135633344575113"
     },
     "user_tz": -120
    },
    "id": "fd6f8b59",
    "outputId": "563350df-a452-4a61-a57c-4553f116de98"
   },
   "outputs": [
    {
     "name": "stderr",
     "output_type": "stream",
     "text": [
      "WARNING:matplotlib.image:Clipping input data to the valid range for imshow with RGB data ([0..1] for floats or [0..255] for integers). Got range [-1.0..0.8352941].\n",
      "WARNING:matplotlib.image:Clipping input data to the valid range for imshow with RGB data ([0..1] for floats or [0..255] for integers). Got range [-1.0..0.62352943].\n",
      "WARNING:matplotlib.image:Clipping input data to the valid range for imshow with RGB data ([0..1] for floats or [0..255] for integers). Got range [-1.0..0.827451].\n",
      "WARNING:matplotlib.image:Clipping input data to the valid range for imshow with RGB data ([0..1] for floats or [0..255] for integers). Got range [-1.0..0.6156863].\n",
      "WARNING:matplotlib.image:Clipping input data to the valid range for imshow with RGB data ([0..1] for floats or [0..255] for integers). Got range [-1.0..0.7176471].\n",
      "WARNING:matplotlib.image:Clipping input data to the valid range for imshow with RGB data ([0..1] for floats or [0..255] for integers). Got range [-1.0..0.07450986].\n"
     ]
    },
    {
     "data": {
      "image/png": "[encoded data removed]",
      "text/plain": [
       "<Figure size 1000x700 with 6 Axes>"
      ]
     },
     "metadata": {},
     "output_type": "display_data"
    }
   ],
   "source": [
    "# Define the number of images to display\n",
    "number_of_images = 6\n",
    "\n",
    "# Create a figure for displaying\n",
    "plt.figure(figsize=(10,7))\n",
    "\n",
    "# Get a batch of images from train_ds\n",
    "for batch, labels in train_ds.take(1):\n",
    "    # Display the images from the batch\n",
    "    for i in range(number_of_images):\n",
    "        ax = plt.subplot(2, 3, i + 1)\n",
    "        plt.imshow(batch[i].numpy())  # Convert the image to integer for display\n",
    "        plt.axis(\"off\")\n",
    "        plt.title(f\"Label: {index_to_class[labels[i].numpy()]}\")\n",
    "\n",
    "# Show the images\n",
    "plt.show()"
   ]
  },
  {
   "cell_type": "markdown",
   "id": "09f2fe0f",
   "metadata": {
    "id": "09f2fe0f"
   },
   "source": [
    "# Modelling"
   ]
  },
  {
   "cell_type": "markdown",
   "id": "eb14de45",
   "metadata": {
    "id": "eb14de45"
   },
   "source": [
    "## define the model"
   ]
  },
  {
   "cell_type": "code",
   "execution_count": 22,
   "id": "1434885c",
   "metadata": {
    "colab": {
     "base_uri": "https://localhost:8080/"
    },
    "executionInfo": {
     "elapsed": 3262,
     "status": "ok",
     "timestamp": 1748348062642,
     "user": {
      "displayName": "Yvonne Breitenbach",
      "userId": "04140135633344575113"
     },
     "user_tz": -120
    },
    "id": "1434885c",
    "outputId": "860389bd-f181-4a6a-95bd-8f5126774e3b"
   },
   "outputs": [
    {
     "name": "stdout",
     "output_type": "stream",
     "text": [
      "Downloading data from https://storage.googleapis.com/tensorflow/keras-applications/inception_v3/inception_v3_weights_tf_dim_ordering_tf_kernels_notop.h5\n",
      "\u001b[1m87910968/87910968\u001b[0m \u001b[32m━━━━━━━━━━━━━━━━━━━━\u001b[0m\u001b[37m\u001b[0m \u001b[1m0s\u001b[0m 0us/step\n"
     ]
    }
   ],
   "source": [
    "# Load InceptionV3 base without top\n",
    "base_model = InceptionV3(weights='imagenet', include_top=False, input_shape=(IMG_HEIGHT, IMG_WIDTH, 3))\n",
    "#base_model.trainable = False  # Freeze InceptionV3 layers\n",
    "\n",
    "# # Unfreeze last 4 convolutional layers\n",
    "# for layer in base_model.layers[:-4]:\n",
    "#     layer.trainable = False\n",
    "# for layer in base_model.layers[-4:]:\n",
    "#     layer.trainable = True\n",
    "\n",
    "# we chose to train the top 2 inception blocks, i.e. we will freeze\n",
    "# the first 249 layers and unfreeze the rest:\n",
    "for layer in base_model.layers[:249]:\n",
    "   layer.trainable = False\n",
    "for layer in base_model.layers[249:]:\n",
    "   layer.trainable = True\n",
    "\n",
    "# Input\n",
    "inputs = Input(shape=(IMG_HEIGHT, IMG_WIDTH, 3))\n",
    "# x = preprocess_input(inputs)  # has alreaday been done to train, test and validation before during preprocessing\n",
    "#x = base_model(inputs, training=False)  # Pass input through InceptionV3\n",
    "x = base_model(inputs)  # Pass input through InceptionV3\n",
    "\n",
    "# # Classification head\n",
    "# x = GlobalAveragePooling2D()(x)\n",
    "# x = Dense(1024, activation='relu')(x)\n",
    "# x = Dropout(0.2)(x)\n",
    "# x = Dense(512, activation='relu')(x)\n",
    "# x = Dropout(0.2)(x)\n",
    "# outputs = Dense(5, activation='softmax')(x)  # 5 classes (adjust if needed)\n",
    "\n",
    "x = GlobalAveragePooling2D()(x)\n",
    "x = Dense(1024, activation='relu')(x)\n",
    "x = Dropout(rate=0.2)(x)\n",
    "x = Dense(512, activation='relu')(x)\n",
    "x = Dropout(rate=0.2)(x)\n",
    "x = Dense(256, activation=\"relu\")(x)  # Extra learning capacity\n",
    "x = Dense(128, activation=\"relu\")(x)  # Fine-tuning details\n",
    "outputs = Dense(4, activation='softmax')(x)\n",
    "\n",
    "model = Model(inputs=inputs, outputs=outputs)\n"
   ]
  },
  {
   "cell_type": "code",
   "execution_count": 23,
   "id": "8f6c178a",
   "metadata": {
    "executionInfo": {
     "elapsed": 13,
     "status": "ok",
     "timestamp": 1748348062658,
     "user": {
      "displayName": "Yvonne Breitenbach",
      "userId": "04140135633344575113"
     },
     "user_tz": -120
    },
    "id": "8f6c178a"
   },
   "outputs": [],
   "source": [
    "# for i, layer in enumerate(base_model.layers):\n",
    "#    print(i, layer.name)"
   ]
  },
  {
   "cell_type": "markdown",
   "id": "91e775d4",
   "metadata": {
    "id": "91e775d4"
   },
   "source": []
  },
  {
   "cell_type": "markdown",
   "id": "03e6c74c",
   "metadata": {
    "id": "03e6c74c"
   },
   "source": [
    "## Compile the model\n",
    "\n"
   ]
  },
  {
   "cell_type": "code",
   "execution_count": 24,
   "id": "0c177f91",
   "metadata": {
    "colab": {
     "base_uri": "https://localhost:8080/",
     "height": 465
    },
    "executionInfo": {
     "elapsed": 27,
     "status": "ok",
     "timestamp": 1748348062688,
     "user": {
      "displayName": "Yvonne Breitenbach",
      "userId": "04140135633344575113"
     },
     "user_tz": -120
    },
    "id": "0c177f91",
    "outputId": "a4da2a07-9583-42b2-bca1-43912191170e"
   },
   "outputs": [
    {
     "data": {
      "text/html": [
       "<pre style=\"white-space:pre;overflow-x:auto;line-height:normal;font-family:Menlo,'DejaVu Sans Mono',consolas,'Courier New',monospace\"><span style=\"font-weight: bold\">Model: \"functional_1\"</span>\n",
       "</pre>\n"
      ],
      "text/plain": [
       "\u001b[1mModel: \"functional_1\"\u001b[0m\n"
      ]
     },
     "metadata": {},
     "output_type": "display_data"
    },
    {
     "data": {
      "text/html": [
       "<pre style=\"white-space:pre;overflow-x:auto;line-height:normal;font-family:Menlo,'DejaVu Sans Mono',consolas,'Courier New',monospace\">┏━━━━━━━━━━━━━━━━━━━━━━━━━━━━━━━━━┳━━━━━━━━━━━━━━━━━━━━━━━━┳━━━━━━━━━━━━━━━┓\n",
       "┃<span style=\"font-weight: bold\"> Layer (type)                    </span>┃<span style=\"font-weight: bold\"> Output Shape           </span>┃<span style=\"font-weight: bold\">       Param # </span>┃\n",
       "┡━━━━━━━━━━━━━━━━━━━━━━━━━━━━━━━━━╇━━━━━━━━━━━━━━━━━━━━━━━━╇━━━━━━━━━━━━━━━┩\n",
       "│ input_layer_1 (<span style=\"color: #0087ff; text-decoration-color: #0087ff\">InputLayer</span>)      │ (<span style=\"color: #00d7ff; text-decoration-color: #00d7ff\">None</span>, <span style=\"color: #00af00; text-decoration-color: #00af00\">299</span>, <span style=\"color: #00af00; text-decoration-color: #00af00\">299</span>, <span style=\"color: #00af00; text-decoration-color: #00af00\">3</span>)    │             <span style=\"color: #00af00; text-decoration-color: #00af00\">0</span> │\n",
       "├─────────────────────────────────┼────────────────────────┼───────────────┤\n",
       "│ inception_v3 (<span style=\"color: #0087ff; text-decoration-color: #0087ff\">Functional</span>)       │ (<span style=\"color: #00d7ff; text-decoration-color: #00d7ff\">None</span>, <span style=\"color: #00af00; text-decoration-color: #00af00\">8</span>, <span style=\"color: #00af00; text-decoration-color: #00af00\">8</span>, <span style=\"color: #00af00; text-decoration-color: #00af00\">2048</span>)     │    <span style=\"color: #00af00; text-decoration-color: #00af00\">21,802,784</span> │\n",
       "├─────────────────────────────────┼────────────────────────┼───────────────┤\n",
       "│ global_average_pooling2d        │ (<span style=\"color: #00d7ff; text-decoration-color: #00d7ff\">None</span>, <span style=\"color: #00af00; text-decoration-color: #00af00\">2048</span>)           │             <span style=\"color: #00af00; text-decoration-color: #00af00\">0</span> │\n",
       "│ (<span style=\"color: #0087ff; text-decoration-color: #0087ff\">GlobalAveragePooling2D</span>)        │                        │               │\n",
       "├─────────────────────────────────┼────────────────────────┼───────────────┤\n",
       "│ dense (<span style=\"color: #0087ff; text-decoration-color: #0087ff\">Dense</span>)                   │ (<span style=\"color: #00d7ff; text-decoration-color: #00d7ff\">None</span>, <span style=\"color: #00af00; text-decoration-color: #00af00\">1024</span>)           │     <span style=\"color: #00af00; text-decoration-color: #00af00\">2,098,176</span> │\n",
       "├─────────────────────────────────┼────────────────────────┼───────────────┤\n",
       "│ dropout (<span style=\"color: #0087ff; text-decoration-color: #0087ff\">Dropout</span>)               │ (<span style=\"color: #00d7ff; text-decoration-color: #00d7ff\">None</span>, <span style=\"color: #00af00; text-decoration-color: #00af00\">1024</span>)           │             <span style=\"color: #00af00; text-decoration-color: #00af00\">0</span> │\n",
       "├─────────────────────────────────┼────────────────────────┼───────────────┤\n",
       "│ dense_1 (<span style=\"color: #0087ff; text-decoration-color: #0087ff\">Dense</span>)                 │ (<span style=\"color: #00d7ff; text-decoration-color: #00d7ff\">None</span>, <span style=\"color: #00af00; text-decoration-color: #00af00\">512</span>)            │       <span style=\"color: #00af00; text-decoration-color: #00af00\">524,800</span> │\n",
       "├─────────────────────────────────┼────────────────────────┼───────────────┤\n",
       "│ dropout_1 (<span style=\"color: #0087ff; text-decoration-color: #0087ff\">Dropout</span>)             │ (<span style=\"color: #00d7ff; text-decoration-color: #00d7ff\">None</span>, <span style=\"color: #00af00; text-decoration-color: #00af00\">512</span>)            │             <span style=\"color: #00af00; text-decoration-color: #00af00\">0</span> │\n",
       "├─────────────────────────────────┼────────────────────────┼───────────────┤\n",
       "│ dense_2 (<span style=\"color: #0087ff; text-decoration-color: #0087ff\">Dense</span>)                 │ (<span style=\"color: #00d7ff; text-decoration-color: #00d7ff\">None</span>, <span style=\"color: #00af00; text-decoration-color: #00af00\">256</span>)            │       <span style=\"color: #00af00; text-decoration-color: #00af00\">131,328</span> │\n",
       "├─────────────────────────────────┼────────────────────────┼───────────────┤\n",
       "│ dense_3 (<span style=\"color: #0087ff; text-decoration-color: #0087ff\">Dense</span>)                 │ (<span style=\"color: #00d7ff; text-decoration-color: #00d7ff\">None</span>, <span style=\"color: #00af00; text-decoration-color: #00af00\">128</span>)            │        <span style=\"color: #00af00; text-decoration-color: #00af00\">32,896</span> │\n",
       "├─────────────────────────────────┼────────────────────────┼───────────────┤\n",
       "│ dense_4 (<span style=\"color: #0087ff; text-decoration-color: #0087ff\">Dense</span>)                 │ (<span style=\"color: #00d7ff; text-decoration-color: #00d7ff\">None</span>, <span style=\"color: #00af00; text-decoration-color: #00af00\">4</span>)              │           <span style=\"color: #00af00; text-decoration-color: #00af00\">516</span> │\n",
       "└─────────────────────────────────┴────────────────────────┴───────────────┘\n",
       "</pre>\n"
      ],
      "text/plain": [
       "┏━━━━━━━━━━━━━━━━━━━━━━━━━━━━━━━━━┳━━━━━━━━━━━━━━━━━━━━━━━━┳━━━━━━━━━━━━━━━┓\n",
       "┃\u001b[1m \u001b[0m\u001b[1mLayer (type)                   \u001b[0m\u001b[1m \u001b[0m┃\u001b[1m \u001b[0m\u001b[1mOutput Shape          \u001b[0m\u001b[1m \u001b[0m┃\u001b[1m \u001b[0m\u001b[1m      Param #\u001b[0m\u001b[1m \u001b[0m┃\n",
       "┡━━━━━━━━━━━━━━━━━━━━━━━━━━━━━━━━━╇━━━━━━━━━━━━━━━━━━━━━━━━╇━━━━━━━━━━━━━━━┩\n",
       "│ input_layer_1 (\u001b[38;5;33mInputLayer\u001b[0m)      │ (\u001b[38;5;45mNone\u001b[0m, \u001b[38;5;34m299\u001b[0m, \u001b[38;5;34m299\u001b[0m, \u001b[38;5;34m3\u001b[0m)    │             \u001b[38;5;34m0\u001b[0m │\n",
       "├─────────────────────────────────┼────────────────────────┼───────────────┤\n",
       "│ inception_v3 (\u001b[38;5;33mFunctional\u001b[0m)       │ (\u001b[38;5;45mNone\u001b[0m, \u001b[38;5;34m8\u001b[0m, \u001b[38;5;34m8\u001b[0m, \u001b[38;5;34m2048\u001b[0m)     │    \u001b[38;5;34m21,802,784\u001b[0m │\n",
       "├─────────────────────────────────┼────────────────────────┼───────────────┤\n",
       "│ global_average_pooling2d        │ (\u001b[38;5;45mNone\u001b[0m, \u001b[38;5;34m2048\u001b[0m)           │             \u001b[38;5;34m0\u001b[0m │\n",
       "│ (\u001b[38;5;33mGlobalAveragePooling2D\u001b[0m)        │                        │               │\n",
       "├─────────────────────────────────┼────────────────────────┼───────────────┤\n",
       "│ dense (\u001b[38;5;33mDense\u001b[0m)                   │ (\u001b[38;5;45mNone\u001b[0m, \u001b[38;5;34m1024\u001b[0m)           │     \u001b[38;5;34m2,098,176\u001b[0m │\n",
       "├─────────────────────────────────┼────────────────────────┼───────────────┤\n",
       "│ dropout (\u001b[38;5;33mDropout\u001b[0m)               │ (\u001b[38;5;45mNone\u001b[0m, \u001b[38;5;34m1024\u001b[0m)           │             \u001b[38;5;34m0\u001b[0m │\n",
       "├─────────────────────────────────┼────────────────────────┼───────────────┤\n",
       "│ dense_1 (\u001b[38;5;33mDense\u001b[0m)                 │ (\u001b[38;5;45mNone\u001b[0m, \u001b[38;5;34m512\u001b[0m)            │       \u001b[38;5;34m524,800\u001b[0m │\n",
       "├─────────────────────────────────┼────────────────────────┼───────────────┤\n",
       "│ dropout_1 (\u001b[38;5;33mDropout\u001b[0m)             │ (\u001b[38;5;45mNone\u001b[0m, \u001b[38;5;34m512\u001b[0m)            │             \u001b[38;5;34m0\u001b[0m │\n",
       "├─────────────────────────────────┼────────────────────────┼───────────────┤\n",
       "│ dense_2 (\u001b[38;5;33mDense\u001b[0m)                 │ (\u001b[38;5;45mNone\u001b[0m, \u001b[38;5;34m256\u001b[0m)            │       \u001b[38;5;34m131,328\u001b[0m │\n",
       "├─────────────────────────────────┼────────────────────────┼───────────────┤\n",
       "│ dense_3 (\u001b[38;5;33mDense\u001b[0m)                 │ (\u001b[38;5;45mNone\u001b[0m, \u001b[38;5;34m128\u001b[0m)            │        \u001b[38;5;34m32,896\u001b[0m │\n",
       "├─────────────────────────────────┼────────────────────────┼───────────────┤\n",
       "│ dense_4 (\u001b[38;5;33mDense\u001b[0m)                 │ (\u001b[38;5;45mNone\u001b[0m, \u001b[38;5;34m4\u001b[0m)              │           \u001b[38;5;34m516\u001b[0m │\n",
       "└─────────────────────────────────┴────────────────────────┴───────────────┘\n"
      ]
     },
     "metadata": {},
     "output_type": "display_data"
    },
    {
     "data": {
      "text/html": [
       "<pre style=\"white-space:pre;overflow-x:auto;line-height:normal;font-family:Menlo,'DejaVu Sans Mono',consolas,'Courier New',monospace\"><span style=\"font-weight: bold\"> Total params: </span><span style=\"color: #00af00; text-decoration-color: #00af00\">24,590,500</span> (93.81 MB)\n",
       "</pre>\n"
      ],
      "text/plain": [
       "\u001b[1m Total params: \u001b[0m\u001b[38;5;34m24,590,500\u001b[0m (93.81 MB)\n"
      ]
     },
     "metadata": {},
     "output_type": "display_data"
    },
    {
     "data": {
      "text/html": [
       "<pre style=\"white-space:pre;overflow-x:auto;line-height:normal;font-family:Menlo,'DejaVu Sans Mono',consolas,'Courier New',monospace\"><span style=\"font-weight: bold\"> Trainable params: </span><span style=\"color: #00af00; text-decoration-color: #00af00\">13,902,596</span> (53.03 MB)\n",
       "</pre>\n"
      ],
      "text/plain": [
       "\u001b[1m Trainable params: \u001b[0m\u001b[38;5;34m13,902,596\u001b[0m (53.03 MB)\n"
      ]
     },
     "metadata": {},
     "output_type": "display_data"
    },
    {
     "data": {
      "text/html": [
       "<pre style=\"white-space:pre;overflow-x:auto;line-height:normal;font-family:Menlo,'DejaVu Sans Mono',consolas,'Courier New',monospace\"><span style=\"font-weight: bold\"> Non-trainable params: </span><span style=\"color: #00af00; text-decoration-color: #00af00\">10,687,904</span> (40.77 MB)\n",
       "</pre>\n"
      ],
      "text/plain": [
       "\u001b[1m Non-trainable params: \u001b[0m\u001b[38;5;34m10,687,904\u001b[0m (40.77 MB)\n"
      ]
     },
     "metadata": {},
     "output_type": "display_data"
    }
   ],
   "source": [
    "# Build and compile model\n",
    "model = Model(inputs=inputs, outputs=outputs)\n",
    "#model.compile(optimizer='adam', loss='sparse_categorical_crossentropy', metrics=['accuracy'])\n",
    "#model.compile(optimizer=Adam(learning_rate=1e-5), loss='sparse_categorical_crossentropy', metrics=['accuracy']) # adam optimizer\n",
    "#model.compile(optimizer=RMSprop(learning_rate=1e-5), loss='sparse_categorical_crossentropy', metrics=['accuracy']) # RMSprop optimizer\n",
    "model.compile(optimizer=SGD(learning_rate=0.0001, momentum=0.9), loss='sparse_categorical_crossentropy', metrics=['accuracy'])\n",
    "\n",
    "model.summary()"
   ]
  },
  {
   "cell_type": "markdown",
   "id": "a7d72a8c",
   "metadata": {
    "id": "a7d72a8c"
   },
   "source": []
  },
  {
   "cell_type": "code",
   "execution_count": 25,
   "id": "6fca733f",
   "metadata": {
    "colab": {
     "base_uri": "https://localhost:8080/"
    },
    "executionInfo": {
     "elapsed": 606,
     "status": "ok",
     "timestamp": 1748348063296,
     "user": {
      "displayName": "Yvonne Breitenbach",
      "userId": "04140135633344575113"
     },
     "user_tz": -120
    },
    "id": "6fca733f",
    "outputId": "9986a47a-b9a1-4c4a-fa1b-fcb2f46e1264"
   },
   "outputs": [
    {
     "name": "stdout",
     "output_type": "stream",
     "text": [
      "Model plot saved to: /content/drive/MyDrive/models/DL/results/inceptionv3_12/inceptionv3_12_model_design.png\n"
     ]
    }
   ],
   "source": [
    "# create sub-folder for images of model results:\n",
    "# new sub-folder is located here: \\models\\local\\DL\\results\\'model_name'\\\n",
    "model_results_path = os.path.join(model_path, 'results', model_name)\n",
    "os.makedirs(model_results_path, exist_ok=True)\n",
    "\n",
    "\n",
    "# save model stucture as png\n",
    "from tensorflow.keras.utils import plot_model\n",
    "\n",
    "save_path = os.path.join(model_results_path, model_name + '_model_design.png')\n",
    "plot_model(model, to_file=save_path, show_shapes=True, show_layer_names=True)\n",
    "print(f\"Model plot saved to: {save_path}\")"
   ]
  },
  {
   "cell_type": "code",
   "execution_count": 26,
   "id": "bb3e3739",
   "metadata": {
    "colab": {
     "base_uri": "https://localhost:8080/"
    },
    "executionInfo": {
     "elapsed": 1558869,
     "status": "ok",
     "timestamp": 1748349622174,
     "user": {
      "displayName": "Yvonne Breitenbach",
      "userId": "04140135633344575113"
     },
     "user_tz": -120
    },
    "id": "bb3e3739",
    "outputId": "93956695-9195-4315-ac2e-56968d02ae8c"
   },
   "outputs": [
    {
     "name": "stdout",
     "output_type": "stream",
     "text": [
      "Epoch 1/20\n",
      "\u001b[1m853/853\u001b[0m \u001b[32m━━━━━━━━━━━━━━━━━━━━\u001b[0m\u001b[37m\u001b[0m \u001b[1m185s\u001b[0m 175ms/step - accuracy: 0.4797 - loss: 1.2114 - val_accuracy: 0.6819 - val_loss: 0.8429 - learning_rate: 1.0000e-04\n",
      "Epoch 2/20\n",
      "\u001b[1m  1/853\u001b[0m \u001b[37m━━━━━━━━━━━━━━━━━━━━\u001b[0m \u001b[1m3:32:15\u001b[0m 15s/step - accuracy: 0.4000 - loss: 0.8711"
     ]
    },
    {
     "name": "stderr",
     "output_type": "stream",
     "text": [
      "/usr/local/lib/python3.11/dist-packages/keras/src/trainers/epoch_iterator.py:151: UserWarning: Your input ran out of data; interrupting training. Make sure that your dataset or generator can generate at least `steps_per_epoch * epochs` batches. You may need to use the `.repeat()` function when building your dataset.\n",
      "  self._interrupted_warning()\n"
     ]
    },
    {
     "name": "stdout",
     "output_type": "stream",
     "text": [
      "\b\b\b\b\b\b\b\b\b\b\b\b\b\b\b\b\b\b\b\b\b\b\b\b\b\b\b\b\b\b\b\b\b\b\b\b\b\b\b\b\b\b\b\b\b\b\b\b\b\b\b\b\b\b\b\b\b\b\b\b\b\b\b\b\b\b\b\b\b\b\b\b\b\b\b\b\b\b\b\r\u001b[1m853/853\u001b[0m \u001b[32m━━━━━━━━━━━━━━━━━━━━\u001b[0m\u001b[37m\u001b[0m \u001b[1m22s\u001b[0m 9ms/step - accuracy: 0.4000 - loss: 0.8711 - val_accuracy: 0.6819 - val_loss: 0.8415 - learning_rate: 1.0000e-04\n",
      "Epoch 3/20\n",
      "\u001b[1m853/853\u001b[0m \u001b[32m━━━━━━━━━━━━━━━━━━━━\u001b[0m\u001b[37m\u001b[0m \u001b[1m143s\u001b[0m 168ms/step - accuracy: 0.7118 - loss: 0.7415 - val_accuracy: 0.7400 - val_loss: 0.6395 - learning_rate: 1.0000e-04\n",
      "Epoch 4/20\n",
      "\u001b[1m853/853\u001b[0m \u001b[32m━━━━━━━━━━━━━━━━━━━━\u001b[0m\u001b[37m\u001b[0m \u001b[1m7s\u001b[0m 8ms/step - accuracy: 0.4000 - loss: 1.6437 - val_accuracy: 0.7422 - val_loss: 0.6379 - learning_rate: 1.0000e-04\n",
      "Epoch 5/20\n",
      "\u001b[1m853/853\u001b[0m \u001b[32m━━━━━━━━━━━━━━━━━━━━\u001b[0m\u001b[37m\u001b[0m \u001b[1m142s\u001b[0m 166ms/step - accuracy: 0.7639 - loss: 0.5992 - val_accuracy: 0.7751 - val_loss: 0.5594 - learning_rate: 1.0000e-04\n",
      "Epoch 6/20\n",
      "\u001b[1m853/853\u001b[0m \u001b[32m━━━━━━━━━━━━━━━━━━━━\u001b[0m\u001b[37m\u001b[0m \u001b[1m7s\u001b[0m 8ms/step - accuracy: 0.4000 - loss: 2.4256 - val_accuracy: 0.7765 - val_loss: 0.5590 - learning_rate: 1.0000e-04\n",
      "Epoch 7/20\n",
      "\u001b[1m853/853\u001b[0m \u001b[32m━━━━━━━━━━━━━━━━━━━━\u001b[0m\u001b[37m\u001b[0m \u001b[1m143s\u001b[0m 168ms/step - accuracy: 0.7949 - loss: 0.5288 - val_accuracy: 0.8047 - val_loss: 0.4968 - learning_rate: 1.0000e-04\n",
      "Epoch 8/20\n",
      "\u001b[1m853/853\u001b[0m \u001b[32m━━━━━━━━━━━━━━━━━━━━\u001b[0m\u001b[37m\u001b[0m \u001b[1m7s\u001b[0m 8ms/step - accuracy: 0.8000 - loss: 0.8350 - val_accuracy: 0.8055 - val_loss: 0.4951 - learning_rate: 1.0000e-04\n",
      "Epoch 9/20\n",
      "\u001b[1m853/853\u001b[0m \u001b[32m━━━━━━━━━━━━━━━━━━━━\u001b[0m\u001b[37m\u001b[0m \u001b[1m143s\u001b[0m 167ms/step - accuracy: 0.8147 - loss: 0.4847 - val_accuracy: 0.8175 - val_loss: 0.4647 - learning_rate: 1.0000e-04\n",
      "Epoch 10/20\n",
      "\u001b[1m853/853\u001b[0m \u001b[32m━━━━━━━━━━━━━━━━━━━━\u001b[0m\u001b[37m\u001b[0m \u001b[1m8s\u001b[0m 9ms/step - accuracy: 0.8000 - loss: 0.9669 - val_accuracy: 0.8184 - val_loss: 0.4632 - learning_rate: 1.0000e-04\n",
      "Epoch 11/20\n",
      "\u001b[1m853/853\u001b[0m \u001b[32m━━━━━━━━━━━━━━━━━━━━\u001b[0m\u001b[37m\u001b[0m \u001b[1m142s\u001b[0m 166ms/step - accuracy: 0.8308 - loss: 0.4527 - val_accuracy: 0.8298 - val_loss: 0.4357 - learning_rate: 1.0000e-04\n",
      "Epoch 12/20\n",
      "\u001b[1m853/853\u001b[0m \u001b[32m━━━━━━━━━━━━━━━━━━━━\u001b[0m\u001b[37m\u001b[0m \u001b[1m7s\u001b[0m 8ms/step - accuracy: 0.8000 - loss: 0.2237 - val_accuracy: 0.8295 - val_loss: 0.4355 - learning_rate: 1.0000e-04\n",
      "Epoch 13/20\n",
      "\u001b[1m853/853\u001b[0m \u001b[32m━━━━━━━━━━━━━━━━━━━━\u001b[0m\u001b[37m\u001b[0m \u001b[1m143s\u001b[0m 168ms/step - accuracy: 0.8383 - loss: 0.4283 - val_accuracy: 0.8379 - val_loss: 0.4198 - learning_rate: 1.0000e-04\n",
      "Epoch 14/20\n",
      "\u001b[1m853/853\u001b[0m \u001b[32m━━━━━━━━━━━━━━━━━━━━\u001b[0m\u001b[37m\u001b[0m \u001b[1m7s\u001b[0m 8ms/step - accuracy: 0.6000 - loss: 0.4138 - val_accuracy: 0.8398 - val_loss: 0.4168 - learning_rate: 1.0000e-04\n",
      "Epoch 15/20\n",
      "\u001b[1m853/853\u001b[0m \u001b[32m━━━━━━━━━━━━━━━━━━━━\u001b[0m\u001b[37m\u001b[0m \u001b[1m143s\u001b[0m 168ms/step - accuracy: 0.8502 - loss: 0.4005 - val_accuracy: 0.8457 - val_loss: 0.3996 - learning_rate: 1.0000e-04\n",
      "Epoch 16/20\n",
      "\u001b[1m853/853\u001b[0m \u001b[32m━━━━━━━━━━━━━━━━━━━━\u001b[0m\u001b[37m\u001b[0m \u001b[1m7s\u001b[0m 9ms/step - accuracy: 1.0000 - loss: 0.1999 - val_accuracy: 0.8460 - val_loss: 0.3992 - learning_rate: 1.0000e-04\n",
      "Epoch 17/20\n",
      "\u001b[1m853/853\u001b[0m \u001b[32m━━━━━━━━━━━━━━━━━━━━\u001b[0m\u001b[37m\u001b[0m \u001b[1m143s\u001b[0m 167ms/step - accuracy: 0.8553 - loss: 0.3867 - val_accuracy: 0.8477 - val_loss: 0.3982 - learning_rate: 1.0000e-04\n",
      "Epoch 18/20\n",
      "\u001b[1m853/853\u001b[0m \u001b[32m━━━━━━━━━━━━━━━━━━━━\u001b[0m\u001b[37m\u001b[0m \u001b[1m7s\u001b[0m 8ms/step - accuracy: 1.0000 - loss: 0.1062 - val_accuracy: 0.8468 - val_loss: 0.3980 - learning_rate: 1.0000e-04\n",
      "Epoch 19/20\n",
      "\u001b[1m853/853\u001b[0m \u001b[32m━━━━━━━━━━━━━━━━━━━━\u001b[0m\u001b[37m\u001b[0m \u001b[1m143s\u001b[0m 167ms/step - accuracy: 0.8607 - loss: 0.3695 - val_accuracy: 0.8624 - val_loss: 0.3707 - learning_rate: 1.0000e-04\n",
      "Epoch 20/20\n",
      "\u001b[1m853/853\u001b[0m \u001b[32m━━━━━━━━━━━━━━━━━━━━\u001b[0m\u001b[37m\u001b[0m \u001b[1m7s\u001b[0m 8ms/step - accuracy: 0.8000 - loss: 0.7179 - val_accuracy: 0.8644 - val_loss: 0.3679 - learning_rate: 1.0000e-04\n"
     ]
    }
   ],
   "source": [
    "# ## define steps per epoche:\n",
    "# steps_per_epoch = len(train_imgs) // BATCH_SIZE  # Total samples / batch size\n",
    "# validation_steps = len(val_imgs) // BATCH_SIZE\n",
    "\n",
    "\n",
    "# --- Callbacks ---\n",
    "\n",
    "\n",
    "# my callbacks\n",
    "# early_stopping = EarlyStopping(\n",
    "#     monitor = 'val_loss',\n",
    "#     min_delta = 0.01,   # If the loss function doesn't change by 1% after 5 epochs, either up or down, we stop\n",
    "#     patience = 5,       # Wait for 5 epochs before applying\n",
    "#     verbose = 1,        # to display the epoch at which training stops\n",
    "#     mode = 'min',\n",
    "#     restore_best_weights=True\n",
    "# )\n",
    "\n",
    "# reduce_learning_rate = ReduceLROnPlateau(\n",
    "#     monitor = 'val_loss',\n",
    "#     min_delta = 0.01,\n",
    "#     patience = 3,         # If val_loss stagnates for 3 consecutive epochs based on the min_delta value\n",
    "#     factor = 0.1,         # Reduce the learning rate by a factor of 0.1\n",
    "#     cooldown = 4,         # Wait 4 epochs before retrying\n",
    "#     verbose = 1\n",
    "# )\n",
    "\n",
    "# save = ModelCheckpoint(os.path.join(model_path, model_name + '_best_saved_during_training' + \".keras\"),\n",
    "#                                 save_best_only=True,\n",
    "#                                 monitor='val_accuracy',\n",
    "#                                 mode='min')\n",
    "\n",
    "\n",
    "# Saniyas callbacks:\n",
    "early_stopping = EarlyStopping(monitor='val_loss', patience=5, restore_best_weights=True)\n",
    "reduce_learning_rate = ReduceLROnPlateau(monitor='val_loss', factor=0.2, patience=2, min_lr=1e-6)\n",
    "save = ModelCheckpoint(os.path.join(model_path, model_name + '_best_saved_during_training' + \".keras\"), save_best_only=True, monitor='val_loss')\n",
    "\n",
    "\n",
    "EPOCHS = 20\n",
    "steps_per_epoch = len(train_imgs) // BATCH_SIZE\n",
    "validation_steps = len(val_imgs) // BATCH_SIZE\n",
    "\n",
    "\n",
    "# --- Train model ---\n",
    "history = model.fit(\n",
    "    train_ds,\n",
    "    validation_data=val_ds,\n",
    "    epochs=EPOCHS,\n",
    "    steps_per_epoch=steps_per_epoch,\n",
    "    validation_steps=validation_steps,\n",
    "    #callbacks=[early_stopping, save]\n",
    "    callbacks=[save, reduce_learning_rate, early_stopping]\n",
    ")\n",
    "\n",
    "\n",
    "\n",
    "# history = model.fit(\n",
    "#     train_ds,\n",
    "#     validation_data=val_ds,\n",
    "#     epochs=EPOCHS,\n",
    "#     steps_per_epoch=steps_per_epoch,\n",
    "#     validation_steps=validation_steps,\n",
    "# )"
   ]
  },
  {
   "cell_type": "markdown",
   "id": "a0a63eb7",
   "metadata": {
    "id": "a0a63eb7"
   },
   "source": [
    "## Evaluation"
   ]
  },
  {
   "cell_type": "code",
   "execution_count": 27,
   "id": "53b3c874",
   "metadata": {
    "colab": {
     "base_uri": "https://localhost:8080/"
    },
    "executionInfo": {
     "elapsed": 15441,
     "status": "ok",
     "timestamp": 1748349637618,
     "user": {
      "displayName": "Yvonne Breitenbach",
      "userId": "04140135633344575113"
     },
     "user_tz": -120
    },
    "id": "53b3c874",
    "outputId": "df5405da-a7f0-4466-eca4-d20f1737b713"
   },
   "outputs": [
    {
     "name": "stdout",
     "output_type": "stream",
     "text": [
      "\u001b[1m50/50\u001b[0m \u001b[32m━━━━━━━━━━━━━━━━━━━━\u001b[0m\u001b[37m\u001b[0m \u001b[1m15s\u001b[0m 301ms/step - accuracy: 0.1012 - loss: 4.3035\n",
      "Test Loss: 3.7360 - Test Accuracy: 0.1722\n"
     ]
    }
   ],
   "source": [
    "results = model.evaluate(test_ds)\n",
    "print(f\"Test Loss: {results[0]:.4f} - Test Accuracy: {results[1]:.4f}\")"
   ]
  },
  {
   "cell_type": "code",
   "execution_count": 28,
   "id": "bb0e80e1",
   "metadata": {
    "executionInfo": {
     "elapsed": 1235,
     "status": "ok",
     "timestamp": 1748349638855,
     "user": {
      "displayName": "Yvonne Breitenbach",
      "userId": "04140135633344575113"
     },
     "user_tz": -120
    },
    "id": "bb0e80e1"
   },
   "outputs": [],
   "source": [
    "# Save in the Keras format (recommended in TF 2.x)\n",
    "model.save(os.path.join(model_path, model_name + \".keras\"))"
   ]
  },
  {
   "cell_type": "code",
   "execution_count": 29,
   "id": "NEMe1n788xXx",
   "metadata": {
    "colab": {
     "base_uri": "https://localhost:8080/"
    },
    "executionInfo": {
     "elapsed": 5,
     "status": "ok",
     "timestamp": 1748349638862,
     "user": {
      "displayName": "Yvonne Breitenbach",
      "userId": "04140135633344575113"
     },
     "user_tz": -120
    },
    "id": "NEMe1n788xXx",
    "outputId": "63b1be86-3d66-4307-9ad5-23c8a722fa11"
   },
   "outputs": [
    {
     "data": {
      "text/plain": [
       "{'accuracy': [0.5775021910667419,\n",
       "  0.4000000059604645,\n",
       "  0.7432224750518799,\n",
       "  0.4000000059604645,\n",
       "  0.7836862802505493,\n",
       "  0.4000000059604645,\n",
       "  0.8090928792953491,\n",
       "  0.800000011920929,\n",
       "  0.8257620334625244,\n",
       "  0.800000011920929,\n",
       "  0.8416251540184021,\n",
       "  0.800000011920929,\n",
       "  0.8511137366294861,\n",
       "  0.6000000238418579,\n",
       "  0.860144317150116,\n",
       "  1.0,\n",
       "  0.8677461743354797,\n",
       "  1.0,\n",
       "  0.8727835416793823,\n",
       "  0.800000011920929],\n",
       " 'loss': [1.0785117149353027,\n",
       "  0.8711063265800476,\n",
       "  0.6634078025817871,\n",
       "  1.6436948776245117,\n",
       "  0.5508116483688354,\n",
       "  2.4255881309509277,\n",
       "  0.49006712436676025,\n",
       "  0.8349501490592957,\n",
       "  0.4479881227016449,\n",
       "  0.966881275177002,\n",
       "  0.41533687710762024,\n",
       "  0.22371479868888855,\n",
       "  0.393422394990921,\n",
       "  0.41379499435424805,\n",
       "  0.3689173460006714,\n",
       "  0.19994531571865082,\n",
       "  0.35143738985061646,\n",
       "  0.10618028789758682,\n",
       "  0.3365015983581543,\n",
       "  0.7178700566291809],\n",
       " 'val_accuracy': [0.6819196343421936,\n",
       "  0.6819196343421936,\n",
       "  0.7399553656578064,\n",
       "  0.7421875,\n",
       "  0.7751116156578064,\n",
       "  0.7765067219734192,\n",
       "  0.8046875,\n",
       "  0.8055245280265808,\n",
       "  0.8175223469734192,\n",
       "  0.818359375,\n",
       "  0.8297991156578064,\n",
       "  0.8295201063156128,\n",
       "  0.837890625,\n",
       "  0.83984375,\n",
       "  0.845703125,\n",
       "  0.8459821343421936,\n",
       "  0.84765625,\n",
       "  0.8468192219734192,\n",
       "  0.8624442219734192,\n",
       "  0.8643973469734192],\n",
       " 'val_loss': [0.8428791165351868,\n",
       "  0.8415420651435852,\n",
       "  0.6394860148429871,\n",
       "  0.6379334330558777,\n",
       "  0.5594395995140076,\n",
       "  0.5590046644210815,\n",
       "  0.4968404769897461,\n",
       "  0.4951237738132477,\n",
       "  0.46470919251441956,\n",
       "  0.4631504714488983,\n",
       "  0.43573442101478577,\n",
       "  0.43552276492118835,\n",
       "  0.4197523593902588,\n",
       "  0.41678452491760254,\n",
       "  0.3996449112892151,\n",
       "  0.3992047905921936,\n",
       "  0.398190975189209,\n",
       "  0.3979632258415222,\n",
       "  0.3706609606742859,\n",
       "  0.3679455816745758],\n",
       " 'learning_rate': [9.999999747378752e-05,\n",
       "  9.999999747378752e-05,\n",
       "  9.999999747378752e-05,\n",
       "  9.999999747378752e-05,\n",
       "  9.999999747378752e-05,\n",
       "  9.999999747378752e-05,\n",
       "  9.999999747378752e-05,\n",
       "  9.999999747378752e-05,\n",
       "  9.999999747378752e-05,\n",
       "  9.999999747378752e-05,\n",
       "  9.999999747378752e-05,\n",
       "  9.999999747378752e-05,\n",
       "  9.999999747378752e-05,\n",
       "  9.999999747378752e-05,\n",
       "  9.999999747378752e-05,\n",
       "  9.999999747378752e-05,\n",
       "  9.999999747378752e-05,\n",
       "  9.999999747378752e-05,\n",
       "  9.999999747378752e-05,\n",
       "  9.999999747378752e-05]}"
      ]
     },
     "execution_count": 29,
     "metadata": {},
     "output_type": "execute_result"
    }
   ],
   "source": [
    "history.history"
   ]
  },
  {
   "cell_type": "code",
   "execution_count": 30,
   "id": "0dc5da0a",
   "metadata": {
    "colab": {
     "base_uri": "https://localhost:8080/",
     "height": 410
    },
    "executionInfo": {
     "elapsed": 427,
     "status": "ok",
     "timestamp": 1748349639301,
     "user": {
      "displayName": "Yvonne Breitenbach",
      "userId": "04140135633344575113"
     },
     "user_tz": -120
    },
    "id": "0dc5da0a",
    "outputId": "2668e7e3-591b-48f4-e3a5-6ff72b173c91"
   },
   "outputs": [
    {
     "data": {
      "image/png": "[encoded data removed]",
      "text/plain": [
       "<Figure size 1200x400 with 2 Axes>"
      ]
     },
     "metadata": {},
     "output_type": "display_data"
    }
   ],
   "source": [
    "loss_accuracy_file = os.path.join(model_results_path, model_name + '_loss_accuracy.png')\n",
    "\n",
    "plt.figure(figsize=(12,4))\n",
    "\n",
    "plt.subplot(121)\n",
    "plt.plot(history.history['loss'])\n",
    "plt.plot(history.history['val_loss'])\n",
    "plt.title('Model loss by epoch')\n",
    "plt.ylabel('loss')\n",
    "plt.xlabel('epoch')\n",
    "plt.legend(['train', 'validation'], loc='lower left')\n",
    "\n",
    "plt.subplot(122)\n",
    "plt.plot(history.history['accuracy'])\n",
    "plt.plot(history.history['val_accuracy'])\n",
    "plt.title('Model accuracy by epoch')\n",
    "plt.ylabel('accuracy')\n",
    "plt.xlabel('epoch')\n",
    "plt.legend(['train', 'validation'], loc='lower right')\n",
    "plt.savefig(loss_accuracy_file, format='png')\n",
    "plt.show()\n",
    "\n"
   ]
  },
  {
   "cell_type": "code",
   "execution_count": 31,
   "id": "0deec3d2",
   "metadata": {
    "colab": {
     "base_uri": "https://localhost:8080/",
     "height": 487
    },
    "executionInfo": {
     "elapsed": 241,
     "status": "ok",
     "timestamp": 1748349639544,
     "user": {
      "displayName": "Yvonne Breitenbach",
      "userId": "04140135633344575113"
     },
     "user_tz": -120
    },
    "id": "0deec3d2",
    "outputId": "3b9e5156-93da-4b55-841c-ebb59a413df0"
   },
   "outputs": [
    {
     "data": {
      "image/png": "[encoded data removed]",
      "text/plain": [
       "<Figure size 1200x500 with 2 Axes>"
      ]
     },
     "metadata": {},
     "output_type": "display_data"
    }
   ],
   "source": [
    "# Plot training & validation accuracy values\n",
    "plt.figure(figsize=(12,5))\n",
    "\n",
    "plt.subplot(1,2,1)\n",
    "plt.plot(history.history['accuracy'], label='Train Accuracy')\n",
    "plt.plot(history.history['val_accuracy'], label='Val Accuracy')\n",
    "plt.title('Model Accuracy')\n",
    "plt.xlabel('Epoch')\n",
    "plt.ylabel('Accuracy')\n",
    "plt.legend()\n",
    "\n",
    "# Plot training & validation loss values\n",
    "plt.subplot(1,2,2)\n",
    "plt.plot(history.history['loss'], label='Train Loss')\n",
    "plt.plot(history.history['val_loss'], label='Val Loss')\n",
    "plt.title('Model Loss')\n",
    "plt.xlabel('Epoch')\n",
    "plt.ylabel('Loss')\n",
    "plt.legend()\n",
    "\n",
    "plt.show()\n"
   ]
  },
  {
   "cell_type": "code",
   "execution_count": 32,
   "id": "d1b2adb6",
   "metadata": {
    "colab": {
     "base_uri": "https://localhost:8080/"
    },
    "executionInfo": {
     "elapsed": 15396,
     "status": "ok",
     "timestamp": 1748349654944,
     "user": {
      "displayName": "Yvonne Breitenbach",
      "userId": "04140135633344575113"
     },
     "user_tz": -120
    },
    "id": "d1b2adb6",
    "outputId": "edaf11d9-b868-4a22-b8a7-ba505f333be9"
   },
   "outputs": [
    {
     "name": "stdout",
     "output_type": "stream",
     "text": [
      "\u001b[1m50/50\u001b[0m \u001b[32m━━━━━━━━━━━━━━━━━━━━\u001b[0m\u001b[37m\u001b[0m \u001b[1m15s\u001b[0m 181ms/step\n"
     ]
    }
   ],
   "source": [
    "# Predict probabilities\n",
    "y_pred_probs = model.predict(test_ds)\n",
    "\n",
    "# Convert probs to class indices\n",
    "y_pred = np.argmax(y_pred_probs, axis=1)  # shape: (num_samples,)\n",
    "\n",
    "y_true = y_test"
   ]
  },
  {
   "cell_type": "markdown",
   "id": "3315e00e",
   "metadata": {
    "id": "3315e00e"
   },
   "source": [
    "### classification report (screenshot for report)"
   ]
  },
  {
   "cell_type": "code",
   "execution_count": 33,
   "id": "XkNFXJkm4H6T",
   "metadata": {
    "colab": {
     "base_uri": "https://localhost:8080/"
    },
    "executionInfo": {
     "elapsed": 21,
     "status": "ok",
     "timestamp": 1748349654976,
     "user": {
      "displayName": "Yvonne Breitenbach",
      "userId": "04140135633344575113"
     },
     "user_tz": -120
    },
    "id": "XkNFXJkm4H6T",
    "outputId": "f6a0e26b-976a-46fd-b2d1-1e7cd195e77b"
   },
   "outputs": [
    {
     "name": "stdout",
     "output_type": "stream",
     "text": [
      "                 precision    recall  f1-score   support\n",
      "\n",
      "         Normal       0.00      0.00      0.00      1529\n",
      "          COVID       0.17      1.00      0.29       543\n",
      "   Lung_Opacity       0.00      0.00      0.00       902\n",
      "Viral Pneumonia       0.56      0.02      0.05       202\n",
      "\n",
      "       accuracy                           0.17      3176\n",
      "      macro avg       0.18      0.26      0.08      3176\n",
      "   weighted avg       0.06      0.17      0.05      3176\n",
      "\n"
     ]
    },
    {
     "name": "stderr",
     "output_type": "stream",
     "text": [
      "/usr/local/lib/python3.11/dist-packages/sklearn/metrics/_classification.py:1565: UndefinedMetricWarning: Precision is ill-defined and being set to 0.0 in labels with no predicted samples. Use `zero_division` parameter to control this behavior.\n",
      "  _warn_prf(average, modifier, f\"{metric.capitalize()} is\", len(result))\n",
      "/usr/local/lib/python3.11/dist-packages/sklearn/metrics/_classification.py:1565: UndefinedMetricWarning: Precision is ill-defined and being set to 0.0 in labels with no predicted samples. Use `zero_division` parameter to control this behavior.\n",
      "  _warn_prf(average, modifier, f\"{metric.capitalize()} is\", len(result))\n",
      "/usr/local/lib/python3.11/dist-packages/sklearn/metrics/_classification.py:1565: UndefinedMetricWarning: Precision is ill-defined and being set to 0.0 in labels with no predicted samples. Use `zero_division` parameter to control this behavior.\n",
      "  _warn_prf(average, modifier, f\"{metric.capitalize()} is\", len(result))\n"
     ]
    }
   ],
   "source": [
    "# Display the classification report\n",
    "print(classification_report(y_true, y_pred, target_names=classes))  # Print the classification report (precision, recall, F1-score)\n",
    "\n"
   ]
  },
  {
   "cell_type": "markdown",
   "id": "0e883cf0",
   "metadata": {
    "id": "0e883cf0"
   },
   "source": [
    "### confusion matrix"
   ]
  },
  {
   "cell_type": "code",
   "execution_count": 34,
   "id": "f2545f01",
   "metadata": {
    "executionInfo": {
     "elapsed": 2,
     "status": "ok",
     "timestamp": 1748349654984,
     "user": {
      "displayName": "Yvonne Breitenbach",
      "userId": "04140135633344575113"
     },
     "user_tz": -120
    },
    "id": "f2545f01"
   },
   "outputs": [],
   "source": [
    "def create_cm(y_test, y_pred, flag_norm, model_path, model_name):\n",
    "    # create and save confusion matrix\n",
    "\n",
    "    if not (flag_norm is None):\n",
    "        print(\"norma\")\n",
    "        print(flag_norm)\n",
    "        cm_file     = os.path.join(model_path, model_name + \"_cm_norm.png\")\n",
    "        format_anot = '.2f'\n",
    "    else:\n",
    "        print(\"abs\")\n",
    "        print(flag_norm)\n",
    "        cm_file     = os.path.join(model_path, model_name + \"_cm_abs.png\")\n",
    "        format_anot = 'd'\n",
    "\n",
    "    cm = confusion_matrix(y_test, y_pred, normalize=flag_norm)\n",
    "\n",
    "    #list_labels_enc = ['COVID', 'Lung_Opacity', 'Normal', 'Viral Pneumonia']\n",
    "\n",
    "    plt.figure(figsize=(7,7))\n",
    "    sns.heatmap(cm, cmap='Blues', cbar=False, annot=True, fmt=format_anot, xticklabels=classes, yticklabels=classes)\n",
    "    plt.xlabel('Predicted labels')\n",
    "    plt.ylabel('True labels')\n",
    "\n",
    "    plt.savefig(cm_file, format='png')\n",
    "    plt.show()"
   ]
  },
  {
   "cell_type": "code",
   "execution_count": 35,
   "id": "ee550c5f",
   "metadata": {
    "colab": {
     "base_uri": "https://localhost:8080/",
     "height": 654
    },
    "executionInfo": {
     "elapsed": 206,
     "status": "ok",
     "timestamp": 1748349655206,
     "user": {
      "displayName": "Yvonne Breitenbach",
      "userId": "04140135633344575113"
     },
     "user_tz": -120
    },
    "id": "ee550c5f",
    "outputId": "ec91df93-8052-4808-e576-651514282678"
   },
   "outputs": [
    {
     "name": "stdout",
     "output_type": "stream",
     "text": [
      "abs\n",
      "None\n"
     ]
    },
    {
     "data": {
      "image/png": "[encoded data removed]",
      "text/plain": [
       "<Figure size 700x700 with 1 Axes>"
      ]
     },
     "metadata": {},
     "output_type": "display_data"
    }
   ],
   "source": [
    "# show and save confusion matrix with absolute values:\n",
    "create_cm(y_true, y_pred, None , model_results_path, model_name)"
   ]
  },
  {
   "cell_type": "code",
   "execution_count": 36,
   "id": "e2c14c5b",
   "metadata": {
    "colab": {
     "base_uri": "https://localhost:8080/",
     "height": 654
    },
    "executionInfo": {
     "elapsed": 142,
     "status": "ok",
     "timestamp": 1748349655351,
     "user": {
      "displayName": "Yvonne Breitenbach",
      "userId": "04140135633344575113"
     },
     "user_tz": -120
    },
    "id": "e2c14c5b",
    "outputId": "1938be31-52ad-4b09-e94c-407324bcb0ce"
   },
   "outputs": [
    {
     "name": "stdout",
     "output_type": "stream",
     "text": [
      "norma\n",
      "true\n"
     ]
    },
    {
     "data": {
      "image/png": "[encoded data removed]",
      "text/plain": [
       "<Figure size 700x700 with 1 Axes>"
      ]
     },
     "metadata": {},
     "output_type": "display_data"
    }
   ],
   "source": [
    "# show and saveonfusion matrix with normalized values:\n",
    "create_cm(y_true, y_pred, 'true' , model_results_path, model_name)"
   ]
  },
  {
   "cell_type": "markdown",
   "id": "eb9c3986",
   "metadata": {
    "id": "eb9c3986"
   },
   "source": [
    "### not used code for evaluation"
   ]
  },
  {
   "cell_type": "code",
   "execution_count": 37,
   "id": "76a7f52d",
   "metadata": {
    "executionInfo": {
     "elapsed": 48,
     "status": "ok",
     "timestamp": 1748349655402,
     "user": {
      "displayName": "Yvonne Breitenbach",
      "userId": "04140135633344575113"
     },
     "user_tz": -120
    },
    "id": "76a7f52d"
   },
   "outputs": [],
   "source": [
    "# # Display the confusion matrix\n",
    "# plt.figure(figsize=(8, 8))  # Create a large figure for the confusion matrix\n",
    "# cnf_matrix = confusion_matrix(y_true, y_pred, normalize='true')  # Compute the normalized confusion matrix\n",
    "\n",
    "# sns.heatmap(cnf_matrix, cmap='Blues', annot=True, cbar=False, fmt=\".2f\", xticklabels=classes, yticklabels=classes)  # Plot the confusion matrix as a heatmap\n",
    "# plt.xlabel('Predicted labels')\n",
    "# plt.ylabel('True labels')\n",
    "# plt.show()"
   ]
  },
  {
   "cell_type": "code",
   "execution_count": 38,
   "id": "c057cf03",
   "metadata": {
    "executionInfo": {
     "elapsed": 8,
     "status": "ok",
     "timestamp": 1748349655407,
     "user": {
      "displayName": "Yvonne Breitenbach",
      "userId": "04140135633344575113"
     },
     "user_tz": -120
    },
    "id": "c057cf03"
   },
   "outputs": [],
   "source": [
    "# def get_predictions_and_labels(dataset):\n",
    "#     true_labels = []\n",
    "#     pred_labels = []\n",
    "\n",
    "#     for images, labels in dataset:\n",
    "\n",
    "#         preds = model.predict(images, verbose=0)  # Get the model's predictions\n",
    "#         pred_labels.extend(np.argmax(preds, axis=-1))  # Get the predicted labels (argmax)\n",
    "#         #pred_labels.extend(preds)  # Get the predicted labels (argmax)\n",
    "\n",
    "#         true_labels.extend(labels.numpy())  # Get the true labels\n",
    "\n",
    "#     return np.array(true_labels), np.array(pred_labels)\n",
    "\n",
    "# y_true, y_pred = get_predictions_and_labels(test_ds)  # Get true labels and predictions from the test dataset\n"
   ]
  },
  {
   "cell_type": "code",
   "execution_count": 39,
   "id": "0e19cc63",
   "metadata": {
    "executionInfo": {
     "elapsed": 1,
     "status": "ok",
     "timestamp": 1748349655409,
     "user": {
      "displayName": "Yvonne Breitenbach",
      "userId": "04140135633344575113"
     },
     "user_tz": -120
    },
    "id": "0e19cc63"
   },
   "outputs": [],
   "source": [
    "#print(classification_report(y_true, y_pred, target_names=classes))"
   ]
  },
  {
   "cell_type": "code",
   "execution_count": 40,
   "id": "b90a9e91",
   "metadata": {
    "executionInfo": {
     "elapsed": 1,
     "status": "ok",
     "timestamp": 1748349655411,
     "user": {
      "displayName": "Yvonne Breitenbach",
      "userId": "04140135633344575113"
     },
     "user_tz": -120
    },
    "id": "b90a9e91"
   },
   "outputs": [],
   "source": [
    "# from sklearn.metrics import confusion_matrix, ConfusionMatrixDisplay\n",
    "# import matplotlib.pyplot as plt\n",
    "\n",
    "\n",
    "# cm_abs_file = os.path.join(model_results_path, model_name + '_loss_accuracy.png')\n",
    "\n",
    "# # Compute confusion matrix\n",
    "# cm = confusion_matrix(y_true, y_pred)\n",
    "\n",
    "# # Plot confusion matrix with class names\n",
    "# disp = ConfusionMatrixDisplay(confusion_matrix=cm, display_labels=classes)\n",
    "\n",
    "# plt.figure(figsize=(8,8))\n",
    "# disp.plot(cmap=plt.cm.Blues)\n",
    "# plt.title(\"Confusion Matrix\")\n",
    "# plt.show()"
   ]
  }
 ],
 "metadata": {
  "colab": {
   "machine_shape": "hm",
   "provenance": []
  },
  "kernelspec": {
   "display_name": "Python 3",
   "name": "python3"
  },
  "language_info": {
   "codemirror_mode": {
    "name": "ipython",
    "version": 3
   },
   "file_extension": ".py",
   "mimetype": "text/x-python",
   "name": "python",
   "nbconvert_exporter": "python",
   "pygments_lexer": "ipython3",
   "version": "3.12.9"
  }
 },
 "nbformat": 4,
 "nbformat_minor": 5
}
