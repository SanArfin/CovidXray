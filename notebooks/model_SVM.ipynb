{
 "cells": [
  {
   "cell_type": "markdown",
   "id": "7edbb519",
   "metadata": {},
   "source": [
    "# SVC model"
   ]
  },
  {
   "cell_type": "code",
   "execution_count": null,
   "id": "ecaf911b",
   "metadata": {},
   "outputs": [],
   "source": [
    "machine = 'colab' # 'colab' or 'local'"
   ]
  },
  {
   "cell_type": "markdown",
   "id": "3bc65b3e",
   "metadata": {},
   "source": [
    "## import libs"
   ]
  },
  {
   "cell_type": "code",
   "execution_count": 51,
   "id": "86c06380",
   "metadata": {},
   "outputs": [],
   "source": [
    "import numpy as np\n",
    "import pandas as pd\n",
    "import os\n",
    "\n",
    "import joblib\n",
    "\n",
    "from sklearn.preprocessing import StandardScaler\n",
    "from sklearn.svm import SVC\n",
    "\n",
    "# For hyperparamter testing\n",
    "from sklearn.model_selection import GridSearchCV\n",
    "from skopt import BayesSearchCV\n",
    "\n",
    "# For classification performance metrics\n",
    "from sklearn.metrics import classification_report, confusion_matrix \n",
    "\n",
    "# for visualization:\n",
    "import seaborn as sns\n",
    "import matplotlib.pyplot as plt\n",
    "\n",
    "\n",
    "\n",
    "# lib for accelreation sklearn on GPU (google colab)\n",
    "#if machine == 'colab':\n",
    "#    %load_ext cuml.accel\n",
    "#    import sklearn"
   ]
  },
  {
   "cell_type": "code",
   "execution_count": 4,
   "id": "522c6505",
   "metadata": {},
   "outputs": [],
   "source": [
    "# load google drive when working on colab\n",
    "if machine == 'colab':\n",
    "    from google.colab import drive\n",
    "    #drive.mount('/content/drive')\n",
    "    drive.mount(\"/content/drive\", force_remount=True)"
   ]
  },
  {
   "cell_type": "markdown",
   "id": "98ff9b8a",
   "metadata": {},
   "source": [
    "## definitions to set by user to run the script:"
   ]
  },
  {
   "cell_type": "code",
   "execution_count": null,
   "id": "3e3e5a4b",
   "metadata": {},
   "outputs": [
    {
     "name": "stdout",
     "output_type": "stream",
     "text": [
      "20_mask\n"
     ]
    }
   ],
   "source": [
    "#####################################\n",
    "# options for usable datasets:\n",
    "#####################################\n",
    "\n",
    "list_datasets = ['128_nomask', '128_mask', 'hog', '20_mask']\n",
    "\n",
    "# list_datasets[0] = '128_nomask'\n",
    "# list_datasets[1] = '128_mask'\n",
    "# list_datasets[2] = 'hog'\n",
    "# list_datasets[3] = '20_mask'\n",
    "\n",
    "# # choose one dataset by setting the number of element of list_datasets:\n",
    "flag_dataset = list_datasets[3]\n",
    "\n",
    "print(flag_dataset)\n",
    "\n",
    "\n",
    "#####################################\n",
    "# options to run on local computer:\n",
    "#####################################\n",
    "\n",
    "# set the following paramter = True when you run the script on local comupter. \n",
    "# This means a smaller dataset with less images will be used. \n",
    "\n",
    "flag_slicing = False    # True or False\n",
    "num_subset = 20000   # number of iamges to use. parameter is only used when run_local = True\n",
    "\n",
    "\n",
    "#####################################\n",
    "# paths:\n",
    "#####################################\n",
    "\n",
    "if machine == 'local':\n",
    "    # paths to load data:\n",
    "    base_path = r\"..\\\\data\\\\\"\n",
    "    base_path_in = os.path.join(base_path, \"processed\")   # path to read from the *.npy files\n",
    "\n",
    "    # paths to save models:\n",
    "    model_path = r\"..\\\\Models\\\\local\\\\ML\"\n",
    "\n",
    "elif machine == 'colab':\n",
    "    # paths to load data:\n",
    "    base_path = '/content/drive/MyDrive/data'\n",
    "    base_path_in = os.path.join(base_path, \"processed\")   # path to read from the *.npy files\n",
    "\n",
    "    # paths to save models:\n",
    "    model_path = '/content/drive/MyDrive/models/local/ML'"
   ]
  },
  {
   "cell_type": "markdown",
   "id": "09e6bd7e",
   "metadata": {},
   "source": [
    "## functions"
   ]
  },
  {
   "cell_type": "code",
   "execution_count": 79,
   "id": "901c73cb",
   "metadata": {},
   "outputs": [],
   "source": [
    "def create_cm(y_test, y_pred, flag_norm, model_path, model_name):\n",
    "    \n",
    "    if not (flag_norm is None):\n",
    "        print(\"norma\")\n",
    "        print(flag_norm)\n",
    "        cm_file     = os.path.join(model_path, \"results\", model_name + \"_cm_norm.png\")\n",
    "        format_anot = '.2f'\n",
    "    else:\n",
    "        print(\"abs\")\n",
    "        print(flag_norm)\n",
    "        cm_file     = os.path.join(model_path, \"results\", model_name + \"_cm_abs.png\")\n",
    "        format_anot = 'd'\n",
    "\n",
    "    cm = confusion_matrix(y_test, y_pred, normalize=flag_norm)\n",
    "\n",
    "    list_labels_enc = ['COVID', 'Lung_Opacity', 'Normal', 'Viral Pneumonia']\n",
    "\n",
    "    plt.figure(figsize=(7,7))\n",
    "    sns.heatmap(cm, cmap='Blues', cbar=False, annot=True, fmt=format_anot, xticklabels=list_labels_enc, yticklabels=list_labels_enc)\n",
    "    plt.xlabel('Predicted labels')\n",
    "    plt.ylabel('True labels')\n",
    "    \n",
    "    plt.savefig(cm_file, format='png')\n",
    "    plt.show()"
   ]
  },
  {
   "cell_type": "markdown",
   "id": "5d5294e9",
   "metadata": {},
   "source": [
    "## loading images"
   ]
  },
  {
   "cell_type": "markdown",
   "id": "c730c2d8",
   "metadata": {},
   "source": [
    "### images resized to 128 * 128, normalized, without masks"
   ]
  },
  {
   "cell_type": "code",
   "execution_count": 68,
   "id": "81d820e5",
   "metadata": {},
   "outputs": [],
   "source": [
    "if flag_dataset == '128_nomask':\n",
    "\n",
    "    train_npy_file = 'train_data_resized_without_masks.npz'\n",
    "    test_npy_file  = 'test_data_resized_without_masks.npz'\n",
    "\n",
    "    #train data\n",
    "    train = np.load(os.path.join(base_path_in, train_npy_file), allow_pickle=True)\n",
    "    X_train = train['X_train']\n",
    "    y_train = train['y_train']\n",
    "\n",
    "    # test data\n",
    "    test = np.load(os.path.join(base_path_in, test_npy_file), allow_pickle=True)\n",
    "    X_test = test['X_test']\n",
    "    y_test = test['y_test']\n"
   ]
  },
  {
   "cell_type": "markdown",
   "id": "3ae26047",
   "metadata": {},
   "source": [
    "### images resized to 128 * 128, normalized, with masks (incl. Gaussian Blur, Clahe)"
   ]
  },
  {
   "cell_type": "code",
   "execution_count": 69,
   "id": "942acf1c",
   "metadata": {},
   "outputs": [],
   "source": [
    "if flag_dataset == '128_mask':\n",
    "    \n",
    "    train_npy_file = 'train_data_resized_with_masks.npz'\n",
    "    test_npy_file  = 'test_data_resized_with_masks.npz'\n",
    "\n",
    "    #train data\n",
    "    train = np.load(os.path.join(base_path_in, train_npy_file), allow_pickle=True)\n",
    "    X_train = train['X_train']\n",
    "    y_train = train['y_train']\n",
    "\n",
    "    # test data\n",
    "    test = np.load(os.path.join(base_path_in, test_npy_file), allow_pickle=True)\n",
    "    X_test = test['X_test']\n",
    "    y_test = test['y_test']"
   ]
  },
  {
   "cell_type": "markdown",
   "id": "60ecdf4f",
   "metadata": {},
   "source": [
    "### images resized to 20 * 20, normalized, with masks (incl. Gaussian Blur, Clahe)"
   ]
  },
  {
   "cell_type": "code",
   "execution_count": 84,
   "id": "2333c2d1",
   "metadata": {},
   "outputs": [],
   "source": [
    "if flag_dataset == '20_mask':\n",
    "    \n",
    "    train_npy_file = 'train_data_resized_with_masks_20_20.npz'\n",
    "    test_npy_file  = 'test_data_resized_with_masks_20_20.npz'\n",
    "\n",
    "    #train data\n",
    "    train = np.load(os.path.join(base_path_in, train_npy_file), allow_pickle=True)\n",
    "    X_train = train['X_train']\n",
    "    y_train = train['y_train']\n",
    "\n",
    "    # test data\n",
    "    test = np.load(os.path.join(base_path_in, test_npy_file), allow_pickle=True)\n",
    "    X_test = test['X_test']\n",
    "    y_test = test['y_test']"
   ]
  },
  {
   "cell_type": "markdown",
   "id": "eb681af4",
   "metadata": {},
   "source": [
    "### feature extraction with HOG based on images original size 299 * 299, normalized, with masks (incl. Gaussian Blur, Clahe) and apllied masks"
   ]
  },
  {
   "cell_type": "code",
   "execution_count": 71,
   "id": "f7af17bd",
   "metadata": {},
   "outputs": [],
   "source": [
    "if flag_dataset == 'hog':\n",
    "\n",
    "    base_path_in = os.path.join(base_path_in, \"extracted\")  # hog-files are in subfolder \"extracted\"\n",
    "\n",
    "    train_npy_file = 'hog_features.npy'\n",
    "    test_npy_file  = 'hog_features_test.npy'\n",
    "\n",
    "    train_labels_file = 'labels_test.npy'\n",
    "    test_labels_file = 'labels_train.npy'\n",
    "\n",
    "    #train data\n",
    "    X_train = np.load(os.path.join(base_path_in, train_npy_file))\n",
    "    y_train = np.load(os.path.join(base_path_in, train_labels_file))\n",
    "\n",
    "    # test data\n",
    "    X_test = np.load(os.path.join(base_path_in, test_npy_file))\n",
    "    y_test = np.load(os.path.join(base_path_in, test_labels_file))\n"
   ]
  },
  {
   "cell_type": "markdown",
   "id": "6037f74a",
   "metadata": {},
   "source": [
    "### print summary of loaded dataset"
   ]
  },
  {
   "cell_type": "code",
   "execution_count": 85,
   "id": "528ed5d3",
   "metadata": {},
   "outputs": [
    {
     "name": "stdout",
     "output_type": "stream",
     "text": [
      "------------------\n",
      "used datasets:\n",
      "train:  train_data_resized_with_masks_20_20.npz\n",
      "test:  test_data_resized_with_masks_20_20.npz\n"
     ]
    }
   ],
   "source": [
    "# print used datasets: \n",
    "print(\"------------------\")\n",
    "print(\"used datasets:\")\n",
    "print(\"train: \", train_npy_file)\n",
    "print(\"test: \", test_npy_file)"
   ]
  },
  {
   "cell_type": "code",
   "execution_count": 86,
   "id": "a068be37",
   "metadata": {},
   "outputs": [
    {
     "name": "stdout",
     "output_type": "stream",
     "text": [
      "------------------\n",
      "Length of: \n",
      "y_train:  35059\n",
      "X_train:  35059\n",
      "y_test:  4233\n",
      "X_test:  4233\n"
     ]
    }
   ],
   "source": [
    "# print length of datasets:\n",
    "print(\"------------------\")\n",
    "print(\"Length of: \")\n",
    "print(\"y_train: \", len(y_train))\n",
    "print(\"X_train: \", len(X_train))\n",
    "\n",
    "print(\"y_test: \", len(y_test))\n",
    "print(\"X_test: \",len(X_test))\n"
   ]
  },
  {
   "cell_type": "markdown",
   "id": "1473e118",
   "metadata": {},
   "source": [
    "### optional slicing to use less images for running on local machine"
   ]
  },
  {
   "cell_type": "code",
   "execution_count": 88,
   "id": "80a2f1ab",
   "metadata": {},
   "outputs": [
    {
     "data": {
      "text/plain": [
       "(35059, 400)"
      ]
     },
     "execution_count": 88,
     "metadata": {},
     "output_type": "execute_result"
    }
   ],
   "source": [
    "X_train.shape"
   ]
  },
  {
   "cell_type": "code",
   "execution_count": null,
   "id": "7312e1aa",
   "metadata": {},
   "outputs": [
    {
     "ename": "AttributeError",
     "evalue": "'numpy.ndarray' object has no attribute 'sample'",
     "output_type": "error",
     "traceback": [
      "\u001b[31m---------------------------------------------------------------------------\u001b[39m",
      "\u001b[31mAttributeError\u001b[39m                            Traceback (most recent call last)",
      "\u001b[36mCell\u001b[39m\u001b[36m \u001b[39m\u001b[32mIn[87]\u001b[39m\u001b[32m, line 5\u001b[39m\n\u001b[32m      1\u001b[39m \u001b[38;5;28;01mif\u001b[39;00m flag_slicing  == \u001b[38;5;28;01mTrue\u001b[39;00m :\n\u001b[32m      2\u001b[39m \n\u001b[32m      3\u001b[39m     \u001b[38;5;66;03m# try slices of arrays too fasten fitting and set up code\u001b[39;00m\n\u001b[32m----> \u001b[39m\u001b[32m5\u001b[39m     X_train = \u001b[43mX_train\u001b[49m\u001b[43m.\u001b[49m\u001b[43msample\u001b[49m(n=num_subset, replace=\u001b[38;5;28;01mFalse\u001b[39;00m, random_state = \u001b[32m42\u001b[39m)\n\u001b[32m      6\u001b[39m     y_train = y_train(n=num_subset, replace=\u001b[38;5;28;01mFalse\u001b[39;00m, random_state = \u001b[32m42\u001b[39m)\n\u001b[32m      8\u001b[39m     \u001b[38;5;28;01mif\u001b[39;00m num_subset<\u001b[38;5;28mlen\u001b[39m(X_test):\n",
      "\u001b[31mAttributeError\u001b[39m: 'numpy.ndarray' object has no attribute 'sample'"
     ]
    }
   ],
   "source": [
    "if flag_slicing  == True :\n",
    "\n",
    "    # try slices of arrays too fasten fitting and set up code\n",
    "    \n",
    "    X_train = X_train[:num_subset,:]\n",
    "    y_train = y_train[:num_subset]\n",
    "\n",
    "    X_test = X_test[:num_subset,:]\n",
    "    y_test = y_test[:num_subset]\n",
    "\n",
    "    print(\"------------------\")\n",
    "    print(\"Slicing is used:\")\n",
    "    print(\"New length of: \")\n",
    "    print(\"y_train: \", len(y_train))\n",
    "    print(\"X_train: \", len(X_train))\n",
    "\n",
    "    print(\"y_test: \", len(y_test))\n",
    "    print(\"X_test: \",len(X_test))"
   ]
  },
  {
   "cell_type": "markdown",
   "id": "10b5fda3",
   "metadata": {},
   "source": [
    "## modelling"
   ]
  },
  {
   "cell_type": "markdown",
   "id": "2a220907",
   "metadata": {},
   "source": [
    "### scaling"
   ]
  },
  {
   "cell_type": "code",
   "execution_count": 10,
   "id": "59de6b42",
   "metadata": {},
   "outputs": [],
   "source": [
    "# sacling the data\n",
    "scaler = StandardScaler()\n",
    "\n",
    "# fit and transform train data \n",
    "X_train_scaled = scaler.fit_transform(X_train)\n",
    "\n",
    "# fit test data\n",
    "X_test_scaled = scaler.transform(X_test)"
   ]
  },
  {
   "cell_type": "markdown",
   "id": "8cee917c",
   "metadata": {},
   "source": [
    "### Optional: modelling: first try with random hyperparamters"
   ]
  },
  {
   "cell_type": "code",
   "execution_count": 76,
   "id": "2d2b83fa",
   "metadata": {},
   "outputs": [],
   "source": [
    "# # target vector needs to be of type category:\n",
    "# ds_y_train = pd.Series(y_train).astype(\"category\")\n",
    "\n",
    "# # training the model\n",
    "# clf = SVC(gamma=0.01,  kernel='poly')\n",
    "# clf.fit(X_train_scaled, ds_y_train)\n",
    "\n",
    "\n",
    "# # create filename of saved model:\n",
    "# if flag_slicing == True:\n",
    "#     model_filename = 'SVC_' + flag_dataset + '_slice'+ str(num_subset) + '.joblib'    \n",
    "# else: \n",
    "#     model_filename = 'SVC_' + flag_dataset + '.joblib'\n",
    "\n",
    "# # save model with joblib\n",
    "# joblib.dump(clf, os.path.join(model_path, model_filename), compress='gzip')\n",
    "\n",
    "\n",
    "# # predict  from X_test_scaled\n",
    "# y_pred = clf.predict(X_test_scaled)"
   ]
  },
  {
   "cell_type": "code",
   "execution_count": 77,
   "id": "9b3da066",
   "metadata": {},
   "outputs": [],
   "source": [
    "### optional:\n",
    "# load model instead of fitting it again\n",
    "# clf_loaded = joblib.load(os.path.join(model_path), 'SVC_model_pixel20_20_images_all.joblib')"
   ]
  },
  {
   "cell_type": "markdown",
   "id": "c6b5b511",
   "metadata": {},
   "source": [
    "## finding hyperparamters"
   ]
  },
  {
   "cell_type": "code",
   "execution_count": 11,
   "id": "23342412",
   "metadata": {},
   "outputs": [],
   "source": [
    "# Defining the parameters grid for hyperparamter optimization\n",
    "param_grid = {'C':[0.1,1,10,100], \n",
    "            'gamma':[0.0001,0.001,0.01, 0.1,1], \n",
    "            'kernel':['rbf','poly']} "
   ]
  },
  {
   "cell_type": "markdown",
   "id": "08f32abb",
   "metadata": {},
   "source": [
    "### Bayesian Approaches"
   ]
  },
  {
   "cell_type": "code",
   "execution_count": 12,
   "id": "811a2b1b",
   "metadata": {},
   "outputs": [],
   "source": [
    "clf_bay = SVC(probability=True) \n",
    "n_iter = 20\n",
    "\n",
    "bay_model = BayesSearchCV(clf_bay, search_spaces = param_grid, n_iter=n_iter)"
   ]
  },
  {
   "cell_type": "code",
   "execution_count": 13,
   "id": "4bbf160b",
   "metadata": {},
   "outputs": [
    {
     "data": {
      "text/html": [
       "<style>#sk-container-id-1 {\n",
       "  /* Definition of color scheme common for light and dark mode */\n",
       "  --sklearn-color-text: #000;\n",
       "  --sklearn-color-text-muted: #666;\n",
       "  --sklearn-color-line: gray;\n",
       "  /* Definition of color scheme for unfitted estimators */\n",
       "  --sklearn-color-unfitted-level-0: #fff5e6;\n",
       "  --sklearn-color-unfitted-level-1: #f6e4d2;\n",
       "  --sklearn-color-unfitted-level-2: #ffe0b3;\n",
       "  --sklearn-color-unfitted-level-3: chocolate;\n",
       "  /* Definition of color scheme for fitted estimators */\n",
       "  --sklearn-color-fitted-level-0: #f0f8ff;\n",
       "  --sklearn-color-fitted-level-1: #d4ebff;\n",
       "  --sklearn-color-fitted-level-2: #b3dbfd;\n",
       "  --sklearn-color-fitted-level-3: cornflowerblue;\n",
       "\n",
       "  /* Specific color for light theme */\n",
       "  --sklearn-color-text-on-default-background: var(--sg-text-color, var(--theme-code-foreground, var(--jp-content-font-color1, black)));\n",
       "  --sklearn-color-background: var(--sg-background-color, var(--theme-background, var(--jp-layout-color0, white)));\n",
       "  --sklearn-color-border-box: var(--sg-text-color, var(--theme-code-foreground, var(--jp-content-font-color1, black)));\n",
       "  --sklearn-color-icon: #696969;\n",
       "\n",
       "  @media (prefers-color-scheme: dark) {\n",
       "    /* Redefinition of color scheme for dark theme */\n",
       "    --sklearn-color-text-on-default-background: var(--sg-text-color, var(--theme-code-foreground, var(--jp-content-font-color1, white)));\n",
       "    --sklearn-color-background: var(--sg-background-color, var(--theme-background, var(--jp-layout-color0, #111)));\n",
       "    --sklearn-color-border-box: var(--sg-text-color, var(--theme-code-foreground, var(--jp-content-font-color1, white)));\n",
       "    --sklearn-color-icon: #878787;\n",
       "  }\n",
       "}\n",
       "\n",
       "#sk-container-id-1 {\n",
       "  color: var(--sklearn-color-text);\n",
       "}\n",
       "\n",
       "#sk-container-id-1 pre {\n",
       "  padding: 0;\n",
       "}\n",
       "\n",
       "#sk-container-id-1 input.sk-hidden--visually {\n",
       "  border: 0;\n",
       "  clip: rect(1px 1px 1px 1px);\n",
       "  clip: rect(1px, 1px, 1px, 1px);\n",
       "  height: 1px;\n",
       "  margin: -1px;\n",
       "  overflow: hidden;\n",
       "  padding: 0;\n",
       "  position: absolute;\n",
       "  width: 1px;\n",
       "}\n",
       "\n",
       "#sk-container-id-1 div.sk-dashed-wrapped {\n",
       "  border: 1px dashed var(--sklearn-color-line);\n",
       "  margin: 0 0.4em 0.5em 0.4em;\n",
       "  box-sizing: border-box;\n",
       "  padding-bottom: 0.4em;\n",
       "  background-color: var(--sklearn-color-background);\n",
       "}\n",
       "\n",
       "#sk-container-id-1 div.sk-container {\n",
       "  /* jupyter's `normalize.less` sets `[hidden] { display: none; }`\n",
       "     but bootstrap.min.css set `[hidden] { display: none !important; }`\n",
       "     so we also need the `!important` here to be able to override the\n",
       "     default hidden behavior on the sphinx rendered scikit-learn.org.\n",
       "     See: https://github.com/scikit-learn/scikit-learn/issues/21755 */\n",
       "  display: inline-block !important;\n",
       "  position: relative;\n",
       "}\n",
       "\n",
       "#sk-container-id-1 div.sk-text-repr-fallback {\n",
       "  display: none;\n",
       "}\n",
       "\n",
       "div.sk-parallel-item,\n",
       "div.sk-serial,\n",
       "div.sk-item {\n",
       "  /* draw centered vertical line to link estimators */\n",
       "  background-image: linear-gradient(var(--sklearn-color-text-on-default-background), var(--sklearn-color-text-on-default-background));\n",
       "  background-size: 2px 100%;\n",
       "  background-repeat: no-repeat;\n",
       "  background-position: center center;\n",
       "}\n",
       "\n",
       "/* Parallel-specific style estimator block */\n",
       "\n",
       "#sk-container-id-1 div.sk-parallel-item::after {\n",
       "  content: \"\";\n",
       "  width: 100%;\n",
       "  border-bottom: 2px solid var(--sklearn-color-text-on-default-background);\n",
       "  flex-grow: 1;\n",
       "}\n",
       "\n",
       "#sk-container-id-1 div.sk-parallel {\n",
       "  display: flex;\n",
       "  align-items: stretch;\n",
       "  justify-content: center;\n",
       "  background-color: var(--sklearn-color-background);\n",
       "  position: relative;\n",
       "}\n",
       "\n",
       "#sk-container-id-1 div.sk-parallel-item {\n",
       "  display: flex;\n",
       "  flex-direction: column;\n",
       "}\n",
       "\n",
       "#sk-container-id-1 div.sk-parallel-item:first-child::after {\n",
       "  align-self: flex-end;\n",
       "  width: 50%;\n",
       "}\n",
       "\n",
       "#sk-container-id-1 div.sk-parallel-item:last-child::after {\n",
       "  align-self: flex-start;\n",
       "  width: 50%;\n",
       "}\n",
       "\n",
       "#sk-container-id-1 div.sk-parallel-item:only-child::after {\n",
       "  width: 0;\n",
       "}\n",
       "\n",
       "/* Serial-specific style estimator block */\n",
       "\n",
       "#sk-container-id-1 div.sk-serial {\n",
       "  display: flex;\n",
       "  flex-direction: column;\n",
       "  align-items: center;\n",
       "  background-color: var(--sklearn-color-background);\n",
       "  padding-right: 1em;\n",
       "  padding-left: 1em;\n",
       "}\n",
       "\n",
       "\n",
       "/* Toggleable style: style used for estimator/Pipeline/ColumnTransformer box that is\n",
       "clickable and can be expanded/collapsed.\n",
       "- Pipeline and ColumnTransformer use this feature and define the default style\n",
       "- Estimators will overwrite some part of the style using the `sk-estimator` class\n",
       "*/\n",
       "\n",
       "/* Pipeline and ColumnTransformer style (default) */\n",
       "\n",
       "#sk-container-id-1 div.sk-toggleable {\n",
       "  /* Default theme specific background. It is overwritten whether we have a\n",
       "  specific estimator or a Pipeline/ColumnTransformer */\n",
       "  background-color: var(--sklearn-color-background);\n",
       "}\n",
       "\n",
       "/* Toggleable label */\n",
       "#sk-container-id-1 label.sk-toggleable__label {\n",
       "  cursor: pointer;\n",
       "  display: flex;\n",
       "  width: 100%;\n",
       "  margin-bottom: 0;\n",
       "  padding: 0.5em;\n",
       "  box-sizing: border-box;\n",
       "  text-align: center;\n",
       "  align-items: start;\n",
       "  justify-content: space-between;\n",
       "  gap: 0.5em;\n",
       "}\n",
       "\n",
       "#sk-container-id-1 label.sk-toggleable__label .caption {\n",
       "  font-size: 0.6rem;\n",
       "  font-weight: lighter;\n",
       "  color: var(--sklearn-color-text-muted);\n",
       "}\n",
       "\n",
       "#sk-container-id-1 label.sk-toggleable__label-arrow:before {\n",
       "  /* Arrow on the left of the label */\n",
       "  content: \"▸\";\n",
       "  float: left;\n",
       "  margin-right: 0.25em;\n",
       "  color: var(--sklearn-color-icon);\n",
       "}\n",
       "\n",
       "#sk-container-id-1 label.sk-toggleable__label-arrow:hover:before {\n",
       "  color: var(--sklearn-color-text);\n",
       "}\n",
       "\n",
       "/* Toggleable content - dropdown */\n",
       "\n",
       "#sk-container-id-1 div.sk-toggleable__content {\n",
       "  max-height: 0;\n",
       "  max-width: 0;\n",
       "  overflow: hidden;\n",
       "  text-align: left;\n",
       "  /* unfitted */\n",
       "  background-color: var(--sklearn-color-unfitted-level-0);\n",
       "}\n",
       "\n",
       "#sk-container-id-1 div.sk-toggleable__content.fitted {\n",
       "  /* fitted */\n",
       "  background-color: var(--sklearn-color-fitted-level-0);\n",
       "}\n",
       "\n",
       "#sk-container-id-1 div.sk-toggleable__content pre {\n",
       "  margin: 0.2em;\n",
       "  border-radius: 0.25em;\n",
       "  color: var(--sklearn-color-text);\n",
       "  /* unfitted */\n",
       "  background-color: var(--sklearn-color-unfitted-level-0);\n",
       "}\n",
       "\n",
       "#sk-container-id-1 div.sk-toggleable__content.fitted pre {\n",
       "  /* unfitted */\n",
       "  background-color: var(--sklearn-color-fitted-level-0);\n",
       "}\n",
       "\n",
       "#sk-container-id-1 input.sk-toggleable__control:checked~div.sk-toggleable__content {\n",
       "  /* Expand drop-down */\n",
       "  max-height: 200px;\n",
       "  max-width: 100%;\n",
       "  overflow: auto;\n",
       "}\n",
       "\n",
       "#sk-container-id-1 input.sk-toggleable__control:checked~label.sk-toggleable__label-arrow:before {\n",
       "  content: \"▾\";\n",
       "}\n",
       "\n",
       "/* Pipeline/ColumnTransformer-specific style */\n",
       "\n",
       "#sk-container-id-1 div.sk-label input.sk-toggleable__control:checked~label.sk-toggleable__label {\n",
       "  color: var(--sklearn-color-text);\n",
       "  background-color: var(--sklearn-color-unfitted-level-2);\n",
       "}\n",
       "\n",
       "#sk-container-id-1 div.sk-label.fitted input.sk-toggleable__control:checked~label.sk-toggleable__label {\n",
       "  background-color: var(--sklearn-color-fitted-level-2);\n",
       "}\n",
       "\n",
       "/* Estimator-specific style */\n",
       "\n",
       "/* Colorize estimator box */\n",
       "#sk-container-id-1 div.sk-estimator input.sk-toggleable__control:checked~label.sk-toggleable__label {\n",
       "  /* unfitted */\n",
       "  background-color: var(--sklearn-color-unfitted-level-2);\n",
       "}\n",
       "\n",
       "#sk-container-id-1 div.sk-estimator.fitted input.sk-toggleable__control:checked~label.sk-toggleable__label {\n",
       "  /* fitted */\n",
       "  background-color: var(--sklearn-color-fitted-level-2);\n",
       "}\n",
       "\n",
       "#sk-container-id-1 div.sk-label label.sk-toggleable__label,\n",
       "#sk-container-id-1 div.sk-label label {\n",
       "  /* The background is the default theme color */\n",
       "  color: var(--sklearn-color-text-on-default-background);\n",
       "}\n",
       "\n",
       "/* On hover, darken the color of the background */\n",
       "#sk-container-id-1 div.sk-label:hover label.sk-toggleable__label {\n",
       "  color: var(--sklearn-color-text);\n",
       "  background-color: var(--sklearn-color-unfitted-level-2);\n",
       "}\n",
       "\n",
       "/* Label box, darken color on hover, fitted */\n",
       "#sk-container-id-1 div.sk-label.fitted:hover label.sk-toggleable__label.fitted {\n",
       "  color: var(--sklearn-color-text);\n",
       "  background-color: var(--sklearn-color-fitted-level-2);\n",
       "}\n",
       "\n",
       "/* Estimator label */\n",
       "\n",
       "#sk-container-id-1 div.sk-label label {\n",
       "  font-family: monospace;\n",
       "  font-weight: bold;\n",
       "  display: inline-block;\n",
       "  line-height: 1.2em;\n",
       "}\n",
       "\n",
       "#sk-container-id-1 div.sk-label-container {\n",
       "  text-align: center;\n",
       "}\n",
       "\n",
       "/* Estimator-specific */\n",
       "#sk-container-id-1 div.sk-estimator {\n",
       "  font-family: monospace;\n",
       "  border: 1px dotted var(--sklearn-color-border-box);\n",
       "  border-radius: 0.25em;\n",
       "  box-sizing: border-box;\n",
       "  margin-bottom: 0.5em;\n",
       "  /* unfitted */\n",
       "  background-color: var(--sklearn-color-unfitted-level-0);\n",
       "}\n",
       "\n",
       "#sk-container-id-1 div.sk-estimator.fitted {\n",
       "  /* fitted */\n",
       "  background-color: var(--sklearn-color-fitted-level-0);\n",
       "}\n",
       "\n",
       "/* on hover */\n",
       "#sk-container-id-1 div.sk-estimator:hover {\n",
       "  /* unfitted */\n",
       "  background-color: var(--sklearn-color-unfitted-level-2);\n",
       "}\n",
       "\n",
       "#sk-container-id-1 div.sk-estimator.fitted:hover {\n",
       "  /* fitted */\n",
       "  background-color: var(--sklearn-color-fitted-level-2);\n",
       "}\n",
       "\n",
       "/* Specification for estimator info (e.g. \"i\" and \"?\") */\n",
       "\n",
       "/* Common style for \"i\" and \"?\" */\n",
       "\n",
       ".sk-estimator-doc-link,\n",
       "a:link.sk-estimator-doc-link,\n",
       "a:visited.sk-estimator-doc-link {\n",
       "  float: right;\n",
       "  font-size: smaller;\n",
       "  line-height: 1em;\n",
       "  font-family: monospace;\n",
       "  background-color: var(--sklearn-color-background);\n",
       "  border-radius: 1em;\n",
       "  height: 1em;\n",
       "  width: 1em;\n",
       "  text-decoration: none !important;\n",
       "  margin-left: 0.5em;\n",
       "  text-align: center;\n",
       "  /* unfitted */\n",
       "  border: var(--sklearn-color-unfitted-level-1) 1pt solid;\n",
       "  color: var(--sklearn-color-unfitted-level-1);\n",
       "}\n",
       "\n",
       ".sk-estimator-doc-link.fitted,\n",
       "a:link.sk-estimator-doc-link.fitted,\n",
       "a:visited.sk-estimator-doc-link.fitted {\n",
       "  /* fitted */\n",
       "  border: var(--sklearn-color-fitted-level-1) 1pt solid;\n",
       "  color: var(--sklearn-color-fitted-level-1);\n",
       "}\n",
       "\n",
       "/* On hover */\n",
       "div.sk-estimator:hover .sk-estimator-doc-link:hover,\n",
       ".sk-estimator-doc-link:hover,\n",
       "div.sk-label-container:hover .sk-estimator-doc-link:hover,\n",
       ".sk-estimator-doc-link:hover {\n",
       "  /* unfitted */\n",
       "  background-color: var(--sklearn-color-unfitted-level-3);\n",
       "  color: var(--sklearn-color-background);\n",
       "  text-decoration: none;\n",
       "}\n",
       "\n",
       "div.sk-estimator.fitted:hover .sk-estimator-doc-link.fitted:hover,\n",
       ".sk-estimator-doc-link.fitted:hover,\n",
       "div.sk-label-container:hover .sk-estimator-doc-link.fitted:hover,\n",
       ".sk-estimator-doc-link.fitted:hover {\n",
       "  /* fitted */\n",
       "  background-color: var(--sklearn-color-fitted-level-3);\n",
       "  color: var(--sklearn-color-background);\n",
       "  text-decoration: none;\n",
       "}\n",
       "\n",
       "/* Span, style for the box shown on hovering the info icon */\n",
       ".sk-estimator-doc-link span {\n",
       "  display: none;\n",
       "  z-index: 9999;\n",
       "  position: relative;\n",
       "  font-weight: normal;\n",
       "  right: .2ex;\n",
       "  padding: .5ex;\n",
       "  margin: .5ex;\n",
       "  width: min-content;\n",
       "  min-width: 20ex;\n",
       "  max-width: 50ex;\n",
       "  color: var(--sklearn-color-text);\n",
       "  box-shadow: 2pt 2pt 4pt #999;\n",
       "  /* unfitted */\n",
       "  background: var(--sklearn-color-unfitted-level-0);\n",
       "  border: .5pt solid var(--sklearn-color-unfitted-level-3);\n",
       "}\n",
       "\n",
       ".sk-estimator-doc-link.fitted span {\n",
       "  /* fitted */\n",
       "  background: var(--sklearn-color-fitted-level-0);\n",
       "  border: var(--sklearn-color-fitted-level-3);\n",
       "}\n",
       "\n",
       ".sk-estimator-doc-link:hover span {\n",
       "  display: block;\n",
       "}\n",
       "\n",
       "/* \"?\"-specific style due to the `<a>` HTML tag */\n",
       "\n",
       "#sk-container-id-1 a.estimator_doc_link {\n",
       "  float: right;\n",
       "  font-size: 1rem;\n",
       "  line-height: 1em;\n",
       "  font-family: monospace;\n",
       "  background-color: var(--sklearn-color-background);\n",
       "  border-radius: 1rem;\n",
       "  height: 1rem;\n",
       "  width: 1rem;\n",
       "  text-decoration: none;\n",
       "  /* unfitted */\n",
       "  color: var(--sklearn-color-unfitted-level-1);\n",
       "  border: var(--sklearn-color-unfitted-level-1) 1pt solid;\n",
       "}\n",
       "\n",
       "#sk-container-id-1 a.estimator_doc_link.fitted {\n",
       "  /* fitted */\n",
       "  border: var(--sklearn-color-fitted-level-1) 1pt solid;\n",
       "  color: var(--sklearn-color-fitted-level-1);\n",
       "}\n",
       "\n",
       "/* On hover */\n",
       "#sk-container-id-1 a.estimator_doc_link:hover {\n",
       "  /* unfitted */\n",
       "  background-color: var(--sklearn-color-unfitted-level-3);\n",
       "  color: var(--sklearn-color-background);\n",
       "  text-decoration: none;\n",
       "}\n",
       "\n",
       "#sk-container-id-1 a.estimator_doc_link.fitted:hover {\n",
       "  /* fitted */\n",
       "  background-color: var(--sklearn-color-fitted-level-3);\n",
       "}\n",
       "</style><div id=\"sk-container-id-1\" class=\"sk-top-container\"><div class=\"sk-text-repr-fallback\"><pre>BayesSearchCV(estimator=SVC(probability=True), n_iter=20,\n",
       "              search_spaces={&#x27;C&#x27;: [0.1, 1, 10, 100],\n",
       "                             &#x27;gamma&#x27;: [0.0001, 0.001, 0.01, 0.1, 1],\n",
       "                             &#x27;kernel&#x27;: [&#x27;rbf&#x27;, &#x27;poly&#x27;]})</pre><b>In a Jupyter environment, please rerun this cell to show the HTML representation or trust the notebook. <br />On GitHub, the HTML representation is unable to render, please try loading this page with nbviewer.org.</b></div><div class=\"sk-container\" hidden><div class=\"sk-item sk-dashed-wrapped\"><div class=\"sk-label-container\"><div class=\"sk-label fitted sk-toggleable\"><input class=\"sk-toggleable__control sk-hidden--visually\" id=\"sk-estimator-id-1\" type=\"checkbox\" ><label for=\"sk-estimator-id-1\" class=\"sk-toggleable__label fitted sk-toggleable__label-arrow\"><div><div>BayesSearchCV</div></div><div><span class=\"sk-estimator-doc-link fitted\">i<span>Fitted</span></span></div></label><div class=\"sk-toggleable__content fitted\"><pre>BayesSearchCV(estimator=SVC(probability=True), n_iter=20,\n",
       "              search_spaces={&#x27;C&#x27;: [0.1, 1, 10, 100],\n",
       "                             &#x27;gamma&#x27;: [0.0001, 0.001, 0.01, 0.1, 1],\n",
       "                             &#x27;kernel&#x27;: [&#x27;rbf&#x27;, &#x27;poly&#x27;]})</pre></div> </div></div><div class=\"sk-parallel\"><div class=\"sk-parallel-item\"><div class=\"sk-item\"><div class=\"sk-label-container\"><div class=\"sk-label fitted sk-toggleable\"><input class=\"sk-toggleable__control sk-hidden--visually\" id=\"sk-estimator-id-2\" type=\"checkbox\" ><label for=\"sk-estimator-id-2\" class=\"sk-toggleable__label fitted sk-toggleable__label-arrow\"><div><div>best_estimator_: SVC</div></div></label><div class=\"sk-toggleable__content fitted\"><pre>SVC(C=10, gamma=0.001, probability=True)</pre></div> </div></div><div class=\"sk-serial\"><div class=\"sk-item\"><div class=\"sk-estimator fitted sk-toggleable\"><input class=\"sk-toggleable__control sk-hidden--visually\" id=\"sk-estimator-id-3\" type=\"checkbox\" ><label for=\"sk-estimator-id-3\" class=\"sk-toggleable__label fitted sk-toggleable__label-arrow\"><div><div>SVC</div></div><div><a class=\"sk-estimator-doc-link fitted\" rel=\"noreferrer\" target=\"_blank\" href=\"https://scikit-learn.org/1.6/modules/generated/sklearn.svm.SVC.html\">?<span>Documentation for SVC</span></a></div></label><div class=\"sk-toggleable__content fitted\"><pre>SVC(C=10, gamma=0.001, probability=True)</pre></div> </div></div></div></div></div></div></div></div></div>"
      ],
      "text/plain": [
       "BayesSearchCV(estimator=SVC(probability=True), n_iter=20,\n",
       "              search_spaces={'C': [0.1, 1, 10, 100],\n",
       "                             'gamma': [0.0001, 0.001, 0.01, 0.1, 1],\n",
       "                             'kernel': ['rbf', 'poly']})"
      ]
     },
     "execution_count": 13,
     "metadata": {},
     "output_type": "execute_result"
    }
   ],
   "source": [
    "# train the model:\n",
    "bay_model.fit(X_train_scaled, y_train)"
   ]
  },
  {
   "cell_type": "markdown",
   "id": "e75011ab",
   "metadata": {},
   "source": [
    "#### save trained model"
   ]
  },
  {
   "cell_type": "code",
   "execution_count": 14,
   "id": "21687722",
   "metadata": {},
   "outputs": [],
   "source": [
    "# create filename of saved model:\n",
    "if flag_slicing == True:\n",
    "    model_name     = 'SVC_bay_' + flag_dataset + '_slice'+ str(num_subset) \n",
    "    model_filename = model_name + '.joblib' \n",
    "else: \n",
    "    model_name     = 'SVC_bay_' + flag_dataset\n",
    "    model_filename =  model_name + '.joblib'"
   ]
  },
  {
   "cell_type": "code",
   "execution_count": 15,
   "id": "cd46ed8f",
   "metadata": {},
   "outputs": [
    {
     "data": {
      "text/plain": [
       "['..\\\\\\\\Models\\\\\\\\ML\\\\SVC_bay_20_mask_slice2000.joblib']"
      ]
     },
     "execution_count": 15,
     "metadata": {},
     "output_type": "execute_result"
    }
   ],
   "source": [
    "# save model with joblib\n",
    "joblib.dump(bay_model, os.path.join(model_path, model_filename), compress='gzip')"
   ]
  },
  {
   "cell_type": "markdown",
   "id": "7fab3c9f",
   "metadata": {},
   "source": [
    "#### Evaluation"
   ]
  },
  {
   "cell_type": "code",
   "execution_count": 33,
   "id": "8c867d19",
   "metadata": {},
   "outputs": [
    {
     "name": "stdout",
     "output_type": "stream",
     "text": [
      "C 10\n",
      "gamma 0.001\n",
      "kernel rbf\n"
     ]
    }
   ],
   "source": [
    "for keys, value in bay_model.best_params_.items():\n",
    "   print(keys, value)"
   ]
  },
  {
   "cell_type": "code",
   "execution_count": 44,
   "id": "0d8e1f1f",
   "metadata": {},
   "outputs": [
    {
     "name": "stdout",
     "output_type": "stream",
     "text": [
      "OrderedDict({'C': 10, 'gamma': 0.001, 'kernel': 'rbf'})\n"
     ]
    }
   ],
   "source": [
    "#print best hyperparamters:\n",
    "print(bay_model.best_params_)\n",
    "\n",
    "# write best hyperparameters to file: \n",
    "with open(os.path.join(model_path, \"results\", \"model_hyperparams.txt\"), \"a\") as f:\n",
    "  f.write(f'-------------------------------------------------------------------------------------------- \\n')\n",
    "  f.write(f'Tested model: {model_name} \\n')\n",
    "  for keys, value in bay_model.best_params_.items():\n",
    "      f.write(f'{keys}: {value} \\n')"
   ]
  },
  {
   "cell_type": "code",
   "execution_count": 28,
   "id": "1148415a",
   "metadata": {},
   "outputs": [],
   "source": [
    "#Predict the test features and create the confusion matrix\n",
    "y_pred_bay = bay_model.predict(X_test_scaled)\n",
    "#display(pd.crosstab(y_test, y_pred_bay, rownames=['Real Class'], colnames=['Predicted Class']))"
   ]
  },
  {
   "cell_type": "code",
   "execution_count": 22,
   "id": "c007cdce",
   "metadata": {},
   "outputs": [
    {
     "name": "stdout",
     "output_type": "stream",
     "text": [
      "              precision    recall  f1-score   support\n",
      "\n",
      "           0       0.42      0.26      0.32       343\n",
      "           1       0.63      0.57      0.59       582\n",
      "           2       0.68      0.84      0.75       941\n",
      "           3       0.86      0.66      0.75       134\n",
      "\n",
      "    accuracy                           0.65      2000\n",
      "   macro avg       0.65      0.58      0.60      2000\n",
      "weighted avg       0.63      0.65      0.63      2000\n",
      "\n"
     ]
    }
   ],
   "source": [
    "# classification report\n",
    "print(classification_report(y_test, y_pred_bay))\n",
    "\n",
    "# save report\n",
    "report_bay = classification_report(y_test, y_pred_bay, output_dict=True)\n",
    "df_report_bay = pd.DataFrame(report_bay).transpose()\n",
    "df_report_bay.to_csv(os.path.join(model_path, \"results\", model_name + \"_cf_report.csv\" ), index=False)\n",
    "\n"
   ]
  },
  {
   "cell_type": "code",
   "execution_count": 80,
   "id": "3800c72c",
   "metadata": {},
   "outputs": [
    {
     "name": "stdout",
     "output_type": "stream",
     "text": [
      "abs\n",
      "None\n"
     ]
    },
    {
     "data": {
      "image/png": "[encoded data removed]",
      "text/plain": [
       "<Figure size 700x700 with 1 Axes>"
      ]
     },
     "metadata": {},
     "output_type": "display_data"
    }
   ],
   "source": [
    "# show and saveonfusion matrix with absolute values: \n",
    "create_cm(y_test, y_pred_bay, None , model_path, model_name)"
   ]
  },
  {
   "cell_type": "code",
   "execution_count": 83,
   "id": "5ff1c759",
   "metadata": {},
   "outputs": [
    {
     "name": "stdout",
     "output_type": "stream",
     "text": [
      "norma\n",
      "true\n"
     ]
    },
    {
     "data": {
      "image/png": "[encoded data removed]",
      "text/plain": [
       "<Figure size 700x700 with 1 Axes>"
      ]
     },
     "metadata": {},
     "output_type": "display_data"
    }
   ],
   "source": [
    "# show and saveonfusion matrix with normalized values: \n",
    "create_cm(y_test, y_pred_bay, 'true' , model_path, model_name)"
   ]
  },
  {
   "cell_type": "markdown",
   "id": "aecd97fb",
   "metadata": {},
   "source": [
    "### GridSearchCV"
   ]
  },
  {
   "cell_type": "code",
   "execution_count": null,
   "id": "8def0749",
   "metadata": {},
   "outputs": [],
   "source": [
    "# create a new classifier:\n",
    "clf_grid = SVC(probability=True) \n",
    "\n",
    "grid_model = GridSearchCV(estimator=clf_grid, param_grid=param_grid)"
   ]
  },
  {
   "cell_type": "code",
   "execution_count": null,
   "id": "d5074b8f",
   "metadata": {},
   "outputs": [
    {
     "data": {
      "text/html": [
       "<style>#sk-container-id-1 {\n",
       "  /* Definition of color scheme common for light and dark mode */\n",
       "  --sklearn-color-text: #000;\n",
       "  --sklearn-color-text-muted: #666;\n",
       "  --sklearn-color-line: gray;\n",
       "  /* Definition of color scheme for unfitted estimators */\n",
       "  --sklearn-color-unfitted-level-0: #fff5e6;\n",
       "  --sklearn-color-unfitted-level-1: #f6e4d2;\n",
       "  --sklearn-color-unfitted-level-2: #ffe0b3;\n",
       "  --sklearn-color-unfitted-level-3: chocolate;\n",
       "  /* Definition of color scheme for fitted estimators */\n",
       "  --sklearn-color-fitted-level-0: #f0f8ff;\n",
       "  --sklearn-color-fitted-level-1: #d4ebff;\n",
       "  --sklearn-color-fitted-level-2: #b3dbfd;\n",
       "  --sklearn-color-fitted-level-3: cornflowerblue;\n",
       "\n",
       "  /* Specific color for light theme */\n",
       "  --sklearn-color-text-on-default-background: var(--sg-text-color, var(--theme-code-foreground, var(--jp-content-font-color1, black)));\n",
       "  --sklearn-color-background: var(--sg-background-color, var(--theme-background, var(--jp-layout-color0, white)));\n",
       "  --sklearn-color-border-box: var(--sg-text-color, var(--theme-code-foreground, var(--jp-content-font-color1, black)));\n",
       "  --sklearn-color-icon: #696969;\n",
       "\n",
       "  @media (prefers-color-scheme: dark) {\n",
       "    /* Redefinition of color scheme for dark theme */\n",
       "    --sklearn-color-text-on-default-background: var(--sg-text-color, var(--theme-code-foreground, var(--jp-content-font-color1, white)));\n",
       "    --sklearn-color-background: var(--sg-background-color, var(--theme-background, var(--jp-layout-color0, #111)));\n",
       "    --sklearn-color-border-box: var(--sg-text-color, var(--theme-code-foreground, var(--jp-content-font-color1, white)));\n",
       "    --sklearn-color-icon: #878787;\n",
       "  }\n",
       "}\n",
       "\n",
       "#sk-container-id-1 {\n",
       "  color: var(--sklearn-color-text);\n",
       "}\n",
       "\n",
       "#sk-container-id-1 pre {\n",
       "  padding: 0;\n",
       "}\n",
       "\n",
       "#sk-container-id-1 input.sk-hidden--visually {\n",
       "  border: 0;\n",
       "  clip: rect(1px 1px 1px 1px);\n",
       "  clip: rect(1px, 1px, 1px, 1px);\n",
       "  height: 1px;\n",
       "  margin: -1px;\n",
       "  overflow: hidden;\n",
       "  padding: 0;\n",
       "  position: absolute;\n",
       "  width: 1px;\n",
       "}\n",
       "\n",
       "#sk-container-id-1 div.sk-dashed-wrapped {\n",
       "  border: 1px dashed var(--sklearn-color-line);\n",
       "  margin: 0 0.4em 0.5em 0.4em;\n",
       "  box-sizing: border-box;\n",
       "  padding-bottom: 0.4em;\n",
       "  background-color: var(--sklearn-color-background);\n",
       "}\n",
       "\n",
       "#sk-container-id-1 div.sk-container {\n",
       "  /* jupyter's `normalize.less` sets `[hidden] { display: none; }`\n",
       "     but bootstrap.min.css set `[hidden] { display: none !important; }`\n",
       "     so we also need the `!important` here to be able to override the\n",
       "     default hidden behavior on the sphinx rendered scikit-learn.org.\n",
       "     See: https://github.com/scikit-learn/scikit-learn/issues/21755 */\n",
       "  display: inline-block !important;\n",
       "  position: relative;\n",
       "}\n",
       "\n",
       "#sk-container-id-1 div.sk-text-repr-fallback {\n",
       "  display: none;\n",
       "}\n",
       "\n",
       "div.sk-parallel-item,\n",
       "div.sk-serial,\n",
       "div.sk-item {\n",
       "  /* draw centered vertical line to link estimators */\n",
       "  background-image: linear-gradient(var(--sklearn-color-text-on-default-background), var(--sklearn-color-text-on-default-background));\n",
       "  background-size: 2px 100%;\n",
       "  background-repeat: no-repeat;\n",
       "  background-position: center center;\n",
       "}\n",
       "\n",
       "/* Parallel-specific style estimator block */\n",
       "\n",
       "#sk-container-id-1 div.sk-parallel-item::after {\n",
       "  content: \"\";\n",
       "  width: 100%;\n",
       "  border-bottom: 2px solid var(--sklearn-color-text-on-default-background);\n",
       "  flex-grow: 1;\n",
       "}\n",
       "\n",
       "#sk-container-id-1 div.sk-parallel {\n",
       "  display: flex;\n",
       "  align-items: stretch;\n",
       "  justify-content: center;\n",
       "  background-color: var(--sklearn-color-background);\n",
       "  position: relative;\n",
       "}\n",
       "\n",
       "#sk-container-id-1 div.sk-parallel-item {\n",
       "  display: flex;\n",
       "  flex-direction: column;\n",
       "}\n",
       "\n",
       "#sk-container-id-1 div.sk-parallel-item:first-child::after {\n",
       "  align-self: flex-end;\n",
       "  width: 50%;\n",
       "}\n",
       "\n",
       "#sk-container-id-1 div.sk-parallel-item:last-child::after {\n",
       "  align-self: flex-start;\n",
       "  width: 50%;\n",
       "}\n",
       "\n",
       "#sk-container-id-1 div.sk-parallel-item:only-child::after {\n",
       "  width: 0;\n",
       "}\n",
       "\n",
       "/* Serial-specific style estimator block */\n",
       "\n",
       "#sk-container-id-1 div.sk-serial {\n",
       "  display: flex;\n",
       "  flex-direction: column;\n",
       "  align-items: center;\n",
       "  background-color: var(--sklearn-color-background);\n",
       "  padding-right: 1em;\n",
       "  padding-left: 1em;\n",
       "}\n",
       "\n",
       "\n",
       "/* Toggleable style: style used for estimator/Pipeline/ColumnTransformer box that is\n",
       "clickable and can be expanded/collapsed.\n",
       "- Pipeline and ColumnTransformer use this feature and define the default style\n",
       "- Estimators will overwrite some part of the style using the `sk-estimator` class\n",
       "*/\n",
       "\n",
       "/* Pipeline and ColumnTransformer style (default) */\n",
       "\n",
       "#sk-container-id-1 div.sk-toggleable {\n",
       "  /* Default theme specific background. It is overwritten whether we have a\n",
       "  specific estimator or a Pipeline/ColumnTransformer */\n",
       "  background-color: var(--sklearn-color-background);\n",
       "}\n",
       "\n",
       "/* Toggleable label */\n",
       "#sk-container-id-1 label.sk-toggleable__label {\n",
       "  cursor: pointer;\n",
       "  display: flex;\n",
       "  width: 100%;\n",
       "  margin-bottom: 0;\n",
       "  padding: 0.5em;\n",
       "  box-sizing: border-box;\n",
       "  text-align: center;\n",
       "  align-items: start;\n",
       "  justify-content: space-between;\n",
       "  gap: 0.5em;\n",
       "}\n",
       "\n",
       "#sk-container-id-1 label.sk-toggleable__label .caption {\n",
       "  font-size: 0.6rem;\n",
       "  font-weight: lighter;\n",
       "  color: var(--sklearn-color-text-muted);\n",
       "}\n",
       "\n",
       "#sk-container-id-1 label.sk-toggleable__label-arrow:before {\n",
       "  /* Arrow on the left of the label */\n",
       "  content: \"▸\";\n",
       "  float: left;\n",
       "  margin-right: 0.25em;\n",
       "  color: var(--sklearn-color-icon);\n",
       "}\n",
       "\n",
       "#sk-container-id-1 label.sk-toggleable__label-arrow:hover:before {\n",
       "  color: var(--sklearn-color-text);\n",
       "}\n",
       "\n",
       "/* Toggleable content - dropdown */\n",
       "\n",
       "#sk-container-id-1 div.sk-toggleable__content {\n",
       "  max-height: 0;\n",
       "  max-width: 0;\n",
       "  overflow: hidden;\n",
       "  text-align: left;\n",
       "  /* unfitted */\n",
       "  background-color: var(--sklearn-color-unfitted-level-0);\n",
       "}\n",
       "\n",
       "#sk-container-id-1 div.sk-toggleable__content.fitted {\n",
       "  /* fitted */\n",
       "  background-color: var(--sklearn-color-fitted-level-0);\n",
       "}\n",
       "\n",
       "#sk-container-id-1 div.sk-toggleable__content pre {\n",
       "  margin: 0.2em;\n",
       "  border-radius: 0.25em;\n",
       "  color: var(--sklearn-color-text);\n",
       "  /* unfitted */\n",
       "  background-color: var(--sklearn-color-unfitted-level-0);\n",
       "}\n",
       "\n",
       "#sk-container-id-1 div.sk-toggleable__content.fitted pre {\n",
       "  /* unfitted */\n",
       "  background-color: var(--sklearn-color-fitted-level-0);\n",
       "}\n",
       "\n",
       "#sk-container-id-1 input.sk-toggleable__control:checked~div.sk-toggleable__content {\n",
       "  /* Expand drop-down */\n",
       "  max-height: 200px;\n",
       "  max-width: 100%;\n",
       "  overflow: auto;\n",
       "}\n",
       "\n",
       "#sk-container-id-1 input.sk-toggleable__control:checked~label.sk-toggleable__label-arrow:before {\n",
       "  content: \"▾\";\n",
       "}\n",
       "\n",
       "/* Pipeline/ColumnTransformer-specific style */\n",
       "\n",
       "#sk-container-id-1 div.sk-label input.sk-toggleable__control:checked~label.sk-toggleable__label {\n",
       "  color: var(--sklearn-color-text);\n",
       "  background-color: var(--sklearn-color-unfitted-level-2);\n",
       "}\n",
       "\n",
       "#sk-container-id-1 div.sk-label.fitted input.sk-toggleable__control:checked~label.sk-toggleable__label {\n",
       "  background-color: var(--sklearn-color-fitted-level-2);\n",
       "}\n",
       "\n",
       "/* Estimator-specific style */\n",
       "\n",
       "/* Colorize estimator box */\n",
       "#sk-container-id-1 div.sk-estimator input.sk-toggleable__control:checked~label.sk-toggleable__label {\n",
       "  /* unfitted */\n",
       "  background-color: var(--sklearn-color-unfitted-level-2);\n",
       "}\n",
       "\n",
       "#sk-container-id-1 div.sk-estimator.fitted input.sk-toggleable__control:checked~label.sk-toggleable__label {\n",
       "  /* fitted */\n",
       "  background-color: var(--sklearn-color-fitted-level-2);\n",
       "}\n",
       "\n",
       "#sk-container-id-1 div.sk-label label.sk-toggleable__label,\n",
       "#sk-container-id-1 div.sk-label label {\n",
       "  /* The background is the default theme color */\n",
       "  color: var(--sklearn-color-text-on-default-background);\n",
       "}\n",
       "\n",
       "/* On hover, darken the color of the background */\n",
       "#sk-container-id-1 div.sk-label:hover label.sk-toggleable__label {\n",
       "  color: var(--sklearn-color-text);\n",
       "  background-color: var(--sklearn-color-unfitted-level-2);\n",
       "}\n",
       "\n",
       "/* Label box, darken color on hover, fitted */\n",
       "#sk-container-id-1 div.sk-label.fitted:hover label.sk-toggleable__label.fitted {\n",
       "  color: var(--sklearn-color-text);\n",
       "  background-color: var(--sklearn-color-fitted-level-2);\n",
       "}\n",
       "\n",
       "/* Estimator label */\n",
       "\n",
       "#sk-container-id-1 div.sk-label label {\n",
       "  font-family: monospace;\n",
       "  font-weight: bold;\n",
       "  display: inline-block;\n",
       "  line-height: 1.2em;\n",
       "}\n",
       "\n",
       "#sk-container-id-1 div.sk-label-container {\n",
       "  text-align: center;\n",
       "}\n",
       "\n",
       "/* Estimator-specific */\n",
       "#sk-container-id-1 div.sk-estimator {\n",
       "  font-family: monospace;\n",
       "  border: 1px dotted var(--sklearn-color-border-box);\n",
       "  border-radius: 0.25em;\n",
       "  box-sizing: border-box;\n",
       "  margin-bottom: 0.5em;\n",
       "  /* unfitted */\n",
       "  background-color: var(--sklearn-color-unfitted-level-0);\n",
       "}\n",
       "\n",
       "#sk-container-id-1 div.sk-estimator.fitted {\n",
       "  /* fitted */\n",
       "  background-color: var(--sklearn-color-fitted-level-0);\n",
       "}\n",
       "\n",
       "/* on hover */\n",
       "#sk-container-id-1 div.sk-estimator:hover {\n",
       "  /* unfitted */\n",
       "  background-color: var(--sklearn-color-unfitted-level-2);\n",
       "}\n",
       "\n",
       "#sk-container-id-1 div.sk-estimator.fitted:hover {\n",
       "  /* fitted */\n",
       "  background-color: var(--sklearn-color-fitted-level-2);\n",
       "}\n",
       "\n",
       "/* Specification for estimator info (e.g. \"i\" and \"?\") */\n",
       "\n",
       "/* Common style for \"i\" and \"?\" */\n",
       "\n",
       ".sk-estimator-doc-link,\n",
       "a:link.sk-estimator-doc-link,\n",
       "a:visited.sk-estimator-doc-link {\n",
       "  float: right;\n",
       "  font-size: smaller;\n",
       "  line-height: 1em;\n",
       "  font-family: monospace;\n",
       "  background-color: var(--sklearn-color-background);\n",
       "  border-radius: 1em;\n",
       "  height: 1em;\n",
       "  width: 1em;\n",
       "  text-decoration: none !important;\n",
       "  margin-left: 0.5em;\n",
       "  text-align: center;\n",
       "  /* unfitted */\n",
       "  border: var(--sklearn-color-unfitted-level-1) 1pt solid;\n",
       "  color: var(--sklearn-color-unfitted-level-1);\n",
       "}\n",
       "\n",
       ".sk-estimator-doc-link.fitted,\n",
       "a:link.sk-estimator-doc-link.fitted,\n",
       "a:visited.sk-estimator-doc-link.fitted {\n",
       "  /* fitted */\n",
       "  border: var(--sklearn-color-fitted-level-1) 1pt solid;\n",
       "  color: var(--sklearn-color-fitted-level-1);\n",
       "}\n",
       "\n",
       "/* On hover */\n",
       "div.sk-estimator:hover .sk-estimator-doc-link:hover,\n",
       ".sk-estimator-doc-link:hover,\n",
       "div.sk-label-container:hover .sk-estimator-doc-link:hover,\n",
       ".sk-estimator-doc-link:hover {\n",
       "  /* unfitted */\n",
       "  background-color: var(--sklearn-color-unfitted-level-3);\n",
       "  color: var(--sklearn-color-background);\n",
       "  text-decoration: none;\n",
       "}\n",
       "\n",
       "div.sk-estimator.fitted:hover .sk-estimator-doc-link.fitted:hover,\n",
       ".sk-estimator-doc-link.fitted:hover,\n",
       "div.sk-label-container:hover .sk-estimator-doc-link.fitted:hover,\n",
       ".sk-estimator-doc-link.fitted:hover {\n",
       "  /* fitted */\n",
       "  background-color: var(--sklearn-color-fitted-level-3);\n",
       "  color: var(--sklearn-color-background);\n",
       "  text-decoration: none;\n",
       "}\n",
       "\n",
       "/* Span, style for the box shown on hovering the info icon */\n",
       ".sk-estimator-doc-link span {\n",
       "  display: none;\n",
       "  z-index: 9999;\n",
       "  position: relative;\n",
       "  font-weight: normal;\n",
       "  right: .2ex;\n",
       "  padding: .5ex;\n",
       "  margin: .5ex;\n",
       "  width: min-content;\n",
       "  min-width: 20ex;\n",
       "  max-width: 50ex;\n",
       "  color: var(--sklearn-color-text);\n",
       "  box-shadow: 2pt 2pt 4pt #999;\n",
       "  /* unfitted */\n",
       "  background: var(--sklearn-color-unfitted-level-0);\n",
       "  border: .5pt solid var(--sklearn-color-unfitted-level-3);\n",
       "}\n",
       "\n",
       ".sk-estimator-doc-link.fitted span {\n",
       "  /* fitted */\n",
       "  background: var(--sklearn-color-fitted-level-0);\n",
       "  border: var(--sklearn-color-fitted-level-3);\n",
       "}\n",
       "\n",
       ".sk-estimator-doc-link:hover span {\n",
       "  display: block;\n",
       "}\n",
       "\n",
       "/* \"?\"-specific style due to the `<a>` HTML tag */\n",
       "\n",
       "#sk-container-id-1 a.estimator_doc_link {\n",
       "  float: right;\n",
       "  font-size: 1rem;\n",
       "  line-height: 1em;\n",
       "  font-family: monospace;\n",
       "  background-color: var(--sklearn-color-background);\n",
       "  border-radius: 1rem;\n",
       "  height: 1rem;\n",
       "  width: 1rem;\n",
       "  text-decoration: none;\n",
       "  /* unfitted */\n",
       "  color: var(--sklearn-color-unfitted-level-1);\n",
       "  border: var(--sklearn-color-unfitted-level-1) 1pt solid;\n",
       "}\n",
       "\n",
       "#sk-container-id-1 a.estimator_doc_link.fitted {\n",
       "  /* fitted */\n",
       "  border: var(--sklearn-color-fitted-level-1) 1pt solid;\n",
       "  color: var(--sklearn-color-fitted-level-1);\n",
       "}\n",
       "\n",
       "/* On hover */\n",
       "#sk-container-id-1 a.estimator_doc_link:hover {\n",
       "  /* unfitted */\n",
       "  background-color: var(--sklearn-color-unfitted-level-3);\n",
       "  color: var(--sklearn-color-background);\n",
       "  text-decoration: none;\n",
       "}\n",
       "\n",
       "#sk-container-id-1 a.estimator_doc_link.fitted:hover {\n",
       "  /* fitted */\n",
       "  background-color: var(--sklearn-color-fitted-level-3);\n",
       "}\n",
       "</style><div id=\"sk-container-id-1\" class=\"sk-top-container\"><div class=\"sk-text-repr-fallback\"><pre>GridSearchCV(estimator=SVC(probability=True),\n",
       "             param_grid={&#x27;C&#x27;: [0.1, 1, 10, 100],\n",
       "                         &#x27;gamma&#x27;: [0.0001, 0.001, 0.01, 0.1, 1],\n",
       "                         &#x27;kernel&#x27;: [&#x27;rbf&#x27;, &#x27;poly&#x27;]})</pre><b>In a Jupyter environment, please rerun this cell to show the HTML representation or trust the notebook. <br />On GitHub, the HTML representation is unable to render, please try loading this page with nbviewer.org.</b></div><div class=\"sk-container\" hidden><div class=\"sk-item sk-dashed-wrapped\"><div class=\"sk-label-container\"><div class=\"sk-label fitted sk-toggleable\"><input class=\"sk-toggleable__control sk-hidden--visually\" id=\"sk-estimator-id-1\" type=\"checkbox\" ><label for=\"sk-estimator-id-1\" class=\"sk-toggleable__label fitted sk-toggleable__label-arrow\"><div><div>GridSearchCV</div></div><div><a class=\"sk-estimator-doc-link fitted\" rel=\"noreferrer\" target=\"_blank\" href=\"https://scikit-learn.org/1.6/modules/generated/sklearn.model_selection.GridSearchCV.html\">?<span>Documentation for GridSearchCV</span></a><span class=\"sk-estimator-doc-link fitted\">i<span>Fitted</span></span></div></label><div class=\"sk-toggleable__content fitted\"><pre>GridSearchCV(estimator=SVC(probability=True),\n",
       "             param_grid={&#x27;C&#x27;: [0.1, 1, 10, 100],\n",
       "                         &#x27;gamma&#x27;: [0.0001, 0.001, 0.01, 0.1, 1],\n",
       "                         &#x27;kernel&#x27;: [&#x27;rbf&#x27;, &#x27;poly&#x27;]})</pre></div> </div></div><div class=\"sk-parallel\"><div class=\"sk-parallel-item\"><div class=\"sk-item\"><div class=\"sk-label-container\"><div class=\"sk-label fitted sk-toggleable\"><input class=\"sk-toggleable__control sk-hidden--visually\" id=\"sk-estimator-id-2\" type=\"checkbox\" ><label for=\"sk-estimator-id-2\" class=\"sk-toggleable__label fitted sk-toggleable__label-arrow\"><div><div>best_estimator_: SVC</div></div></label><div class=\"sk-toggleable__content fitted\"><pre>SVC(C=10, gamma=0.001, probability=True)</pre></div> </div></div><div class=\"sk-serial\"><div class=\"sk-item\"><div class=\"sk-estimator fitted sk-toggleable\"><input class=\"sk-toggleable__control sk-hidden--visually\" id=\"sk-estimator-id-3\" type=\"checkbox\" ><label for=\"sk-estimator-id-3\" class=\"sk-toggleable__label fitted sk-toggleable__label-arrow\"><div><div>SVC</div></div><div><a class=\"sk-estimator-doc-link fitted\" rel=\"noreferrer\" target=\"_blank\" href=\"https://scikit-learn.org/1.6/modules/generated/sklearn.svm.SVC.html\">?<span>Documentation for SVC</span></a></div></label><div class=\"sk-toggleable__content fitted\"><pre>SVC(C=10, gamma=0.001, probability=True)</pre></div> </div></div></div></div></div></div></div></div></div>"
      ],
      "text/plain": [
       "GridSearchCV(estimator=SVC(probability=True),\n",
       "             param_grid={'C': [0.1, 1, 10, 100],\n",
       "                         'gamma': [0.0001, 0.001, 0.01, 0.1, 1],\n",
       "                         'kernel': ['rbf', 'poly']})"
      ]
     },
     "execution_count": 79,
     "metadata": {},
     "output_type": "execute_result"
    }
   ],
   "source": [
    "# train the model:\n",
    "grid_model.fit(X_train_scaled, y_train)\n"
   ]
  },
  {
   "cell_type": "markdown",
   "id": "250d3e80",
   "metadata": {},
   "source": [
    "#### save trained model"
   ]
  },
  {
   "cell_type": "code",
   "execution_count": null,
   "id": "0eab0a24",
   "metadata": {},
   "outputs": [],
   "source": [
    "# create filename of saved model:\n",
    "if flag_slicing == True:\n",
    "    model_name     = 'SVC_grid_' + flag_dataset + '_slice'+ str(num_subset) \n",
    "    model_filename = model_name + '.joblib' \n",
    "else: \n",
    "    model_name     = 'SVC_grid' + flag_dataset\n",
    "    model_filename =  model_name + '.joblib'"
   ]
  },
  {
   "cell_type": "code",
   "execution_count": null,
   "id": "39a85c2a",
   "metadata": {},
   "outputs": [
    {
     "data": {
      "text/plain": [
       "['..\\\\\\\\Models\\\\\\\\ML\\\\SVC_grid_20_mask_slice2000.joblib']"
      ]
     },
     "execution_count": 81,
     "metadata": {},
     "output_type": "execute_result"
    }
   ],
   "source": [
    "# save model with joblib\n",
    "joblib.dump(grid_model, os.path.join(model_path, model_filename), compress='gzip')"
   ]
  },
  {
   "cell_type": "markdown",
   "id": "9f8c9f90",
   "metadata": {},
   "source": [
    "#### Evaluation"
   ]
  },
  {
   "cell_type": "code",
   "execution_count": 10,
   "id": "47da8e13",
   "metadata": {},
   "outputs": [],
   "source": [
    "#print(pd.DataFrame.from_dict(grid_model.cv_results_).loc[:,['params', 'mean_test_score']]) \n"
   ]
  },
  {
   "cell_type": "code",
   "execution_count": 43,
   "id": "f848f86e",
   "metadata": {},
   "outputs": [
    {
     "ename": "NameError",
     "evalue": "name 'grid_model' is not defined",
     "output_type": "error",
     "traceback": [
      "\u001b[31m---------------------------------------------------------------------------\u001b[39m",
      "\u001b[31mNameError\u001b[39m                                 Traceback (most recent call last)",
      "\u001b[36mCell\u001b[39m\u001b[36m \u001b[39m\u001b[32mIn[43]\u001b[39m\u001b[32m, line 2\u001b[39m\n\u001b[32m      1\u001b[39m \u001b[38;5;66;03m#print best hyperparamters:\u001b[39;00m\n\u001b[32m----> \u001b[39m\u001b[32m2\u001b[39m \u001b[38;5;28mprint\u001b[39m(\u001b[43mgrid_model\u001b[49m.best_params_)\n\u001b[32m      4\u001b[39m \u001b[38;5;66;03m# write best hyperparameters to file: \u001b[39;00m\n\u001b[32m      5\u001b[39m \u001b[38;5;28;01mwith\u001b[39;00m \u001b[38;5;28mopen\u001b[39m(os.path.join(model_path, \u001b[33m\"\u001b[39m\u001b[33mresults\u001b[39m\u001b[33m\"\u001b[39m, \u001b[33m\"\u001b[39m\u001b[33mmodel_hyperparams.txt\u001b[39m\u001b[33m\"\u001b[39m), \u001b[33m\"\u001b[39m\u001b[33ma\u001b[39m\u001b[33m\"\u001b[39m) \u001b[38;5;28;01mas\u001b[39;00m f:\n",
      "\u001b[31mNameError\u001b[39m: name 'grid_model' is not defined"
     ]
    }
   ],
   "source": [
    "#print best hyperparamters:\n",
    "print(grid_model.best_params_)\n",
    "\n",
    "# write best hyperparameters to file: \n",
    "with open(os.path.join(model_path, \"results\", \"model_hyperparams.txt\"), \"a\") as f:\n",
    "  f.write(f'-------------------------------------------------------------------------------------------- \\n')\n",
    "  f.write(f'Tested model: {model_name} \\n')\n",
    "  for keys, value in grid_model.best_params_.items():\n",
    "      f.write(f'{keys}: {value} \\n')"
   ]
  },
  {
   "cell_type": "code",
   "execution_count": null,
   "id": "93a8b025",
   "metadata": {},
   "outputs": [
    {
     "name": "stdout",
     "output_type": "stream",
     "text": [
      "{'C': 10, 'gamma': 0.001, 'kernel': 'rbf'}\n"
     ]
    },
    {
     "data": {
      "application/vnd.microsoft.datawrangler.viewer.v0+json": {
       "columns": [
        {
         "name": "Real Class",
         "rawType": "int64",
         "type": "integer"
        },
        {
         "name": "0",
         "rawType": "int64",
         "type": "integer"
        },
        {
         "name": "1",
         "rawType": "int64",
         "type": "integer"
        },
        {
         "name": "2",
         "rawType": "int64",
         "type": "integer"
        },
        {
         "name": "3",
         "rawType": "int64",
         "type": "integer"
        }
       ],
       "conversionMethod": "pd.DataFrame",
       "ref": "c88ed32e-91c3-408e-b353-2e6cea17693d",
       "rows": [
        [
         "0",
         "88",
         "94",
         "157",
         "4"
        ],
        [
         "1",
         "61",
         "329",
         "186",
         "6"
        ],
        [
         "2",
         "55",
         "91",
         "791",
         "4"
        ],
        [
         "3",
         "7",
         "10",
         "29",
         "88"
        ]
       ],
       "shape": {
        "columns": 4,
        "rows": 4
       }
      },
      "text/html": [
       "<div>\n",
       "<style scoped>\n",
       "    .dataframe tbody tr th:only-of-type {\n",
       "        vertical-align: middle;\n",
       "    }\n",
       "\n",
       "    .dataframe tbody tr th {\n",
       "        vertical-align: top;\n",
       "    }\n",
       "\n",
       "    .dataframe thead th {\n",
       "        text-align: right;\n",
       "    }\n",
       "</style>\n",
       "<table border=\"1\" class=\"dataframe\">\n",
       "  <thead>\n",
       "    <tr style=\"text-align: right;\">\n",
       "      <th>Predicted Class</th>\n",
       "      <th>0</th>\n",
       "      <th>1</th>\n",
       "      <th>2</th>\n",
       "      <th>3</th>\n",
       "    </tr>\n",
       "    <tr>\n",
       "      <th>Real Class</th>\n",
       "      <th></th>\n",
       "      <th></th>\n",
       "      <th></th>\n",
       "      <th></th>\n",
       "    </tr>\n",
       "  </thead>\n",
       "  <tbody>\n",
       "    <tr>\n",
       "      <th>0</th>\n",
       "      <td>88</td>\n",
       "      <td>94</td>\n",
       "      <td>157</td>\n",
       "      <td>4</td>\n",
       "    </tr>\n",
       "    <tr>\n",
       "      <th>1</th>\n",
       "      <td>61</td>\n",
       "      <td>329</td>\n",
       "      <td>186</td>\n",
       "      <td>6</td>\n",
       "    </tr>\n",
       "    <tr>\n",
       "      <th>2</th>\n",
       "      <td>55</td>\n",
       "      <td>91</td>\n",
       "      <td>791</td>\n",
       "      <td>4</td>\n",
       "    </tr>\n",
       "    <tr>\n",
       "      <th>3</th>\n",
       "      <td>7</td>\n",
       "      <td>10</td>\n",
       "      <td>29</td>\n",
       "      <td>88</td>\n",
       "    </tr>\n",
       "  </tbody>\n",
       "</table>\n",
       "</div>"
      ],
      "text/plain": [
       "Predicted Class   0    1    2   3\n",
       "Real Class                       \n",
       "0                88   94  157   4\n",
       "1                61  329  186   6\n",
       "2                55   91  791   4\n",
       "3                 7   10   29  88"
      ]
     },
     "metadata": {},
     "output_type": "display_data"
    }
   ],
   "source": [
    "#Predict the test features and create the confusion matrix\n",
    "y_pred_grid = grid_model.predict(X_test_scaled)\n",
    "#display(pd.crosstab(y_test, y_pred_grid, rownames=['Real Class'], colnames=['Predicted Class']))"
   ]
  },
  {
   "cell_type": "code",
   "execution_count": null,
   "id": "854a6318",
   "metadata": {},
   "outputs": [
    {
     "name": "stdout",
     "output_type": "stream",
     "text": [
      "              precision    recall  f1-score   support\n",
      "\n",
      "           0       0.42      0.26      0.32       343\n",
      "           1       0.63      0.57      0.59       582\n",
      "           2       0.68      0.84      0.75       941\n",
      "           3       0.86      0.66      0.75       134\n",
      "\n",
      "    accuracy                           0.65      2000\n",
      "   macro avg       0.65      0.58      0.60      2000\n",
      "weighted avg       0.63      0.65      0.63      2000\n",
      "\n"
     ]
    }
   ],
   "source": [
    "# classification report\n",
    "print(classification_report(y_test, y_pred_grid))\n",
    "\n",
    "# save report\n",
    "report_grid= classification_report(y_test, y_pred_grid, output_dict=True)\n",
    "df_report_grid = pd.DataFrame(report_grid).transpose()\n",
    "df_report_grid.to_csv(os.path.join(model_path, \"results\", model_name + \"_cf_report.csv\" ), index=False)\n"
   ]
  },
  {
   "cell_type": "code",
   "execution_count": null,
   "id": "b98c47ff",
   "metadata": {},
   "outputs": [
    {
     "ename": "NameError",
     "evalue": "name 'y_pred_grid' is not defined",
     "output_type": "error",
     "traceback": [
      "\u001b[31m---------------------------------------------------------------------------\u001b[39m",
      "\u001b[31mNameError\u001b[39m                                 Traceback (most recent call last)",
      "\u001b[36mCell\u001b[39m\u001b[36m \u001b[39m\u001b[32mIn[23]\u001b[39m\u001b[32m, line 3\u001b[39m\n\u001b[32m      1\u001b[39m \u001b[38;5;66;03m#cm = pd.crosstab(y_test, y_pred, rownames=['Real Class'], colnames=['Predicted Class'])\u001b[39;00m\n\u001b[32m----> \u001b[39m\u001b[32m3\u001b[39m cm = confusion_matrix(y_test, \u001b[43my_pred_grid\u001b[49m)\n\u001b[32m      5\u001b[39m display(cm)\n\u001b[32m      7\u001b[39m sns.heatmap(cm, cmap=\u001b[33m'\u001b[39m\u001b[33mBlues\u001b[39m\u001b[33m'\u001b[39m, cbar=\u001b[38;5;28;01mFalse\u001b[39;00m, annot=\u001b[38;5;28;01mTrue\u001b[39;00m, fmt=\u001b[33m'\u001b[39m\u001b[33m.d\u001b[39m\u001b[33m'\u001b[39m)\n",
      "\u001b[31mNameError\u001b[39m: name 'y_pred_grid' is not defined"
     ]
    }
   ],
   "source": [
    "#cm = pd.crosstab(y_test, y_pred, rownames=['Real Class'], colnames=['Predicted Class'])\n",
    "\n",
    "cm = confusion_matrix(y_test, y_pred_grid)\n",
    "\n",
    "display(cm)\n",
    "\n",
    "sns.heatmap(cm, cmap='Blues', cbar=False, annot=True, fmt='d')"
   ]
  },
  {
   "cell_type": "code",
   "execution_count": null,
   "id": "2d99ec77",
   "metadata": {},
   "outputs": [],
   "source": [
    "### optional:\n",
    "# load model instead of fitting it again\n",
    "\n",
    "#grid_loaded = joblib.load(os.path.join(model_path, model_filename))"
   ]
  },
  {
   "cell_type": "code",
   "execution_count": null,
   "id": "1a0c83eb",
   "metadata": {},
   "outputs": [],
   "source": []
  }
 ],
 "metadata": {
  "kernelspec": {
   "display_name": "Python 3",
   "language": "python",
   "name": "python3"
  },
  "language_info": {
   "codemirror_mode": {
    "name": "ipython",
    "version": 3
   },
   "file_extension": ".py",
   "mimetype": "text/x-python",
   "name": "python",
   "nbconvert_exporter": "python",
   "pygments_lexer": "ipython3",
   "version": "3.12.9"
  }
 },
 "nbformat": 4,
 "nbformat_minor": 5
}
