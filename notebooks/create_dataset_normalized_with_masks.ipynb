{
 "cells": [
  {
   "cell_type": "code",
   "execution_count": 24,
   "id": "2ed1ae0b",
   "metadata": {},
   "outputs": [],
   "source": [
    "# create a dataset: \n",
    "\n",
    "# start with raw images and masks\n",
    "# no filtering !!!\n",
    "# convert images to grayscle\n",
    "# normalization\n",
    "# applied masks\n",
    "# resized to 128 x 128 ()\n",
    "# do data augmentation\n",
    "\n",
    "# input folder: \n",
    "# data\\raw\\COVID-19_Radiography_Dataset raw-data (299 * 299)\n",
    "\n",
    "# additional input are saved data-frames of train & test data, in order to use the same test/ train split:\n",
    "# - ../data/processed/df_xray_processed_normed_enc_train.cvs        (this is output from train_test_split.ipynb)\n",
    "# - ../data/processed/df_xray_processed_normed_enc_test.csv         (this is output from train_test_split.ipynb)\n"
   ]
  },
  {
   "cell_type": "code",
   "execution_count": 25,
   "id": "9fa84510",
   "metadata": {},
   "outputs": [],
   "source": [
    "import cv2\n",
    "import os\n",
    "import numpy as np\n",
    "#import matplotlib.pyplot as plt\n",
    "import albumentations as A\n",
    "import pandas as pd\n",
    "from tqdm import tqdm"
   ]
  },
  {
   "cell_type": "code",
   "execution_count": 33,
   "id": "09215ece",
   "metadata": {},
   "outputs": [],
   "source": [
    "#############################\n",
    "# Define paths \n",
    "#############################\n",
    "base_path = r\"..\\\\data\\\\\"\n",
    "base_path_out = os.path.join(base_path, \"processed\")   # path to read input csv-file from\n",
    "\n",
    "out_path_norm_mask = os.path.join(base_path_out, \"normalized_with_masks_NOfilter\")              # path to write the nromalized images with masks converted to grayscale\n",
    "# if option resize is selected, \"_resize_SIZE_SIZE\" is added to the path\n",
    "\n",
    "output_path_augmented = os.path.join(base_path_out, \"augmented_normalized_with_masks_NOfilter\") # path to write the augmented images\n",
    "# if option resize is selected, \"_resize_SIZE_SIZE\" is added to the path\n",
    "\n",
    "\n",
    "# Define classes which need augmentation: \n",
    "classes_aug = [\"COVID\", \"Viral Pneumonia\", \"Lung_Opacity\"]\n",
    "\n",
    "\n",
    "#############################\n",
    "# Optional resize iamges:\n",
    "#############################\n",
    "\n",
    "flag_resize = True   # True or False\n",
    "size = 128           # result image size is (size x size)  pixel"
   ]
  },
  {
   "cell_type": "markdown",
   "id": "c204c8d5",
   "metadata": {},
   "source": [
    "## create train data set"
   ]
  },
  {
   "cell_type": "code",
   "execution_count": 34,
   "id": "981b100b",
   "metadata": {},
   "outputs": [],
   "source": [
    "# read csv with data frame which contains infos to train and test-split data\n",
    "df_train = pd.read_csv(os.path.join(base_path_out,\"df_xray_processed_normed_enc_train.csv\"), sep=',', index_col=0)\n",
    "\n",
    "# change folder name for imput images ( we want a df with paths to raw-data)\n",
    "df_train['path'] = df_train['path'].apply(lambda x: x.replace(r'processed\\normalized_xrays', r'raw\\COVID-19_Radiography_Dataset')) "
   ]
  },
  {
   "cell_type": "markdown",
   "id": "c8ff819b",
   "metadata": {},
   "source": [
    "### convert to grayscale, normalize images, add masks, optional resize"
   ]
  },
  {
   "cell_type": "code",
   "execution_count": 39,
   "id": "dfa7cc92",
   "metadata": {},
   "outputs": [],
   "source": [
    "# Initialize lists to store images and labels\n",
    "X = []\n",
    "y = []\n",
    "\n",
    "# loop through rows of df_train\n",
    "for index, row in df_train.iterrows():\n",
    "    \n",
    "    image_dir = os.path.join(row['path'] ,\"images\", row['file']) # create path to image\n",
    "    #print(image_dir)\n",
    "    mask_dir = os.path.join(row['path'], \"masks\", row['file'])  # create path to corresponding mask\n",
    "    print\n",
    "\n",
    "    # file = os.path.join(row['path'], row['file'])  # create path to file\n",
    "    img = cv2.imread(image_dir, cv2.IMREAD_GRAYSCALE)   # convert to grayscla while reading image\n",
    "    mask = cv2.imread(mask_dir, cv2.IMREAD_GRAYSCALE)   # convert to grayscla while reading mask\n",
    "    \n",
    "    if img is None or mask is None:\n",
    "        print(f\"Skipping {row['file']}: missing image or mask\")\n",
    "        continue\n",
    "    \n",
    "    # Normalize pixel values to [0, 1] (divide by 255)\n",
    "    img_normalized = img.astype(np.float32) / 255.0\n",
    "\n",
    "    # Resize mask to match image size\n",
    "    mask_resized = cv2.resize(mask, (img.shape[1], img.shape[0]))\n",
    "\n",
    "    # Ensure binary mask (0, 255)\n",
    "    _, mask_binary = cv2.threshold(mask_resized, 127, 255, cv2.THRESH_BINARY)\n",
    "\n",
    "    # Keep processed pixels inside lung mask, zero elsewhere = add mask to iamges\n",
    "    processed_img = cv2.bitwise_and(img_normalized, img_normalized, mask=mask_binary)\n",
    "\n",
    "    # Save the processed image (convert back to 8-bit for saving)\n",
    "    save_img = (processed_img * 255).astype(np.uint8)\n",
    "\n",
    "    # optional resize of precessed images:\n",
    "    if flag_resize == True:\n",
    "        img_resized = cv2.resize(save_img, (size, size))\n",
    "\n",
    "        # Save processed and resized images\n",
    "        out_dir = os.path.join(out_path_norm_mask + \"_resized_\"+str(size)+\"_\"+str(size), row['label'])\n",
    "        os.makedirs(out_dir, exist_ok=True) \n",
    "        save_path = os.path.join(out_dir ,row['file'])\n",
    "        cv2.imwrite(save_path, img_resized)\n",
    "    else:\n",
    "        # Save processed image\n",
    "        out_dir = os.path.join(out_path_norm_mask, row['label'])\n",
    "        os.makedirs(out_dir, exist_ok=True) \n",
    "        save_path = os.path.join(out_dir, row['file'])\n",
    "        cv2.imwrite(save_path, save_img)\n",
    "\n",
    "\n"
   ]
  },
  {
   "cell_type": "markdown",
   "id": "5ba68a06",
   "metadata": {},
   "source": [
    "### do data augmentatio & create a new DF with orig + augmented data"
   ]
  },
  {
   "cell_type": "code",
   "execution_count": null,
   "id": "856baec4",
   "metadata": {},
   "outputs": [
    {
     "data": {
      "text/plain": [
       "'..\\\\\\\\data\\\\\\\\processed\\\\normalized_with_masks_NOfilter'"
      ]
     },
     "execution_count": 43,
     "metadata": {},
     "output_type": "execute_result"
    }
   ],
   "source": []
  },
  {
   "cell_type": "code",
   "execution_count": 40,
   "id": "75898ad3",
   "metadata": {},
   "outputs": [],
   "source": [
    "# get infos which is the majority class\n",
    "counts = df_train['label'].value_counts()\n",
    "\n",
    "# assume that the normal class is the majority class\n",
    "\n",
    "max_num = counts['Normal']\n",
    "\n",
    "iteration_per_class = {}\n",
    "\n",
    "for class_name in classes_aug:\n",
    "    class_num = counts[class_name]\n",
    "\n",
    "    div_res = round(max_num/class_num,0)    # calculate how many augmentation iteration we need\n",
    "    iteration = div_res - 1                 # it needs one iteration less, because we add the unaugmented data\n",
    "    \n",
    "    iteration_per_class.update({class_name: iteration})"
   ]
  },
  {
   "cell_type": "code",
   "execution_count": 42,
   "id": "f656166d",
   "metadata": {},
   "outputs": [
    {
     "name": "stderr",
     "output_type": "stream",
     "text": [
      "c:\\Users\\Yvonne\\Documents\\DataScientist_2025_local\\project_code\\.venv-xray\\Lib\\site-packages\\albumentations\\core\\validation.py:87: UserWarning: ShiftScaleRotate is a special case of Affine transform. Please use Affine transform instead.\n",
      "  original_init(self, **validated_kwargs)\n"
     ]
    }
   ],
   "source": [
    "# Define augmentation pipeline\n",
    "\n",
    "# define probabilities of applying the different augmentation methods\n",
    "prob_rotate = 0.5    # probaility of using rotation\n",
    "prob_shift = 0.5     # probaility of using shifting\n",
    "prob_pipeline = 1.0  # The entire pipeline has a 100% chance to be applied. We want every image to be changed\n",
    "\n",
    "\n",
    "# Define the augmentation pipeline\n",
    "augmentation_pipeline = A.Compose([\n",
    "    A.OneOf([\n",
    "        A.Rotate(limit=15, p=prob_rotate),                                                 # Rotate with a limit of ±15 degrees\n",
    "        A.ShiftScaleRotate(shift_limit=0.1, scale_limit=0, rotate_limit=0, p=prob_shift)  # Translation (shifting)\n",
    "    ], p=prob_pipeline)\n",
    "\n",
    "], p=1.0,                    # probability of the entire pipeline to be applied\n",
    "#seed = 137,                  # added seed for reproducibility  \n",
    "save_applied_params=True)    # save applied transformation parameters"
   ]
  },
  {
   "cell_type": "code",
   "execution_count": 44,
   "id": "6ddb160e",
   "metadata": {},
   "outputs": [
    {
     "data": {
      "text/plain": [
       "'..\\\\\\\\data\\\\\\\\processed\\\\normalized_with_masks_NOfilter_resized_128_128'"
      ]
     },
     "execution_count": 44,
     "metadata": {},
     "output_type": "execute_result"
    }
   ],
   "source": [
    "out_path_norm_mask\n",
    "\n",
    "out_path_norm_mask + \"_resized_\"+str(size)+\"_\"+str(size)"
   ]
  },
  {
   "cell_type": "code",
   "execution_count": 45,
   "id": "1e3c5c5e",
   "metadata": {},
   "outputs": [
    {
     "data": {
      "text/plain": [
       "'..\\\\\\\\data\\\\\\\\processed\\\\normalized_with_masks_NOfilter'"
      ]
     },
     "execution_count": 45,
     "metadata": {},
     "output_type": "execute_result"
    }
   ],
   "source": [
    "out_path_norm_mask"
   ]
  },
  {
   "cell_type": "code",
   "execution_count": null,
   "id": "5d73b4d2",
   "metadata": {},
   "outputs": [
    {
     "ename": "TypeError",
     "evalue": "join() argument must be str, bytes, or os.PathLike object, not 'Series'",
     "output_type": "error",
     "traceback": [
      "\u001b[31m---------------------------------------------------------------------------\u001b[39m",
      "\u001b[31mTypeError\u001b[39m                                 Traceback (most recent call last)",
      "\u001b[36mCell\u001b[39m\u001b[36m \u001b[39m\u001b[32mIn[47]\u001b[39m\u001b[32m, line 4\u001b[39m\n\u001b[32m      2\u001b[39m df_train_processed = df_train\n\u001b[32m      3\u001b[39m \u001b[38;5;66;03m# change folder name for imput images ( we want a df with paths to raw-data)\u001b[39;00m\n\u001b[32m----> \u001b[39m\u001b[32m4\u001b[39m df_train_processed[\u001b[33m'\u001b[39m\u001b[33mpath\u001b[39m\u001b[33m'\u001b[39m] = \u001b[43mdf_train\u001b[49m\u001b[43m[\u001b[49m\u001b[33;43m'\u001b[39;49m\u001b[33;43mpath\u001b[39;49m\u001b[33;43m'\u001b[39;49m\u001b[43m]\u001b[49m\u001b[43m.\u001b[49m\u001b[43mapply\u001b[49m\u001b[43m(\u001b[49m\u001b[38;5;28;43;01mlambda\u001b[39;49;00m\u001b[43m \u001b[49m\u001b[43mx\u001b[49m\u001b[43m:\u001b[49m\u001b[43m \u001b[49m\u001b[43mos\u001b[49m\u001b[43m.\u001b[49m\u001b[43mpath\u001b[49m\u001b[43m.\u001b[49m\u001b[43mjoin\u001b[49m\u001b[43m(\u001b[49m\u001b[43mout_path_norm_mask\u001b[49m\u001b[43m,\u001b[49m\u001b[43m \u001b[49m\u001b[43mdf_train\u001b[49m\u001b[43m[\u001b[49m\u001b[33;43m'\u001b[39;49m\u001b[33;43mlabel\u001b[39;49m\u001b[33;43m'\u001b[39;49m\u001b[43m]\u001b[49m\u001b[43m)\u001b[49m\u001b[43m)\u001b[49m \n",
      "\u001b[36mFile \u001b[39m\u001b[32mc:\\Users\\Yvonne\\Documents\\DataScientist_2025_local\\project_code\\.venv-xray\\Lib\\site-packages\\pandas\\core\\series.py:4924\u001b[39m, in \u001b[36mSeries.apply\u001b[39m\u001b[34m(self, func, convert_dtype, args, by_row, **kwargs)\u001b[39m\n\u001b[32m   4789\u001b[39m \u001b[38;5;28;01mdef\u001b[39;00m\u001b[38;5;250m \u001b[39m\u001b[34mapply\u001b[39m(\n\u001b[32m   4790\u001b[39m     \u001b[38;5;28mself\u001b[39m,\n\u001b[32m   4791\u001b[39m     func: AggFuncType,\n\u001b[32m   (...)\u001b[39m\u001b[32m   4796\u001b[39m     **kwargs,\n\u001b[32m   4797\u001b[39m ) -> DataFrame | Series:\n\u001b[32m   4798\u001b[39m \u001b[38;5;250m    \u001b[39m\u001b[33;03m\"\"\"\u001b[39;00m\n\u001b[32m   4799\u001b[39m \u001b[33;03m    Invoke function on values of Series.\u001b[39;00m\n\u001b[32m   4800\u001b[39m \n\u001b[32m   (...)\u001b[39m\u001b[32m   4915\u001b[39m \u001b[33;03m    dtype: float64\u001b[39;00m\n\u001b[32m   4916\u001b[39m \u001b[33;03m    \"\"\"\u001b[39;00m\n\u001b[32m   4917\u001b[39m     \u001b[38;5;28;01mreturn\u001b[39;00m \u001b[43mSeriesApply\u001b[49m\u001b[43m(\u001b[49m\n\u001b[32m   4918\u001b[39m \u001b[43m        \u001b[49m\u001b[38;5;28;43mself\u001b[39;49m\u001b[43m,\u001b[49m\n\u001b[32m   4919\u001b[39m \u001b[43m        \u001b[49m\u001b[43mfunc\u001b[49m\u001b[43m,\u001b[49m\n\u001b[32m   4920\u001b[39m \u001b[43m        \u001b[49m\u001b[43mconvert_dtype\u001b[49m\u001b[43m=\u001b[49m\u001b[43mconvert_dtype\u001b[49m\u001b[43m,\u001b[49m\n\u001b[32m   4921\u001b[39m \u001b[43m        \u001b[49m\u001b[43mby_row\u001b[49m\u001b[43m=\u001b[49m\u001b[43mby_row\u001b[49m\u001b[43m,\u001b[49m\n\u001b[32m   4922\u001b[39m \u001b[43m        \u001b[49m\u001b[43margs\u001b[49m\u001b[43m=\u001b[49m\u001b[43margs\u001b[49m\u001b[43m,\u001b[49m\n\u001b[32m   4923\u001b[39m \u001b[43m        \u001b[49m\u001b[43mkwargs\u001b[49m\u001b[43m=\u001b[49m\u001b[43mkwargs\u001b[49m\u001b[43m,\u001b[49m\n\u001b[32m-> \u001b[39m\u001b[32m4924\u001b[39m \u001b[43m    \u001b[49m\u001b[43m)\u001b[49m\u001b[43m.\u001b[49m\u001b[43mapply\u001b[49m\u001b[43m(\u001b[49m\u001b[43m)\u001b[49m\n",
      "\u001b[36mFile \u001b[39m\u001b[32mc:\\Users\\Yvonne\\Documents\\DataScientist_2025_local\\project_code\\.venv-xray\\Lib\\site-packages\\pandas\\core\\apply.py:1427\u001b[39m, in \u001b[36mSeriesApply.apply\u001b[39m\u001b[34m(self)\u001b[39m\n\u001b[32m   1424\u001b[39m     \u001b[38;5;28;01mreturn\u001b[39;00m \u001b[38;5;28mself\u001b[39m.apply_compat()\n\u001b[32m   1426\u001b[39m \u001b[38;5;66;03m# self.func is Callable\u001b[39;00m\n\u001b[32m-> \u001b[39m\u001b[32m1427\u001b[39m \u001b[38;5;28;01mreturn\u001b[39;00m \u001b[38;5;28;43mself\u001b[39;49m\u001b[43m.\u001b[49m\u001b[43mapply_standard\u001b[49m\u001b[43m(\u001b[49m\u001b[43m)\u001b[49m\n",
      "\u001b[36mFile \u001b[39m\u001b[32mc:\\Users\\Yvonne\\Documents\\DataScientist_2025_local\\project_code\\.venv-xray\\Lib\\site-packages\\pandas\\core\\apply.py:1507\u001b[39m, in \u001b[36mSeriesApply.apply_standard\u001b[39m\u001b[34m(self)\u001b[39m\n\u001b[32m   1501\u001b[39m \u001b[38;5;66;03m# row-wise access\u001b[39;00m\n\u001b[32m   1502\u001b[39m \u001b[38;5;66;03m# apply doesn't have a `na_action` keyword and for backward compat reasons\u001b[39;00m\n\u001b[32m   1503\u001b[39m \u001b[38;5;66;03m# we need to give `na_action=\"ignore\"` for categorical data.\u001b[39;00m\n\u001b[32m   1504\u001b[39m \u001b[38;5;66;03m# TODO: remove the `na_action=\"ignore\"` when that default has been changed in\u001b[39;00m\n\u001b[32m   1505\u001b[39m \u001b[38;5;66;03m#  Categorical (GH51645).\u001b[39;00m\n\u001b[32m   1506\u001b[39m action = \u001b[33m\"\u001b[39m\u001b[33mignore\u001b[39m\u001b[33m\"\u001b[39m \u001b[38;5;28;01mif\u001b[39;00m \u001b[38;5;28misinstance\u001b[39m(obj.dtype, CategoricalDtype) \u001b[38;5;28;01melse\u001b[39;00m \u001b[38;5;28;01mNone\u001b[39;00m\n\u001b[32m-> \u001b[39m\u001b[32m1507\u001b[39m mapped = \u001b[43mobj\u001b[49m\u001b[43m.\u001b[49m\u001b[43m_map_values\u001b[49m\u001b[43m(\u001b[49m\n\u001b[32m   1508\u001b[39m \u001b[43m    \u001b[49m\u001b[43mmapper\u001b[49m\u001b[43m=\u001b[49m\u001b[43mcurried\u001b[49m\u001b[43m,\u001b[49m\u001b[43m \u001b[49m\u001b[43mna_action\u001b[49m\u001b[43m=\u001b[49m\u001b[43maction\u001b[49m\u001b[43m,\u001b[49m\u001b[43m \u001b[49m\u001b[43mconvert\u001b[49m\u001b[43m=\u001b[49m\u001b[38;5;28;43mself\u001b[39;49m\u001b[43m.\u001b[49m\u001b[43mconvert_dtype\u001b[49m\n\u001b[32m   1509\u001b[39m \u001b[43m\u001b[49m\u001b[43m)\u001b[49m\n\u001b[32m   1511\u001b[39m \u001b[38;5;28;01mif\u001b[39;00m \u001b[38;5;28mlen\u001b[39m(mapped) \u001b[38;5;129;01mand\u001b[39;00m \u001b[38;5;28misinstance\u001b[39m(mapped[\u001b[32m0\u001b[39m], ABCSeries):\n\u001b[32m   1512\u001b[39m     \u001b[38;5;66;03m# GH#43986 Need to do list(mapped) in order to get treated as nested\u001b[39;00m\n\u001b[32m   1513\u001b[39m     \u001b[38;5;66;03m#  See also GH#25959 regarding EA support\u001b[39;00m\n\u001b[32m   1514\u001b[39m     \u001b[38;5;28;01mreturn\u001b[39;00m obj._constructor_expanddim(\u001b[38;5;28mlist\u001b[39m(mapped), index=obj.index)\n",
      "\u001b[36mFile \u001b[39m\u001b[32mc:\\Users\\Yvonne\\Documents\\DataScientist_2025_local\\project_code\\.venv-xray\\Lib\\site-packages\\pandas\\core\\base.py:921\u001b[39m, in \u001b[36mIndexOpsMixin._map_values\u001b[39m\u001b[34m(self, mapper, na_action, convert)\u001b[39m\n\u001b[32m    918\u001b[39m \u001b[38;5;28;01mif\u001b[39;00m \u001b[38;5;28misinstance\u001b[39m(arr, ExtensionArray):\n\u001b[32m    919\u001b[39m     \u001b[38;5;28;01mreturn\u001b[39;00m arr.map(mapper, na_action=na_action)\n\u001b[32m--> \u001b[39m\u001b[32m921\u001b[39m \u001b[38;5;28;01mreturn\u001b[39;00m \u001b[43malgorithms\u001b[49m\u001b[43m.\u001b[49m\u001b[43mmap_array\u001b[49m\u001b[43m(\u001b[49m\u001b[43marr\u001b[49m\u001b[43m,\u001b[49m\u001b[43m \u001b[49m\u001b[43mmapper\u001b[49m\u001b[43m,\u001b[49m\u001b[43m \u001b[49m\u001b[43mna_action\u001b[49m\u001b[43m=\u001b[49m\u001b[43mna_action\u001b[49m\u001b[43m,\u001b[49m\u001b[43m \u001b[49m\u001b[43mconvert\u001b[49m\u001b[43m=\u001b[49m\u001b[43mconvert\u001b[49m\u001b[43m)\u001b[49m\n",
      "\u001b[36mFile \u001b[39m\u001b[32mc:\\Users\\Yvonne\\Documents\\DataScientist_2025_local\\project_code\\.venv-xray\\Lib\\site-packages\\pandas\\core\\algorithms.py:1743\u001b[39m, in \u001b[36mmap_array\u001b[39m\u001b[34m(arr, mapper, na_action, convert)\u001b[39m\n\u001b[32m   1741\u001b[39m values = arr.astype(\u001b[38;5;28mobject\u001b[39m, copy=\u001b[38;5;28;01mFalse\u001b[39;00m)\n\u001b[32m   1742\u001b[39m \u001b[38;5;28;01mif\u001b[39;00m na_action \u001b[38;5;129;01mis\u001b[39;00m \u001b[38;5;28;01mNone\u001b[39;00m:\n\u001b[32m-> \u001b[39m\u001b[32m1743\u001b[39m     \u001b[38;5;28;01mreturn\u001b[39;00m \u001b[43mlib\u001b[49m\u001b[43m.\u001b[49m\u001b[43mmap_infer\u001b[49m\u001b[43m(\u001b[49m\u001b[43mvalues\u001b[49m\u001b[43m,\u001b[49m\u001b[43m \u001b[49m\u001b[43mmapper\u001b[49m\u001b[43m,\u001b[49m\u001b[43m \u001b[49m\u001b[43mconvert\u001b[49m\u001b[43m=\u001b[49m\u001b[43mconvert\u001b[49m\u001b[43m)\u001b[49m\n\u001b[32m   1744\u001b[39m \u001b[38;5;28;01melse\u001b[39;00m:\n\u001b[32m   1745\u001b[39m     \u001b[38;5;28;01mreturn\u001b[39;00m lib.map_infer_mask(\n\u001b[32m   1746\u001b[39m         values, mapper, mask=isna(values).view(np.uint8), convert=convert\n\u001b[32m   1747\u001b[39m     )\n",
      "\u001b[36mFile \u001b[39m\u001b[32mlib.pyx:2972\u001b[39m, in \u001b[36mpandas._libs.lib.map_infer\u001b[39m\u001b[34m()\u001b[39m\n",
      "\u001b[36mCell\u001b[39m\u001b[36m \u001b[39m\u001b[32mIn[47]\u001b[39m\u001b[32m, line 4\u001b[39m, in \u001b[36m<lambda>\u001b[39m\u001b[34m(x)\u001b[39m\n\u001b[32m      2\u001b[39m df_train_processed = df_train\n\u001b[32m      3\u001b[39m \u001b[38;5;66;03m# change folder name for imput images ( we want a df with paths to raw-data)\u001b[39;00m\n\u001b[32m----> \u001b[39m\u001b[32m4\u001b[39m df_train_processed[\u001b[33m'\u001b[39m\u001b[33mpath\u001b[39m\u001b[33m'\u001b[39m] = df_train[\u001b[33m'\u001b[39m\u001b[33mpath\u001b[39m\u001b[33m'\u001b[39m].apply(\u001b[38;5;28;01mlambda\u001b[39;00m x: \u001b[43mos\u001b[49m\u001b[43m.\u001b[49m\u001b[43mpath\u001b[49m\u001b[43m.\u001b[49m\u001b[43mjoin\u001b[49m\u001b[43m(\u001b[49m\u001b[43mout_path_norm_mask\u001b[49m\u001b[43m,\u001b[49m\u001b[43m \u001b[49m\u001b[43mdf_train\u001b[49m\u001b[43m[\u001b[49m\u001b[33;43m'\u001b[39;49m\u001b[33;43mlabel\u001b[39;49m\u001b[33;43m'\u001b[39;49m\u001b[43m]\u001b[49m\u001b[43m)\u001b[49m) \n",
      "\u001b[36mFile \u001b[39m\u001b[32m<frozen ntpath>:149\u001b[39m, in \u001b[36mjoin\u001b[39m\u001b[34m(path, *paths)\u001b[39m\n",
      "\u001b[36mFile \u001b[39m\u001b[32m<frozen genericpath>:164\u001b[39m, in \u001b[36m_check_arg_types\u001b[39m\u001b[34m(funcname, *args)\u001b[39m\n",
      "\u001b[31mTypeError\u001b[39m: join() argument must be str, bytes, or os.PathLike object, not 'Series'"
     ]
    }
   ],
   "source": [
    "# create a DF with paths to just created files: \n",
    "df_train_processed = df_train\n",
    "# change folder name for imput images ( we want a df with paths to raw-data)\n",
    "df_train_processed['path'] = df_train['path'].apply(lambda x: os.path.join(out_path_norm_mask, df_train['label'])) \n",
    "\n",
    "# hier muss ins feld path der pfad zu den gerade prozessierten bildern\n",
    "\n",
    "# und alternative falls resized mit of programmieren\n",
    "\n"
   ]
  },
  {
   "cell_type": "code",
   "execution_count": null,
   "id": "395af016",
   "metadata": {},
   "outputs": [],
   "source": [
    "\n",
    "\n",
    "# create data_frame which is filled with the infos to the augmented iamges:\n",
    "df_train_augmented = pd.DataFrame(columns=df_train.columns)\n",
    "#df_train_augmented.columns\n",
    "\n",
    "\n",
    "# loop through rows of df_train\n",
    "for index, row in df_train.iterrows():\n",
    "    # only do augmentation if class is not 'Normal'\n",
    "    if row['label'] in classes_aug:\n",
    "\n",
    "        # define output path for augmented image\n",
    "        augmented_dir = os.path.join(output_path, row['label'])\n",
    "        os.makedirs(augmented_dir, exist_ok=True) \n",
    "\n",
    "\n",
    "        # how many iterations of augmentation do we need?\n",
    "        num_iter = iteration_per_class[row['label']]\n",
    "\n",
    "        file = os.path.join(row['path'], row['file'])\n",
    "        \n",
    "        iter = 1\n",
    "        # for each file in the data frame to as many augmentation, as needed for this class\n",
    "        \n",
    "        img = cv2.imread(file, cv2.IMREAD_GRAYSCALE)\n",
    "        if img is not None:\n",
    "            while iter <= num_iter: \n",
    "                      \n",
    "                augmented = augmentation_pipeline(image=img)\n",
    "                augmented_img = augmented['image']\n",
    "                \n",
    "                # save used transformation to dict\n",
    "                #used_transformation.update({img_name:augmented['applied_transforms']})\n",
    "                        \n",
    "                # define name for augmented image\n",
    "                split_name, split_ending = row['file'].split('.') \n",
    "                img_name_aug = split_name + \"_ag\" + str(iter) + \".\" + split_ending\n",
    "\n",
    "                # save augmented image\n",
    "                save_path = os.path.join(augmented_dir, img_name_aug)\n",
    "                cv2.imwrite(save_path, augmented_img)\n",
    "\n",
    "                # build a new row for the new dataframe df_train_augmented:\n",
    "                new_row_label = row['label']\n",
    "                new_row_file = img_name_aug\n",
    "                new_row_label_enc = row['label_enc']\n",
    "                new_row_path = augmented_dir\n",
    "                \n",
    "                new_row = {'label': new_row_label, \n",
    "                        'file': new_row_file, \n",
    "                        'label_enc': new_row_label_enc, \n",
    "                        'path': new_row_path }\n",
    "\n",
    "                #df_train_augmented= df_train_augmented.append(new_row, ignore_index = True)\n",
    "                df_train_augmented = pd.concat([df_train_augmented,pd.DataFrame([new_row])], ignore_index = True, axis = 0)\n",
    "\n",
    "                iter +=1"
   ]
  },
  {
   "cell_type": "code",
   "execution_count": null,
   "id": "f8cbfc8f",
   "metadata": {},
   "outputs": [],
   "source": [
    "\n",
    "    #     # Append normalized and resized image to the list\n",
    "    #     X.append(img_normalized)\n",
    "\n",
    "    #     # Extract label from filename \n",
    "    #     label = filename.split('_')[0]\n",
    "    #     y.append(label)\n",
    "\n",
    "\n",
    "    #     if flag_resize == True:\n",
    "    #         # Resize image to 128x128\n",
    "    #         img_resized = cv2.resize(img, (128, 128))\n",
    "\n",
    "\n",
    "    # # only do augmentation if class is not 'Normal'\n",
    "    # if row['label'] in classes_aug:\n",
    "\n",
    "    #     # define output path for augmented image\n",
    "    #     augmented_dir = os.path.join(output_path, row['label'])\n",
    "    #     os.makedirs(augmented_dir, exist_ok=True) \n",
    "\n",
    "\n",
    "    #     # how many iterations of augmentation do we need?\n",
    "    #     num_iter = iteration_per_class[row['label']]\n",
    "\n",
    "    #     file = os.path.join(row['path'], row['file'])\n",
    "        \n",
    "    #     iter = 1\n",
    "    #     # for each file in the data frame to as many augmentation, as needed for this class\n",
    "        \n",
    "    #     img = cv2.imread(file, cv2.IMREAD_GRAYSCALE)\n",
    "    #     if img is not None:\n",
    "    #         while iter <= num_iter: \n",
    "                      \n",
    "    #             augmented = augmentation_pipeline(image=img)\n",
    "    #             augmented_img = augmented['image']\n",
    "                \n",
    "    #             # save used transformation to dict\n",
    "    #             #used_transformation.update({img_name:augmented['applied_transforms']})\n",
    "                        \n",
    "    #             # define name for augmented image\n",
    "    #             split_name, split_ending = row['file'].split('.') \n",
    "    #             img_name_aug = split_name + \"_ag\" + str(iter) + \".\" + split_ending\n",
    "\n",
    "    #             # save augmented image\n",
    "    #             save_path = os.path.join(augmented_dir, img_name_aug)\n",
    "    #             cv2.imwrite(save_path, augmented_img)\n",
    "\n",
    "    #             # build a new row for the new dataframe df_train_augmented:\n",
    "    #             new_row_label = row['label']\n",
    "    #             new_row_file = img_name_aug\n",
    "    #             new_row_label_enc = row['label_enc']\n",
    "    #             new_row_path = augmented_dir\n",
    "                \n",
    "    #             new_row = {'label': new_row_label, \n",
    "    #                     'file': new_row_file, \n",
    "    #                     'label_enc': new_row_label_enc, \n",
    "    #                     'path': new_row_path }\n",
    "\n",
    "    #             #df_train_augmented= df_train_augmented.append(new_row, ignore_index = True)\n",
    "    #             df_train_augmented = pd.concat([df_train_augmented,pd.DataFrame([new_row])], ignore_index = True, axis = 0)\n",
    "\n",
    "    #             iter +=1"
   ]
  },
  {
   "cell_type": "markdown",
   "id": "68c7fe01",
   "metadata": {},
   "source": [
    "### save as npz"
   ]
  },
  {
   "cell_type": "code",
   "execution_count": null,
   "id": "f67f00cf",
   "metadata": {},
   "outputs": [],
   "source": []
  },
  {
   "cell_type": "markdown",
   "id": "7707c966",
   "metadata": {},
   "source": []
  },
  {
   "cell_type": "markdown",
   "id": "a6206f4f",
   "metadata": {},
   "source": [
    "## test data: do the same as with train data but NO data augmentation"
   ]
  },
  {
   "cell_type": "markdown",
   "id": "c5ca8fb7",
   "metadata": {},
   "source": []
  }
 ],
 "metadata": {
  "kernelspec": {
   "display_name": "Python 3",
   "language": "python",
   "name": "python3"
  },
  "language_info": {
   "codemirror_mode": {
    "name": "ipython",
    "version": 3
   },
   "file_extension": ".py",
   "mimetype": "text/x-python",
   "name": "python",
   "nbconvert_exporter": "python",
   "pygments_lexer": "ipython3",
   "version": "3.12.9"
  }
 },
 "nbformat": 4,
 "nbformat_minor": 5
}
