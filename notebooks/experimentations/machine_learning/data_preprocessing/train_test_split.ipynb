{
 "cells": [
  {
   "cell_type": "code",
   "execution_count": 2,
   "id": "8ff44a9e",
   "metadata": {},
   "outputs": [],
   "source": [
    "from sklearn.model_selection import train_test_split\n",
    "import pandas as pd\n",
    "import os\n"
   ]
  },
  {
   "cell_type": "code",
   "execution_count": 3,
   "id": "b616da36",
   "metadata": {},
   "outputs": [],
   "source": [
    "# Define paths \n",
    "base_path = r\"..\\\\data\\\\\"\n",
    "base_path_out = os.path.join(base_path, \"processed\") "
   ]
  },
  {
   "cell_type": "code",
   "execution_count": null,
   "id": "08f5dd65",
   "metadata": {},
   "outputs": [],
   "source": [
    "# read csv with data frame which contains infos to preprocessed iamges and labels and encoded labels\n",
    "df_processed = pd.read_csv(os.path.join(base_path_out,\"df_xray_processed_normed_enc.csv\"), sep=',', index_col=0)"
   ]
  },
  {
   "cell_type": "code",
   "execution_count": 6,
   "id": "b833b9d4",
   "metadata": {},
   "outputs": [
    {
     "data": {
      "application/vnd.microsoft.datawrangler.viewer.v0+json": {
       "columns": [
        {
         "name": "index",
         "rawType": "int64",
         "type": "integer"
        },
        {
         "name": "label",
         "rawType": "object",
         "type": "string"
        },
        {
         "name": "file",
         "rawType": "object",
         "type": "string"
        },
        {
         "name": "label_enc",
         "rawType": "int64",
         "type": "integer"
        },
        {
         "name": "path",
         "rawType": "object",
         "type": "string"
        }
       ],
       "conversionMethod": "pd.DataFrame",
       "ref": "ad4bf276-c8f4-4994-bf03-c3c7cd11ed5a",
       "rows": [
        [
         "0",
         "COVID",
         "COVID-1.png",
         "0",
         "..\\\\data\\\\processed\\processed_xrays\\COVID"
        ],
        [
         "1",
         "COVID",
         "COVID-2.png",
         "0",
         "..\\\\data\\\\processed\\processed_xrays\\COVID"
        ],
        [
         "2",
         "COVID",
         "COVID-3.png",
         "0",
         "..\\\\data\\\\processed\\processed_xrays\\COVID"
        ],
        [
         "3",
         "COVID",
         "COVID-4.png",
         "0",
         "..\\\\data\\\\processed\\processed_xrays\\COVID"
        ],
        [
         "4",
         "COVID",
         "COVID-5.png",
         "0",
         "..\\\\data\\\\processed\\processed_xrays\\COVID"
        ]
       ],
       "shape": {
        "columns": 4,
        "rows": 5
       }
      },
      "text/html": [
       "<div>\n",
       "<style scoped>\n",
       "    .dataframe tbody tr th:only-of-type {\n",
       "        vertical-align: middle;\n",
       "    }\n",
       "\n",
       "    .dataframe tbody tr th {\n",
       "        vertical-align: top;\n",
       "    }\n",
       "\n",
       "    .dataframe thead th {\n",
       "        text-align: right;\n",
       "    }\n",
       "</style>\n",
       "<table border=\"1\" class=\"dataframe\">\n",
       "  <thead>\n",
       "    <tr style=\"text-align: right;\">\n",
       "      <th></th>\n",
       "      <th>label</th>\n",
       "      <th>file</th>\n",
       "      <th>label_enc</th>\n",
       "      <th>path</th>\n",
       "    </tr>\n",
       "    <tr>\n",
       "      <th>index</th>\n",
       "      <th></th>\n",
       "      <th></th>\n",
       "      <th></th>\n",
       "      <th></th>\n",
       "    </tr>\n",
       "  </thead>\n",
       "  <tbody>\n",
       "    <tr>\n",
       "      <th>0</th>\n",
       "      <td>COVID</td>\n",
       "      <td>COVID-1.png</td>\n",
       "      <td>0</td>\n",
       "      <td>..\\\\data\\\\processed\\processed_xrays\\COVID</td>\n",
       "    </tr>\n",
       "    <tr>\n",
       "      <th>1</th>\n",
       "      <td>COVID</td>\n",
       "      <td>COVID-2.png</td>\n",
       "      <td>0</td>\n",
       "      <td>..\\\\data\\\\processed\\processed_xrays\\COVID</td>\n",
       "    </tr>\n",
       "    <tr>\n",
       "      <th>2</th>\n",
       "      <td>COVID</td>\n",
       "      <td>COVID-3.png</td>\n",
       "      <td>0</td>\n",
       "      <td>..\\\\data\\\\processed\\processed_xrays\\COVID</td>\n",
       "    </tr>\n",
       "    <tr>\n",
       "      <th>3</th>\n",
       "      <td>COVID</td>\n",
       "      <td>COVID-4.png</td>\n",
       "      <td>0</td>\n",
       "      <td>..\\\\data\\\\processed\\processed_xrays\\COVID</td>\n",
       "    </tr>\n",
       "    <tr>\n",
       "      <th>4</th>\n",
       "      <td>COVID</td>\n",
       "      <td>COVID-5.png</td>\n",
       "      <td>0</td>\n",
       "      <td>..\\\\data\\\\processed\\processed_xrays\\COVID</td>\n",
       "    </tr>\n",
       "  </tbody>\n",
       "</table>\n",
       "</div>"
      ],
      "text/plain": [
       "       label         file  label_enc  \\\n",
       "index                                  \n",
       "0      COVID  COVID-1.png          0   \n",
       "1      COVID  COVID-2.png          0   \n",
       "2      COVID  COVID-3.png          0   \n",
       "3      COVID  COVID-4.png          0   \n",
       "4      COVID  COVID-5.png          0   \n",
       "\n",
       "                                            path  \n",
       "index                                             \n",
       "0      ..\\\\data\\\\processed\\processed_xrays\\COVID  \n",
       "1      ..\\\\data\\\\processed\\processed_xrays\\COVID  \n",
       "2      ..\\\\data\\\\processed\\processed_xrays\\COVID  \n",
       "3      ..\\\\data\\\\processed\\processed_xrays\\COVID  \n",
       "4      ..\\\\data\\\\processed\\processed_xrays\\COVID  "
      ]
     },
     "execution_count": 6,
     "metadata": {},
     "output_type": "execute_result"
    }
   ],
   "source": [
    "df_processed.head()"
   ]
  },
  {
   "cell_type": "code",
   "execution_count": 9,
   "id": "5b0e06d3",
   "metadata": {},
   "outputs": [
    {
     "name": "stdout",
     "output_type": "stream",
     "text": [
      "label\n",
      "Normal             0.481550\n",
      "Lung_Opacity       0.284054\n",
      "COVID              0.170848\n",
      "Viral Pneumonia    0.063548\n",
      "Name: proportion, dtype: float64\n",
      "label_enc\n",
      "2    0.481550\n",
      "1    0.284054\n",
      "0    0.170848\n",
      "3    0.063548\n",
      "Name: proportion, dtype: float64\n"
     ]
    }
   ],
   "source": [
    "# stats of labels before splitting into test and train\n",
    "print(df_processed['label'].value_counts(normalize=True))\n",
    "print(df_processed['label_enc'].value_counts(normalize=True))"
   ]
  },
  {
   "cell_type": "code",
   "execution_count": 10,
   "id": "80b10872",
   "metadata": {},
   "outputs": [],
   "source": [
    "# split into train and test\n",
    "# 20 % test data\n",
    "# keep the distribution of labels for train and test with stratify=df_processed['label_enc']\n",
    "# use random_state = 42 to be able to reproduce it\n",
    "\n",
    "df_processed_train, df_processed_test  = train_test_split(df_processed, test_size=0.2, stratify=df_processed['label_enc'], random_state=42)"
   ]
  },
  {
   "cell_type": "code",
   "execution_count": 14,
   "id": "ab93945b",
   "metadata": {},
   "outputs": [
    {
     "name": "stdout",
     "output_type": "stream",
     "text": [
      "processed data size:  21165\n",
      "train data size:  16932\n",
      "test data size:  4233\n",
      "----------------------------------------\n",
      "distribution of labels for train set:\n",
      "label_enc\n",
      "2    0.481573\n",
      "1    0.284018\n",
      "0    0.170860\n",
      "3    0.063548\n",
      "Name: proportion, dtype: float64\n",
      "----------------------------------------\n",
      "distribution of labels for test set:\n",
      "label_enc\n",
      "2    0.481455\n",
      "1    0.284196\n",
      "0    0.170801\n",
      "3    0.063548\n",
      "Name: proportion, dtype: float64\n"
     ]
    }
   ],
   "source": [
    "# check length \n",
    "print(\"processed data size: \", len(df_processed))\n",
    "print(\"train data size: \", len(df_processed_train))\n",
    "print(\"test data size: \", len(df_processed_test))\n",
    "print(\"----------------------------------------\")\n",
    "\n",
    "# stats of labels after splitting into test and train\n",
    "print(\"distribution of labels for train set:\")\n",
    "print(df_processed_train['label_enc'].value_counts(normalize=True))\n",
    "\n",
    "print(\"----------------------------------------\")\n",
    "print(\"distribution of labels for test set:\")\n",
    "print(df_processed_test['label_enc'].value_counts(normalize=True))"
   ]
  },
  {
   "cell_type": "code",
   "execution_count": null,
   "id": "13697ac7",
   "metadata": {},
   "outputs": [],
   "source": [
    "# save dataframes with test and train data to csv\n",
    "\n",
    "df_processed_train.to_csv(os.path.join(base_path_out, 'df_xray_processed_normed_enc_train.csv'), index_label='index')\n",
    "df_processed_test.to_csv(os.path.join(base_path_out, 'df_xray_processed_normed_enc_test.csv'), index_label='index')\n"
   ]
  },
  {
   "cell_type": "code",
   "execution_count": null,
   "id": "f101c230",
   "metadata": {},
   "outputs": [],
   "source": []
  }
 ],
 "metadata": {
  "kernelspec": {
   "display_name": "Python 3",
   "language": "python",
   "name": "python3"
  },
  "language_info": {
   "codemirror_mode": {
    "name": "ipython",
    "version": 3
   },
   "file_extension": ".py",
   "mimetype": "text/x-python",
   "name": "python",
   "nbconvert_exporter": "python",
   "pygments_lexer": "ipython3",
   "version": "3.12.9"
  }
 },
 "nbformat": 4,
 "nbformat_minor": 5
}
