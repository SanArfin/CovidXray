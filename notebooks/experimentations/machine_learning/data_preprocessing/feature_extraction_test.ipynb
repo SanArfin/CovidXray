{
 "cells": [
  {
   "cell_type": "markdown",
   "id": "6c796ec6",
   "metadata": {},
   "source": [
    "#FEATURE EXTRACTION FOR TEST SET"
   ]
  },
  {
   "cell_type": "code",
   "execution_count": 1,
   "id": "ff6427b2",
   "metadata": {},
   "outputs": [
    {
     "name": "stdout",
     "output_type": "stream",
     "text": [
      "c:\\Users\\arfin\\Downloads\\covid xray\\mar25-bds_analysis-of-covid-19-chest-x-rays\\notebooks\n",
      "Loading images from: c:\\Users\\arfin\\Downloads\\covid xray\\mar25-bds_analysis-of-covid-19-chest-x-rays\\data\\processed\\df_xray_processed_normed_enc_test.csv\n"
     ]
    },
    {
     "data": {
      "text/html": [
       "<div>\n",
       "<style scoped>\n",
       "    .dataframe tbody tr th:only-of-type {\n",
       "        vertical-align: middle;\n",
       "    }\n",
       "\n",
       "    .dataframe tbody tr th {\n",
       "        vertical-align: top;\n",
       "    }\n",
       "\n",
       "    .dataframe thead th {\n",
       "        text-align: right;\n",
       "    }\n",
       "</style>\n",
       "<table border=\"1\" class=\"dataframe\">\n",
       "  <thead>\n",
       "    <tr style=\"text-align: right;\">\n",
       "      <th></th>\n",
       "      <th>index</th>\n",
       "      <th>label</th>\n",
       "      <th>file</th>\n",
       "      <th>label_enc</th>\n",
       "      <th>path</th>\n",
       "      <th>image_path</th>\n",
       "    </tr>\n",
       "  </thead>\n",
       "  <tbody>\n",
       "    <tr>\n",
       "      <th>0</th>\n",
       "      <td>20104</td>\n",
       "      <td>Viral Pneumonia</td>\n",
       "      <td>Viral Pneumonia-285.png</td>\n",
       "      <td>3</td>\n",
       "      <td>..\\\\data\\\\processed\\normalized_xrays\\Viral Pne...</td>\n",
       "      <td>..\\\\data\\\\processed\\normalized_xrays\\Viral Pne...</td>\n",
       "    </tr>\n",
       "    <tr>\n",
       "      <th>1</th>\n",
       "      <td>13618</td>\n",
       "      <td>Normal</td>\n",
       "      <td>NORMAL-10003.png</td>\n",
       "      <td>2</td>\n",
       "      <td>..\\\\data\\\\processed\\normalized_xrays\\Normal</td>\n",
       "      <td>..\\\\data\\\\processed\\normalized_xrays\\Normal\\NO...</td>\n",
       "    </tr>\n",
       "    <tr>\n",
       "      <th>2</th>\n",
       "      <td>14442</td>\n",
       "      <td>Lung_Opacity</td>\n",
       "      <td>Lung_Opacity-635.png</td>\n",
       "      <td>1</td>\n",
       "      <td>..\\\\data\\\\processed\\normalized_xrays\\Lung_Opacity</td>\n",
       "      <td>..\\\\data\\\\processed\\normalized_xrays\\Lung_Opac...</td>\n",
       "    </tr>\n",
       "    <tr>\n",
       "      <th>3</th>\n",
       "      <td>9935</td>\n",
       "      <td>Normal</td>\n",
       "      <td>NORMAL-6320.png</td>\n",
       "      <td>2</td>\n",
       "      <td>..\\\\data\\\\processed\\normalized_xrays\\Normal</td>\n",
       "      <td>..\\\\data\\\\processed\\normalized_xrays\\Normal\\NO...</td>\n",
       "    </tr>\n",
       "    <tr>\n",
       "      <th>4</th>\n",
       "      <td>656</td>\n",
       "      <td>COVID</td>\n",
       "      <td>COVID-657.png</td>\n",
       "      <td>0</td>\n",
       "      <td>..\\\\data\\\\processed\\normalized_xrays\\COVID</td>\n",
       "      <td>..\\\\data\\\\processed\\normalized_xrays\\COVID\\COV...</td>\n",
       "    </tr>\n",
       "  </tbody>\n",
       "</table>\n",
       "</div>"
      ],
      "text/plain": [
       "   index            label                     file  label_enc  \\\n",
       "0  20104  Viral Pneumonia  Viral Pneumonia-285.png          3   \n",
       "1  13618           Normal         NORMAL-10003.png          2   \n",
       "2  14442     Lung_Opacity     Lung_Opacity-635.png          1   \n",
       "3   9935           Normal          NORMAL-6320.png          2   \n",
       "4    656            COVID            COVID-657.png          0   \n",
       "\n",
       "                                                path  \\\n",
       "0  ..\\\\data\\\\processed\\normalized_xrays\\Viral Pne...   \n",
       "1        ..\\\\data\\\\processed\\normalized_xrays\\Normal   \n",
       "2  ..\\\\data\\\\processed\\normalized_xrays\\Lung_Opacity   \n",
       "3        ..\\\\data\\\\processed\\normalized_xrays\\Normal   \n",
       "4         ..\\\\data\\\\processed\\normalized_xrays\\COVID   \n",
       "\n",
       "                                          image_path  \n",
       "0  ..\\\\data\\\\processed\\normalized_xrays\\Viral Pne...  \n",
       "1  ..\\\\data\\\\processed\\normalized_xrays\\Normal\\NO...  \n",
       "2  ..\\\\data\\\\processed\\normalized_xrays\\Lung_Opac...  \n",
       "3  ..\\\\data\\\\processed\\normalized_xrays\\Normal\\NO...  \n",
       "4  ..\\\\data\\\\processed\\normalized_xrays\\COVID\\COV...  "
      ]
     },
     "execution_count": 1,
     "metadata": {},
     "output_type": "execute_result"
    }
   ],
   "source": [
    "# Step-by-step Plan (after augmentation):\n",
    "#Start with augmented training set\n",
    "#Includes original + augmented images (especially from minority class).\n",
    "# test set remains untouched.\n",
    "#Extract features from the augmented training set\n",
    "#we use:\n",
    "#Deep features: like from ResNet, VGG, \n",
    "#Handcrafted features: like HOG, GLCM, \n",
    "#Or combine both (e.g., ResNet + HOG + GLCM).\n",
    "\n",
    "import pandas as pd\n",
    "import numpy as np\n",
    "import cv2\n",
    "from sklearn.preprocessing import LabelEncoder\n",
    "from tensorflow.keras.applications import VGG16\n",
    "from tensorflow.keras.applications.vgg16 import preprocess_input\n",
    "from skimage.feature import hog\n",
    "import umap\n",
    "import tensorflow as tf\n",
    "import os\n",
    "import matplotlib.pyplot as plt  # Add the missing import\n",
    "\n",
    "print(os.getcwd())\n",
    "base_path     = \"../data\"\n",
    "base_path_out = os.path.join(base_path, \"processed\")\n",
    "\n",
    "print(\"Loading images from:\", os.path.abspath(os.path.join(base_path_out, \"df_xray_processed_normed_enc_test.csv\")))\n",
    "\n",
    "# 1)Load csv file\n",
    "df_test= pd.read_csv(os.path.abspath(os.path.join(base_path_out, \"df_xray_processed_normed_enc_test.csv\")))\n",
    "df_test['image_path'] = df_test.apply(lambda row: os.path.join(row['path'], row['file']), axis=1)\n",
    "df_test.head()"
   ]
  },
  {
   "cell_type": "code",
   "execution_count": 3,
   "id": "dc0b465a",
   "metadata": {},
   "outputs": [
    {
     "name": "stderr",
     "output_type": "stream",
     "text": [
      "Loading images: 100%|██████████| 4233/4233 [00:14<00:00, 295.30it/s]\n"
     ]
    },
    {
     "name": "stdout",
     "output_type": "stream",
     "text": [
      "X_gray shape: (4233, 299, 299)\n",
      "y_labels shape: (4233,)\n"
     ]
    }
   ],
   "source": [
    "from tqdm import tqdm\n",
    "\n",
    "#2)Get images\n",
    "#Step1 :Get the current working directory (where the script is running).\n",
    "project_base_dir = os.getcwd()  \n",
    "\n",
    "#Step 2:Combine:\n",
    "#project_base_dir (base path),\n",
    "#row['path'] (relative folder like data/processed/normalized_xrays/COVID), and\n",
    "#row['file'] (e.g., COVID-1372.png)\n",
    "#Use os.path.normpath to clean up path slashes (platform-independent).\n",
    "#Add a new column image_path in df with full image paths.\n",
    "df_test['image_path'] = df_test.apply(lambda row: os.path.normpath(os.path.join(project_base_dir, row['path'], row['file'])), axis=1)\n",
    "\n",
    "# Step 3: Load images (as-is)\n",
    "#Iterates over all image paths.\n",
    "#Loads each image as grayscale using OpenCV (cv2.IMREAD_GRAYSCALE).\n",
    "#Appends the loaded image array to image_data.\n",
    "image_data = []\n",
    "for path in tqdm(df_test['image_path'], desc=\"Loading images\"):\n",
    "    img = cv2.imread(path, cv2.IMREAD_GRAYSCALE)\n",
    "    if img is not None:\n",
    "        image_data.append(img)\n",
    "    else:\n",
    "        print(f\"Failed to load image: {path}\")\n",
    "\n",
    "# Step 4: Convert to NumPy array\n",
    "X_gray = np.array(image_data, dtype=np.uint8)\n",
    "\n",
    "# Step 5: Extract labels\n",
    "y_labels = df_test['label_enc'].to_numpy()\n",
    "\n",
    "# Step 6: Inspect results\n",
    "print(\"X_gray shape:\", X_gray.shape)\n",
    "print(\"y_labels shape:\", y_labels.shape)\n"
   ]
  },
  {
   "cell_type": "code",
   "execution_count": 17,
   "id": "2c979ac5",
   "metadata": {},
   "outputs": [
    {
     "name": "stdout",
     "output_type": "stream",
     "text": [
      "Shape of labels_test: (4233,)\n",
      "[3 2 1 2 0]\n"
     ]
    }
   ],
   "source": [
    "np.save(\"labels_test.npy\", y_labels)\n",
    "labels_test = np.load(\"labels_test.npy\")\n",
    "print(\"Shape of labels_test:\", labels_test.shape)\n",
    "print(labels_test[:5])  # First 5 elements"
   ]
  },
  {
   "cell_type": "markdown",
   "id": "bab95ec3",
   "metadata": {},
   "source": [
    "#VGG FEATURES"
   ]
  },
  {
   "cell_type": "code",
   "execution_count": 5,
   "id": "eaa3b2a0",
   "metadata": {},
   "outputs": [
    {
     "name": "stdout",
     "output_type": "stream",
     "text": [
      "VGG16 features: (4233, 512)\n"
     ]
    }
   ],
   "source": [
    "# 3) Build VGG16 (global avg pooling → 512-d output)\n",
    "vgg = VGG16(\n",
    "    weights='imagenet',\n",
    "    include_top=False,\n",
    "    pooling='avg',\n",
    "    input_shape=(224,224,3)\n",
    ")\n",
    "\n",
    "# 4) Batch-wise VGG16 feature extraction\n",
    "batch_size = 32\n",
    "vgg_feats  = []\n",
    "\n",
    "for start in range(0, len(X_gray), batch_size):\n",
    "    end = min(start + batch_size, len(X_gray))\n",
    "    batch_gray = X_gray[start:end]\n",
    "    \n",
    "    # Allocate only this batch’s RGB array (batch_size × 224 × 224 × 3)\n",
    "    batch_rgb = np.zeros((len(batch_gray), 224, 224, 3), dtype='float32')\n",
    "    for i, img in enumerate(batch_gray):\n",
    "        resized = cv2.resize(img, (224,224))\n",
    "        batch_rgb[i] = cv2.cvtColor(resized, cv2.COLOR_GRAY2BGR)\n",
    "    \n",
    "    # Preprocess and predict just this batch\n",
    "    batch_pre = preprocess_input(batch_rgb)\n",
    "    feats      = vgg.predict(batch_pre, verbose=0)  # → (batch, 512)\n",
    "    vgg_feats.append(feats)\n",
    "\n",
    "vgg_feats = np.vstack(vgg_feats)  # → (21165, 512)\n",
    "print(\"VGG16 features:\", vgg_feats.shape)\n",
    "np.save(\"vgg_features_test.npy\", vgg_feats)\n",
    "\n"
   ]
  },
  {
   "cell_type": "markdown",
   "id": "c25ae1c8",
   "metadata": {},
   "source": [
    "#HOG FEATURES "
   ]
  },
  {
   "cell_type": "code",
   "execution_count": 4,
   "id": "10c228a9",
   "metadata": {},
   "outputs": [
    {
     "name": "stdout",
     "output_type": "stream",
     "text": [
      "HOG features: (4233, 8100)\n"
     ]
    }
   ],
   "source": [
    "# 5) HOG feature extraction (one at a time)\n",
    "hog_feats = []\n",
    "for img in X_gray:\n",
    "    resized = cv2.resize(img, (128,128))\n",
    "    h       = hog(\n",
    "        resized,\n",
    "        orientations=9,\n",
    "        pixels_per_cell=(8,8),\n",
    "        cells_per_block=(2,2),\n",
    "        feature_vector=True\n",
    "    )\n",
    "    hog_feats.append(h)\n",
    "\n",
    "hog_feats = np.array(hog_feats)\n",
    "print(\"HOG features:\", hog_feats.shape)\n",
    "np.save(\"hog_features_test.npy\", hog_feats)\n"
   ]
  },
  {
   "cell_type": "markdown",
   "id": "2baeb12e",
   "metadata": {},
   "source": [
    "#COMBINED(HOG + VGG)"
   ]
  },
  {
   "cell_type": "code",
   "execution_count": 6,
   "id": "e7196b9d",
   "metadata": {},
   "outputs": [
    {
     "name": "stdout",
     "output_type": "stream",
     "text": [
      "Combined features: (4233, 8612)\n"
     ]
    }
   ],
   "source": [
    "# 6) Combine\n",
    "combined_vgg_hog = np.concatenate([vgg_feats, hog_feats], axis=1)\n",
    "print(\"Combined features:\", combined_vgg_hog.shape)\n",
    "np.save(\"combined_vgg_hog_test.npy\", combined_vgg_hog)\n"
   ]
  },
  {
   "cell_type": "markdown",
   "id": "60689169",
   "metadata": {},
   "source": [
    "#RESNET FEATURE EXTRACTION"
   ]
  },
  {
   "cell_type": "code",
   "execution_count": 7,
   "id": "fba85036",
   "metadata": {},
   "outputs": [
    {
     "name": "stdout",
     "output_type": "stream",
     "text": [
      "ResNet-50 features shape: (4233, 2048)\n"
     ]
    }
   ],
   "source": [
    "from tensorflow.keras.applications import ResNet50\n",
    "from tensorflow.keras.applications.resnet50 import preprocess_input as resnet_preprocess\n",
    "import numpy as np\n",
    "import cv2\n",
    "\n",
    "# 1) Build ResNet50 with global avg pooling\n",
    "resnet = ResNet50(\n",
    "    weights='imagenet',\n",
    "    include_top=False,\n",
    "    pooling='avg',          # <— yields a 2048-dim vector per image\n",
    "    input_shape=(224,224,3)\n",
    ")\n",
    "\n",
    "# 2) Batch feature extraction\n",
    "batch_size = 32\n",
    "resnet_feats = []\n",
    "\n",
    "for start in range(0, len(X_gray), batch_size):\n",
    "    end = min(start + batch_size, len(X_gray))\n",
    "    batch_gray = X_gray[start:end]\n",
    "    \n",
    "    # Allocate only this batch’s RGB array\n",
    "    batch_rgb = np.zeros((len(batch_gray), 224, 224, 3), dtype='float32')\n",
    "    for i, img in enumerate(batch_gray):\n",
    "        resized = cv2.resize(img, (224,224))\n",
    "        batch_rgb[i] = cv2.cvtColor(resized, cv2.COLOR_GRAY2BGR)\n",
    "    \n",
    "    # Preprocess & predict\n",
    "    batch_pre = resnet_preprocess(batch_rgb)\n",
    "    feats     = resnet.predict(batch_pre, verbose=0)  # → (batch, 2048)\n",
    "    resnet_feats.append(feats)\n",
    "\n",
    "resnet_feats = np.vstack(resnet_feats)  # → (N, 2048)\n",
    "print(\"ResNet-50 features shape:\", resnet_feats.shape)\n",
    "\n",
    "np.save('resnet_feats_test.npy', resnet_feats)"
   ]
  },
  {
   "cell_type": "markdown",
   "id": "4d355110",
   "metadata": {},
   "source": [
    "#GLCM FEATURE EXTRACTION"
   ]
  },
  {
   "cell_type": "code",
   "execution_count": 8,
   "id": "5f64200c",
   "metadata": {},
   "outputs": [
    {
     "name": "stdout",
     "output_type": "stream",
     "text": [
      "GLCM features: (4233, 5)\n"
     ]
    }
   ],
   "source": [
    "from skimage.feature import graycomatrix, graycoprops\n",
    "from skimage import exposure\n",
    "\n",
    "levels = 256  # use 256 to match 8-bit images\n",
    "distances = [1, 2, 3]\n",
    "angles = [0, np.pi/4, np.pi/2, 3*np.pi/4]\n",
    "\n",
    "glcm_features = []\n",
    "\n",
    "for img in X_gray:\n",
    "    # X_gray is already grayscale, just rescale intensity\n",
    "    img_rescaled = exposure.rescale_intensity(\n",
    "        img, in_range='image', out_range=(0, levels - 1)\n",
    "    ).astype(np.uint8)\n",
    "\n",
    "    glcm = graycomatrix(\n",
    "        img_rescaled,\n",
    "        distances=distances,\n",
    "        angles=angles,\n",
    "        levels=levels,\n",
    "        symmetric=True,\n",
    "        normed=True\n",
    "    )\n",
    "\n",
    "    glcm_feat = [\n",
    "        graycoprops(glcm, 'contrast').mean(),\n",
    "        graycoprops(glcm, 'dissimilarity').mean(),\n",
    "        graycoprops(glcm, 'homogeneity').mean(),\n",
    "        graycoprops(glcm, 'energy').mean(),\n",
    "        graycoprops(glcm, 'correlation').mean()\n",
    "    ]\n",
    "\n",
    "    glcm_features.append(glcm_feat)\n",
    "\n",
    "glcm_features = np.array(glcm_features)\n",
    "print(\"GLCM features:\", glcm_features.shape)\n",
    "np.save('glcm_features_test.npy', glcm_features)\n"
   ]
  },
  {
   "cell_type": "markdown",
   "id": "311fdd6e",
   "metadata": {},
   "source": [
    "#RESNET + HOG"
   ]
  },
  {
   "cell_type": "code",
   "execution_count": 9,
   "id": "20edea4a",
   "metadata": {},
   "outputs": [],
   "source": [
    "# Option 1: ResNet + HOG\n",
    "combined_1 = np.concatenate([resnet_feats, hog_feats], axis=1)\n",
    "np.save('ResNet_HOG_test.npy', combined_1)\n"
   ]
  },
  {
   "cell_type": "markdown",
   "id": "d020d631",
   "metadata": {},
   "source": [
    "#RESNET + HOG + GLCM"
   ]
  },
  {
   "cell_type": "code",
   "execution_count": 10,
   "id": "12af0184",
   "metadata": {},
   "outputs": [],
   "source": [
    "# Option 2: ResNet + HOG + GLCM\n",
    "combined_2 = np.concatenate([resnet_feats, hog_feats, glcm_features], axis=1)\n",
    "np.save('ResNet_HOG_GLCM_test.npy', combined_2)"
   ]
  }
 ],
 "metadata": {
  "kernelspec": {
   "display_name": "venv",
   "language": "python",
   "name": "venv"
  },
  "language_info": {
   "codemirror_mode": {
    "name": "ipython",
    "version": 3
   },
   "file_extension": ".py",
   "mimetype": "text/x-python",
   "name": "python",
   "nbconvert_exporter": "python",
   "pygments_lexer": "ipython3",
   "version": "3.12.8"
  }
 },
 "nbformat": 4,
 "nbformat_minor": 5
}
