{
 "cells": [
  {
   "cell_type": "markdown",
   "id": "173a7d53",
   "metadata": {},
   "source": [
    "# FEATURE EXTRACTION FOR TRAIN SET"
   ]
  },
  {
   "cell_type": "code",
   "execution_count": 13,
   "id": "e72168d5",
   "metadata": {},
   "outputs": [
    {
     "name": "stdout",
     "output_type": "stream",
     "text": [
      "c:\\Users\\arfin\\Downloads\\covid xray\\mar25-bds_analysis-of-covid-19-chest-x-rays\\notebooks\n",
      "Loading images from: c:\\Users\\arfin\\Downloads\\covid xray\\mar25-bds_analysis-of-covid-19-chest-x-rays\\data\\processed\\df_xray_train_norm_plus_augmented.csv\n"
     ]
    },
    {
     "data": {
      "text/html": [
       "<div>\n",
       "<style scoped>\n",
       "    .dataframe tbody tr th:only-of-type {\n",
       "        vertical-align: middle;\n",
       "    }\n",
       "\n",
       "    .dataframe tbody tr th {\n",
       "        vertical-align: top;\n",
       "    }\n",
       "\n",
       "    .dataframe thead th {\n",
       "        text-align: right;\n",
       "    }\n",
       "</style>\n",
       "<table border=\"1\" class=\"dataframe\">\n",
       "  <thead>\n",
       "    <tr style=\"text-align: right;\">\n",
       "      <th></th>\n",
       "      <th>index</th>\n",
       "      <th>label</th>\n",
       "      <th>file</th>\n",
       "      <th>label_enc</th>\n",
       "      <th>path</th>\n",
       "      <th>image_path</th>\n",
       "    </tr>\n",
       "  </thead>\n",
       "  <tbody>\n",
       "    <tr>\n",
       "      <th>0</th>\n",
       "      <td>0</td>\n",
       "      <td>Normal</td>\n",
       "      <td>NORMAL-7970.png</td>\n",
       "      <td>2</td>\n",
       "      <td>..\\\\data\\\\processed\\normalized_xrays\\Normal</td>\n",
       "      <td>..\\\\data\\\\processed\\normalized_xrays\\Normal\\NO...</td>\n",
       "    </tr>\n",
       "    <tr>\n",
       "      <th>1</th>\n",
       "      <td>1</td>\n",
       "      <td>COVID</td>\n",
       "      <td>COVID-1372.png</td>\n",
       "      <td>0</td>\n",
       "      <td>..\\\\data\\\\processed\\normalized_xrays\\COVID</td>\n",
       "      <td>..\\\\data\\\\processed\\normalized_xrays\\COVID\\COV...</td>\n",
       "    </tr>\n",
       "    <tr>\n",
       "      <th>2</th>\n",
       "      <td>2</td>\n",
       "      <td>Normal</td>\n",
       "      <td>NORMAL-354.png</td>\n",
       "      <td>2</td>\n",
       "      <td>..\\\\data\\\\processed\\normalized_xrays\\Normal</td>\n",
       "      <td>..\\\\data\\\\processed\\normalized_xrays\\Normal\\NO...</td>\n",
       "    </tr>\n",
       "    <tr>\n",
       "      <th>3</th>\n",
       "      <td>3</td>\n",
       "      <td>Viral Pneumonia</td>\n",
       "      <td>Viral Pneumonia-569.png</td>\n",
       "      <td>3</td>\n",
       "      <td>..\\\\data\\\\processed\\normalized_xrays\\Viral Pne...</td>\n",
       "      <td>..\\\\data\\\\processed\\normalized_xrays\\Viral Pne...</td>\n",
       "    </tr>\n",
       "    <tr>\n",
       "      <th>4</th>\n",
       "      <td>4</td>\n",
       "      <td>Normal</td>\n",
       "      <td>NORMAL-4703.png</td>\n",
       "      <td>2</td>\n",
       "      <td>..\\\\data\\\\processed\\normalized_xrays\\Normal</td>\n",
       "      <td>..\\\\data\\\\processed\\normalized_xrays\\Normal\\NO...</td>\n",
       "    </tr>\n",
       "  </tbody>\n",
       "</table>\n",
       "</div>"
      ],
      "text/plain": [
       "   index            label                     file  label_enc  \\\n",
       "0      0           Normal          NORMAL-7970.png          2   \n",
       "1      1            COVID           COVID-1372.png          0   \n",
       "2      2           Normal           NORMAL-354.png          2   \n",
       "3      3  Viral Pneumonia  Viral Pneumonia-569.png          3   \n",
       "4      4           Normal          NORMAL-4703.png          2   \n",
       "\n",
       "                                                path  \\\n",
       "0        ..\\\\data\\\\processed\\normalized_xrays\\Normal   \n",
       "1         ..\\\\data\\\\processed\\normalized_xrays\\COVID   \n",
       "2        ..\\\\data\\\\processed\\normalized_xrays\\Normal   \n",
       "3  ..\\\\data\\\\processed\\normalized_xrays\\Viral Pne...   \n",
       "4        ..\\\\data\\\\processed\\normalized_xrays\\Normal   \n",
       "\n",
       "                                          image_path  \n",
       "0  ..\\\\data\\\\processed\\normalized_xrays\\Normal\\NO...  \n",
       "1  ..\\\\data\\\\processed\\normalized_xrays\\COVID\\COV...  \n",
       "2  ..\\\\data\\\\processed\\normalized_xrays\\Normal\\NO...  \n",
       "3  ..\\\\data\\\\processed\\normalized_xrays\\Viral Pne...  \n",
       "4  ..\\\\data\\\\processed\\normalized_xrays\\Normal\\NO...  "
      ]
     },
     "execution_count": 13,
     "metadata": {},
     "output_type": "execute_result"
    }
   ],
   "source": [
    "# Step-by-step Plan (after augmentation):\n",
    "#Start with augmented training set\n",
    "#Includes original + augmented images (especially from minority class).\n",
    "# test set remains untouched.\n",
    "#Extract features from the augmented training set\n",
    "#we use:\n",
    "#Deep features: like from ResNet, VGG, \n",
    "#Handcrafted features: like HOG, GLCM, \n",
    "#Or combine both (e.g., ResNet + HOG + GLCM).\n",
    "\n",
    "import pandas as pd\n",
    "import numpy as np\n",
    "import cv2\n",
    "from sklearn.preprocessing import LabelEncoder\n",
    "from tensorflow.keras.applications import VGG16\n",
    "from tensorflow.keras.applications.vgg16 import preprocess_input\n",
    "from skimage.feature import hog\n",
    "import umap\n",
    "import tensorflow as tf\n",
    "import os\n",
    "import matplotlib.pyplot as plt  # Add the missing import\n",
    "\n",
    "print(os.getcwd())\n",
    "base_path     = \"../data\"\n",
    "base_path_out = os.path.join(base_path, \"processed\")\n",
    "\n",
    "print(\"Loading images from:\", os.path.abspath(os.path.join(base_path_out, \"df_xray_train_norm_plus_augmented.csv\")))\n",
    "\n",
    "# 1)Load csv file\n",
    "df= pd.read_csv(os.path.abspath(os.path.join(base_path_out, \"df_xray_train_norm_plus_augmented.csv\")))\n",
    "df['image_path'] = df.apply(lambda row: os.path.join(row['path'], row['file']), axis=1)\n",
    "df.head()"
   ]
  },
  {
   "cell_type": "code",
   "execution_count": 14,
   "id": "8b316137",
   "metadata": {},
   "outputs": [
    {
     "name": "stderr",
     "output_type": "stream",
     "text": [
      "Loading images: 100%|██████████| 35059/35059 [01:12<00:00, 481.83it/s]\n"
     ]
    },
    {
     "name": "stdout",
     "output_type": "stream",
     "text": [
      "X_gray shape: (35059, 299, 299)\n",
      "y_labels shape: (35059,)\n"
     ]
    }
   ],
   "source": [
    "import os\n",
    "import cv2\n",
    "import numpy as np\n",
    "from tqdm import tqdm\n",
    "\n",
    "#2)Get images\n",
    "#Step1 :Get the current working directory (where the script is running).\n",
    "project_base_dir = os.getcwd()  \n",
    "\n",
    "#Step 2:Combine:\n",
    "#project_base_dir (base path),\n",
    "#row['path'] (relative folder like data/processed/normalized_xrays/COVID), and\n",
    "#row['file'] (e.g., COVID-1372.png)\n",
    "#Use os.path.normpath to clean up path slashes (platform-independent).\n",
    "#Add a new column image_path in df with full image paths.\n",
    "df['image_path'] = df.apply(lambda row: os.path.normpath(os.path.join(project_base_dir, row['path'], row['file'])), axis=1)\n",
    "\n",
    "# Step 3: Load images (as-is)\n",
    "#Iterates over all image paths.\n",
    "#Loads each image as grayscale using OpenCV (cv2.IMREAD_GRAYSCALE).\n",
    "#Appends the loaded image array to image_data.\n",
    "image_data = []\n",
    "for path in tqdm(df['image_path'], desc=\"Loading images\"):\n",
    "    img = cv2.imread(path, cv2.IMREAD_GRAYSCALE)\n",
    "    if img is not None:\n",
    "        image_data.append(img)\n",
    "    else:\n",
    "        print(f\"Failed to load image: {path}\")\n",
    "\n",
    "# Step 4: Convert to NumPy array\n",
    "X_gray = np.array(image_data, dtype=np.uint8)\n",
    "\n",
    "# Step 5: Extract labels\n",
    "y_labels = df['label_enc'].to_numpy()\n",
    "\n",
    "# Step 6: Inspect results\n",
    "print(\"X_gray shape:\", X_gray.shape)\n",
    "print(\"y_labels shape:\", y_labels.shape)\n"
   ]
  },
  {
   "cell_type": "code",
   "execution_count": 19,
   "id": "44d0e1a0",
   "metadata": {},
   "outputs": [
    {
     "name": "stdout",
     "output_type": "stream",
     "text": [
      "Shape of labels_train: (35059,)\n"
     ]
    }
   ],
   "source": [
    "np.save(\"labels_train.npy\", y_labels)\n",
    "labels_train = np.load(\"labels_train.npy\")\n",
    "print(\"Shape of labels_train:\", labels_train.shape)\n"
   ]
  },
  {
   "cell_type": "markdown",
   "id": "89acdc16",
   "metadata": {},
   "source": [
    "#VGG, HOG , COMBINED _VGG_HOg = VGG + HOG "
   ]
  },
  {
   "cell_type": "code",
   "execution_count": 4,
   "id": "49cf9d73",
   "metadata": {},
   "outputs": [
    {
     "name": "stdout",
     "output_type": "stream",
     "text": [
      "VGG16 features: (35059, 512)\n",
      "HOG features: (35059, 8100)\n",
      "Combined features: (35059, 8612)\n"
     ]
    }
   ],
   "source": [
    "# 3) Build VGG16 (global avg pooling → 512-d output)\n",
    "vgg = VGG16(\n",
    "    weights='imagenet',\n",
    "    include_top=False,\n",
    "    pooling='avg',\n",
    "    input_shape=(224,224,3)\n",
    ")\n",
    "\n",
    "# 4) Batch-wise VGG16 feature extraction\n",
    "batch_size = 32\n",
    "vgg_feats  = []\n",
    "\n",
    "for start in range(0, len(X_gray), batch_size):\n",
    "    end = min(start + batch_size, len(X_gray))\n",
    "    batch_gray = X_gray[start:end]\n",
    "    \n",
    "    # Allocate only this batch’s RGB array (batch_size × 224 × 224 × 3)\n",
    "    batch_rgb = np.zeros((len(batch_gray), 224, 224, 3), dtype='float32')\n",
    "    for i, img in enumerate(batch_gray):\n",
    "        resized = cv2.resize(img, (224,224))\n",
    "        batch_rgb[i] = cv2.cvtColor(resized, cv2.COLOR_GRAY2BGR)\n",
    "    \n",
    "    # Preprocess and predict just this batch\n",
    "    batch_pre = preprocess_input(batch_rgb)\n",
    "    feats      = vgg.predict(batch_pre, verbose=0)  # → (batch, 512)\n",
    "    vgg_feats.append(feats)\n",
    "\n",
    "vgg_feats = np.vstack(vgg_feats)  # → (21165, 512)\n",
    "print(\"VGG16 features:\", vgg_feats.shape)\n",
    "\n",
    "# 5) HOG feature extraction (one at a time)\n",
    "hog_feats = []\n",
    "for img in X_gray:\n",
    "    resized = cv2.resize(img, (128,128))\n",
    "    h       = hog(\n",
    "        resized,\n",
    "        orientations=9,\n",
    "        pixels_per_cell=(8,8),\n",
    "        cells_per_block=(2,2),\n",
    "        feature_vector=True\n",
    "    )\n",
    "    hog_feats.append(h)\n",
    "\n",
    "hog_feats = np.array(hog_feats)\n",
    "print(\"HOG features:\", hog_feats.shape)\n",
    "\n",
    "# 6) Combine\n",
    "combined_vgg_hog = np.concatenate([vgg_feats, hog_feats], axis=1)\n",
    "print(\"Combined features:\", combined_vgg_hog.shape)\n",
    "\n"
   ]
  },
  {
   "cell_type": "code",
   "execution_count": 5,
   "id": "ed8a0311",
   "metadata": {},
   "outputs": [
    {
     "name": "stdout",
     "output_type": "stream",
     "text": [
      "Features saved to disk!\n"
     ]
    }
   ],
   "source": [
    "# Save the features to disk\n",
    "np.save(\"vgg_features.npy\", vgg_feats)\n",
    "np.save(\"hog_features.npy\", hog_feats)\n",
    "np.save(\"combined_features.npy\", combined_vgg_hog)\n",
    "\n",
    "print(\"Features saved to disk!\")\n"
   ]
  },
  {
   "cell_type": "markdown",
   "id": "b1fdd82c",
   "metadata": {},
   "source": [
    "#RESNET 50 FEATURES"
   ]
  },
  {
   "cell_type": "code",
   "execution_count": 6,
   "id": "a1c002d1",
   "metadata": {},
   "outputs": [
    {
     "name": "stdout",
     "output_type": "stream",
     "text": [
      "ResNet-50 features shape: (35059, 2048)\n"
     ]
    }
   ],
   "source": [
    "from tensorflow.keras.applications import ResNet50\n",
    "from tensorflow.keras.applications.resnet50 import preprocess_input as resnet_preprocess\n",
    "import numpy as np\n",
    "import cv2\n",
    "\n",
    "# 1) Build ResNet50 with global avg pooling\n",
    "resnet = ResNet50(\n",
    "    weights='imagenet',\n",
    "    include_top=False,\n",
    "    pooling='avg',          # <— yields a 2048-dim vector per image\n",
    "    input_shape=(224,224,3)\n",
    ")\n",
    "\n",
    "# 2) Batch feature extraction\n",
    "batch_size = 32\n",
    "resnet_feats = []\n",
    "\n",
    "for start in range(0, len(X_gray), batch_size):\n",
    "    end = min(start + batch_size, len(X_gray))\n",
    "    batch_gray = X_gray[start:end]\n",
    "    \n",
    "    # Allocate only this batch’s RGB array\n",
    "    batch_rgb = np.zeros((len(batch_gray), 224, 224, 3), dtype='float32')\n",
    "    for i, img in enumerate(batch_gray):\n",
    "        resized = cv2.resize(img, (224,224))\n",
    "        batch_rgb[i] = cv2.cvtColor(resized, cv2.COLOR_GRAY2BGR)\n",
    "    \n",
    "    # Preprocess & predict\n",
    "    batch_pre = resnet_preprocess(batch_rgb)\n",
    "    feats     = resnet.predict(batch_pre, verbose=0)  # → (batch, 2048)\n",
    "    resnet_feats.append(feats)\n",
    "\n",
    "resnet_feats = np.vstack(resnet_feats)  # → (N, 2048)\n",
    "print(\"ResNet-50 features shape:\", resnet_feats.shape)\n",
    "np.save('resnet_feats.npy', resnet_feats)"
   ]
  },
  {
   "cell_type": "markdown",
   "id": "566b6812",
   "metadata": {},
   "source": [
    "#GLCM FEATURES"
   ]
  },
  {
   "cell_type": "code",
   "execution_count": 7,
   "id": "2ca0fff8",
   "metadata": {},
   "outputs": [
    {
     "name": "stdout",
     "output_type": "stream",
     "text": [
      "GLCM features: (35059, 5)\n"
     ]
    }
   ],
   "source": [
    "from skimage.feature import graycomatrix, graycoprops\n",
    "from skimage import exposure\n",
    "\n",
    "levels = 256  # use 256 to match 8-bit images\n",
    "distances = [1, 2, 3]\n",
    "angles = [0, np.pi/4, np.pi/2, 3*np.pi/4]\n",
    "\n",
    "glcm_features = []\n",
    "\n",
    "for img in X_gray:\n",
    "    # X_gray is already grayscale, just rescale intensity\n",
    "    img_rescaled = exposure.rescale_intensity(\n",
    "        img, in_range='image', out_range=(0, levels - 1)\n",
    "    ).astype(np.uint8)\n",
    "\n",
    "    glcm = graycomatrix(\n",
    "        img_rescaled,\n",
    "        distances=distances,\n",
    "        angles=angles,\n",
    "        levels=levels,\n",
    "        symmetric=True,\n",
    "        normed=True\n",
    "    )\n",
    "\n",
    "    glcm_feat = [\n",
    "        graycoprops(glcm, 'contrast').mean(),\n",
    "        graycoprops(glcm, 'dissimilarity').mean(),\n",
    "        graycoprops(glcm, 'homogeneity').mean(),\n",
    "        graycoprops(glcm, 'energy').mean(),\n",
    "        graycoprops(glcm, 'correlation').mean()\n",
    "    ]\n",
    "\n",
    "    glcm_features.append(glcm_feat)\n",
    "\n",
    "glcm_features = np.array(glcm_features)\n",
    "print(\"GLCM features:\", glcm_features.shape)\n"
   ]
  },
  {
   "cell_type": "code",
   "execution_count": 8,
   "id": "6af2ad36",
   "metadata": {},
   "outputs": [],
   "source": [
    "np.save('glcm_features.npy', glcm_features)"
   ]
  },
  {
   "cell_type": "markdown",
   "id": "35e1ae9f",
   "metadata": {},
   "source": [
    "#COMBINED 1 =ResNet + HOG, COMBINED 2 = ResNet + HOG + GLCM"
   ]
  },
  {
   "cell_type": "code",
   "execution_count": 10,
   "id": "abdd0e65",
   "metadata": {},
   "outputs": [],
   "source": [
    "# Option 1: ResNet + HOG\n",
    "combined_1 = np.concatenate([resnet_feats, hog_feats], axis=1)\n",
    "np.save('ResNet_HOG.npy', combined_1)\n"
   ]
  },
  {
   "cell_type": "code",
   "execution_count": 9,
   "id": "fcefb503",
   "metadata": {},
   "outputs": [],
   "source": [
    "# Option 2: ResNet + HOG + GLCM\n",
    "combined_2 = np.concatenate([resnet_feats, hog_feats, glcm_features], axis=1)\n",
    "np.save('ResNet_HOG_GLCM.npy', combined_2)"
   ]
  },
  {
   "cell_type": "markdown",
   "id": "5f808f53",
   "metadata": {},
   "source": [
    "#COMBINED all"
   ]
  },
  {
   "cell_type": "code",
   "execution_count": 11,
   "id": "932aeb96",
   "metadata": {},
   "outputs": [
    {
     "name": "stdout",
     "output_type": "stream",
     "text": [
      "True\n",
      "True\n"
     ]
    },
    {
     "ename": "KeyboardInterrupt",
     "evalue": "",
     "output_type": "error",
     "traceback": [
      "\u001b[31m---------------------------------------------------------------------------\u001b[39m",
      "\u001b[31mKeyboardInterrupt\u001b[39m                         Traceback (most recent call last)",
      "\u001b[36mCell\u001b[39m\u001b[36m \u001b[39m\u001b[32mIn[11]\u001b[39m\u001b[32m, line 9\u001b[39m\n\u001b[32m      6\u001b[39m \u001b[38;5;28mprint\u001b[39m(\u001b[33m\"\u001b[39m\u001b[33mhog_feats\u001b[39m\u001b[33m\"\u001b[39m \u001b[38;5;129;01min\u001b[39;00m \u001b[38;5;28mlocals\u001b[39m())  \u001b[38;5;66;03m# Will return True if the variable is present\u001b[39;00m\n\u001b[32m      8\u001b[39m \u001b[38;5;28;01mimport\u001b[39;00m\u001b[38;5;250m \u001b[39m\u001b[34;01mnumpy\u001b[39;00m\u001b[38;5;250m \u001b[39m\u001b[38;5;28;01mas\u001b[39;00m\u001b[38;5;250m \u001b[39m\u001b[34;01mnp\u001b[39;00m\n\u001b[32m----> \u001b[39m\u001b[32m9\u001b[39m combined_all = \u001b[43mnp\u001b[49m\u001b[43m.\u001b[49m\u001b[43mconcatenate\u001b[49m\u001b[43m(\u001b[49m\u001b[43m[\u001b[49m\u001b[43mvgg_feats\u001b[49m\u001b[43m,\u001b[49m\u001b[43m \u001b[49m\u001b[43mhog_feats\u001b[49m\u001b[43m,\u001b[49m\u001b[43m \u001b[49m\u001b[43mglcm_features\u001b[49m\u001b[43m,\u001b[49m\u001b[43m \u001b[49m\u001b[43mresnet_feats\u001b[49m\u001b[43m]\u001b[49m\u001b[43m,\u001b[49m\u001b[43m \u001b[49m\u001b[43maxis\u001b[49m\u001b[43m=\u001b[49m\u001b[32;43m1\u001b[39;49m\u001b[43m)\u001b[49m\n\u001b[32m     10\u001b[39m \u001b[38;5;28mprint\u001b[39m(\u001b[33m\"\u001b[39m\u001b[33mCombined feature shape:\u001b[39m\u001b[33m\"\u001b[39m, combined_all.shape)\n\u001b[32m     11\u001b[39m np.save(\u001b[33m'\u001b[39m\u001b[33mcombined_all.py\u001b[39m\u001b[33m'\u001b[39m, combined_all)\n",
      "\u001b[31mKeyboardInterrupt\u001b[39m: "
     ]
    }
   ],
   "source": [
    "# Merge features\n",
    "from sklearn.preprocessing import StandardScaler\n",
    "from sklearn.decomposition import PCA\n",
    "\n",
    "print(\"vgg_feats\" in locals())  # Will return True if the variable is present\n",
    "print(\"hog_feats\" in locals())  # Will return True if the variable is present\n",
    "\n",
    "import numpy as np\n",
    "combined_all = np.concatenate([vgg_feats, hog_feats, glcm_features, resnet_feats], axis=1)\n",
    "print(\"Combined feature shape:\", combined_all.shape)\n",
    "np.save('combined_all.py', combined_all)"
   ]
  },
  {
   "cell_type": "code",
   "execution_count": null,
   "id": "5f73501f",
   "metadata": {},
   "outputs": [],
   "source": [
    "#load features\n",
    "#import numpy as np\n",
    "#vgg_feats = np.load(\"vgg_features.npy\")\n",
    "#hog_feats = np.load(\"hog_features.npy\")\n",
    "#combined_features = np.load(\"combined_features.npy\")\n",
    "\n",
    "# # feature extraction methods (VGG, ResNet, HOG) produced 1D feature vectors by design.\n",
    "# 1. Extract features from train and test sets\n",
    "# train_feats = features from augmented training set\n",
    "# test_feats = features from test set (no augmentation)\n",
    "\n",
    "# 2. Scale both\n",
    "#scaler = StandardScaler()\n",
    "#train_scaled = scaler.fit_transform(train_feats)    # fit on train\n",
    "#test_scaled = scaler.transform(test_feats)          # transform test using same scaling\n",
    "\n",
    "# 3. PCA (or UMAP)(Optional)\n",
    "#pca = PCA(n_components=100)\n",
    "#train_pca = pca.fit_transform(train_scaled)         # fit PCA on train\n",
    "#test_pca = pca.transform(test_scaled)               # apply same PCA to test\n",
    "\n",
    "#4.Train traditional ML models like:SVM, Random Forest, XGBoost, Logistic Regression, etc.(on the feature vectors extracted from training data)\n",
    "#Evaluate on the test set\n",
    "#Use the model trained above to predict on the test features.\n",
    "#Compare accuracy, F1, etc."
   ]
  }
 ],
 "metadata": {
  "kernelspec": {
   "display_name": "venv",
   "language": "python",
   "name": "venv"
  },
  "language_info": {
   "codemirror_mode": {
    "name": "ipython",
    "version": 3
   },
   "file_extension": ".py",
   "mimetype": "text/x-python",
   "name": "python",
   "nbconvert_exporter": "python",
   "pygments_lexer": "ipython3",
   "version": "3.12.8"
  }
 },
 "nbformat": 4,
 "nbformat_minor": 5
}
