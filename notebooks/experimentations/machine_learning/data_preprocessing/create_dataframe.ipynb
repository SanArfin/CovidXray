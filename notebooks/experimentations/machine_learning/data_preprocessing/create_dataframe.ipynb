{
 "cells": [
  {
   "cell_type": "code",
   "execution_count": 3,
   "id": "fcc6ee4a",
   "metadata": {},
   "outputs": [],
   "source": [
    "import os\n",
    "import pandas as pd"
   ]
  },
  {
   "cell_type": "code",
   "execution_count": null,
   "id": "b74bb27b",
   "metadata": {},
   "outputs": [],
   "source": [
    "# Define paths \n",
    "base_path = r\"..\\\\data\\\\\"\n",
    "base_path_out = os.path.join(base_path, \"processed\") \n",
    "dir_processed_xray = os.path.join(base_path, \"processed\", \"normalized_xrays\") # directory with pre processed and normalized iamges"
   ]
  },
  {
   "cell_type": "code",
   "execution_count": 7,
   "id": "a91af05d",
   "metadata": {},
   "outputs": [],
   "source": [
    "# read csv with encoded data\n",
    "\n",
    "df_csv_encoded = pd.read_csv(os.path.join(base_path_out,\"image_stats_summary_enc.csv\"), sep=',', index_col=0)"
   ]
  },
  {
   "cell_type": "code",
   "execution_count": 8,
   "id": "2b5ae189",
   "metadata": {},
   "outputs": [
    {
     "data": {
      "text/plain": [
       "Index(['label', 'file', 'min_pixel', 'max_pixel', 'mean_pixel', 'std_pixel',\n",
       "       'blank_image', 'label_enc'],\n",
       "      dtype='object')"
      ]
     },
     "execution_count": 8,
     "metadata": {},
     "output_type": "execute_result"
    }
   ],
   "source": [
    "df_csv_encoded.columns"
   ]
  },
  {
   "cell_type": "code",
   "execution_count": 36,
   "id": "9403bfad",
   "metadata": {},
   "outputs": [
    {
     "name": "stderr",
     "output_type": "stream",
     "text": [
      "C:\\Users\\Yvonne\\AppData\\Local\\Temp\\ipykernel_30080\\2367129792.py:5: SettingWithCopyWarning: \n",
      "A value is trying to be set on a copy of a slice from a DataFrame.\n",
      "Try using .loc[row_indexer,col_indexer] = value instead\n",
      "\n",
      "See the caveats in the documentation: https://pandas.pydata.org/pandas-docs/stable/user_guide/indexing.html#returning-a-view-versus-a-copy\n",
      "  df_processed['path'] = df_processed['label'].apply(lambda x: os.path.join(dir_processed_xray, x))\n"
     ]
    }
   ],
   "source": [
    "# create a new DataFrame with processed iamges\n",
    "df_processed = df_csv_encoded[['label', 'file', 'label_enc']]\n",
    "\n",
    "# add path of files of processed xrays to DataFrame\n",
    "df_processed['path'] = df_processed['label'].apply(lambda x: os.path.join(dir_processed_xray, x))\n",
    "\n"
   ]
  },
  {
   "cell_type": "code",
   "execution_count": null,
   "id": "7865ce34",
   "metadata": {},
   "outputs": [],
   "source": [
    "# save dataframe to csv\n",
    "\n",
    "df_processed.to_csv(os.path.join(base_path_out, 'df_xray_processed_normed_enc.csv'), index_label='index')"
   ]
  },
  {
   "cell_type": "code",
   "execution_count": null,
   "id": "8f683984",
   "metadata": {},
   "outputs": [],
   "source": []
  }
 ],
 "metadata": {
  "kernelspec": {
   "display_name": "Python 3",
   "language": "python",
   "name": "python3"
  },
  "language_info": {
   "codemirror_mode": {
    "name": "ipython",
    "version": 3
   },
   "file_extension": ".py",
   "mimetype": "text/x-python",
   "name": "python",
   "nbconvert_exporter": "python",
   "pygments_lexer": "ipython3",
   "version": "3.12.9"
  }
 },
 "nbformat": 4,
 "nbformat_minor": 5
}
