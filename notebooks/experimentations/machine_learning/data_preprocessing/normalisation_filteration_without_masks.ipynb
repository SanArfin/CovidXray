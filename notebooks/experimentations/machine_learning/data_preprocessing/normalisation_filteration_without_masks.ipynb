{
 "cells": [
  {
   "cell_type": "markdown",
   "id": "a042e8ab",
   "metadata": {},
   "source": [
    "#NORMALIZED IMAGES WITH FILTERS WITHOUT MASKS"
   ]
  },
  {
   "cell_type": "code",
   "execution_count": 1,
   "id": "59c59d2a",
   "metadata": {},
   "outputs": [
    {
     "name": "stderr",
     "output_type": "stream",
     "text": [
      "100%|██████████| 21165/21165 [01:59<00:00, 176.66it/s]\n"
     ]
    },
    {
     "name": "stdout",
     "output_type": "stream",
     "text": [
      "Filtered, Resized and Normalized images loaded: (21165, 128, 128)\n",
      "Labels: ['COVID' 'Lung' 'Normal' 'Viral Pneumonia']\n"
     ]
    }
   ],
   "source": [
    "import os\n",
    "import cv2\n",
    "import numpy as np\n",
    "from tqdm import tqdm\n",
    "\n",
    "# Define the base path to the dataset\n",
    "base_path = r\"..\\\\data\\\\\"\n",
    "base_path_out = os.path.join(base_path, \"processed\")\n",
    "\n",
    "# Input and output folders\n",
    "input_folder = os.path.join(base_path_out, \"converted_grayscale\")\n",
    "output_folder = os.path.join(base_path_out, \"resized_normalized_filtered_without_masks\")\n",
    "os.makedirs(output_folder, exist_ok=True)\n",
    "\n",
    "# Initialize lists to store images and labels\n",
    "X = []\n",
    "y = []\n",
    "\n",
    "# Process each image\n",
    "for filename in tqdm(os.listdir(input_folder)):\n",
    "    if not filename.lower().endswith(('.png', '.jpg', '.jpeg')):\n",
    "        continue\n",
    "\n",
    "    file_path = os.path.join(input_folder, filename)\n",
    "\n",
    "    # Read the image in grayscale\n",
    "    img = cv2.imread(file_path, cv2.IMREAD_GRAYSCALE)\n",
    "    if img is None:\n",
    "        continue\n",
    "\n",
    "    # Resize image to 128x128\n",
    "    img_resized = cv2.resize(img, (128, 128))\n",
    "\n",
    "    # Apply Gaussian Blur\n",
    "    blurred = cv2.GaussianBlur(img_resized, (5, 5), 0)\n",
    "\n",
    "    # Apply CLAHE\n",
    "    clahe = cv2.createCLAHE(clipLimit=2.0, tileGridSize=(8, 8))\n",
    "    contrast_img = clahe.apply(blurred)\n",
    "\n",
    "    # Normalize pixel values to [0, 1]\n",
    "    img_normalized = contrast_img.astype(np.float32) / 255.0\n",
    "\n",
    "    # Append to lists\n",
    "    X.append(img_normalized)\n",
    "\n",
    "    # Extract label from filename \n",
    "    label = filename.split('_')[0]\n",
    "    y.append(label)\n",
    "\n",
    "    # Save the processed image (convert back to 8-bit for saving)\n",
    "    save_img = (img_normalized * 255).astype(np.uint8)\n",
    "    save_path = os.path.join(output_folder, filename)\n",
    "    cv2.imwrite(save_path, save_img)\n",
    "\n",
    "# Convert to NumPy arrays\n",
    "X = np.array(X)\n",
    "y = np.array(y)\n",
    "\n",
    "# Print the shape of the processed data and unique labels\n",
    "print(\"Filtered, Resized and Normalized images loaded:\", X.shape)\n",
    "print(\"Labels:\", np.unique(y))\n"
   ]
  },
  {
   "cell_type": "code",
   "execution_count": null,
   "id": "d90dc879",
   "metadata": {},
   "outputs": [],
   "source": []
  }
 ],
 "metadata": {
  "kernelspec": {
   "display_name": "Python 3",
   "language": "python",
   "name": "python3"
  },
  "language_info": {
   "codemirror_mode": {
    "name": "ipython",
    "version": 3
   },
   "file_extension": ".py",
   "mimetype": "text/x-python",
   "name": "python",
   "nbconvert_exporter": "python",
   "pygments_lexer": "ipython3",
   "version": "3.12.9"
  }
 },
 "nbformat": 4,
 "nbformat_minor": 5
}
