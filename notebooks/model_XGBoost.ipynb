{
 "cells": [
  {
   "cell_type": "code",
   "execution_count": 18,
   "id": "42ab4288",
   "metadata": {},
   "outputs": [],
   "source": [
    "# model_XGBoost.ipynb\n",
    "\n",
    "# This script can be run on local machine (CPU) or Google Colab (GPU)\n",
    "# Several options of a XGBoost model are available and have to be uncommented, when they should be used. \n",
    "\n",
    "# Model XGBoost with \"Early Stopping\" using XGBClassifier needs an additional validation set in order to perform the early stopping. \n",
    "# This validation set is created by splitting the train-set into 20% validation and 80% training.\n"
   ]
  },
  {
   "cell_type": "markdown",
   "id": "7edbb519",
   "metadata": {},
   "source": [
    "# XGBoost model"
   ]
  },
  {
   "cell_type": "code",
   "execution_count": 19,
   "id": "ecaf911b",
   "metadata": {},
   "outputs": [],
   "source": [
    "# set \"machine\" according to where you want to run the script\n",
    "# option 'colab' uses a GPU\n",
    "# option 'local' uses a CPU\n",
    "\n",
    "machine = 'local' # 'colab' or 'local'"
   ]
  },
  {
   "cell_type": "markdown",
   "id": "3bc65b3e",
   "metadata": {},
   "source": [
    "## import libs"
   ]
  },
  {
   "cell_type": "code",
   "execution_count": 20,
   "id": "86c06380",
   "metadata": {},
   "outputs": [],
   "source": [
    "import numpy as np\n",
    "import pandas as pd\n",
    "import os\n",
    "\n",
    "import joblib\n",
    "\n",
    "from sklearn.model_selection import train_test_split\n",
    "import xgboost as xgb\n",
    "from xgboost import XGBClassifier\n",
    "\n",
    "#rom sklearn.preprocessing import StandardScaler\n",
    "#from sklearn.svm import SVC, LinearSVC\n",
    "\n",
    "if machine == 'colab':\n",
    "  !pip install Scikit-Optimize\n",
    "\n",
    "# For hyperparamter testing\n",
    "#from sklearn.model_selection import GridSearchCV\n",
    "from skopt import BayesSearchCV\n",
    "from skopt.space import Real, Integer\n",
    "\n",
    "# For classification performance metrics\n",
    "from sklearn.metrics import classification_report, confusion_matrix, accuracy_score\n",
    "\n",
    "# for visualization:\n",
    "import seaborn as sns\n",
    "import matplotlib.pyplot as plt\n",
    "\n",
    "\n",
    "\n",
    "# lib for accelreation sklearn on GPU (google colab)\n",
    "#if machine == 'colab':\n",
    "#    %load_ext cuml.accel\n",
    "#    import sklearn"
   ]
  },
  {
   "cell_type": "code",
   "execution_count": 21,
   "id": "522c6505",
   "metadata": {},
   "outputs": [],
   "source": [
    "# load google drive when working on colab\n",
    "if machine == 'colab':\n",
    "    from google.colab import drive\n",
    "    #drive.mount('/content/drive')\n",
    "    drive.mount(\"/content/drive\", force_remount=True)"
   ]
  },
  {
   "cell_type": "markdown",
   "id": "98ff9b8a",
   "metadata": {},
   "source": [
    "## definitions to set by user to run the script:"
   ]
  },
  {
   "cell_type": "code",
   "execution_count": 22,
   "id": "3e3e5a4b",
   "metadata": {},
   "outputs": [
    {
     "name": "stdout",
     "output_type": "stream",
     "text": [
      "hog\n"
     ]
    }
   ],
   "source": [
    "#####################################\n",
    "# options for usable datasets:\n",
    "#####################################\n",
    "\n",
    "list_datasets = ['128_nomask', '128_mask', 'hog', '20_mask', '128_no_aug_mask', '128_no_aug_nomask']\n",
    "\n",
    "# list_datasets[0] = '128_nomask'\n",
    "# list_datasets[1] = '128_mask'\n",
    "# list_datasets[2] = 'hog'\n",
    "# list_datasets[3] = '20_mask'\n",
    "# list_datasets[4] = '128_no_aug_mask'   (images 128 x 128, non augmented, with mask, in each class train: 1000 images, test: 269 images)\n",
    "# list_datasets[5] = '128_no_aug_nomask' (images 128 x 128, non augmented, without mask, in each class train: 1000 images, test: 269 images)\n",
    "\n",
    "# # choose one dataset by setting the number of element of list_datasets:\n",
    "flag_dataset = list_datasets[2]\n",
    "\n",
    "print(flag_dataset)\n",
    "\n",
    "#####################################\n",
    "# options to resplit the trainig-set \n",
    "# into train and validation set:\n",
    "#####################################\n",
    "\n",
    "flag_valid_set = True\n",
    "\n",
    "\n",
    "#####################################\n",
    "# options to run on local computer:\n",
    "#####################################\n",
    "\n",
    "# set the following paramter = True when you run the script on local comupter. \n",
    "# This means a smaller dataset with less images will be used. \n",
    "\n",
    "flag_slicing = False    # True or False\n",
    "num_subset = 1000   # number of iamges of each class to use. parameter is only used when run_local = True\n",
    "\n",
    "\n",
    "#####################################\n",
    "# paths:\n",
    "#####################################\n",
    "\n",
    "if machine == 'local':\n",
    "    # paths to load data:\n",
    "    base_path = r\"..\\\\data\\\\\"\n",
    "    base_path_in = os.path.join(base_path, \"processed\")   # path to read from the *.npy files\n",
    "\n",
    "    # paths to save models:\n",
    "    model_path = r\"..\\\\Models\\\\local\\\\ML\"\n",
    "\n",
    "elif machine == 'colab':\n",
    "    # paths to load data:\n",
    "    base_path = '/content/drive/MyDrive/data'\n",
    "    base_path_in = os.path.join(base_path, \"processed\")   # path to read from the *.npy files\n",
    "\n",
    "    # paths to save models:\n",
    "    model_path = '/content/drive/MyDrive/models/local/ML'"
   ]
  },
  {
   "cell_type": "markdown",
   "id": "09e6bd7e",
   "metadata": {},
   "source": [
    "## functions"
   ]
  },
  {
   "cell_type": "code",
   "execution_count": 23,
   "id": "901c73cb",
   "metadata": {},
   "outputs": [],
   "source": [
    "def create_cm(y_test, y_pred, flag_norm, model_path, model_name):\n",
    "    \n",
    "    if not (flag_norm is None):\n",
    "        print(\"norma\")\n",
    "        print(flag_norm)\n",
    "        cm_file     = os.path.join(model_path, \"results\", model_name + \"_cm_norm.png\")\n",
    "        format_anot = '.2f'\n",
    "    else:\n",
    "        print(\"abs\")\n",
    "        print(flag_norm)\n",
    "        cm_file     = os.path.join(model_path, \"results\", model_name + \"_cm_abs.png\")\n",
    "        format_anot = 'd'\n",
    "\n",
    "    cm = confusion_matrix(y_test, y_pred, normalize=flag_norm)\n",
    "\n",
    "    list_labels_enc = ['COVID', 'Lung_Opacity', 'Normal', 'Viral Pneumonia']\n",
    "\n",
    "    plt.figure(figsize=(7,7))\n",
    "    sns.heatmap(cm, cmap='Blues', cbar=False, annot=True, fmt=format_anot, xticklabels=list_labels_enc, yticklabels=list_labels_enc)\n",
    "    plt.xlabel('Predicted labels')\n",
    "    plt.ylabel('True labels')\n",
    "    \n",
    "    plt.savefig(cm_file, format='png')\n",
    "    plt.show()"
   ]
  },
  {
   "cell_type": "markdown",
   "id": "5d5294e9",
   "metadata": {},
   "source": [
    "## loading images"
   ]
  },
  {
   "cell_type": "markdown",
   "id": "c730c2d8",
   "metadata": {},
   "source": [
    "### images resized to 128 * 128, normalized, without masks"
   ]
  },
  {
   "cell_type": "code",
   "execution_count": 24,
   "id": "81d820e5",
   "metadata": {},
   "outputs": [],
   "source": [
    "if flag_dataset == '128_nomask':\n",
    "\n",
    "    train_npy_file = 'train_data_resized_without_masks_128_128.npz'\n",
    "    test_npy_file  = 'test_data_resized_without_masks_128_128.npz'\n",
    "\n",
    "    #train data\n",
    "    train = np.load(os.path.join(base_path_in, train_npy_file), allow_pickle=True)\n",
    "    X_train = train['X_train']\n",
    "    y_train = train['y_train']\n",
    "\n",
    "    # test data\n",
    "    test = np.load(os.path.join(base_path_in, test_npy_file), allow_pickle=True)\n",
    "    X_test = test['X_test']\n",
    "    y_test = test['y_test']\n"
   ]
  },
  {
   "cell_type": "markdown",
   "id": "3ae26047",
   "metadata": {},
   "source": [
    "### images resized to 128 * 128, normalized, with masks (incl. Gaussian Blur, Clahe)"
   ]
  },
  {
   "cell_type": "code",
   "execution_count": 25,
   "id": "942acf1c",
   "metadata": {},
   "outputs": [],
   "source": [
    "if flag_dataset == '128_mask':\n",
    "    \n",
    "    train_npy_file = 'train_data_resized_with_masks_128_128.npz'\n",
    "    test_npy_file  = 'test_data_resized_with_masks_128_128.npz'\n",
    "\n",
    "    #train data\n",
    "    train = np.load(os.path.join(base_path_in, train_npy_file), allow_pickle=True)\n",
    "    X_train = train['X_train']\n",
    "    y_train = train['y_train']\n",
    "\n",
    "    # test data\n",
    "    test = np.load(os.path.join(base_path_in, test_npy_file), allow_pickle=True)\n",
    "    X_test = test['X_test']\n",
    "    y_test = test['y_test']"
   ]
  },
  {
   "cell_type": "markdown",
   "id": "60ecdf4f",
   "metadata": {},
   "source": [
    "### images resized to 20 * 20, normalized, with masks (incl. Gaussian Blur, Clahe)"
   ]
  },
  {
   "cell_type": "code",
   "execution_count": 26,
   "id": "2333c2d1",
   "metadata": {},
   "outputs": [],
   "source": [
    "if flag_dataset == '20_mask':\n",
    "    \n",
    "    train_npy_file = 'train_data_resized_with_masks_20_20.npz'\n",
    "    test_npy_file  = 'test_data_resized_with_masks_20_20.npz'\n",
    "\n",
    "    #train data\n",
    "    train = np.load(os.path.join(base_path_in, train_npy_file), allow_pickle=True)\n",
    "    X_train = train['X_train']\n",
    "    y_train = train['y_train']\n",
    "\n",
    "    # test data\n",
    "    test = np.load(os.path.join(base_path_in, test_npy_file), allow_pickle=True)\n",
    "    X_test = test['X_test']\n",
    "    y_test = test['y_test']"
   ]
  },
  {
   "cell_type": "markdown",
   "id": "eb681af4",
   "metadata": {},
   "source": [
    "### feature extraction with HOG based on images original size 299 * 299, normalized, with masks (incl. Gaussian Blur, Clahe) and apllied masks"
   ]
  },
  {
   "cell_type": "code",
   "execution_count": 27,
   "id": "f7af17bd",
   "metadata": {},
   "outputs": [],
   "source": [
    "if flag_dataset == 'hog':\n",
    "    if machine  == 'local':\n",
    "        base_path_in = os.path.join(base_path_in, \"extracted\")  # hog-files are in subfolder \"extracted\"\n",
    "\n",
    "    train_npy_file = 'hog_features.npy'\n",
    "    test_npy_file  = 'hog_features_test.npy'\n",
    "\n",
    "    train_labels_file = 'labels_train.npy'\n",
    "    test_labels_file = 'labels_test.npy'\n",
    "\n",
    "    #train data\n",
    "    X_train = np.load(os.path.join(base_path_in, train_npy_file))\n",
    "    y_train = np.load(os.path.join(base_path_in, train_labels_file))\n",
    "\n",
    "    # test data\n",
    "    X_test = np.load(os.path.join(base_path_in, test_npy_file))\n",
    "    y_test = np.load(os.path.join(base_path_in, test_labels_file))\n"
   ]
  },
  {
   "cell_type": "markdown",
   "id": "4739985b",
   "metadata": {},
   "source": [
    "### images resized to 128 * 128, normalized, with masks (incl. Gaussian Blur, Clahe) - non augmented (train: 1000 images, test: 269 images)"
   ]
  },
  {
   "cell_type": "code",
   "execution_count": 28,
   "id": "763ded31",
   "metadata": {},
   "outputs": [],
   "source": [
    "if flag_dataset == '128_no_aug_mask':\n",
    "    \n",
    "    train_npy_file = 'train_non_augmented_with_masks_resized_128_128.npz'\n",
    "    test_npy_file  = 'test_non_augmented_with_masks_resized_128_128.npz'\n",
    "\n",
    "    #train data\n",
    "    train = np.load(os.path.join(base_path_in, train_npy_file), allow_pickle=True)\n",
    "    X_train = train['X_train']\n",
    "    y_train = train['y_train']\n",
    "\n",
    "    # test data\n",
    "    test = np.load(os.path.join(base_path_in, test_npy_file), allow_pickle=True)\n",
    "    X_test = test['X_test']\n",
    "    y_test = test['y_test']"
   ]
  },
  {
   "cell_type": "markdown",
   "id": "ded40dfa",
   "metadata": {},
   "source": [
    "### images resized to 128 * 128, normalized, without masks (incl. Gaussian Blur, Clahe) - non augmented (train: 1000 images, test: 269 images)"
   ]
  },
  {
   "cell_type": "code",
   "execution_count": 29,
   "id": "b28df345",
   "metadata": {},
   "outputs": [],
   "source": [
    "if flag_dataset == '128_no_aug_nomask':\n",
    "    \n",
    "    train_npy_file = 'train_non_augmented_without_masks_resized_128_128.npz'\n",
    "    test_npy_file  = 'test_non_augmented_without_masks_resized_128_128.npz'\n",
    "\n",
    "    #train data\n",
    "    train = np.load(os.path.join(base_path_in, train_npy_file), allow_pickle=True)\n",
    "    X_train = train['X_train']\n",
    "    y_train = train['y_train']\n",
    "\n",
    "    # test data\n",
    "    test = np.load(os.path.join(base_path_in, test_npy_file), allow_pickle=True)\n",
    "    X_test = test['X_test']\n",
    "    y_test = test['y_test']"
   ]
  },
  {
   "cell_type": "markdown",
   "id": "6037f74a",
   "metadata": {},
   "source": [
    "### print summary of loaded dataset"
   ]
  },
  {
   "cell_type": "code",
   "execution_count": 30,
   "id": "528ed5d3",
   "metadata": {},
   "outputs": [
    {
     "name": "stdout",
     "output_type": "stream",
     "text": [
      "------------------\n",
      "used datasets:\n",
      "train:  hog_features.npy\n",
      "test:  hog_features_test.npy\n"
     ]
    }
   ],
   "source": [
    "# print used datasets: \n",
    "print(\"------------------\")\n",
    "print(\"used datasets:\")\n",
    "print(\"train: \", train_npy_file)\n",
    "print(\"test: \", test_npy_file)"
   ]
  },
  {
   "cell_type": "markdown",
   "id": "8945f409",
   "metadata": {},
   "source": [
    "### optional splitting the train set into: train & validation"
   ]
  },
  {
   "cell_type": "code",
   "execution_count": 31,
   "id": "d44d4ee8",
   "metadata": {},
   "outputs": [],
   "source": [
    "if flag_valid_set == True:\n",
    "    X_train, X_valid, y_train, y_valid = train_test_split(X_train, y_train, test_size=0.2, random_state=42, stratify=y_train)"
   ]
  },
  {
   "cell_type": "markdown",
   "id": "1473e118",
   "metadata": {},
   "source": [
    "### optional slicing to use less images for running on local machine"
   ]
  },
  {
   "cell_type": "code",
   "execution_count": 32,
   "id": "d814ae72",
   "metadata": {},
   "outputs": [],
   "source": [
    "if flag_slicing  == True:\n",
    "    print(X_train.shape)\n",
    "    print(y_train.shape)\n",
    "    df_X_train = pd.DataFrame(X_train)\n",
    "    df_y_train = pd.DataFrame(y_train)\n",
    "    df_y_train.rename(columns={0:'label'}, inplace=True)\n",
    "    df_temp = pd.concat([df_X_train, df_y_train], axis=1)\n",
    "\n",
    "    print(df_y_train.columns)\n",
    "\n",
    "    \n",
    "    df_temp_0 = df_temp[(df_temp.iloc[:,-1]==0)].iloc[0:num_subset,]\n",
    "    df_temp_1 = df_temp[(df_temp.iloc[:,-1]==1)].iloc[0:num_subset,]\n",
    "    df_temp_2 = df_temp[(df_temp.iloc[:,-1]==2)].iloc[0:num_subset,]\n",
    "    df_temp_3 = df_temp[(df_temp.iloc[:,-1]==3)].iloc[0:num_subset,]\n",
    "\n",
    "    df_temp_subset = pd.concat([df_temp_0, df_temp_1, df_temp_2, df_temp_3], axis=0)\n",
    "\n",
    "    #df_temp_subset.iloc[:,-1].value_counts()\n",
    "\n",
    "    df_X_train_subset = df_temp_subset.drop(['label'], axis=1)\n",
    "    #df_X_train_subset = df_temp_subset.drop(df_temp_subset.iloc[:,-1:], axis=1)\n",
    "    df_y_train_subset = df_temp_subset.iloc[:,-1]\n",
    "\n",
    "    X_train = df_X_train_subset.to_numpy()\n",
    "    y_train = df_y_train_subset.to_numpy()\n",
    "\n",
    "    print(\"y_train: \", (y_train.shape))\n",
    "    print(\"X_train: \", (X_train.shape))"
   ]
  },
  {
   "cell_type": "code",
   "execution_count": 33,
   "id": "a068be37",
   "metadata": {},
   "outputs": [
    {
     "name": "stdout",
     "output_type": "stream",
     "text": [
      "------------------\n",
      "Length of: \n",
      "y_train:  (28047,)\n",
      "X_train:  (28047, 8100)\n",
      "y_test:  (4233,)\n",
      "X_test:  (4233, 8100)\n",
      "y_valid:  (7012,)\n",
      "X_valid:  (7012, 8100)\n"
     ]
    }
   ],
   "source": [
    "# print length of datasets:\n",
    "print(\"------------------\")\n",
    "print(\"Length of: \")\n",
    "print(\"y_train: \", y_train.shape)\n",
    "print(\"X_train: \", X_train.shape)\n",
    "\n",
    "print(\"y_test: \", y_test.shape)\n",
    "print(\"X_test: \",X_test.shape)\n",
    "\n",
    "if flag_valid_set == True:\n",
    "    print(\"y_valid: \", y_valid.shape)\n",
    "    print(\"X_valid: \",X_valid.shape)\n"
   ]
  },
  {
   "cell_type": "markdown",
   "id": "10b5fda3",
   "metadata": {},
   "source": [
    "## modelling"
   ]
  },
  {
   "cell_type": "markdown",
   "id": "49fda92b",
   "metadata": {},
   "source": [
    "### creating matrices because XGBoost does not work with pandas DF"
   ]
  },
  {
   "cell_type": "code",
   "execution_count": 34,
   "id": "5bb48d62",
   "metadata": {},
   "outputs": [],
   "source": [
    "# # Create classification matrices\n",
    "# m_train = xgb.DMatrix(data=X_train, label=y_train)\n",
    "# m_test = xgb.DMatrix(data=X_test, label=y_test)"
   ]
  },
  {
   "cell_type": "markdown",
   "id": "3790c312",
   "metadata": {},
   "source": [
    "## XGBoost normal"
   ]
  },
  {
   "cell_type": "code",
   "execution_count": 35,
   "id": "6b238417",
   "metadata": {},
   "outputs": [],
   "source": [
    "# # Define hyperparameters\n",
    "\n",
    "# if machine == 'colab':\n",
    "#     params = {'booster': 'gbtree', \"objective\": \"multi:softprob\", \"learning_rate\": 0.3, \"tree_method\": \"gpu_hist\", \"num_class\":4} # with gpu\n",
    "# elif machine == 'local':\n",
    "#     params = {'booster': 'gbtree', \"objective\": \"multi:softprob\", \"learning_rate\": 0.3, \"tree_method\": \"hist\", \"num_class\":4} # with cpu\n",
    "\n",
    "# n = 100\n",
    "\n",
    "# model = xgb.train(\n",
    "#    params=params,\n",
    "#    dtrain=m_train,\n",
    "#    num_boost_round=n,\n",
    "# )"
   ]
  },
  {
   "cell_type": "code",
   "execution_count": 36,
   "id": "e57562e8",
   "metadata": {},
   "outputs": [],
   "source": [
    "# # prediction\n",
    "# preds = model.predict(m_test)"
   ]
  },
  {
   "cell_type": "markdown",
   "id": "0c47ab01",
   "metadata": {},
   "source": [
    "## XGBoost using validation sets during training"
   ]
  },
  {
   "cell_type": "code",
   "execution_count": 37,
   "id": "a5cb69b0",
   "metadata": {},
   "outputs": [],
   "source": [
    "# # Using Validation Sets During Training\n",
    "\n",
    "# if machine == 'colab':\n",
    "#     params = {'booster': 'gbtree', \"objective\": \"multi:softprob\", \"learning_rate\": 0.3, \"tree_method\": \"gpu_hist\", \"num_class\":4} # with gpu\n",
    "# elif machine == 'local':\n",
    "#     params = {'booster': 'gbtree', \"objective\": \"multi:softprob\", \"learning_rate\": 0.3, \"tree_method\": \"hist\", \"num_class\":4} # with cpu\n",
    "\n",
    "# n = 100\n",
    "\n",
    "# evals = [(m_train, \"train\"), (m_test, \"validation\")]\n",
    "\n",
    "# model = xgb.train(\n",
    "#    params=params,\n",
    "#    dtrain=m_train,\n",
    "#    num_boost_round=n,\n",
    "#    evals=evals,\n",
    "#    verbose_eval=10 # Every ten rounds\n",
    "# )"
   ]
  },
  {
   "cell_type": "markdown",
   "id": "62f9fe49",
   "metadata": {},
   "source": [
    "## XGBoost Early Stopping"
   ]
  },
  {
   "cell_type": "code",
   "execution_count": 38,
   "id": "347ffc18",
   "metadata": {},
   "outputs": [],
   "source": [
    "# if machine == 'colab':\n",
    "#     params = {'booster': 'gbtree', \"objective\": \"multi:softprob\", \"learning_rate\": 0.3, \"tree_method\": \"gpu_hist\", \"num_class\":4} # with gpu\n",
    "# elif machine == 'local':\n",
    "#     params = {'booster': 'gbtree', \"objective\": \"multi:softprob\", \"learning_rate\": 0.3, \"tree_method\": \"hist\", \"num_class\":4} # with cpu\n",
    "    \n",
    "# n = 5000\n",
    "\n",
    "# evals = [(m_train, \"train\"), (m_test, \"validation\")]\n",
    "\n",
    "\n",
    "# model = xgb.train(\n",
    "#    params=params,\n",
    "#    dtrain=m_train,\n",
    "#    num_boost_round=n,\n",
    "#    evals=evals,\n",
    "#    verbose_eval=10,\n",
    "#    # Activate early stopping\n",
    "#    early_stopping_rounds=50\n",
    "# )\n",
    "# # By default, the model returned will be that of the last iteration. To use the best to make predictions, you can use, for example, \n",
    "# # xgb_model.predict(test, ntree_limit= xgb_model.best_ntree_limit)"
   ]
  },
  {
   "cell_type": "code",
   "execution_count": 39,
   "id": "04141c21",
   "metadata": {},
   "outputs": [],
   "source": [
    "# # save model \n",
    "# model_name = \"xgboost_model_early_stopping\" + flag_dataset + \".json\"\n",
    "# model.save_model(os.path.join(model_path, model_name))"
   ]
  },
  {
   "cell_type": "markdown",
   "id": "4275bc60",
   "metadata": {},
   "source": [
    "## XGBoost with Early Stopping using XGBClassifier"
   ]
  },
  {
   "cell_type": "code",
   "execution_count": null,
   "id": "3736d463",
   "metadata": {},
   "outputs": [],
   "source": [
    "# XGBClassifier uses pandas-dataframes instead of XGBmatrices. \n",
    "\n",
    "n = 500\n",
    "\n",
    "# early stopping option needs an additional validation set. \n",
    "# This is created above when flag flag_valid_set = True.\n",
    "\n",
    "eval_set = [(X_valid, y_valid)]\n",
    "\n",
    "if machine == 'colab': # with gpu\n",
    "    params = {\n",
    "        'booster': 'gbtree', \n",
    "        \"objective\": \"multi:softprob\", \n",
    "        \"learning_rate\": 0.3, \n",
    "        \"tree_method\":\"hist\",          \n",
    "        \"device\":\"cuda\",               # for running on GPU\n",
    "        \"num_class\":4, \n",
    "        \"n_estimators\": n,\n",
    "   # Activate early stopping\n",
    "        \"early_stopping_rounds\":50\n",
    "        } \n",
    "elif machine == 'local':  # with cpu\n",
    "    params = {\n",
    "        'booster': 'gbtree', \n",
    "        \"objective\": \"multi:softprob\", \n",
    "        \"learning_rate\": 0.3, \n",
    "        \"tree_method\": \"hist\", \n",
    "        \"num_class\":4, \n",
    "        \"n_estimators\": n,\n",
    "   # Activate early stopping\n",
    "        \"early_stopping_rounds\":50\n",
    "        } \n",
    "    \n",
    "\n",
    "\n",
    "# Instantiate XGBClassifier with parameters\n",
    "model = XGBClassifier(**params)\n"
   ]
  },
  {
   "cell_type": "code",
   "execution_count": 41,
   "id": "429f54c3",
   "metadata": {},
   "outputs": [
    {
     "name": "stdout",
     "output_type": "stream",
     "text": [
      "[0]\tvalidation_0-mlogloss:1.21973\n"
     ]
    },
    {
     "ename": "KeyboardInterrupt",
     "evalue": "",
     "output_type": "error",
     "traceback": [
      "\u001b[31m---------------------------------------------------------------------------\u001b[39m",
      "\u001b[31mKeyboardInterrupt\u001b[39m                         Traceback (most recent call last)",
      "\u001b[36mCell\u001b[39m\u001b[36m \u001b[39m\u001b[32mIn[41]\u001b[39m\u001b[32m, line 2\u001b[39m\n\u001b[32m      1\u001b[39m \u001b[38;5;66;03m# Train the model using fit() method\u001b[39;00m\n\u001b[32m----> \u001b[39m\u001b[32m2\u001b[39m \u001b[43mmodel\u001b[49m\u001b[43m.\u001b[49m\u001b[43mfit\u001b[49m\u001b[43m(\u001b[49m\u001b[43mX_train\u001b[49m\u001b[43m,\u001b[49m\u001b[43m \u001b[49m\u001b[43my_train\u001b[49m\u001b[43m,\u001b[49m\u001b[43m \u001b[49m\u001b[43meval_set\u001b[49m\u001b[43m=\u001b[49m\u001b[43meval_set\u001b[49m\u001b[43m,\u001b[49m\u001b[43m \u001b[49m\u001b[43mverbose\u001b[49m\u001b[43m=\u001b[49m\u001b[32;43m10\u001b[39;49m\u001b[43m)\u001b[49m\n",
      "\u001b[36mFile \u001b[39m\u001b[32mc:\\Users\\Yvonne\\Documents\\DataScientist_2025_local\\project_code\\.venv-xray\\Lib\\site-packages\\xgboost\\core.py:729\u001b[39m, in \u001b[36mrequire_keyword_args.<locals>.throw_if.<locals>.inner_f\u001b[39m\u001b[34m(*args, **kwargs)\u001b[39m\n\u001b[32m    727\u001b[39m \u001b[38;5;28;01mfor\u001b[39;00m k, arg \u001b[38;5;129;01min\u001b[39;00m \u001b[38;5;28mzip\u001b[39m(sig.parameters, args):\n\u001b[32m    728\u001b[39m     kwargs[k] = arg\n\u001b[32m--> \u001b[39m\u001b[32m729\u001b[39m \u001b[38;5;28;01mreturn\u001b[39;00m \u001b[43mfunc\u001b[49m\u001b[43m(\u001b[49m\u001b[43m*\u001b[49m\u001b[43m*\u001b[49m\u001b[43mkwargs\u001b[49m\u001b[43m)\u001b[49m\n",
      "\u001b[36mFile \u001b[39m\u001b[32mc:\\Users\\Yvonne\\Documents\\DataScientist_2025_local\\project_code\\.venv-xray\\Lib\\site-packages\\xgboost\\sklearn.py:1682\u001b[39m, in \u001b[36mXGBClassifier.fit\u001b[39m\u001b[34m(self, X, y, sample_weight, base_margin, eval_set, verbose, xgb_model, sample_weight_eval_set, base_margin_eval_set, feature_weights)\u001b[39m\n\u001b[32m   1660\u001b[39m model, metric, params, feature_weights = \u001b[38;5;28mself\u001b[39m._configure_fit(\n\u001b[32m   1661\u001b[39m     xgb_model, params, feature_weights\n\u001b[32m   1662\u001b[39m )\n\u001b[32m   1663\u001b[39m train_dmatrix, evals = _wrap_evaluation_matrices(\n\u001b[32m   1664\u001b[39m     missing=\u001b[38;5;28mself\u001b[39m.missing,\n\u001b[32m   1665\u001b[39m     X=X,\n\u001b[32m   (...)\u001b[39m\u001b[32m   1679\u001b[39m     feature_types=\u001b[38;5;28mself\u001b[39m.feature_types,\n\u001b[32m   1680\u001b[39m )\n\u001b[32m-> \u001b[39m\u001b[32m1682\u001b[39m \u001b[38;5;28mself\u001b[39m._Booster = \u001b[43mtrain\u001b[49m\u001b[43m(\u001b[49m\n\u001b[32m   1683\u001b[39m \u001b[43m    \u001b[49m\u001b[43mparams\u001b[49m\u001b[43m,\u001b[49m\n\u001b[32m   1684\u001b[39m \u001b[43m    \u001b[49m\u001b[43mtrain_dmatrix\u001b[49m\u001b[43m,\u001b[49m\n\u001b[32m   1685\u001b[39m \u001b[43m    \u001b[49m\u001b[38;5;28;43mself\u001b[39;49m\u001b[43m.\u001b[49m\u001b[43mget_num_boosting_rounds\u001b[49m\u001b[43m(\u001b[49m\u001b[43m)\u001b[49m\u001b[43m,\u001b[49m\n\u001b[32m   1686\u001b[39m \u001b[43m    \u001b[49m\u001b[43mevals\u001b[49m\u001b[43m=\u001b[49m\u001b[43mevals\u001b[49m\u001b[43m,\u001b[49m\n\u001b[32m   1687\u001b[39m \u001b[43m    \u001b[49m\u001b[43mearly_stopping_rounds\u001b[49m\u001b[43m=\u001b[49m\u001b[38;5;28;43mself\u001b[39;49m\u001b[43m.\u001b[49m\u001b[43mearly_stopping_rounds\u001b[49m\u001b[43m,\u001b[49m\n\u001b[32m   1688\u001b[39m \u001b[43m    \u001b[49m\u001b[43mevals_result\u001b[49m\u001b[43m=\u001b[49m\u001b[43mevals_result\u001b[49m\u001b[43m,\u001b[49m\n\u001b[32m   1689\u001b[39m \u001b[43m    \u001b[49m\u001b[43mobj\u001b[49m\u001b[43m=\u001b[49m\u001b[43mobj\u001b[49m\u001b[43m,\u001b[49m\n\u001b[32m   1690\u001b[39m \u001b[43m    \u001b[49m\u001b[43mcustom_metric\u001b[49m\u001b[43m=\u001b[49m\u001b[43mmetric\u001b[49m\u001b[43m,\u001b[49m\n\u001b[32m   1691\u001b[39m \u001b[43m    \u001b[49m\u001b[43mverbose_eval\u001b[49m\u001b[43m=\u001b[49m\u001b[43mverbose\u001b[49m\u001b[43m,\u001b[49m\n\u001b[32m   1692\u001b[39m \u001b[43m    \u001b[49m\u001b[43mxgb_model\u001b[49m\u001b[43m=\u001b[49m\u001b[43mmodel\u001b[49m\u001b[43m,\u001b[49m\n\u001b[32m   1693\u001b[39m \u001b[43m    \u001b[49m\u001b[43mcallbacks\u001b[49m\u001b[43m=\u001b[49m\u001b[38;5;28;43mself\u001b[39;49m\u001b[43m.\u001b[49m\u001b[43mcallbacks\u001b[49m\u001b[43m,\u001b[49m\n\u001b[32m   1694\u001b[39m \u001b[43m\u001b[49m\u001b[43m)\u001b[49m\n\u001b[32m   1696\u001b[39m \u001b[38;5;28;01mif\u001b[39;00m \u001b[38;5;129;01mnot\u001b[39;00m \u001b[38;5;28mcallable\u001b[39m(\u001b[38;5;28mself\u001b[39m.objective):\n\u001b[32m   1697\u001b[39m     \u001b[38;5;28mself\u001b[39m.objective = params[\u001b[33m\"\u001b[39m\u001b[33mobjective\u001b[39m\u001b[33m\"\u001b[39m]\n",
      "\u001b[36mFile \u001b[39m\u001b[32mc:\\Users\\Yvonne\\Documents\\DataScientist_2025_local\\project_code\\.venv-xray\\Lib\\site-packages\\xgboost\\core.py:729\u001b[39m, in \u001b[36mrequire_keyword_args.<locals>.throw_if.<locals>.inner_f\u001b[39m\u001b[34m(*args, **kwargs)\u001b[39m\n\u001b[32m    727\u001b[39m \u001b[38;5;28;01mfor\u001b[39;00m k, arg \u001b[38;5;129;01min\u001b[39;00m \u001b[38;5;28mzip\u001b[39m(sig.parameters, args):\n\u001b[32m    728\u001b[39m     kwargs[k] = arg\n\u001b[32m--> \u001b[39m\u001b[32m729\u001b[39m \u001b[38;5;28;01mreturn\u001b[39;00m \u001b[43mfunc\u001b[49m\u001b[43m(\u001b[49m\u001b[43m*\u001b[49m\u001b[43m*\u001b[49m\u001b[43mkwargs\u001b[49m\u001b[43m)\u001b[49m\n",
      "\u001b[36mFile \u001b[39m\u001b[32mc:\\Users\\Yvonne\\Documents\\DataScientist_2025_local\\project_code\\.venv-xray\\Lib\\site-packages\\xgboost\\training.py:183\u001b[39m, in \u001b[36mtrain\u001b[39m\u001b[34m(params, dtrain, num_boost_round, evals, obj, maximize, early_stopping_rounds, evals_result, verbose_eval, xgb_model, callbacks, custom_metric)\u001b[39m\n\u001b[32m    181\u001b[39m \u001b[38;5;28;01mif\u001b[39;00m cb_container.before_iteration(bst, i, dtrain, evals):\n\u001b[32m    182\u001b[39m     \u001b[38;5;28;01mbreak\u001b[39;00m\n\u001b[32m--> \u001b[39m\u001b[32m183\u001b[39m \u001b[43mbst\u001b[49m\u001b[43m.\u001b[49m\u001b[43mupdate\u001b[49m\u001b[43m(\u001b[49m\u001b[43mdtrain\u001b[49m\u001b[43m,\u001b[49m\u001b[43m \u001b[49m\u001b[43miteration\u001b[49m\u001b[43m=\u001b[49m\u001b[43mi\u001b[49m\u001b[43m,\u001b[49m\u001b[43m \u001b[49m\u001b[43mfobj\u001b[49m\u001b[43m=\u001b[49m\u001b[43mobj\u001b[49m\u001b[43m)\u001b[49m\n\u001b[32m    184\u001b[39m \u001b[38;5;28;01mif\u001b[39;00m cb_container.after_iteration(bst, i, dtrain, evals):\n\u001b[32m    185\u001b[39m     \u001b[38;5;28;01mbreak\u001b[39;00m\n",
      "\u001b[36mFile \u001b[39m\u001b[32mc:\\Users\\Yvonne\\Documents\\DataScientist_2025_local\\project_code\\.venv-xray\\Lib\\site-packages\\xgboost\\core.py:2247\u001b[39m, in \u001b[36mBooster.update\u001b[39m\u001b[34m(self, dtrain, iteration, fobj)\u001b[39m\n\u001b[32m   2243\u001b[39m \u001b[38;5;28mself\u001b[39m._assign_dmatrix_features(dtrain)\n\u001b[32m   2245\u001b[39m \u001b[38;5;28;01mif\u001b[39;00m fobj \u001b[38;5;129;01mis\u001b[39;00m \u001b[38;5;28;01mNone\u001b[39;00m:\n\u001b[32m   2246\u001b[39m     _check_call(\n\u001b[32m-> \u001b[39m\u001b[32m2247\u001b[39m         \u001b[43m_LIB\u001b[49m\u001b[43m.\u001b[49m\u001b[43mXGBoosterUpdateOneIter\u001b[49m\u001b[43m(\u001b[49m\n\u001b[32m   2248\u001b[39m \u001b[43m            \u001b[49m\u001b[38;5;28;43mself\u001b[39;49m\u001b[43m.\u001b[49m\u001b[43mhandle\u001b[49m\u001b[43m,\u001b[49m\u001b[43m \u001b[49m\u001b[43mctypes\u001b[49m\u001b[43m.\u001b[49m\u001b[43mc_int\u001b[49m\u001b[43m(\u001b[49m\u001b[43miteration\u001b[49m\u001b[43m)\u001b[49m\u001b[43m,\u001b[49m\u001b[43m \u001b[49m\u001b[43mdtrain\u001b[49m\u001b[43m.\u001b[49m\u001b[43mhandle\u001b[49m\n\u001b[32m   2249\u001b[39m \u001b[43m        \u001b[49m\u001b[43m)\u001b[49m\n\u001b[32m   2250\u001b[39m     )\n\u001b[32m   2251\u001b[39m \u001b[38;5;28;01melse\u001b[39;00m:\n\u001b[32m   2252\u001b[39m     pred = \u001b[38;5;28mself\u001b[39m.predict(dtrain, output_margin=\u001b[38;5;28;01mTrue\u001b[39;00m, training=\u001b[38;5;28;01mTrue\u001b[39;00m)\n",
      "\u001b[31mKeyboardInterrupt\u001b[39m: "
     ]
    }
   ],
   "source": [
    "# Train the model using fit() method\n",
    "model.fit(X_train, y_train, eval_set=eval_set, verbose=10)"
   ]
  },
  {
   "cell_type": "code",
   "execution_count": null,
   "id": "e1d1c6ba",
   "metadata": {},
   "outputs": [],
   "source": [
    "# save model with xgb-internal saving method:\n",
    "model_name = \"xgboost_clf_model_early_stopping\" + flag_dataset + \".json\"\n",
    "model.save_model(os.path.join(model_path, model_name))"
   ]
  },
  {
   "cell_type": "code",
   "execution_count": null,
   "id": "07738dfa",
   "metadata": {},
   "outputs": [
    {
     "name": "stdout",
     "output_type": "stream",
     "text": [
      "Accuracy (XGBClassifier): 0.72\n"
     ]
    }
   ],
   "source": [
    "# Make predictions and evaluate model performance\n",
    "y_pred = model.predict(X_test)\n",
    "\n",
    "# show model accuracy\n",
    "accuracy = accuracy_score(y_test, y_pred)\n",
    "print(f\"Accuracy (XGBClassifier): {accuracy:.2f}\")"
   ]
  },
  {
   "cell_type": "markdown",
   "id": "3a014a25",
   "metadata": {},
   "source": [
    "## XGBoost with Early Stopping using XGBClassifier with Bayesian"
   ]
  },
  {
   "cell_type": "markdown",
   "id": "e12ea683",
   "metadata": {},
   "source": [
    "### split train-set in train-set and validation-set"
   ]
  },
  {
   "cell_type": "code",
   "execution_count": null,
   "id": "a23e70e0",
   "metadata": {},
   "outputs": [
    {
     "name": "stdout",
     "output_type": "stream",
     "text": [
      "length test: 1076\n",
      "length train: 3200\n",
      "length valid: 800\n"
     ]
    }
   ],
   "source": [
    "# # X_train, y_train (split it up: 20 % validation, 80% trainig)\n",
    "\n",
    "# len_train = int(len(X_train)*0.8)\n",
    "\n",
    "# X_train_bay = X_train[0:len_train,:]\n",
    "# y_train_bay = y_train[0:len_train]\n",
    "\n",
    "# X_valid = X_train[len_train:,:]\n",
    "# y_valid = y_train[len_train:]\n",
    "\n",
    "\n",
    "# print(\"length test:\", len(X_test))\n",
    "# print(\"length train:\", len(X_train_bay))\n",
    "# print(\"length valid:\", len(X_valid))"
   ]
  },
  {
   "cell_type": "code",
   "execution_count": null,
   "id": "d0445668",
   "metadata": {},
   "outputs": [
    {
     "name": "stdout",
     "output_type": "stream",
     "text": [
      "Fitting 3 folds for each of 1 candidates, totalling 3 fits\n"
     ]
    },
    {
     "ename": "KeyboardInterrupt",
     "evalue": "",
     "output_type": "error",
     "traceback": [
      "\u001b[31m---------------------------------------------------------------------------\u001b[39m",
      "\u001b[31mKeyboardInterrupt\u001b[39m                         Traceback (most recent call last)",
      "\u001b[36mCell\u001b[39m\u001b[36m \u001b[39m\u001b[32mIn[51]\u001b[39m\u001b[32m, line 41\u001b[39m\n\u001b[32m     38\u001b[39m \u001b[38;5;66;03m# Perform Bayesian optimization\u001b[39;00m\n\u001b[32m     39\u001b[39m bayes_search = BayesSearchCV(estimator=xgb, search_spaces=search_space, n_iter=\u001b[32m25\u001b[39m, cv=\u001b[32m3\u001b[39m, n_jobs=-\u001b[32m1\u001b[39m, verbose=\u001b[32m10\u001b[39m, random_state=\u001b[32m42\u001b[39m)\n\u001b[32m---> \u001b[39m\u001b[32m41\u001b[39m \u001b[43mbayes_search\u001b[49m\u001b[43m.\u001b[49m\u001b[43mfit\u001b[49m\u001b[43m(\u001b[49m\u001b[43mX_train\u001b[49m\u001b[43m,\u001b[49m\u001b[43m \u001b[49m\u001b[43my_train\u001b[49m\u001b[43m,\u001b[49m\u001b[43m \u001b[49m\u001b[43meval_set\u001b[49m\u001b[43m=\u001b[49m\u001b[43meval_set\u001b[49m\u001b[43m,\u001b[49m\u001b[43m \u001b[49m\u001b[43mverbose\u001b[49m\u001b[43m=\u001b[49m\u001b[32;43m10\u001b[39;49m\u001b[43m)\u001b[49m\n\u001b[32m     43\u001b[39m \u001b[38;5;66;03m# Print best parameters\u001b[39;00m\n\u001b[32m     44\u001b[39m \u001b[38;5;28mprint\u001b[39m(\u001b[33mf\u001b[39m\u001b[33m\"\u001b[39m\u001b[33mBest parameters: \u001b[39m\u001b[38;5;132;01m{\u001b[39;00mbayes_search.best_params_\u001b[38;5;132;01m}\u001b[39;00m\u001b[33m\"\u001b[39m)\n",
      "\u001b[36mFile \u001b[39m\u001b[32mc:\\Users\\Yvonne\\Documents\\DataScientist_2025_local\\project_code\\.venv-xray\\Lib\\site-packages\\skopt\\searchcv.py:542\u001b[39m, in \u001b[36mBayesSearchCV.fit\u001b[39m\u001b[34m(self, X, y, groups, callback, **fit_params)\u001b[39m\n\u001b[32m    535\u001b[39m \u001b[38;5;28;01mif\u001b[39;00m \u001b[38;5;28mcallable\u001b[39m(\u001b[38;5;28mself\u001b[39m.refit):\n\u001b[32m    536\u001b[39m     \u001b[38;5;28;01mraise\u001b[39;00m \u001b[38;5;167;01mValueError\u001b[39;00m(\n\u001b[32m    537\u001b[39m         \u001b[33m\"\u001b[39m\u001b[33mBayesSearchCV doesn\u001b[39m\u001b[33m'\u001b[39m\u001b[33mt support a callable refit, \u001b[39m\u001b[33m\"\u001b[39m\n\u001b[32m    538\u001b[39m         \u001b[33m\"\u001b[39m\u001b[33mas it doesn\u001b[39m\u001b[33m'\u001b[39m\u001b[33mt define an implicit score to \u001b[39m\u001b[33m\"\u001b[39m\n\u001b[32m    539\u001b[39m         \u001b[33m\"\u001b[39m\u001b[33moptimize\u001b[39m\u001b[33m\"\u001b[39m\n\u001b[32m    540\u001b[39m     )\n\u001b[32m--> \u001b[39m\u001b[32m542\u001b[39m \u001b[38;5;28;43msuper\u001b[39;49m\u001b[43m(\u001b[49m\u001b[43m)\u001b[49m\u001b[43m.\u001b[49m\u001b[43mfit\u001b[49m\u001b[43m(\u001b[49m\u001b[43mX\u001b[49m\u001b[43m=\u001b[49m\u001b[43mX\u001b[49m\u001b[43m,\u001b[49m\u001b[43m \u001b[49m\u001b[43my\u001b[49m\u001b[43m=\u001b[49m\u001b[43my\u001b[49m\u001b[43m,\u001b[49m\u001b[43m \u001b[49m\u001b[43mgroups\u001b[49m\u001b[43m=\u001b[49m\u001b[43mgroups\u001b[49m\u001b[43m,\u001b[49m\u001b[43m \u001b[49m\u001b[43m*\u001b[49m\u001b[43m*\u001b[49m\u001b[43mfit_params\u001b[49m\u001b[43m)\u001b[49m\n\u001b[32m    544\u001b[39m \u001b[38;5;66;03m# BaseSearchCV never ranked train scores,\u001b[39;00m\n\u001b[32m    545\u001b[39m \u001b[38;5;66;03m# but apparently we used to ship this (back-compat)\u001b[39;00m\n\u001b[32m    546\u001b[39m \u001b[38;5;28;01mif\u001b[39;00m \u001b[38;5;28mself\u001b[39m.return_train_score:\n",
      "\u001b[36mFile \u001b[39m\u001b[32mc:\\Users\\Yvonne\\Documents\\DataScientist_2025_local\\project_code\\.venv-xray\\Lib\\site-packages\\sklearn\\base.py:1389\u001b[39m, in \u001b[36m_fit_context.<locals>.decorator.<locals>.wrapper\u001b[39m\u001b[34m(estimator, *args, **kwargs)\u001b[39m\n\u001b[32m   1382\u001b[39m     estimator._validate_params()\n\u001b[32m   1384\u001b[39m \u001b[38;5;28;01mwith\u001b[39;00m config_context(\n\u001b[32m   1385\u001b[39m     skip_parameter_validation=(\n\u001b[32m   1386\u001b[39m         prefer_skip_nested_validation \u001b[38;5;129;01mor\u001b[39;00m global_skip_validation\n\u001b[32m   1387\u001b[39m     )\n\u001b[32m   1388\u001b[39m ):\n\u001b[32m-> \u001b[39m\u001b[32m1389\u001b[39m     \u001b[38;5;28;01mreturn\u001b[39;00m \u001b[43mfit_method\u001b[49m\u001b[43m(\u001b[49m\u001b[43mestimator\u001b[49m\u001b[43m,\u001b[49m\u001b[43m \u001b[49m\u001b[43m*\u001b[49m\u001b[43margs\u001b[49m\u001b[43m,\u001b[49m\u001b[43m \u001b[49m\u001b[43m*\u001b[49m\u001b[43m*\u001b[49m\u001b[43mkwargs\u001b[49m\u001b[43m)\u001b[49m\n",
      "\u001b[36mFile \u001b[39m\u001b[32mc:\\Users\\Yvonne\\Documents\\DataScientist_2025_local\\project_code\\.venv-xray\\Lib\\site-packages\\sklearn\\model_selection\\_search.py:1024\u001b[39m, in \u001b[36mBaseSearchCV.fit\u001b[39m\u001b[34m(self, X, y, **params)\u001b[39m\n\u001b[32m   1018\u001b[39m     results = \u001b[38;5;28mself\u001b[39m._format_results(\n\u001b[32m   1019\u001b[39m         all_candidate_params, n_splits, all_out, all_more_results\n\u001b[32m   1020\u001b[39m     )\n\u001b[32m   1022\u001b[39m     \u001b[38;5;28;01mreturn\u001b[39;00m results\n\u001b[32m-> \u001b[39m\u001b[32m1024\u001b[39m \u001b[38;5;28;43mself\u001b[39;49m\u001b[43m.\u001b[49m\u001b[43m_run_search\u001b[49m\u001b[43m(\u001b[49m\u001b[43mevaluate_candidates\u001b[49m\u001b[43m)\u001b[49m\n\u001b[32m   1026\u001b[39m \u001b[38;5;66;03m# multimetric is determined here because in the case of a callable\u001b[39;00m\n\u001b[32m   1027\u001b[39m \u001b[38;5;66;03m# self.scoring the return type is only known after calling\u001b[39;00m\n\u001b[32m   1028\u001b[39m first_test_score = all_out[\u001b[32m0\u001b[39m][\u001b[33m\"\u001b[39m\u001b[33mtest_scores\u001b[39m\u001b[33m\"\u001b[39m]\n",
      "\u001b[36mFile \u001b[39m\u001b[32mc:\\Users\\Yvonne\\Documents\\DataScientist_2025_local\\project_code\\.venv-xray\\Lib\\site-packages\\skopt\\searchcv.py:599\u001b[39m, in \u001b[36mBayesSearchCV._run_search\u001b[39m\u001b[34m(self, evaluate_candidates)\u001b[39m\n\u001b[32m    595\u001b[39m \u001b[38;5;28;01mwhile\u001b[39;00m n_iter > \u001b[32m0\u001b[39m:\n\u001b[32m    596\u001b[39m     \u001b[38;5;66;03m# when n_iter < n_points points left for evaluation\u001b[39;00m\n\u001b[32m    597\u001b[39m     n_points_adjusted = \u001b[38;5;28mmin\u001b[39m(n_iter, n_points)\n\u001b[32m--> \u001b[39m\u001b[32m599\u001b[39m     optim_result, score_name = \u001b[38;5;28;43mself\u001b[39;49m\u001b[43m.\u001b[49m\u001b[43m_step\u001b[49m\u001b[43m(\u001b[49m\n\u001b[32m    600\u001b[39m \u001b[43m        \u001b[49m\u001b[43msearch_space\u001b[49m\u001b[43m,\u001b[49m\n\u001b[32m    601\u001b[39m \u001b[43m        \u001b[49m\u001b[43moptimizer\u001b[49m\u001b[43m,\u001b[49m\n\u001b[32m    602\u001b[39m \u001b[43m        \u001b[49m\u001b[43mscore_name\u001b[49m\u001b[43m,\u001b[49m\n\u001b[32m    603\u001b[39m \u001b[43m        \u001b[49m\u001b[43mevaluate_candidates\u001b[49m\u001b[43m,\u001b[49m\n\u001b[32m    604\u001b[39m \u001b[43m        \u001b[49m\u001b[43mn_points\u001b[49m\u001b[43m=\u001b[49m\u001b[43mn_points_adjusted\u001b[49m\u001b[43m,\u001b[49m\n\u001b[32m    605\u001b[39m \u001b[43m    \u001b[49m\u001b[43m)\u001b[49m\n\u001b[32m    606\u001b[39m     n_iter -= n_points\n\u001b[32m    608\u001b[39m     \u001b[38;5;28;01mif\u001b[39;00m eval_callbacks(callbacks, optim_result):\n",
      "\u001b[36mFile \u001b[39m\u001b[32mc:\\Users\\Yvonne\\Documents\\DataScientist_2025_local\\project_code\\.venv-xray\\Lib\\site-packages\\skopt\\searchcv.py:453\u001b[39m, in \u001b[36mBayesSearchCV._step\u001b[39m\u001b[34m(self, search_space, optimizer, score_name, evaluate_candidates, n_points)\u001b[39m\n\u001b[32m    450\u001b[39m \u001b[38;5;66;03m# make lists into dictionaries\u001b[39;00m\n\u001b[32m    451\u001b[39m params_dict = [point_asdict(search_space, p) \u001b[38;5;28;01mfor\u001b[39;00m p \u001b[38;5;129;01min\u001b[39;00m params]\n\u001b[32m--> \u001b[39m\u001b[32m453\u001b[39m all_results = \u001b[43mevaluate_candidates\u001b[49m\u001b[43m(\u001b[49m\u001b[43mparams_dict\u001b[49m\u001b[43m)\u001b[49m\n\u001b[32m    455\u001b[39m \u001b[38;5;66;03m# if self.scoring is a callable, we have to wait until here\u001b[39;00m\n\u001b[32m    456\u001b[39m \u001b[38;5;66;03m# to get the score name\u001b[39;00m\n\u001b[32m    457\u001b[39m \u001b[38;5;28;01mif\u001b[39;00m score_name \u001b[38;5;129;01mis\u001b[39;00m \u001b[38;5;28;01mNone\u001b[39;00m:\n",
      "\u001b[36mFile \u001b[39m\u001b[32mc:\\Users\\Yvonne\\Documents\\DataScientist_2025_local\\project_code\\.venv-xray\\Lib\\site-packages\\sklearn\\model_selection\\_search.py:970\u001b[39m, in \u001b[36mBaseSearchCV.fit.<locals>.evaluate_candidates\u001b[39m\u001b[34m(candidate_params, cv, more_results)\u001b[39m\n\u001b[32m    962\u001b[39m \u001b[38;5;28;01mif\u001b[39;00m \u001b[38;5;28mself\u001b[39m.verbose > \u001b[32m0\u001b[39m:\n\u001b[32m    963\u001b[39m     \u001b[38;5;28mprint\u001b[39m(\n\u001b[32m    964\u001b[39m         \u001b[33m\"\u001b[39m\u001b[33mFitting \u001b[39m\u001b[38;5;132;01m{0}\u001b[39;00m\u001b[33m folds for each of \u001b[39m\u001b[38;5;132;01m{1}\u001b[39;00m\u001b[33m candidates,\u001b[39m\u001b[33m\"\u001b[39m\n\u001b[32m    965\u001b[39m         \u001b[33m\"\u001b[39m\u001b[33m totalling \u001b[39m\u001b[38;5;132;01m{2}\u001b[39;00m\u001b[33m fits\u001b[39m\u001b[33m\"\u001b[39m.format(\n\u001b[32m    966\u001b[39m             n_splits, n_candidates, n_candidates * n_splits\n\u001b[32m    967\u001b[39m         )\n\u001b[32m    968\u001b[39m     )\n\u001b[32m--> \u001b[39m\u001b[32m970\u001b[39m out = \u001b[43mparallel\u001b[49m\u001b[43m(\u001b[49m\n\u001b[32m    971\u001b[39m \u001b[43m    \u001b[49m\u001b[43mdelayed\u001b[49m\u001b[43m(\u001b[49m\u001b[43m_fit_and_score\u001b[49m\u001b[43m)\u001b[49m\u001b[43m(\u001b[49m\n\u001b[32m    972\u001b[39m \u001b[43m        \u001b[49m\u001b[43mclone\u001b[49m\u001b[43m(\u001b[49m\u001b[43mbase_estimator\u001b[49m\u001b[43m)\u001b[49m\u001b[43m,\u001b[49m\n\u001b[32m    973\u001b[39m \u001b[43m        \u001b[49m\u001b[43mX\u001b[49m\u001b[43m,\u001b[49m\n\u001b[32m    974\u001b[39m \u001b[43m        \u001b[49m\u001b[43my\u001b[49m\u001b[43m,\u001b[49m\n\u001b[32m    975\u001b[39m \u001b[43m        \u001b[49m\u001b[43mtrain\u001b[49m\u001b[43m=\u001b[49m\u001b[43mtrain\u001b[49m\u001b[43m,\u001b[49m\n\u001b[32m    976\u001b[39m \u001b[43m        \u001b[49m\u001b[43mtest\u001b[49m\u001b[43m=\u001b[49m\u001b[43mtest\u001b[49m\u001b[43m,\u001b[49m\n\u001b[32m    977\u001b[39m \u001b[43m        \u001b[49m\u001b[43mparameters\u001b[49m\u001b[43m=\u001b[49m\u001b[43mparameters\u001b[49m\u001b[43m,\u001b[49m\n\u001b[32m    978\u001b[39m \u001b[43m        \u001b[49m\u001b[43msplit_progress\u001b[49m\u001b[43m=\u001b[49m\u001b[43m(\u001b[49m\u001b[43msplit_idx\u001b[49m\u001b[43m,\u001b[49m\u001b[43m \u001b[49m\u001b[43mn_splits\u001b[49m\u001b[43m)\u001b[49m\u001b[43m,\u001b[49m\n\u001b[32m    979\u001b[39m \u001b[43m        \u001b[49m\u001b[43mcandidate_progress\u001b[49m\u001b[43m=\u001b[49m\u001b[43m(\u001b[49m\u001b[43mcand_idx\u001b[49m\u001b[43m,\u001b[49m\u001b[43m \u001b[49m\u001b[43mn_candidates\u001b[49m\u001b[43m)\u001b[49m\u001b[43m,\u001b[49m\n\u001b[32m    980\u001b[39m \u001b[43m        \u001b[49m\u001b[43m*\u001b[49m\u001b[43m*\u001b[49m\u001b[43mfit_and_score_kwargs\u001b[49m\u001b[43m,\u001b[49m\n\u001b[32m    981\u001b[39m \u001b[43m    \u001b[49m\u001b[43m)\u001b[49m\n\u001b[32m    982\u001b[39m \u001b[43m    \u001b[49m\u001b[38;5;28;43;01mfor\u001b[39;49;00m\u001b[43m \u001b[49m\u001b[43m(\u001b[49m\u001b[43mcand_idx\u001b[49m\u001b[43m,\u001b[49m\u001b[43m \u001b[49m\u001b[43mparameters\u001b[49m\u001b[43m)\u001b[49m\u001b[43m,\u001b[49m\u001b[43m \u001b[49m\u001b[43m(\u001b[49m\u001b[43msplit_idx\u001b[49m\u001b[43m,\u001b[49m\u001b[43m \u001b[49m\u001b[43m(\u001b[49m\u001b[43mtrain\u001b[49m\u001b[43m,\u001b[49m\u001b[43m \u001b[49m\u001b[43mtest\u001b[49m\u001b[43m)\u001b[49m\u001b[43m)\u001b[49m\u001b[43m \u001b[49m\u001b[38;5;129;43;01min\u001b[39;49;00m\u001b[43m \u001b[49m\u001b[43mproduct\u001b[49m\u001b[43m(\u001b[49m\n\u001b[32m    983\u001b[39m \u001b[43m        \u001b[49m\u001b[38;5;28;43menumerate\u001b[39;49m\u001b[43m(\u001b[49m\u001b[43mcandidate_params\u001b[49m\u001b[43m)\u001b[49m\u001b[43m,\u001b[49m\n\u001b[32m    984\u001b[39m \u001b[43m        \u001b[49m\u001b[38;5;28;43menumerate\u001b[39;49m\u001b[43m(\u001b[49m\u001b[43mcv\u001b[49m\u001b[43m.\u001b[49m\u001b[43msplit\u001b[49m\u001b[43m(\u001b[49m\u001b[43mX\u001b[49m\u001b[43m,\u001b[49m\u001b[43m \u001b[49m\u001b[43my\u001b[49m\u001b[43m,\u001b[49m\u001b[43m \u001b[49m\u001b[43m*\u001b[49m\u001b[43m*\u001b[49m\u001b[43mrouted_params\u001b[49m\u001b[43m.\u001b[49m\u001b[43msplitter\u001b[49m\u001b[43m.\u001b[49m\u001b[43msplit\u001b[49m\u001b[43m)\u001b[49m\u001b[43m)\u001b[49m\u001b[43m,\u001b[49m\n\u001b[32m    985\u001b[39m \u001b[43m    \u001b[49m\u001b[43m)\u001b[49m\n\u001b[32m    986\u001b[39m \u001b[43m\u001b[49m\u001b[43m)\u001b[49m\n\u001b[32m    988\u001b[39m \u001b[38;5;28;01mif\u001b[39;00m \u001b[38;5;28mlen\u001b[39m(out) < \u001b[32m1\u001b[39m:\n\u001b[32m    989\u001b[39m     \u001b[38;5;28;01mraise\u001b[39;00m \u001b[38;5;167;01mValueError\u001b[39;00m(\n\u001b[32m    990\u001b[39m         \u001b[33m\"\u001b[39m\u001b[33mNo fits were performed. \u001b[39m\u001b[33m\"\u001b[39m\n\u001b[32m    991\u001b[39m         \u001b[33m\"\u001b[39m\u001b[33mWas the CV iterator empty? \u001b[39m\u001b[33m\"\u001b[39m\n\u001b[32m    992\u001b[39m         \u001b[33m\"\u001b[39m\u001b[33mWere there no candidates?\u001b[39m\u001b[33m\"\u001b[39m\n\u001b[32m    993\u001b[39m     )\n",
      "\u001b[36mFile \u001b[39m\u001b[32mc:\\Users\\Yvonne\\Documents\\DataScientist_2025_local\\project_code\\.venv-xray\\Lib\\site-packages\\sklearn\\utils\\parallel.py:77\u001b[39m, in \u001b[36mParallel.__call__\u001b[39m\u001b[34m(self, iterable)\u001b[39m\n\u001b[32m     72\u001b[39m config = get_config()\n\u001b[32m     73\u001b[39m iterable_with_config = (\n\u001b[32m     74\u001b[39m     (_with_config(delayed_func, config), args, kwargs)\n\u001b[32m     75\u001b[39m     \u001b[38;5;28;01mfor\u001b[39;00m delayed_func, args, kwargs \u001b[38;5;129;01min\u001b[39;00m iterable\n\u001b[32m     76\u001b[39m )\n\u001b[32m---> \u001b[39m\u001b[32m77\u001b[39m \u001b[38;5;28;01mreturn\u001b[39;00m \u001b[38;5;28;43msuper\u001b[39;49m\u001b[43m(\u001b[49m\u001b[43m)\u001b[49m\u001b[43m.\u001b[49m\u001b[34;43m__call__\u001b[39;49m\u001b[43m(\u001b[49m\u001b[43miterable_with_config\u001b[49m\u001b[43m)\u001b[49m\n",
      "\u001b[36mFile \u001b[39m\u001b[32mc:\\Users\\Yvonne\\Documents\\DataScientist_2025_local\\project_code\\.venv-xray\\Lib\\site-packages\\joblib\\parallel.py:2007\u001b[39m, in \u001b[36mParallel.__call__\u001b[39m\u001b[34m(self, iterable)\u001b[39m\n\u001b[32m   2001\u001b[39m \u001b[38;5;66;03m# The first item from the output is blank, but it makes the interpreter\u001b[39;00m\n\u001b[32m   2002\u001b[39m \u001b[38;5;66;03m# progress until it enters the Try/Except block of the generator and\u001b[39;00m\n\u001b[32m   2003\u001b[39m \u001b[38;5;66;03m# reaches the first `yield` statement. This starts the asynchronous\u001b[39;00m\n\u001b[32m   2004\u001b[39m \u001b[38;5;66;03m# dispatch of the tasks to the workers.\u001b[39;00m\n\u001b[32m   2005\u001b[39m \u001b[38;5;28mnext\u001b[39m(output)\n\u001b[32m-> \u001b[39m\u001b[32m2007\u001b[39m \u001b[38;5;28;01mreturn\u001b[39;00m output \u001b[38;5;28;01mif\u001b[39;00m \u001b[38;5;28mself\u001b[39m.return_generator \u001b[38;5;28;01melse\u001b[39;00m \u001b[38;5;28;43mlist\u001b[39;49m\u001b[43m(\u001b[49m\u001b[43moutput\u001b[49m\u001b[43m)\u001b[49m\n",
      "\u001b[36mFile \u001b[39m\u001b[32mc:\\Users\\Yvonne\\Documents\\DataScientist_2025_local\\project_code\\.venv-xray\\Lib\\site-packages\\joblib\\parallel.py:1650\u001b[39m, in \u001b[36mParallel._get_outputs\u001b[39m\u001b[34m(self, iterator, pre_dispatch)\u001b[39m\n\u001b[32m   1647\u001b[39m     \u001b[38;5;28;01myield\u001b[39;00m\n\u001b[32m   1649\u001b[39m     \u001b[38;5;28;01mwith\u001b[39;00m \u001b[38;5;28mself\u001b[39m._backend.retrieval_context():\n\u001b[32m-> \u001b[39m\u001b[32m1650\u001b[39m         \u001b[38;5;28;01myield from\u001b[39;00m \u001b[38;5;28mself\u001b[39m._retrieve()\n\u001b[32m   1652\u001b[39m \u001b[38;5;28;01mexcept\u001b[39;00m \u001b[38;5;167;01mGeneratorExit\u001b[39;00m:\n\u001b[32m   1653\u001b[39m     \u001b[38;5;66;03m# The generator has been garbage collected before being fully\u001b[39;00m\n\u001b[32m   1654\u001b[39m     \u001b[38;5;66;03m# consumed. This aborts the remaining tasks if possible and warn\u001b[39;00m\n\u001b[32m   1655\u001b[39m     \u001b[38;5;66;03m# the user if necessary.\u001b[39;00m\n\u001b[32m   1656\u001b[39m     \u001b[38;5;28mself\u001b[39m._exception = \u001b[38;5;28;01mTrue\u001b[39;00m\n",
      "\u001b[36mFile \u001b[39m\u001b[32mc:\\Users\\Yvonne\\Documents\\DataScientist_2025_local\\project_code\\.venv-xray\\Lib\\site-packages\\joblib\\parallel.py:1762\u001b[39m, in \u001b[36mParallel._retrieve\u001b[39m\u001b[34m(self)\u001b[39m\n\u001b[32m   1757\u001b[39m \u001b[38;5;66;03m# If the next job is not ready for retrieval yet, we just wait for\u001b[39;00m\n\u001b[32m   1758\u001b[39m \u001b[38;5;66;03m# async callbacks to progress.\u001b[39;00m\n\u001b[32m   1759\u001b[39m \u001b[38;5;28;01mif\u001b[39;00m ((\u001b[38;5;28mlen\u001b[39m(\u001b[38;5;28mself\u001b[39m._jobs) == \u001b[32m0\u001b[39m) \u001b[38;5;129;01mor\u001b[39;00m\n\u001b[32m   1760\u001b[39m     (\u001b[38;5;28mself\u001b[39m._jobs[\u001b[32m0\u001b[39m].get_status(\n\u001b[32m   1761\u001b[39m         timeout=\u001b[38;5;28mself\u001b[39m.timeout) == TASK_PENDING)):\n\u001b[32m-> \u001b[39m\u001b[32m1762\u001b[39m     \u001b[43mtime\u001b[49m\u001b[43m.\u001b[49m\u001b[43msleep\u001b[49m\u001b[43m(\u001b[49m\u001b[32;43m0.01\u001b[39;49m\u001b[43m)\u001b[49m\n\u001b[32m   1763\u001b[39m     \u001b[38;5;28;01mcontinue\u001b[39;00m\n\u001b[32m   1765\u001b[39m \u001b[38;5;66;03m# We need to be careful: the job list can be filling up as\u001b[39;00m\n\u001b[32m   1766\u001b[39m \u001b[38;5;66;03m# we empty it and Python list are not thread-safe by\u001b[39;00m\n\u001b[32m   1767\u001b[39m \u001b[38;5;66;03m# default hence the use of the lock\u001b[39;00m\n",
      "\u001b[31mKeyboardInterrupt\u001b[39m: "
     ]
    }
   ],
   "source": [
    "# n = 200\n",
    "# \"tree_method\": \"hist\", \"device\": \"cuda\"\n",
    "\n",
    "# eval_set = [(X_valid, y_valid)]\n",
    "\n",
    "# # Create XGBoost classifier \n",
    "\n",
    "# if machine == 'colab': # with gpu\n",
    "#     xgb = XGBClassifier(\n",
    "#         n_estimators=n,                # maximum number of iterations/trees built \n",
    "#         objective=\"multi:softprob\",      # for multiple classification using the softmax function. Returns probabilities for each class.\n",
    "#         random_state=42, \n",
    "#         booster=\"gbtree\",         \n",
    "#         tree_method=\"hist\",          \n",
    "#         device = \"cuda\",               # for running on GPU\n",
    "#         num_class=4,                   # number of classes\n",
    "#         early_stopping_rounds=20       \n",
    "#         )\n",
    "# elif machine == 'local':  # with cpu\n",
    "#     xgb = XGBClassifier(\n",
    "#         n_estimators=n,                # maximum number of iterations/trees built \n",
    "#         objective=\"multi:softprob\",      # for multiple classification using the softmax function. Returns probabilities for each class.\n",
    "#         random_state=42, \n",
    "#         booster=\"gbtree\",         \n",
    "#         tree_method=\"hist\",          # for running on CPU\n",
    "#         num_class=4,                   # number of classes\n",
    "#         early_stopping_rounds=20       \n",
    "#         )\n",
    "\n",
    "\n",
    "# # Define search space\n",
    "# search_space = {\n",
    "# \"learning_rate\": Real(0.01, 0.3, prior='log-uniform'),     #  lower: more robust model to overlearning, but slower computation (0-1)\n",
    "# 'max_depth': Integer(3, 10),                              # Controls tree depth, default = 6\n",
    "# 'min_child_weight': Integer(1, 10),                       # Stopping crit relating to the minimum size of the num of obs. in a node (default = 1)\n",
    "# #'gamma': Real(0.01, 3.0, 'log-uniform'),\n",
    "# }\n",
    "\n",
    "\n",
    "# # Perform Bayesian optimization\n",
    "# bayes_search = BayesSearchCV(estimator=xgb, search_spaces=search_space, n_iter=25, cv=3, n_jobs=-1, verbose=10, random_state=42)\n",
    "\n",
    "# bayes_search.fit(X_train, y_train, eval_set=eval_set, verbose=10)\n",
    "\n",
    "# # Print best parameters\n",
    "# print(f\"Best parameters: {bayes_search.best_params_}\")\n",
    "# print(f\"Best score: {bayes_search.best_score_}\")"
   ]
  },
  {
   "cell_type": "code",
   "execution_count": null,
   "id": "6be36f1c",
   "metadata": {},
   "outputs": [],
   "source": [
    "# To Do: \n",
    "\n",
    "# save model with joblib\n",
    "# save best params "
   ]
  },
  {
   "cell_type": "markdown",
   "id": "7657fac0",
   "metadata": {},
   "source": [
    "## Evaluation a model using XGBClassifier"
   ]
  },
  {
   "cell_type": "code",
   "execution_count": null,
   "id": "cc9d494a",
   "metadata": {},
   "outputs": [],
   "source": [
    "# show eval during fitting:\n",
    "# results = model.evals_result()\n",
    "\n",
    "# plt.figure(figsize=(10,7))\n",
    "# plt.plot(results[\"validation_0\"][\"rmse\"], label=\"Training loss\")\n",
    "# plt.plot(results[\"validation_1\"][\"rmse\"], label=\"Validation loss\")\n",
    "# plt.axvline(21, color=\"gray\", label=\"Optimal tree number\")\n",
    "# plt.xlabel(\"Number of trees\")\n",
    "# plt.ylabel(\"Loss\")\n",
    "# plt.legend()"
   ]
  },
  {
   "cell_type": "code",
   "execution_count": null,
   "id": "43658df8",
   "metadata": {},
   "outputs": [
    {
     "name": "stdout",
     "output_type": "stream",
     "text": [
      "0.716542750929368\n"
     ]
    }
   ],
   "source": [
    "# make predictions\n",
    "#preds_proba = model.predict(y_test)\n",
    "#preds = np.argmax(preds_proba, axis=1) # get class with max of probability and save it to preds vector\n",
    "\n",
    "# show model accuracy:\n",
    "accuracy = accuracy_score(y_test, y_pred)\n",
    "print(accuracy)\n",
    "#pd.crosstab(pd.Series(preds), pd.Series(y_test))"
   ]
  },
  {
   "cell_type": "code",
   "execution_count": null,
   "id": "5bb492c8",
   "metadata": {},
   "outputs": [
    {
     "name": "stdout",
     "output_type": "stream",
     "text": [
      "              precision    recall  f1-score   support\n",
      "\n",
      "           0       0.60      0.58      0.59       269\n",
      "           1       0.70      0.67      0.69       269\n",
      "           2       0.64      0.68      0.66       269\n",
      "           3       0.92      0.93      0.92       269\n",
      "\n",
      "    accuracy                           0.72      1076\n",
      "   macro avg       0.72      0.72      0.72      1076\n",
      "weighted avg       0.72      0.72      0.72      1076\n",
      "\n"
     ]
    }
   ],
   "source": [
    "# classification report\n",
    "print(classification_report(y_test, y_pred))\n",
    "\n",
    "# save report\n",
    "report_xgb = classification_report(y_test, y_pred, output_dict=True)\n",
    "df_report_xgb = pd.DataFrame(report_xgb).transpose()\n",
    "df_report_xgb.to_csv(os.path.join(model_path, \"results\", model_name + \"_classifier_test_\" + \"_cf_report.csv\" ), index=True)\n"
   ]
  },
  {
   "cell_type": "code",
   "execution_count": null,
   "id": "affa9aca",
   "metadata": {},
   "outputs": [
    {
     "name": "stdout",
     "output_type": "stream",
     "text": [
      "abs\n",
      "None\n"
     ]
    },
    {
     "data": {
      "image/png": "[encoded data removed]",
      "text/plain": [
       "<Figure size 700x700 with 1 Axes>"
      ]
     },
     "metadata": {},
     "output_type": "display_data"
    }
   ],
   "source": [
    "model_name = \"XGBost_TEST_classifier_method\"\n",
    "# show and save confusion matrix with absolute values: \n",
    "create_cm(y_test, y_pred, None , model_path, model_name)"
   ]
  },
  {
   "cell_type": "code",
   "execution_count": null,
   "id": "4e0978e1",
   "metadata": {},
   "outputs": [
    {
     "name": "stdout",
     "output_type": "stream",
     "text": [
      "norma\n",
      "true\n"
     ]
    },
    {
     "data": {
      "image/png": "[encoded data removed]",
      "text/plain": [
       "<Figure size 700x700 with 1 Axes>"
      ]
     },
     "metadata": {},
     "output_type": "display_data"
    }
   ],
   "source": [
    "# show and saveonfusion matrix with normalized values: \n",
    "create_cm(y_test, y_pred, 'true' , model_path, model_name)"
   ]
  },
  {
   "cell_type": "markdown",
   "id": "02401921",
   "metadata": {},
   "source": [
    "## XGBoost Cross-Validation"
   ]
  },
  {
   "cell_type": "code",
   "execution_count": null,
   "id": "0d111662",
   "metadata": {},
   "outputs": [
    {
     "data": {
      "text/plain": [
       "0.8958161132875754"
      ]
     },
     "execution_count": 56,
     "metadata": {},
     "output_type": "execute_result"
    }
   ],
   "source": [
    "# if machine == 'colab':\n",
    "#     params = {'booster': 'gbtree', \"objective\": \"multi:softprob\", \"learning_rate\": 0.3,  \"tree_method\": \"gpu_hist\", \"num_class\":4} # with gpu\n",
    "# elif machine == 'local':\n",
    "#     params = {'booster': 'gbtree', \"objective\": \"multi:softprob\", \"learning_rate\": 0.3, \"tree_method\": \"hist\", \"num_class\":4} # with cpu\n",
    "\n",
    "# n = 1000\n",
    "\n",
    "# results = xgb.cv(\n",
    "#    params, \n",
    "#    m_train,\n",
    "#    num_boost_round=n,\n",
    "#    nfold=5,\n",
    "#    metrics=[\"mlogloss\", \"auc\", \"merror\"],\n",
    "#    early_stopping_rounds=20\n",
    "# )\n",
    "\n",
    "# results.keys()\n",
    "# results['test-auc-mean'].max()"
   ]
  },
  {
   "cell_type": "code",
   "execution_count": null,
   "id": "fce07ea0",
   "metadata": {},
   "outputs": [
    {
     "data": {
      "text/plain": [
       "Index(['train-mlogloss-mean', 'train-mlogloss-std', 'train-auc-mean',\n",
       "       'train-auc-std', 'train-merror-mean', 'train-merror-std',\n",
       "       'test-mlogloss-mean', 'test-mlogloss-std', 'test-auc-mean',\n",
       "       'test-auc-std', 'test-merror-mean', 'test-merror-std'],\n",
       "      dtype='object')"
      ]
     },
     "execution_count": 60,
     "metadata": {},
     "output_type": "execute_result"
    }
   ],
   "source": [
    "# results.keys()"
   ]
  },
  {
   "cell_type": "code",
   "execution_count": null,
   "id": "2cac1eae",
   "metadata": {},
   "outputs": [],
   "source": [
    "# results_filename = \"results_CV_\" + model_name + \".csv\"\n",
    "# results.to_csv(os.path.join(model_path, results_filename))"
   ]
  },
  {
   "cell_type": "code",
   "execution_count": null,
   "id": "86925d70",
   "metadata": {},
   "outputs": [],
   "source": [
    "# # create filename of saved model:\n",
    "# if flag_slicing == True:\n",
    "#     model_name     = 'XGboost_' + flag_dataset + '_slice'+ str(num_subset) \n",
    "#     model_filename = model_name + '.joblib' \n",
    "# else: \n",
    "#     model_name     = 'XGBoost_' + flag_dataset\n",
    "#     model_filename =  model_name + '.joblib'"
   ]
  },
  {
   "cell_type": "code",
   "execution_count": null,
   "id": "79c38ba5",
   "metadata": {},
   "outputs": [
    {
     "data": {
      "text/plain": [
       "'..\\\\\\\\Models\\\\\\\\local\\\\\\\\ML\\\\results\\\\XGBoost_128_no_aug_mask_cf_report.csv'"
      ]
     },
     "execution_count": 50,
     "metadata": {},
     "output_type": "execute_result"
    }
   ],
   "source": [
    "# model_name\n",
    "# os.path.join(model_path, \"results\", model_name + \"_cf_report.csv\" )"
   ]
  },
  {
   "cell_type": "markdown",
   "id": "569b1027",
   "metadata": {},
   "source": [
    "## Evaluation"
   ]
  },
  {
   "cell_type": "code",
   "execution_count": null,
   "id": "8e724c6e",
   "metadata": {},
   "outputs": [
    {
     "ename": "NameError",
     "evalue": "name 'm_test' is not defined",
     "output_type": "error",
     "traceback": [
      "\u001b[31m---------------------------------------------------------------------------\u001b[39m",
      "\u001b[31mNameError\u001b[39m                                 Traceback (most recent call last)",
      "\u001b[36mCell\u001b[39m\u001b[36m \u001b[39m\u001b[32mIn[17]\u001b[39m\u001b[32m, line 2\u001b[39m\n\u001b[32m      1\u001b[39m \u001b[38;5;66;03m# make predictions\u001b[39;00m\n\u001b[32m----> \u001b[39m\u001b[32m2\u001b[39m preds_proba = model.predict(\u001b[43mm_test\u001b[49m)\n\u001b[32m      3\u001b[39m preds = np.argmax(preds_proba, axis=\u001b[32m1\u001b[39m) \u001b[38;5;66;03m# get class with max of probability and save it to preds vector\u001b[39;00m\n\u001b[32m      5\u001b[39m accuracy = accuracy_score(y_test, preds)\n",
      "\u001b[31mNameError\u001b[39m: name 'm_test' is not defined"
     ]
    }
   ],
   "source": [
    "# # make predictions\n",
    "# preds_proba = model.predict(m_test)\n",
    "# preds = np.argmax(preds_proba, axis=1) # get class with max of probability and save it to preds vector\n",
    "\n",
    "# accuracy = accuracy_score(y_test, preds)\n",
    "# print(accuracy)\n",
    "# #pd.crosstab(pd.Series(preds), pd.Series(y_test))"
   ]
  },
  {
   "cell_type": "code",
   "execution_count": null,
   "id": "161cca35",
   "metadata": {},
   "outputs": [
    {
     "name": "stdout",
     "output_type": "stream",
     "text": [
      "              precision    recall  f1-score   support\n",
      "\n",
      "           0       0.64      0.61      0.62       269\n",
      "           1       0.72      0.70      0.71       269\n",
      "           2       0.67      0.72      0.69       269\n",
      "           3       0.93      0.94      0.94       269\n",
      "\n",
      "    accuracy                           0.74      1076\n",
      "   macro avg       0.74      0.74      0.74      1076\n",
      "weighted avg       0.74      0.74      0.74      1076\n",
      "\n"
     ]
    }
   ],
   "source": [
    "# # classification report\n",
    "# print(classification_report(y_test, preds))\n",
    "\n",
    "# # save report\n",
    "# report_xgb = classification_report(y_test, preds, output_dict=True)\n",
    "# df_report_xgb = pd.DataFrame(report_xgb).transpose()\n",
    "# df_report_xgb.to_csv(os.path.join(model_path, \"results\", model_name + \"_cf_report.csv\" ), index=True)\n"
   ]
  },
  {
   "cell_type": "code",
   "execution_count": null,
   "id": "b19e9fcc",
   "metadata": {},
   "outputs": [
    {
     "name": "stdout",
     "output_type": "stream",
     "text": [
      "abs\n",
      "None\n"
     ]
    },
    {
     "data": {
      "image/png": "[encoded data removed]",
      "text/plain": [
       "<Figure size 700x700 with 1 Axes>"
      ]
     },
     "metadata": {},
     "output_type": "display_data"
    }
   ],
   "source": [
    "# # show and save confusion matrix with absolute values: \n",
    "# create_cm(y_test, preds, None , model_path, model_name)"
   ]
  },
  {
   "cell_type": "code",
   "execution_count": null,
   "id": "20f9feb4",
   "metadata": {},
   "outputs": [
    {
     "name": "stdout",
     "output_type": "stream",
     "text": [
      "norma\n",
      "true\n"
     ]
    },
    {
     "data": {
      "image/png": "[encoded data removed]",
      "text/plain": [
       "<Figure size 700x700 with 1 Axes>"
      ]
     },
     "metadata": {},
     "output_type": "display_data"
    }
   ],
   "source": [
    "# # show and saveonfusion matrix with normalized values: \n",
    "# create_cm(y_test, preds, 'true' , model_path, model_name)"
   ]
  },
  {
   "cell_type": "markdown",
   "id": "2a220907",
   "metadata": {},
   "source": [
    "### scaling - not used"
   ]
  },
  {
   "cell_type": "code",
   "execution_count": null,
   "id": "59de6b42",
   "metadata": {},
   "outputs": [],
   "source": [
    "# # sacling the data\n",
    "# scaler = StandardScaler()\n",
    "\n",
    "# # fit and transform train data \n",
    "# X_train_scaled = scaler.fit_transform(X_train)\n",
    "\n",
    "# # fit test data\n",
    "# X_test_scaled = scaler.transform(X_test)\n",
    "\n",
    "# scaling is not used because the standard-scaler scales along the columns and that means scaling over the same pixel in each image\n",
    "\n",
    "# X_test_scaled = X_test\n",
    "# X_train_scaled = X_train"
   ]
  },
  {
   "cell_type": "code",
   "execution_count": null,
   "id": "72a1972e",
   "metadata": {},
   "outputs": [],
   "source": []
  }
 ],
 "metadata": {
  "kernelspec": {
   "display_name": "Python 3",
   "language": "python",
   "name": "python3"
  },
  "language_info": {
   "codemirror_mode": {
    "name": "ipython",
    "version": 3
   },
   "file_extension": ".py",
   "mimetype": "text/x-python",
   "name": "python",
   "nbconvert_exporter": "python",
   "pygments_lexer": "ipython3",
   "version": "3.12.9"
  }
 },
 "nbformat": 4,
 "nbformat_minor": 5
}
