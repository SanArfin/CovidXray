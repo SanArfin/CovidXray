{
 "cells": [
  {
   "cell_type": "code",
   "execution_count": null,
   "id": "2c7c3a3f",
   "metadata": {},
   "outputs": [],
   "source": [
    "import cv2\n",
    "import os\n",
    "#import numpy as np\n",
    "#import matplotlib.pyplot as plt\n",
    "import albumentations as A\n",
    "import pandas as pd"
   ]
  },
  {
   "cell_type": "code",
   "execution_count": null,
   "id": "2e9e5d7c",
   "metadata": {},
   "outputs": [],
   "source": [
    "# Define paths \n",
    "base_path = r\"..\\\\data\\\\\"\n",
    "base_path_out = os.path.join(base_path, \"processed\")   # path to read input csv-file from\n",
    "\n",
    "output_path = os.path.join(base_path_out, \"augmented\") # path to write the\n",
    "\n",
    "\n",
    "# Define classes which need augmentation: \n",
    "classes_aug = [\"COVID\", \"Viral Pneumonia\", \"Lung_Opacity\"]"
   ]
  },
  {
   "cell_type": "code",
   "execution_count": null,
   "id": "9cca32e3",
   "metadata": {},
   "outputs": [],
   "source": [
    "# read csv with data frame which contains infos to preprocessed  and normalized images and labels and encoded labels\n",
    "df_train = pd.read_csv(os.path.join(base_path_out,\"df_xray_processed_normed_enc_train.csv\"), sep=',', index_col=0)"
   ]
  },
  {
   "cell_type": "code",
   "execution_count": null,
   "id": "061d9130",
   "metadata": {},
   "outputs": [],
   "source": [
    "# get infos which is the majority class\n",
    "counts = df_train['label'].value_counts()\n",
    "\n",
    "# assume that the normal class is the majority class\n",
    "\n",
    "max_num = counts['Normal']\n",
    "\n",
    "iteration_per_class = {}\n",
    "\n",
    "for class_name in classes_aug:\n",
    "    class_num = counts[class_name]\n",
    "\n",
    "    div_res = round(max_num/class_num,0)    # calculate how many augmentation iteration we need\n",
    "    iteration = div_res - 1                 # it needs one iteration less, because we add the unaugmented data\n",
    "    \n",
    "    iteration_per_class.update({class_name: iteration})\n",
    "\n",
    "\n",
    "    \n",
    "\n",
    "\n",
    "\n",
    "\n"
   ]
  },
  {
   "cell_type": "code",
   "execution_count": 39,
   "id": "9ad25287",
   "metadata": {},
   "outputs": [
    {
     "name": "stderr",
     "output_type": "stream",
     "text": [
      "c:\\Users\\Yvonne\\Documents\\DataScientist_2025_local\\project_code\\.venv-xray\\Lib\\site-packages\\albumentations\\core\\validation.py:87: UserWarning: ShiftScaleRotate is a special case of Affine transform. Please use Affine transform instead.\n",
      "  original_init(self, **validated_kwargs)\n"
     ]
    }
   ],
   "source": [
    "# Define augmentation pipeline\n",
    "\n",
    "# define probabilities of applying the different augmentation methods\n",
    "prob_rotate = 0.5    # probaility of using rotation\n",
    "prob_shift = 0.5     # probaility of using shifting\n",
    "prob_pipeline = 1.0  # The entire pipeline has a 100% chance to be applied. We want every image to be changed\n",
    "\n",
    "\n",
    "# Define the augmentation pipeline\n",
    "augmentation_pipeline = A.Compose([\n",
    "    A.OneOf([\n",
    "        A.Rotate(limit=15, p=prob_rotate),                                                 # Rotate with a limit of ±15 degrees\n",
    "        A.ShiftScaleRotate(shift_limit=0.1, scale_limit=0, rotate_limit=0, p=prob_shift)  # Translation (shifting)\n",
    "    ], p=prob_pipeline)\n",
    "\n",
    "], p=1.0,                    # probability of the entire pipeline to be applied\n",
    "#seed = 137,                  # added seed for reproducibility  \n",
    "save_applied_params=True)    # save applied transformation parameters\n"
   ]
  },
  {
   "cell_type": "code",
   "execution_count": 60,
   "id": "c5aeb791",
   "metadata": {},
   "outputs": [],
   "source": [
    "# create data_frame which is filled with the infos to the augmented iamges:\n",
    "df_train_augmented = pd.DataFrame(columns=df_train.columns)\n",
    "#df_train_augmented.columns\n",
    "\n",
    "\n",
    "# loop through rows of df_train\n",
    "for index, row in df_train.iterrows():\n",
    "    # only do augmentation if class is not 'Normal'\n",
    "    if row['label'] in classes_aug:\n",
    "\n",
    "        # define output path for augmented image\n",
    "        augmented_dir = os.path.join(output_path, row['label'])\n",
    "        os.makedirs(augmented_dir, exist_ok=True) \n",
    "\n",
    "\n",
    "        # how many iterations of augmentation do we need?\n",
    "        num_iter = iteration_per_class[row['label']]\n",
    "\n",
    "        file = os.path.join(row['path'], row['file'])\n",
    "        \n",
    "        iter = 1\n",
    "        # for each file in the data frame to as many augmentation, as needed for this class\n",
    "        \n",
    "        img = cv2.imread(file, cv2.IMREAD_GRAYSCALE)\n",
    "        if img is not None:\n",
    "            while iter <= num_iter: \n",
    "                      \n",
    "                augmented = augmentation_pipeline(image=img)\n",
    "                augmented_img = augmented['image']\n",
    "                \n",
    "                # save used transformation to dict\n",
    "                #used_transformation.update({img_name:augmented['applied_transforms']})\n",
    "                        \n",
    "                # define name for augmented image\n",
    "                split_name, split_ending = row['file'].split('.') \n",
    "                img_name_aug = split_name + \"_ag\" + str(iter) + \".\" + split_ending\n",
    "\n",
    "                # save augmented image\n",
    "                save_path = os.path.join(augmented_dir, img_name_aug)\n",
    "                cv2.imwrite(save_path, augmented_img)\n",
    "\n",
    "                # build a new row for the new dataframe df_train_augmented:\n",
    "                new_row_label = row['label']\n",
    "                new_row_file = img_name_aug\n",
    "                new_row_label_enc = row['label_enc']\n",
    "                new_row_path = augmented_dir\n",
    "                \n",
    "                new_row = {'label': new_row_label, \n",
    "                        'file': new_row_file, \n",
    "                        'label_enc': new_row_label_enc, \n",
    "                        'path': new_row_path }\n",
    "\n",
    "                #df_train_augmented= df_train_augmented.append(new_row, ignore_index = True)\n",
    "                df_train_augmented = pd.concat([df_train_augmented,pd.DataFrame([new_row])], ignore_index = True, axis = 0)\n",
    "\n",
    "                iter +=1"
   ]
  },
  {
   "cell_type": "code",
   "execution_count": 61,
   "id": "14e4035f",
   "metadata": {},
   "outputs": [
    {
     "data": {
      "text/plain": [
       "label\n",
       "Viral Pneumonia    7532\n",
       "COVID              5786\n",
       "Lung_Opacity       4809\n",
       "Name: count, dtype: int64"
      ]
     },
     "execution_count": 61,
     "metadata": {},
     "output_type": "execute_result"
    }
   ],
   "source": [
    "df_train_augmented['label'].value_counts()"
   ]
  },
  {
   "cell_type": "code",
   "execution_count": 63,
   "id": "c832aac7",
   "metadata": {},
   "outputs": [],
   "source": [
    "# concat df with non augmented and augmented data: \n",
    " \n",
    "df_train_combined = pd.concat([df_train, df_train_augmented], ignore_index = True, axis = 0)"
   ]
  },
  {
   "cell_type": "code",
   "execution_count": 64,
   "id": "4dc22c36",
   "metadata": {},
   "outputs": [
    {
     "data": {
      "text/plain": [
       "label\n",
       "Lung_Opacity       9618\n",
       "COVID              8679\n",
       "Viral Pneumonia    8608\n",
       "Normal             8154\n",
       "Name: count, dtype: int64"
      ]
     },
     "execution_count": 64,
     "metadata": {},
     "output_type": "execute_result"
    }
   ],
   "source": [
    "df_train_combined['label'].value_counts()"
   ]
  },
  {
   "cell_type": "code",
   "execution_count": 65,
   "id": "a7353a83",
   "metadata": {},
   "outputs": [
    {
     "data": {
      "application/vnd.microsoft.datawrangler.viewer.v0+json": {
       "columns": [
        {
         "name": "index",
         "rawType": "int64",
         "type": "integer"
        },
        {
         "name": "label",
         "rawType": "object",
         "type": "string"
        },
        {
         "name": "file",
         "rawType": "object",
         "type": "string"
        },
        {
         "name": "label_enc",
         "rawType": "object",
         "type": "unknown"
        },
        {
         "name": "path",
         "rawType": "object",
         "type": "string"
        }
       ],
       "conversionMethod": "pd.DataFrame",
       "ref": "4fb21d48-29cc-45c1-8f25-c6f73035c621",
       "rows": [
        [
         "35054",
         "Viral Pneumonia",
         "Viral Pneumonia-1185_ag4.png",
         "3",
         "..\\\\data\\\\processed\\augmented\\Viral Pneumonia"
        ],
        [
         "35055",
         "Viral Pneumonia",
         "Viral Pneumonia-1185_ag5.png",
         "3",
         "..\\\\data\\\\processed\\augmented\\Viral Pneumonia"
        ],
        [
         "35056",
         "Viral Pneumonia",
         "Viral Pneumonia-1185_ag6.png",
         "3",
         "..\\\\data\\\\processed\\augmented\\Viral Pneumonia"
        ],
        [
         "35057",
         "Viral Pneumonia",
         "Viral Pneumonia-1185_ag7.png",
         "3",
         "..\\\\data\\\\processed\\augmented\\Viral Pneumonia"
        ],
        [
         "35058",
         "Lung_Opacity",
         "Lung_Opacity-997_ag1.png",
         "1",
         "..\\\\data\\\\processed\\augmented\\Lung_Opacity"
        ]
       ],
       "shape": {
        "columns": 4,
        "rows": 5
       }
      },
      "text/html": [
       "<div>\n",
       "<style scoped>\n",
       "    .dataframe tbody tr th:only-of-type {\n",
       "        vertical-align: middle;\n",
       "    }\n",
       "\n",
       "    .dataframe tbody tr th {\n",
       "        vertical-align: top;\n",
       "    }\n",
       "\n",
       "    .dataframe thead th {\n",
       "        text-align: right;\n",
       "    }\n",
       "</style>\n",
       "<table border=\"1\" class=\"dataframe\">\n",
       "  <thead>\n",
       "    <tr style=\"text-align: right;\">\n",
       "      <th></th>\n",
       "      <th>label</th>\n",
       "      <th>file</th>\n",
       "      <th>label_enc</th>\n",
       "      <th>path</th>\n",
       "    </tr>\n",
       "  </thead>\n",
       "  <tbody>\n",
       "    <tr>\n",
       "      <th>35054</th>\n",
       "      <td>Viral Pneumonia</td>\n",
       "      <td>Viral Pneumonia-1185_ag4.png</td>\n",
       "      <td>3</td>\n",
       "      <td>..\\\\data\\\\processed\\augmented\\Viral Pneumonia</td>\n",
       "    </tr>\n",
       "    <tr>\n",
       "      <th>35055</th>\n",
       "      <td>Viral Pneumonia</td>\n",
       "      <td>Viral Pneumonia-1185_ag5.png</td>\n",
       "      <td>3</td>\n",
       "      <td>..\\\\data\\\\processed\\augmented\\Viral Pneumonia</td>\n",
       "    </tr>\n",
       "    <tr>\n",
       "      <th>35056</th>\n",
       "      <td>Viral Pneumonia</td>\n",
       "      <td>Viral Pneumonia-1185_ag6.png</td>\n",
       "      <td>3</td>\n",
       "      <td>..\\\\data\\\\processed\\augmented\\Viral Pneumonia</td>\n",
       "    </tr>\n",
       "    <tr>\n",
       "      <th>35057</th>\n",
       "      <td>Viral Pneumonia</td>\n",
       "      <td>Viral Pneumonia-1185_ag7.png</td>\n",
       "      <td>3</td>\n",
       "      <td>..\\\\data\\\\processed\\augmented\\Viral Pneumonia</td>\n",
       "    </tr>\n",
       "    <tr>\n",
       "      <th>35058</th>\n",
       "      <td>Lung_Opacity</td>\n",
       "      <td>Lung_Opacity-997_ag1.png</td>\n",
       "      <td>1</td>\n",
       "      <td>..\\\\data\\\\processed\\augmented\\Lung_Opacity</td>\n",
       "    </tr>\n",
       "  </tbody>\n",
       "</table>\n",
       "</div>"
      ],
      "text/plain": [
       "                 label                          file label_enc  \\\n",
       "35054  Viral Pneumonia  Viral Pneumonia-1185_ag4.png         3   \n",
       "35055  Viral Pneumonia  Viral Pneumonia-1185_ag5.png         3   \n",
       "35056  Viral Pneumonia  Viral Pneumonia-1185_ag6.png         3   \n",
       "35057  Viral Pneumonia  Viral Pneumonia-1185_ag7.png         3   \n",
       "35058     Lung_Opacity      Lung_Opacity-997_ag1.png         1   \n",
       "\n",
       "                                                path  \n",
       "35054  ..\\\\data\\\\processed\\augmented\\Viral Pneumonia  \n",
       "35055  ..\\\\data\\\\processed\\augmented\\Viral Pneumonia  \n",
       "35056  ..\\\\data\\\\processed\\augmented\\Viral Pneumonia  \n",
       "35057  ..\\\\data\\\\processed\\augmented\\Viral Pneumonia  \n",
       "35058     ..\\\\data\\\\processed\\augmented\\Lung_Opacity  "
      ]
     },
     "execution_count": 65,
     "metadata": {},
     "output_type": "execute_result"
    }
   ],
   "source": [
    "df_train_combined.tail()"
   ]
  },
  {
   "cell_type": "code",
   "execution_count": null,
   "id": "eaea6315",
   "metadata": {},
   "outputs": [],
   "source": [
    "# save Df with combined data to csv\n",
    "df_train_combined.to_csv(os.path.join(base_path_out, 'df_xray_train_norm_plus_augmented.csv'), index_label='index')"
   ]
  }
 ],
 "metadata": {
  "kernelspec": {
   "display_name": "Python 3",
   "language": "python",
   "name": "python3"
  },
  "language_info": {
   "codemirror_mode": {
    "name": "ipython",
    "version": 3
   },
   "file_extension": ".py",
   "mimetype": "text/x-python",
   "name": "python",
   "nbconvert_exporter": "python",
   "pygments_lexer": "ipython3",
   "version": "3.12.9"
  }
 },
 "nbformat": 4,
 "nbformat_minor": 5
}
